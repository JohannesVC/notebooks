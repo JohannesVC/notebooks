{
 "cells": [
  {
   "cell_type": "code",
   "execution_count": 8,
   "metadata": {},
   "outputs": [
    {
     "name": "stdout",
     "output_type": "stream",
     "text": [
      "6\n"
     ]
    }
   ],
   "source": [
    "def this_is_not_a_function(x):\n",
    "    return x + 2\n",
    "\n",
    "x = int(input())\n",
    "result = this_is_not_a_function(x)\n",
    "print(result)"
   ]
  },
  {
   "cell_type": "code",
   "execution_count": 14,
   "metadata": {},
   "outputs": [
    {
     "name": "stdout",
     "output_type": "stream",
     "text": [
      "letstrysomethingwithcharactersandnumberslike\n"
     ]
    }
   ],
   "source": [
    "def get_the_basics_right(ok):\n",
    "    okay = ''\n",
    "    for char in ok:\n",
    "        if char.isalpha():\n",
    "            okay += str(char)\n",
    "    return okay\n",
    "    \n",
    "ok = 'lets try something with characters, and numbers like 14'\n",
    "print(get_the_basics_right(ok))"
   ]
  },
  {
   "cell_type": "code",
   "execution_count": 15,
   "metadata": {},
   "outputs": [],
   "source": [
    "from typing import List\n",
    "\n",
    "def som(numbers: List[int]) -> int:\n",
    "    # numbers. \n",
    "    return sum(numbers)\n",
    "\n",
    "# numbers = [1,5,7,3]\n",
    "# print(som(numbers))\n",
    "\n",
    "assert som([1,2]) == 3, \"som failed\"\n",
    "assert type(som(numbers)) == int, \"The variable is not of type int.\""
   ]
  },
  {
   "attachments": {},
   "cell_type": "markdown",
   "metadata": {},
   "source": [
    "note that `numbers.` now gives useful suggestions"
   ]
  },
  {
   "cell_type": "code",
   "execution_count": 16,
   "metadata": {},
   "outputs": [],
   "source": [
    "from typing import Dict, Iterable, Tuple\n",
    "\n",
    "# keys are strings, values are ints\n",
    "counts: Dict[str, int] = {'data': 1, 'science': 2}\n",
    "\n",
    "# counts."
   ]
  },
  {
   "cell_type": "code",
   "execution_count": 30,
   "metadata": {},
   "outputs": [
    {
     "name": "stdout",
     "output_type": "stream",
     "text": [
      "<class 'float'>\n"
     ]
    }
   ],
   "source": [
    "from typing import Optional\n",
    "best_so_far: Optional[float] = None  # allowed to be either a float or None\n",
    "\n",
    "best_so_far = 5.3\n",
    "\n",
    "print(type(best_so_far)) # it was none until i gave it a number\n",
    "assert type(best_so_far) == float # now this works"
   ]
  },
  {
   "cell_type": "code",
   "execution_count": 18,
   "metadata": {},
   "outputs": [],
   "source": [
    "import re\n",
    "\n",
    "def string_start(x,y):\n",
    "    return re.match(x,y)\n",
    "\n",
    "a = 'c'\n",
    "b = 'cat'\n",
    "assert string_start(a,b), 'its not true'"
   ]
  },
  {
   "cell_type": "code",
   "execution_count": 20,
   "metadata": {},
   "outputs": [],
   "source": [
    "assert string_start('d','dog'), 'nope'"
   ]
  },
  {
   "cell_type": "code",
   "execution_count": 32,
   "metadata": {},
   "outputs": [],
   "source": [
    "def string_check(x,y):\n",
    "    return re.search(x,y)\n",
    "\n",
    "assert string_check('a','cat')"
   ]
  },
  {
   "attachments": {},
   "cell_type": "markdown",
   "metadata": {},
   "source": [
    "to write a function like that \"well\":\n",
    "```python\n",
    "def string_search(x: str, y: str) -> int:\n",
    "    return re.search(x,y)\n",
    "```"
   ]
  },
  {
   "cell_type": "code",
   "execution_count": 36,
   "metadata": {},
   "outputs": [
    {
     "ename": "AssertionError",
     "evalue": "it's not in there",
     "output_type": "error",
     "traceback": [
      "\u001b[1;31m---------------------------------------------------------------------------\u001b[0m",
      "\u001b[1;31mAssertionError\u001b[0m                            Traceback (most recent call last)",
      "Cell \u001b[1;32mIn[36], line 1\u001b[0m\n\u001b[1;32m----> 1\u001b[0m \u001b[39massert\u001b[39;00m string_check(\u001b[39m'\u001b[39m\u001b[39mthis\u001b[39m\u001b[39m'\u001b[39m,\n\u001b[0;32m      2\u001b[0m                     \u001b[39m'\u001b[39m\u001b[39mif they keep worrying about the basics it is hard to imagine them placing any trust in the education side of it\u001b[39m\u001b[39m'\u001b[39m), \u001b[39m\"\u001b[39m\u001b[39mit\u001b[39m\u001b[39m'\u001b[39m\u001b[39ms not in there\u001b[39m\u001b[39m\"\u001b[39m\n",
      "\u001b[1;31mAssertionError\u001b[0m: it's not in there"
     ]
    }
   ],
   "source": [
    "assert string_check('this',\n",
    "                    'if they keep worrying about the basics it is hard to imagine them placing any trust in the education side of it'), \"it's not in there\""
   ]
  },
  {
   "cell_type": "code",
   "execution_count": 60,
   "metadata": {},
   "outputs": [
    {
     "name": "stdout",
     "output_type": "stream",
     "text": [
      "wie ben ik \n",
      "\n",
      "ik ben grappig\n",
      "ik ben leuk\n",
      "ik ben mooi\n",
      "en de rest is saai\n"
     ]
    }
   ],
   "source": [
    "d = {'ik': ['grappig', 'leuk', 'mooi'], \n",
    "     'jij': 'saai'}\n",
    "\n",
    "from typing import Union \n",
    "\n",
    "def iets_met_dicts(string: str) -> Dict[str, Union[List[int], str]]:  # to allow two types for values\n",
    "   \n",
    "    print(string,'\\n')\n",
    "    \n",
    "    for i in d:\n",
    "        if isinstance(d.get(i), list): \n",
    "            for j in d.get(i):\n",
    "                print(f'ik ben {j}')\n",
    "        else: \n",
    "            print(f'en de rest is {d.get(i)}')\n",
    "\n",
    "iets_met_dicts('wie ben ik')"
   ]
  },
  {
   "cell_type": "code",
   "execution_count": 10,
   "metadata": {},
   "outputs": [
    {
     "data": {
      "text/plain": [
       "'tails'"
      ]
     },
     "execution_count": 10,
     "metadata": {},
     "output_type": "execute_result"
    }
   ],
   "source": [
    "import random \n",
    "\n",
    "def cointoss():\n",
    "    return 'heads' if random.random() < 0.5 else 'tails'\n",
    "\n",
    "cointoss()"
   ]
  },
  {
   "cell_type": "code",
   "execution_count": 11,
   "metadata": {},
   "outputs": [
    {
     "data": {
      "text/plain": [
       "476"
      ]
     },
     "execution_count": 11,
     "metadata": {},
     "output_type": "execute_result"
    }
   ],
   "source": [
    "# a compact way of writing a probability test\n",
    "num_heads = sum(1 if random.random() < 0.5 else 0 \n",
    "                for _ in range(1000))\n",
    "num_heads"
   ]
  },
  {
   "cell_type": "code",
   "execution_count": 32,
   "metadata": {},
   "outputs": [
    {
     "data": {
      "text/plain": [
       "86"
      ]
     },
     "execution_count": 32,
     "metadata": {},
     "output_type": "execute_result"
    }
   ],
   "source": [
    "string = \"\"\"It's important to note that the empirical rule specifically applies to normal distributions. However, as I mentioned earlier, \n",
    "the central limit theorem states that the sum or average of a large number of independent, identically distributed random variables \n",
    "(such as the outcomes of flipping a fair coin) tends to follow a normal distribution. In such cases, the concept of standard deviation \n",
    "remains useful for understanding the dispersion or spread of outcomes, even if the specific percentages from the empirical rule might \n",
    "not be exactly the same.\"\"\"\n",
    "\n",
    "def word_count(any_string: str):\n",
    "    lst = any_string.split()\n",
    "    return len(lst)\n",
    "\n",
    "word_count(string)"
   ]
  },
  {
   "cell_type": "code",
   "execution_count": 19,
   "metadata": {},
   "outputs": [
    {
     "name": "stdout",
     "output_type": "stream",
     "text": [
      "<re.Match object; span=(139, 144), match='limit'>\n"
     ]
    }
   ],
   "source": [
    "import re\n",
    "print(re.search('limit', string))"
   ]
  },
  {
   "cell_type": "code",
   "execution_count": 22,
   "metadata": {},
   "outputs": [
    {
     "data": {
      "text/plain": [
       "64"
      ]
     },
     "execution_count": 22,
     "metadata": {},
     "output_type": "execute_result"
    }
   ],
   "source": [
    "def unique_word_count(any_string: str):\n",
    "    lst = any_string.split()\n",
    "    return len(set(lst))\n",
    "\n",
    "unique_word_count(string) "
   ]
  },
  {
   "cell_type": "code",
   "execution_count": 30,
   "metadata": {},
   "outputs": [
    {
     "data": {
      "text/plain": [
       "{'the': 9,\n",
       " 'of': 5,\n",
       " 'to': 3,\n",
       " 'a': 3,\n",
       " 'that': 2,\n",
       " 'empirical': 2,\n",
       " 'rule': 2,\n",
       " 'normal': 2,\n",
       " 'as': 2,\n",
       " 'or': 2,\n",
       " 'such': 2,\n",
       " 'outcomes': 2,\n",
       " 'its': 1,\n",
       " 'important': 1,\n",
       " 'note': 1,\n",
       " 'specifically': 1,\n",
       " 'applies': 1,\n",
       " 'distributions': 1,\n",
       " 'however': 1,\n",
       " 'i': 1,\n",
       " 'mentioned': 1,\n",
       " 'earlier': 1,\n",
       " 'central': 1,\n",
       " 'limit': 1,\n",
       " 'theorem': 1,\n",
       " 'states': 1,\n",
       " 'sum': 1,\n",
       " 'average': 1,\n",
       " 'large': 1,\n",
       " 'number': 1,\n",
       " 'independent': 1,\n",
       " 'identically': 1,\n",
       " 'distributed': 1,\n",
       " 'random': 1,\n",
       " 'variables': 1,\n",
       " 'flipping': 1,\n",
       " 'fair': 1,\n",
       " 'coin': 1,\n",
       " 'tends': 1,\n",
       " 'follow': 1,\n",
       " 'distribution': 1,\n",
       " 'in': 1,\n",
       " 'cases': 1,\n",
       " 'concept': 1,\n",
       " 'standard': 1,\n",
       " 'deviation': 1,\n",
       " 'remains': 1,\n",
       " 'useful': 1,\n",
       " 'for': 1,\n",
       " 'understanding': 1,\n",
       " 'dispersion': 1,\n",
       " 'spread': 1,\n",
       " 'even': 1,\n",
       " 'if': 1,\n",
       " 'specific': 1,\n",
       " 'percentages': 1,\n",
       " 'from': 1,\n",
       " 'might': 1,\n",
       " 'not': 1,\n",
       " 'be': 1,\n",
       " 'exactly': 1,\n",
       " 'same': 1}"
      ]
     },
     "execution_count": 30,
     "metadata": {},
     "output_type": "execute_result"
    }
   ],
   "source": [
    "counter = {}\n",
    "result = {}\n",
    "\n",
    "def sorted_dict(any_string:str):\n",
    "    \n",
    "    for word in any_string.split():\n",
    "        word = ''.join(char.lower() for char in word if char.isalpha()) # to write it in one word without caps\n",
    "        counter[word] = counter.get(word,0) + 1\n",
    "    return dict(sorted(counter.items(), key=lambda x: x[1], reverse=True)) # .items() returns tuples, lambda x:x[1] takes the second element of the tuple, dict turns it back into a dictionary\n",
    "        \n",
    "sorted_dict(string)"
   ]
  },
  {
   "cell_type": "code",
   "execution_count": 37,
   "metadata": {},
   "outputs": [
    {
     "name": "stdout",
     "output_type": "stream",
     "text": [
      "the 9\n",
      "of 5\n",
      "to 3\n",
      "a 3\n",
      "that 2\n",
      "empirical 2\n",
      "rule 2\n",
      "normal 2\n",
      "as 2\n",
      "or 2\n"
     ]
    }
   ],
   "source": [
    "# this is much easier\n",
    "\n",
    "from collections import Counter\n",
    "\n",
    "var = Counter(string.split()) \n",
    "\n",
    "for word, count in var.most_common(10):\n",
    "    print(word, count)"
   ]
  },
  {
   "cell_type": "code",
   "execution_count": 41,
   "metadata": {},
   "outputs": [
    {
     "data": {
      "text/plain": [
       "(9, 8)"
      ]
     },
     "execution_count": 41,
     "metadata": {},
     "output_type": "execute_result"
    }
   ],
   "source": [
    "def sum_of_odd_and_even(lst):\n",
    "    \n",
    "    return sum(i for i in lst if i % 2 !=0), sum(i for i in lst if i % 2 ==0)\n",
    "\n",
    "lst = [1,5,3,2,6]\n",
    "sum_of_odd_and_even(lst)"
   ]
  },
  {
   "cell_type": "code",
   "execution_count": 87,
   "metadata": {},
   "outputs": [
    {
     "name": "stdout",
     "output_type": "stream",
     "text": [
      "2 words ['limit', 'large'] start with an l\n"
     ]
    }
   ],
   "source": [
    "from typing import List\n",
    "\n",
    "def words_starting_with_letter(words:str,letter:str) -> List[str]:\n",
    "    lst = []\n",
    "    for i in words.split():\n",
    "        if i[0] == letter:\n",
    "            lst.append(i)\n",
    "    return lst\n",
    "    \n",
    "letter = random.choice(['a','b','l','e','q'])\n",
    "\n",
    "print(f'{len(words_starting_with_letter(string, letter))} words {words_starting_with_letter(string, letter)} start with an {letter}')"
   ]
  },
  {
   "cell_type": "code",
   "execution_count": 93,
   "metadata": {},
   "outputs": [
    {
     "name": "stdout",
     "output_type": "stream",
     "text": [
      "e\n"
     ]
    }
   ],
   "source": [
    "vowels = 'aeiou'\n",
    "words_list = string.split()\n",
    "counter = {}\n",
    "\n",
    "for word in words_list:\n",
    "\n",
    "    if word[-1] in vowels:\n",
    "\n",
    "        # if the letter is already in counter dictionary\n",
    "        # add 1 to the value\n",
    "        # if the letter is not in counter dictionary\n",
    "        # assume the value 0 and add 1 to the value\n",
    "        counter[word[-1]] = counter.get(word[-1], 0) + 1\n",
    "\n",
    "max_ended = max(counter.values())    # this is great but doesn't give you the connected key,\n",
    "\n",
    "for key, value in counter.items():   # hence this \n",
    "    if value == max_ended:\n",
    "        print(key)"
   ]
  },
  {
   "cell_type": "code",
   "execution_count": 195,
   "metadata": {},
   "outputs": [
    {
     "data": {
      "text/plain": [
       "{'dit': 1, 'is': 1, 'gewoon': 1, 'wa': 2, 'random': 1, 'tekst': 1}"
      ]
     },
     "execution_count": 195,
     "metadata": {},
     "output_type": "execute_result"
    }
   ],
   "source": [
    "woordenboek = {}\n",
    "tekst = 'dit is gewoon wa wa random tekst'\n",
    "\n",
    "for i in tekst.split():\n",
    "    value = tekst.split().count(i)\n",
    "    woordenboek[i] = value\n",
    "\n",
    "woordenboek"
   ]
  },
  {
   "cell_type": "code",
   "execution_count": 10,
   "metadata": {},
   "outputs": [
    {
     "data": {
      "text/plain": [
       "{'wa': 2, 'dit': 1, 'is': 1, 'gewoon': 1, 'random': 1, 'tekst': 1}"
      ]
     },
     "execution_count": 10,
     "metadata": {},
     "output_type": "execute_result"
    }
   ],
   "source": [
    "woordenboek2 = dict(sorted(woordenboek.items(), key=lambda x:x[1], reverse=True))\n",
    "woordenboek2"
   ]
  },
  {
   "cell_type": "code",
   "execution_count": 196,
   "metadata": {},
   "outputs": [
    {
     "data": {
      "text/plain": [
       "Counter({'dit': 1, 'is': 1, 'gewoon': 1, 'wa': 2, 'random': 1, 'tekst': 1})"
      ]
     },
     "execution_count": 196,
     "metadata": {},
     "output_type": "execute_result"
    }
   ],
   "source": [
    "from collections import Counter\n",
    "\n",
    "Counter(woordenboek)"
   ]
  },
  {
   "cell_type": "code",
   "execution_count": 200,
   "metadata": {},
   "outputs": [
    {
     "data": {
      "text/plain": [
       "defaultdict(int,\n",
       "            {'dit': 1, 'is': 1, 'gewoon': 1, 'wa': 2, 'random': 1, 'tekst': 1})"
      ]
     },
     "execution_count": 200,
     "metadata": {},
     "output_type": "execute_result"
    }
   ],
   "source": [
    "from collections import defaultdict\n",
    "\n",
    "woordenboek = defaultdict(int)\n",
    "for woord in tekst.split():\n",
    "    woordenboek[woord] += 1\n",
    "    \n",
    "woordenboek"
   ]
  }
 ],
 "metadata": {
  "kernelspec": {
   "display_name": "joh_env",
   "language": "python",
   "name": "python3"
  },
  "language_info": {
   "codemirror_mode": {
    "name": "ipython",
    "version": 3
   },
   "file_extension": ".py",
   "mimetype": "text/x-python",
   "name": "python",
   "nbconvert_exporter": "python",
   "pygments_lexer": "ipython3",
   "version": "3.10.9"
  },
  "orig_nbformat": 4
 },
 "nbformat": 4,
 "nbformat_minor": 2
}
