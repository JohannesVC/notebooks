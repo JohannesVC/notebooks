{
 "cells": [
  {
   "cell_type": "markdown",
   "metadata": {},
   "source": [
    "To get a directory tree\n",
    "\n",
    "tree /f /a >tree.txt"
   ]
  },
  {
   "attachments": {},
   "cell_type": "markdown",
   "metadata": {},
   "source": [
    "# Some markdown tricks\n",
    "\n",
    "This is how you do syntax highlighting in markdown cells:\n",
    "```python\n",
    "print('hello world')\n",
    "```\n",
    "```python\n",
    "def hellow_world():\n",
    "     print('hellow world')\n",
    "``` \n",
    "`def hellow_world():`\n",
    "this syntax highlighting should be defaulting to python but it doesn't?\n",
    "\n",
    "This is how you make a table\n",
    "| col1 | col2 |\n",
    "| :--: | :--: |\n",
    "| ding1 | ding 2 | \n",
    "\n",
    "this is how to highlight <mark>very important words</mark>\n",
    "\n",
    "\n",
    "This is a <span style=\"background-color: yellow;\">highlighted</span> word in the sentence.\n",
    "This is a <span style=\"background-color: #ffeb3b; color: #000; font-weight: bold; padding: 2px 4px;\">custom highlighted</span> word in the sentence.\n",
    "\n",
    "This is how you write maths $E = mc^2$"
   ]
  },
  {
   "cell_type": "code",
   "execution_count": 2,
   "metadata": {},
   "outputs": [
    {
     "name": "stdout",
     "output_type": "stream",
     "text": [
      "{1: [2, 2], 2: [1, 3, 1], 3: [2]}\n"
     ]
    }
   ],
   "source": [
    "users = [\n",
    "    {\"id\":1,\"name\":\"louise\"},\n",
    "    {\"id\":2,\"name\":\"Rosy\"},\n",
    "    {\"id\":3,\"name\":\"Johannes\"}\n",
    "]\n",
    "\n",
    "relationship_pairs = [(1,2),(3,2),(2,1)]\n",
    "\n",
    "relationships = {user[\"id\"]: [] for user in users}\n",
    "\n",
    "# relationships[1].append(2)\n",
    "# relationships[2].append(1)\n",
    "# relationships[3].append(2)\n",
    "# relationships[2].append(3)\n",
    "# relationships\n",
    "\n",
    "for i,j in relationship_pairs:\n",
    "    relationships[i].append(j) # add j as a friend of user i, note how the square brackets refer to a key\n",
    "    relationships[j].append(i) # the append method adds a value to a list, and cannot be used for anything else\n",
    "\n",
    "print(relationships)"
   ]
  },
  {
   "cell_type": "code",
   "execution_count": 14,
   "metadata": {},
   "outputs": [
    {
     "data": {
      "text/plain": [
       "{1: [], 2: [], 3: []}"
      ]
     },
     "execution_count": 14,
     "metadata": {},
     "output_type": "execute_result"
    }
   ],
   "source": [
    "relationships = {user[\"id\"]: [] for user in users}\n",
    "relationships"
   ]
  },
  {
   "cell_type": "code",
   "execution_count": 15,
   "metadata": {},
   "outputs": [
    {
     "data": {
      "text/plain": [
       "{1: [2], 2: [], 3: []}"
      ]
     },
     "execution_count": 15,
     "metadata": {},
     "output_type": "execute_result"
    }
   ],
   "source": [
    "relationships[1].append(2) # so the first part is the dict, the key is in [], and the second part appends values to the list of values\n",
    "relationships"
   ]
  },
  {
   "cell_type": "code",
   "execution_count": 22,
   "metadata": {},
   "outputs": [
    {
     "data": {
      "text/plain": [
       "(2, 3)"
      ]
     },
     "execution_count": 22,
     "metadata": {},
     "output_type": "execute_result"
    }
   ],
   "source": [
    "# write me a function that finds the most connected user\n",
    "def most_connected_user(relationships):\n",
    "    user_and_connections = [(user_id, len(friends)) for user_id, friends in relationships.items()] # .items gives a list of dict items\n",
    "    return max(user_and_connections, key=lambda x: x[1])\n",
    "most_connected_user(relationships)"
   ]
  },
  {
   "attachments": {},
   "cell_type": "markdown",
   "metadata": {},
   "source": [
    "## Alternative if-then-else \n"
   ]
  },
  {
   "cell_type": "code",
   "execution_count": null,
   "metadata": {},
   "outputs": [
    {
     "data": {
      "text/plain": [
       "defaultdict(int,\n",
       "            {'in': 1,\n",
       "             'this': 3,\n",
       "             'uneventful': 1,\n",
       "             'paragraph,': 1,\n",
       "             'we': 1,\n",
       "             'shall': 1,\n",
       "             'explore': 1,\n",
       "             'the': 10,\n",
       "             'mundane': 1,\n",
       "             'topic': 1,\n",
       "             'of': 6,\n",
       "             'watching': 2,\n",
       "             'paint': 3,\n",
       "             'dry.': 1,\n",
       "             'as': 1,\n",
       "             'freshly': 1,\n",
       "             'applied': 1,\n",
       "             'adheres': 1,\n",
       "             'to': 3,\n",
       "             'surface,': 1,\n",
       "             'it': 1,\n",
       "             'undergoes': 1,\n",
       "             'a': 3,\n",
       "             'slow': 1,\n",
       "             'and': 5,\n",
       "             'tedious': 1,\n",
       "             'process': 1,\n",
       "             'evaporation,': 1,\n",
       "             'causing': 1,\n",
       "             'liquid': 1,\n",
       "             'solvent': 1,\n",
       "             'gradually': 1,\n",
       "             'dissipate': 1,\n",
       "             'into': 1,\n",
       "             'atmosphere.': 1,\n",
       "             'leaves': 1,\n",
       "             'behind': 1,\n",
       "             'solid': 1,\n",
       "             'layer': 1,\n",
       "             'pigment': 1,\n",
       "             'particles': 1,\n",
       "             'binders,': 1,\n",
       "             'which,': 1,\n",
       "             'when': 1,\n",
       "             'dry,': 2,\n",
       "             'forms': 1,\n",
       "             'protective': 1,\n",
       "             'decorative': 1,\n",
       "             'coating.': 1,\n",
       "             'color': 1,\n",
       "             'change': 1,\n",
       "             'during': 1,\n",
       "             'drying': 1,\n",
       "             'is': 3,\n",
       "             'typically': 1,\n",
       "             'subtle,': 1,\n",
       "             'often': 1,\n",
       "             'going': 1,\n",
       "             'unnoticed': 1,\n",
       "             'by': 1,\n",
       "             'casual': 1,\n",
       "             'observer.': 1,\n",
       "             'throughout': 1,\n",
       "             'seemingly': 1,\n",
       "             'endless': 1,\n",
       "             'hours': 1,\n",
       "             'transition': 1,\n",
       "             'from': 1,\n",
       "             'wet': 1,\n",
       "             'one': 1,\n",
       "             'reminded': 1,\n",
       "             'insignificance': 1,\n",
       "             'activity,': 1,\n",
       "             'how': 1,\n",
       "             'life': 1,\n",
       "             'filled': 1,\n",
       "             'with': 1,\n",
       "             'many': 1,\n",
       "             'similar': 1,\n",
       "             'monotonous': 1,\n",
       "             'tasks': 1,\n",
       "             'that': 1,\n",
       "             'require': 1,\n",
       "             'our': 1,\n",
       "             'patience': 1,\n",
       "             'attention.': 1})"
      ]
     },
     "metadata": {},
     "output_type": "display_data"
    }
   ],
   "source": [
    "text = \"\"\"In this uneventful paragraph, we shall explore the mundane topic of watching paint dry.\n",
    "As the freshly applied paint adheres to the surface, it undergoes a slow and tedious process of evaporation, causing the liquid solvent to gradually dissipate into the atmosphere. \n",
    "This leaves behind a solid layer of pigment particles and binders, which, when dry, forms a protective and decorative coating. The color change during drying is typically subtle, often going unnoticed by the casual observer. \n",
    "Throughout the seemingly endless hours of watching the paint transition from wet to dry, one is reminded of the insignificance of this activity, and how life is filled with many similar monotonous tasks \n",
    "that require our patience and attention.\"\"\"\n",
    "word_counts = {}\n",
    "\n",
    "from collections import defaultdict \n",
    "\n",
    "word_counts = defaultdict(int)\n",
    "for word in text.split():\n",
    "    \n",
    "    word_counts[word.lower()] += 1\n",
    "word_counts\n"
   ]
  },
  {
   "cell_type": "code",
   "execution_count": null,
   "metadata": {},
   "outputs": [
    {
     "data": {
      "text/html": [
       "<div>\n",
       "<style scoped>\n",
       "    .dataframe tbody tr th:only-of-type {\n",
       "        vertical-align: middle;\n",
       "    }\n",
       "\n",
       "    .dataframe tbody tr th {\n",
       "        vertical-align: top;\n",
       "    }\n",
       "\n",
       "    .dataframe thead th {\n",
       "        text-align: right;\n",
       "    }\n",
       "</style>\n",
       "<table border=\"1\" class=\"dataframe\">\n",
       "  <thead>\n",
       "    <tr style=\"text-align: right;\">\n",
       "      <th></th>\n",
       "      <th>word</th>\n",
       "      <th>count</th>\n",
       "    </tr>\n",
       "  </thead>\n",
       "  <tbody>\n",
       "    <tr>\n",
       "      <th>7</th>\n",
       "      <td>the</td>\n",
       "      <td>10</td>\n",
       "    </tr>\n",
       "    <tr>\n",
       "      <th>10</th>\n",
       "      <td>of</td>\n",
       "      <td>6</td>\n",
       "    </tr>\n",
       "    <tr>\n",
       "      <th>24</th>\n",
       "      <td>and</td>\n",
       "      <td>5</td>\n",
       "    </tr>\n",
       "    <tr>\n",
       "      <th>53</th>\n",
       "      <td>is</td>\n",
       "      <td>3</td>\n",
       "    </tr>\n",
       "    <tr>\n",
       "      <th>12</th>\n",
       "      <td>paint</td>\n",
       "      <td>3</td>\n",
       "    </tr>\n",
       "  </tbody>\n",
       "</table>\n",
       "</div>"
      ],
      "text/plain": [
       "     word  count\n",
       "7     the     10\n",
       "10     of      6\n",
       "24    and      5\n",
       "53     is      3\n",
       "12  paint      3"
      ]
     },
     "metadata": {},
     "output_type": "display_data"
    }
   ],
   "source": [
    "import pandas as pd\n",
    "\n",
    "df = pd.DataFrame(word_counts.items(), columns=['word', 'count'])\n",
    "df.sort_values(by='count', ascending=False, inplace=True)\n",
    "df.head()"
   ]
  },
  {
   "attachments": {},
   "cell_type": "markdown",
   "metadata": {},
   "source": [
    "# Python crash course (chapter 2)\n",
    "See <a href=\"C:\\Users\\johan\\Documents\\GitHub\\data-science-from-scratch\\scratch\\crash_course_in_python.py\" target=\"_blank\">here</a>"
   ]
  },
  {
   "cell_type": "code",
   "execution_count": null,
   "metadata": {},
   "outputs": [
    {
     "data": {
      "text/plain": [
       "('Joel Grus', 'Joel Grus', 'Joel Grus')"
      ]
     },
     "metadata": {},
     "output_type": "display_data"
    }
   ],
   "source": [
    "\n",
    "two_plus_three = 2 + \\\n",
    "                 3\n",
    "\n",
    "multi_line_string = \"\"\"This is the first line.\n",
    "and this is the second line\n",
    "and this is the third line\"\"\"                 \n",
    "\n",
    "first_name = \"Joel\"\n",
    "last_name = \"Grus\"\n",
    "\n",
    "full_name1 = first_name + \" \" + last_name             # string addition\n",
    "full_name2 = \"{0} {1}\".format(first_name, last_name)  # string.format\n",
    "\n",
    "full_name3 = f\"{first_name} {last_name}\"             # formatted string literal (Python 3.6+)\n",
    "\n",
    "full_name1, full_name2, full_name3                # display all three as a tuple"
   ]
  },
  {
   "cell_type": "code",
   "execution_count": null,
   "metadata": {},
   "outputs": [
    {
     "ename": "AssertionError",
     "evalue": "",
     "output_type": "error",
     "traceback": [
      "\u001b[1;31m---------------------------------------------------------------------------\u001b[0m\n",
      "\u001b[1;31mAssertionError\u001b[0m                            Traceback (most recent call last)\n",
      "Cell \u001b[1;32mIn[22], line 5\u001b[0m\n",
      "\u001b[0;32m      1\u001b[0m x \u001b[39m=\u001b[39m [\u001b[39m1\u001b[39m, \u001b[39m2\u001b[39m, \u001b[39m3\u001b[39m]\n",
      "\u001b[0;32m      2\u001b[0m x\u001b[39m.\u001b[39mextend([\u001b[39m4\u001b[39m, \u001b[39m5\u001b[39m, \u001b[39m6\u001b[39m])     \u001b[39m# x is now [1, 2, 3, 4, 5, 6]\u001b[39;00m\n",
      "\u001b[1;32m----> 5\u001b[0m \u001b[39massert\u001b[39;00m x \u001b[39m==\u001b[39m [\n",
      "\u001b[0;32m      6\u001b[0m     \u001b[39m# 1, 2, 3, \u001b[39;00m\n",
      "\u001b[0;32m      7\u001b[0m     \u001b[39m4\u001b[39m, \u001b[39m5\u001b[39m, \u001b[39m6\u001b[39m]\n",
      "\n",
      "\u001b[1;31mAssertionError\u001b[0m: "
     ]
    }
   ],
   "source": [
    "x = [1, 2, 3]\n",
    "x.extend([4, 5, 6])     # x is now [1, 2, 3, 4, 5, 6]\n",
    "\n",
    "\n",
    "assert x == [\n",
    "    # 1, 2, 3, \n",
    "    4, 5, 6]"
   ]
  },
  {
   "attachments": {},
   "cell_type": "markdown",
   "metadata": {},
   "source": [
    "assert is useful. It simply passes if nothing's wrong "
   ]
  },
  {
   "cell_type": "code",
   "execution_count": null,
   "metadata": {},
   "outputs": [
    {
     "name": "stdout",
     "output_type": "stream",
     "text": [
      "1 2\n"
     ]
    }
   ],
   "source": [
    "_, y = [1, 2]    # now y == 2, didn't care about the first element\n",
    "print(_,y)       # strangely, it prints 1 2"
   ]
  },
  {
   "cell_type": "code",
   "execution_count": null,
   "metadata": {},
   "outputs": [],
   "source": [
    "even_numbers = [x for x in range(5) if x % 2 == 0]  # [0, 2, 4]\n",
    "\n",
    "zeros = [0 for _ in even_numbers]      # has the same length as even_numbers\n",
    "\n",
    "assert zeros == [0, 0, 0]"
   ]
  },
  {
   "cell_type": "code",
   "execution_count": null,
   "metadata": {},
   "outputs": [],
   "source": [
    "x, y = 1, 2     # now x is 1, y is 2\n",
    "x, y = y, x     # Pythonic way to swap variables; now x is 2, y is 1"
   ]
  },
  {
   "cell_type": "code",
   "execution_count": null,
   "metadata": {},
   "outputs": [
    {
     "name": "stdout",
     "output_type": "stream",
     "text": [
      "no grade for Kate!\n"
     ]
    }
   ],
   "source": [
    "grades = {\"Joel\": 80, \"Tim\": 95}    # dictionary literal\n",
    "\n",
    "joels_grade = grades[\"Joel\"]        # equals 80\n",
    "\n",
    "\n",
    "assert joels_grade == 80\n",
    "\n",
    "try:\n",
    "    kates_grade = grades[\"Kate\"]\n",
    "except KeyError:\n",
    "    print(\"no grade for Kate!\")\n",
    "\n",
    "joel_has_grade = \"Joel\" in grades     # True\n",
    "kate_has_grade = \"Kate\" in grades     # False\n",
    "\n",
    "\n",
    "assert joel_has_grade\n",
    "assert not kate_has_grade\n",
    "\n",
    "joels_grade = grades.get(\"Joel\", 0)   # equals 80\n",
    "kates_grade = grades.get(\"Kate\", 0)   # equals 0\n",
    "no_ones_grade = grades.get(\"No One\")  # default default is None\n",
    "\n",
    "\n",
    "assert joels_grade == 80\n",
    "assert kates_grade == 0\n",
    "assert no_ones_grade is None\n",
    "\n",
    "grades[\"Tim\"] = 99                    # replaces the old value\n",
    "grades[\"Kate\"] = 100                  # adds a third entry\n",
    "num_students = len(grades)            # equals 3\n",
    "\n",
    "\n",
    "assert num_students == 3"
   ]
  },
  {
   "attachments": {},
   "cell_type": "markdown",
   "metadata": {},
   "source": [
    "`defaultdict`"
   ]
  },
  {
   "cell_type": "code",
   "execution_count": 17,
   "metadata": {},
   "outputs": [
    {
     "name": "stdout",
     "output_type": "stream",
     "text": [
      "{'data': 1, 'science': 1, 'from': 1, 'scratch': 1}\n",
      "defaultdict(<class 'int'>, {'data': 1, 'science': 1, 'from': 1, 'scratch': 1})\n"
     ]
    }
   ],
   "source": [
    "document = [\"data\", \"science\", \"from\", \"scratch\"]\n",
    "\n",
    "word_counts = {}\n",
    "for word in document:\n",
    "    if word in word_counts:\n",
    "        word_counts[word] += 1\n",
    "    else:\n",
    "        word_counts[word] = 1\n",
    "\n",
    "word_counts = {}\n",
    "for word in document:\n",
    "    try:\n",
    "        word_counts[word] += 1\n",
    "    except KeyError:\n",
    "        word_counts[word] = 1\n",
    "\n",
    "word_counts = {}\n",
    "for word in document:\n",
    "    previous_count = word_counts.get(word, 0)\n",
    "    word_counts[word] = previous_count + 1\n",
    "\n",
    "print(word_counts)\n",
    "\n",
    "from collections import defaultdict\n",
    "\n",
    "word_counts = defaultdict(int)          # int() produces 0\n",
    "for word in document:\n",
    "    word_counts[word] += 1\n",
    "    \n",
    "print(word_counts)"
   ]
  },
  {
   "cell_type": "code",
   "execution_count": 19,
   "metadata": {},
   "outputs": [
    {
     "data": {
      "text/plain": [
       "Counter({'data': 1, 'science': 1, 'from': 1, 'scratch': 1})"
      ]
     },
     "execution_count": 19,
     "metadata": {},
     "output_type": "execute_result"
    }
   ],
   "source": [
    "Counter(document) # is very similar for this kind of thing"
   ]
  },
  {
   "attachments": {},
   "cell_type": "markdown",
   "metadata": {},
   "source": [
    "`Counter` counts\n",
    "\n",
    "`.most_common(10)` prints the 10 most common words"
   ]
  },
  {
   "cell_type": "code",
   "execution_count": 18,
   "metadata": {},
   "outputs": [
    {
     "name": "stdout",
     "output_type": "stream",
     "text": [
      "data 1\n",
      "science 1\n",
      "from 1\n",
      "scratch 1\n"
     ]
    }
   ],
   "source": [
    "from collections import Counter\n",
    "c = Counter([0, 1, 2, 0])          # c is (basically) {0: 2, 1: 1, 2: 1}\n",
    "\n",
    "# recall, document is a list of words\n",
    "word_counts = Counter(document)\n",
    "\n",
    "# print the 10 most common words and their counts\n",
    "for word, count in word_counts.most_common(10):\n",
    "    print(word, count)"
   ]
  },
  {
   "attachments": {},
   "cell_type": "markdown",
   "metadata": {},
   "source": [
    "Clever ways to reduce unnecessary typing."
   ]
  },
  {
   "cell_type": "code",
   "execution_count": null,
   "metadata": {},
   "outputs": [
    {
     "name": "stdout",
     "output_type": "stream",
     "text": [
      "when all else fails use else (if you want to)\n",
      "even\n"
     ]
    }
   ],
   "source": [
    "if 1 > 2:\n",
    "    message = \"if only 1 were greater than two...\"\n",
    "elif 1 > 3:\n",
    "    message = \"elif stands for 'else if'\"\n",
    "else:\n",
    "    message = \"when all else fails use else (if you want to)\"\n",
    "print(message) # boom\n",
    "\n",
    "parity = \"even\" if x % 2 == 0 else \"odd\" # this is a ternary operator\n",
    "print(parity)"
   ]
  },
  {
   "attachments": {},
   "cell_type": "markdown",
   "metadata": {},
   "source": [
    "`yield`"
   ]
  },
  {
   "cell_type": "code",
   "execution_count": null,
   "metadata": {},
   "outputs": [
    {
     "name": "stdout",
     "output_type": "stream",
     "text": [
      "i: 0\n",
      "i: 1\n",
      "i: 2\n",
      "i: 3\n",
      "i: 4\n",
      "i: 5\n",
      "i: 6\n",
      "i: 7\n",
      "i: 8\n",
      "i: 9\n"
     ]
    }
   ],
   "source": [
    "def generate_range(n):\n",
    "    i = 0\n",
    "    while i < n:\n",
    "        yield i   # every call to yield produces a value of the generator\n",
    "        i += 1\n",
    "\n",
    "def natural_numbers():\n",
    "    \"\"\"returns 1, 2, 3, ...\"\"\"\n",
    "    n = 1\n",
    "    while True:\n",
    "        yield n\n",
    "        n += 1\n",
    "        \n",
    "for i in generate_range(10):\n",
    "    print(f\"i: {i}\")"
   ]
  },
  {
   "attachments": {},
   "cell_type": "markdown",
   "metadata": {},
   "source": [
    "`next()`"
   ]
  },
  {
   "cell_type": "code",
   "execution_count": null,
   "metadata": {},
   "outputs": [],
   "source": [
    "# this is a generator expression (similar to a list comprehension but with parentheses)\n",
    "evens_below_20 = (i for i in generate_range(20) if i % 2 == 0)\n",
    "\n",
    "# None of these computations *does* anything until we iterate\n",
    "data = natural_numbers()\n",
    "evens = (x for x in data if x % 2 == 0)\n",
    "even_squares = (x ** 2 for x in evens)\n",
    "even_squares_ending_in_six = (x for x in even_squares if x % 10 == 6)\n",
    "# and so on\n",
    "\n",
    "assert next(even_squares_ending_in_six) == 16\n",
    "assert next(even_squares_ending_in_six) == 36\n",
    "assert next(even_squares_ending_in_six) == 196"
   ]
  },
  {
   "cell_type": "code",
   "execution_count": null,
   "metadata": {},
   "outputs": [
    {
     "name": "stdout",
     "output_type": "stream",
     "text": [
      "6\n"
     ]
    }
   ],
   "source": [
    "print(next(evens_below_20))   # every time we call it, it picks up where it left off"
   ]
  },
  {
   "attachments": {},
   "cell_type": "markdown",
   "metadata": {},
   "source": [
    "`random`\n",
    "- random.seed()\n",
    "- random.random() \n",
    "- random.randrange()\n",
    "- random.choice()"
   ]
  },
  {
   "cell_type": "code",
   "execution_count": null,
   "metadata": {},
   "outputs": [
    {
     "name": "stdout",
     "output_type": "stream",
     "text": [
      "[0.5714025946899135, 0.4288890546751146, 0.5780913011344704, 0.20609823213950174]\n",
      "0.5714025946899135\n"
     ]
    }
   ],
   "source": [
    "\n",
    "import random\n",
    "random.seed(10)  # this ensures we get the same results every time\n",
    "\n",
    "four_uniform_randoms = [random.random() for _ in range(4)]\n",
    "\n",
    "print(four_uniform_randoms)\n",
    "\n",
    "random.seed(10)         # set the seed to 10\n",
    "print(random.random())  # 0.57140259469\n",
    "random.seed(10)         # reset the seed to 10 !!!\n",
    "\n",
    "random.randrange(10)    # choose randomly from range(10) = [0, 1, ..., 9]\n",
    "random.randrange(3, 6)  # choose randomly from range(3, 6) = [3, 4, 5]\n",
    "\n",
    "my_best_friend = random.choice([\"Alice\", \"Bob\", \"Charlie\"])     # \"Bob\" for me\n"
   ]
  },
  {
   "attachments": {},
   "cell_type": "markdown",
   "metadata": {},
   "source": [
    "## Regular expresssions: `regex`\n",
    "- *search*: starts checking at the beginning\n",
    "- **match**: check in the word at any point\n",
    "- split\n",
    "- sub"
   ]
  },
  {
   "cell_type": "code",
   "execution_count": null,
   "metadata": {},
   "outputs": [],
   "source": [
    "import re\n",
    "\n",
    "re_examples = [                        # all of these are true, because\n",
    "    not re.match(\"a\", \"cat\"),              #  'cat' doesn't start with 'a'\n",
    "    re.search(\"a\", \"cat\"),                 #  'cat' has an 'a' in it\n",
    "    not re.search(\"c\", \"dog\"),             #  'dog' doesn't have a 'c' in it\n",
    "    3 == len(re.split(\"[ab]\", \"carbs\")),   #  split on a or b to ['c','r','s']\n",
    "    \"R-D-\" == re.sub(\"[0-9]\", \"-\", \"R2D2\") #  replace digits with dashes\n",
    "    ]\n",
    "\n",
    "assert all(re_examples), \"all the regex examples should be True\""
   ]
  },
  {
   "attachments": {},
   "cell_type": "markdown",
   "metadata": {},
   "source": [
    "`zip`\n",
    "- adds iterables together (like lists for example)"
   ]
  },
  {
   "cell_type": "code",
   "execution_count": null,
   "metadata": {},
   "outputs": [
    {
     "data": {
      "text/plain": [
       "('a', 'b', 'c')"
      ]
     },
     "metadata": {},
     "output_type": "display_data"
    }
   ],
   "source": [
    "\n",
    "list1 = ['a', 'b', 'c']\n",
    "list2 = [1, 2, 3]\n",
    "\n",
    "# zip is lazy, so you have to do something like the following\n",
    "[pair for pair in zip(list1, list2)]    # is [('a', 1), ('b', 2), ('c', 3)]\n",
    "\n",
    "assert [pair for pair in zip(list1, list2)] == [('a', 1), ('b', 2), ('c', 3)]\n",
    "\n",
    "# you can also \"unzip\" with an asterisk\n",
    "pairs = [('a', 1), ('b', 2), ('c', 3)]\n",
    "letters, numbers = zip(*pairs)\n",
    "\n",
    "letters, numbers = zip(('a', 1), ('b', 2), ('c', 3))\n",
    "\n",
    "letters"
   ]
  },
  {
   "attachments": {},
   "cell_type": "markdown",
   "metadata": {},
   "source": [
    "## args and kwargs\n",
    "- the other way: this unpacks the lists and keywords"
   ]
  },
  {
   "cell_type": "code",
   "execution_count": null,
   "metadata": {},
   "outputs": [],
   "source": [
    "def other_way_magic(x, y, z):\n",
    "    return x + y + z\n",
    "\n",
    "x_y_list = [1, 2]\n",
    "z_dict = {\"z\": 3}\n",
    "assert other_way_magic(*x_y_list, **z_dict) == 6, \"1 + 2 + 3 should be 6\""
   ]
  },
  {
   "attachments": {},
   "cell_type": "markdown",
   "metadata": {},
   "source": [
    "## type annotations"
   ]
  },
  {
   "cell_type": "code",
   "execution_count": null,
   "metadata": {},
   "outputs": [],
   "source": [
    "from typing import List  # note capital L\n",
    "\n",
    "def total(xs: List[float]) -> float:\n",
    "    return sum(xs)\n",
    "\n",
    "# This is how to type-annotate variables when you define them.\n",
    "# But this is unnecessary; it's \"obvious\" x is an int.\n",
    "x: int = 5\n",
    "\n",
    "values = []         # what's my type?\n",
    "best_so_far = None  # what's my type?\n",
    "\n",
    "from typing import Optional\n",
    "\n",
    "values: List[int] = []\n",
    "best_so_far: Optional[float] = None  # allowed to be either a float or **None**"
   ]
  },
  {
   "attachments": {},
   "cell_type": "markdown",
   "metadata": {},
   "source": [
    "## enum module\n",
    "\n",
    "The enum module in Python provides a way to define named enumerations, which are a set of named values representing distinct elements of a collection. Enumerations are useful when you want to create a set of constants that are easy to read, understand, and maintain. Enumerations also help to reduce errors caused by using literal values."
   ]
  },
  {
   "cell_type": "code",
   "execution_count": 5,
   "metadata": {},
   "outputs": [
    {
     "name": "stdout",
     "output_type": "stream",
     "text": [
      "Weekday.MONDAY\n",
      "MONDAY\n",
      "1\n"
     ]
    },
    {
     "ename": "AssertionError",
     "evalue": "monday comes before friday",
     "output_type": "error",
     "traceback": [
      "\u001b[1;31m---------------------------------------------------------------------------\u001b[0m",
      "\u001b[1;31mAssertionError\u001b[0m                            Traceback (most recent call last)",
      "Cell \u001b[1;32mIn[5], line 18\u001b[0m\n\u001b[0;32m     15\u001b[0m \u001b[39mprint\u001b[39m(Weekday\u001b[39m.\u001b[39mMONDAY\u001b[39m.\u001b[39mname)  \u001b[39m# Output: MONDAY\u001b[39;00m\n\u001b[0;32m     16\u001b[0m \u001b[39mprint\u001b[39m(Weekday\u001b[39m.\u001b[39mMONDAY\u001b[39m.\u001b[39mvalue) \u001b[39m# Output: 1\u001b[39;00m\n\u001b[1;32m---> 18\u001b[0m \u001b[39massert\u001b[39;00m Weekday\u001b[39m.\u001b[39mMONDAY\u001b[39m.\u001b[39mvalue \u001b[39m>\u001b[39m Weekday\u001b[39m.\u001b[39mFRIDAY\u001b[39m.\u001b[39mvalue, \u001b[39m\"\u001b[39m\u001b[39mmonday comes before friday\u001b[39m\u001b[39m\"\u001b[39m\n",
      "\u001b[1;31mAssertionError\u001b[0m: monday comes before friday"
     ]
    }
   ],
   "source": [
    "from enum import Enum\n",
    "\n",
    "# Define an enumeration for the days of the week\n",
    "class Weekday(Enum):\n",
    "    MONDAY = 1\n",
    "    TUESDAY = 2\n",
    "    WEDNESDAY = 3\n",
    "    THURSDAY = 4\n",
    "    FRIDAY = 5\n",
    "    SATURDAY = 6\n",
    "    SUNDAY = 7\n",
    "\n",
    "# Accessing enumeration members and their values\n",
    "print(Weekday.MONDAY)       # Output: Weekday.MONDAY\n",
    "print(Weekday.MONDAY.name)  # Output: MONDAY\n",
    "print(Weekday.MONDAY.value) # Output: 1\n",
    "\n",
    "assert Weekday.MONDAY.value > Weekday.FRIDAY.value, \"monday comes before friday\""
   ]
  }
 ],
 "metadata": {
  "kernelspec": {
   "display_name": "base",
   "language": "python",
   "name": "python3"
  },
  "language_info": {
   "codemirror_mode": {
    "name": "ipython",
    "version": 3
   },
   "file_extension": ".py",
   "mimetype": "text/x-python",
   "name": "python",
   "nbconvert_exporter": "python",
   "pygments_lexer": "ipython3",
   "version": "3.10.9"
  },
  "orig_nbformat": 4
 },
 "nbformat": 4,
 "nbformat_minor": 2
}
