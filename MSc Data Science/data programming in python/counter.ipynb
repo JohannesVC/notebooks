{
 "cells": [
  {
   "cell_type": "code",
   "execution_count": 6,
   "metadata": {},
   "outputs": [],
   "source": [
    "with open(\"text.txt\", 'r') as t:\n",
    "    text = t.read()"
   ]
  },
  {
   "cell_type": "code",
   "execution_count": 7,
   "metadata": {},
   "outputs": [
    {
     "data": {
      "text/plain": [
       "Counter({'a': 4,\n",
       "         'of': 4,\n",
       "         'the': 3,\n",
       "         'to': 2,\n",
       "         'Programming': 2,\n",
       "         'your': 2,\n",
       "         'in': 2,\n",
       "         'and': 2,\n",
       "         'Taught': 1,\n",
       "         'Courses\\nData': 1,\n",
       "         'Science\\n2024\\nApril': 1,\n",
       "         'September': 1,\n",
       "         '2024': 1,\n",
       "         'Session\\nDSM020-2024-APR\\nTopic': 1,\n",
       "         '1:': 1,\n",
       "         'Data': 1,\n",
       "         'structures\\nMini': 1,\n",
       "         'Exercise\\nMini': 1,\n",
       "         'Exercise\\nCompletion': 1,\n",
       "         'requirements\\nCreate': 1,\n",
       "         'new': 1,\n",
       "         'Jupyter': 1,\n",
       "         'Notebook': 1,\n",
       "         'on': 1,\n",
       "         'system.\\n\\nWrite': 1,\n",
       "         'program': 1,\n",
       "         'that': 1,\n",
       "         'counts': 1,\n",
       "         'number': 1,\n",
       "         'occurrences': 1,\n",
       "         'each': 1,\n",
       "         'word': 1,\n",
       "         'text': 1,\n",
       "         'file.': 1,\n",
       "         'Can': 1,\n",
       "         'you': 1,\n",
       "         'do': 1,\n",
       "         'it': 1,\n",
       "         'with': 1,\n",
       "         'without': 1,\n",
       "         'NLTK?': 1,\n",
       "         '\\n\\nShare': 1,\n",
       "         'screenshot': 1,\n",
       "         'result': 1,\n",
       "         '1.2': 1,\n",
       "         'Discussion': 1,\n",
       "         'forum': 1,\n",
       "         'reply': 1,\n",
       "         'at': 1,\n",
       "         'least': 1,\n",
       "         'two': 1,\n",
       "         'posts': 1,\n",
       "         'peers.\\n\\n\\n\\nLast': 1,\n",
       "         'modified:': 1,\n",
       "         'Friday,': 1,\n",
       "         '8': 1,\n",
       "         'October': 1,\n",
       "         '2021,': 1,\n",
       "         '1:47': 1,\n",
       "         'PM': 1})"
      ]
     },
     "execution_count": 7,
     "metadata": {},
     "output_type": "execute_result"
    }
   ],
   "source": [
    "from collections import Counter\n",
    "\n",
    "counter = Counter(text.split(\" \"))\n",
    "\n",
    "counter"
   ]
  }
 ],
 "metadata": {
  "kernelspec": {
   "display_name": "laptop",
   "language": "python",
   "name": "python3"
  },
  "language_info": {
   "codemirror_mode": {
    "name": "ipython",
    "version": 3
   },
   "file_extension": ".py",
   "mimetype": "text/x-python",
   "name": "python",
   "nbconvert_exporter": "python",
   "pygments_lexer": "ipython3",
   "version": "3.11.5"
  }
 },
 "nbformat": 4,
 "nbformat_minor": 2
}
