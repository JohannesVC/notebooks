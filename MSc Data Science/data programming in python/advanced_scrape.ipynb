{
 "cells": [
  {
   "cell_type": "code",
   "execution_count": 1,
   "metadata": {},
   "outputs": [],
   "source": [
    "import re\n",
    "import requests\n",
    "from bs4 import BeautifulSoup\n",
    "from IPython.display import display, HTML"
   ]
  },
  {
   "cell_type": "code",
   "execution_count": 43,
   "metadata": {},
   "outputs": [],
   "source": [
    "user_agent = {\"User-Agent\": \"Mozilla/5.0 (Windows NT 10.0; Win64; x64) AppleWebKit/537.36 (KHTML, like Gecko) Chrome/124.0.0.0 Safari/537.36\"}"
   ]
  },
  {
   "cell_type": "code",
   "execution_count": 2,
   "metadata": {},
   "outputs": [],
   "source": [
    "url = \"https://scholar.google.com/citations?user=ETIBghkAAAAJ&hl=en\""
   ]
  },
  {
   "cell_type": "code",
   "execution_count": 3,
   "metadata": {},
   "outputs": [],
   "source": [
    "html = requests.get(url, \n",
    "                    headers={\"User-Agent\": \"Mozilla/5.0 (Windows NT 10.0; Win64; x64) AppleWebKit/537.36 (KHTML, like Gecko) Chrome/124.0.0.0 Safari/537.36\"})"
   ]
  },
  {
   "cell_type": "code",
   "execution_count": 4,
   "metadata": {},
   "outputs": [],
   "source": [
    "# display(HTML(str(html.text)))"
   ]
  },
  {
   "cell_type": "code",
   "execution_count": 5,
   "metadata": {},
   "outputs": [],
   "source": [
    "soup = BeautifulSoup(html.text, 'html.parser')"
   ]
  },
  {
   "cell_type": "code",
   "execution_count": 41,
   "metadata": {},
   "outputs": [
    {
     "data": {
      "text/plain": [
       "(['AP McPherson, A Chamberlain, A Hazzard, S McGrath, S Benford',\n",
       "  'S McGrath, A Chamberlain, S Benford',\n",
       "  'A Chamberlain, S McGrath, S Benford',\n",
       "  'S McGrath, A Chamberlain, S Benford',\n",
       "  'C Greenhalgh, A Hazzard, S McGrath, S Benford',\n",
       "  'A Hazzard, J Spence, C Greenhalgh, S McGrath',\n",
       "  'S McGrath, S Love',\n",
       "  'J Spence, A Hazzard, S McGrath, C Greenhalgh, S Benford',\n",
       "  'S McGrath, A Hazzard, A Chamberlain, S Benford',\n",
       "  'S McGrath',\n",
       "  'S McGrath',\n",
       "  'A Hazzard, J Spence, C Greenhalgh, S McGrath',\n",
       "  'S McGrath, A Blake, G Stapleton, A Touloumis, P Chapman, M Jamnik, ...',\n",
       "  'S McGrath',\n",
       "  'S McGrath',\n",
       "  'SA McGrath',\n",
       "  'S McGrath'],\n",
       " ['/citations?view_op=view_citation&hl=en&user=ETIBghkAAAAJ&citation_for_view=ETIBghkAAAAJ:u-x6o8ySG0sC',\n",
       "  '/citations?view_op=view_citation&hl=en&user=ETIBghkAAAAJ&citation_for_view=ETIBghkAAAAJ:UeHWp8X0CEIC',\n",
       "  '/citations?view_op=view_citation&hl=en&user=ETIBghkAAAAJ&citation_for_view=ETIBghkAAAAJ:u5HHmVD_uO8C',\n",
       "  '/citations?view_op=view_citation&hl=en&user=ETIBghkAAAAJ&citation_for_view=ETIBghkAAAAJ:qjMakFHDy7sC',\n",
       "  '/citations?view_op=view_citation&hl=en&user=ETIBghkAAAAJ&citation_for_view=ETIBghkAAAAJ:d1gkVwhDpl0C',\n",
       "  '/citations?view_op=view_citation&hl=en&user=ETIBghkAAAAJ&citation_for_view=ETIBghkAAAAJ:W7OEmFMy1HYC',\n",
       "  '/citations?view_op=view_citation&hl=en&user=ETIBghkAAAAJ&citation_for_view=ETIBghkAAAAJ:IjCSPb-OGe4C',\n",
       "  '/citations?view_op=view_citation&hl=en&user=ETIBghkAAAAJ&citation_for_view=ETIBghkAAAAJ:zYLM7Y9cAGgC',\n",
       "  '/citations?view_op=view_citation&hl=en&user=ETIBghkAAAAJ&citation_for_view=ETIBghkAAAAJ:2osOgNQ5qMEC',\n",
       "  '/citations?view_op=view_citation&hl=en&user=ETIBghkAAAAJ&citation_for_view=ETIBghkAAAAJ:eQOLeE2rZwMC',\n",
       "  '/citations?view_op=view_citation&hl=en&user=ETIBghkAAAAJ&citation_for_view=ETIBghkAAAAJ:ufrVoPGSRksC',\n",
       "  '/citations?view_op=view_citation&hl=en&user=ETIBghkAAAAJ&citation_for_view=ETIBghkAAAAJ:YsMSGLbcyi4C',\n",
       "  '/citations?view_op=view_citation&hl=en&user=ETIBghkAAAAJ&citation_for_view=ETIBghkAAAAJ:hqOjcs7Dif8C',\n",
       "  '/citations?view_op=view_citation&hl=en&user=ETIBghkAAAAJ&citation_for_view=ETIBghkAAAAJ:UebtZRa9Y70C',\n",
       "  '/citations?view_op=view_citation&hl=en&user=ETIBghkAAAAJ&citation_for_view=ETIBghkAAAAJ:Tyk-4Ss8FVUC',\n",
       "  '/citations?view_op=view_citation&hl=en&user=ETIBghkAAAAJ&citation_for_view=ETIBghkAAAAJ:9yKSN-GCB0IC',\n",
       "  '/citations?view_op=view_citation&hl=en&user=ETIBghkAAAAJ&citation_for_view=ETIBghkAAAAJ:_FxGoFyzp5QC'])"
      ]
     },
     "execution_count": 41,
     "metadata": {},
     "output_type": "execute_result"
    }
   ],
   "source": [
    "coauthors = []\n",
    "links = []\n",
    "for tag in soup.find_all(href=re.compile(r'citation_for_view=ETIBghkAAAAJ')):\n",
    "    links.append(tag.attrs.get('href'))\n",
    "    coauthors.append(tag.nextSibling.get_text())\n",
    "coauthors, links"
   ]
  },
  {
   "cell_type": "code",
   "execution_count": 42,
   "metadata": {},
   "outputs": [
    {
     "data": {
      "text/plain": [
       "{'AP McPherson, A Chamberlain, A Hazzard, S McGrath, S Benford': 5,\n",
       " 'S McGrath, A Chamberlain, S Benford': 3,\n",
       " 'A Chamberlain, S McGrath, S Benford': 3,\n",
       " 'C Greenhalgh, A Hazzard, S McGrath, S Benford': 4,\n",
       " 'A Hazzard, J Spence, C Greenhalgh, S McGrath': 4,\n",
       " 'S McGrath, S Love': 2,\n",
       " 'J Spence, A Hazzard, S McGrath, C Greenhalgh, S Benford': 5,\n",
       " 'S McGrath, A Hazzard, A Chamberlain, S Benford': 4,\n",
       " 'S McGrath': 1,\n",
       " 'S McGrath, A Blake, G Stapleton, A Touloumis, P Chapman, M Jamnik, ...': 7,\n",
       " 'SA McGrath': 1}"
      ]
     },
     "execution_count": 42,
     "metadata": {},
     "output_type": "execute_result"
    }
   ],
   "source": [
    "coauth_dict = {}\n",
    "for coauthor_str in coauthors:\n",
    "    coauths = coauthor_str.split(', ')\n",
    "    coauth_dict[coauthor_str] = len(coauths)\n",
    "coauth_dict"
   ]
  },
  {
   "cell_type": "code",
   "execution_count": 68,
   "metadata": {},
   "outputs": [],
   "source": [
    "base_url = 'https://scholar.google.com'\n",
    "summaries = {}\n",
    "for i, link in enumerate(links):\n",
    "    link = base_url + link\n",
    "    response = requests.get(link, headers=user_agent)    \n",
    "    try:\n",
    "        soup = BeautifulSoup(response.text, 'html.parser')\n",
    "    except Exception:\n",
    "        print('No soup, request failed')\n",
    "    \n",
    "    finally:    \n",
    "        abstract = soup.find(class_='gsh_csp')\n",
    "        if abstract:\n",
    "            abstract_text = abstract.get_text()\n",
    "            summaries[i] = summarise(abstract_text)"
   ]
  },
  {
   "cell_type": "code",
   "execution_count": 72,
   "metadata": {},
   "outputs": [],
   "source": [
    "abstract"
   ]
  },
  {
   "cell_type": "code",
   "execution_count": 69,
   "metadata": {},
   "outputs": [
    {
     "data": {
      "text/plain": [
       "''"
      ]
     },
     "execution_count": 69,
     "metadata": {},
     "output_type": "execute_result"
    }
   ],
   "source": [
    "' '.join([summary for summary in summaries.values()])"
   ]
  },
  {
   "cell_type": "code",
   "execution_count": 70,
   "metadata": {},
   "outputs": [
    {
     "data": {
      "text/plain": [
       "[]"
      ]
     },
     "execution_count": 70,
     "metadata": {},
     "output_type": "execute_result"
    }
   ],
   "source": [
    "[summary for summary in summaries.values()]"
   ]
  },
  {
   "cell_type": "code",
   "execution_count": 61,
   "metadata": {},
   "outputs": [
    {
     "data": {
      "text/plain": [
       "'design exploratory musical interface workshop explores digital instrument principle examine production research present across series technology result ethnographic focused created explore technology facilitate production dissemination content evolving future unpack producer track listening geotracks walking everyday playlist existing adapted journey dynamically environment design ambient experience fictional deployment multi-layered locative blend pre-recorded investigation usability musician research software requirement highlight problem herein describes framework design practice interaction literature engagement project present gifting digital system workshop musician support creativity usable approach different investigation follows mobile experience listening locative technology development device network sensor expanded colour diagram concept performance result manipulating yield significant empirical establish digital number recent popularity internet personal computer device especially become'"
      ]
     },
     "execution_count": 61,
     "metadata": {},
     "output_type": "execute_result"
    }
   ],
   "source": [
    "' '.join([s[0] for summary in summaries.values() for s in summary])"
   ]
  },
  {
   "cell_type": "code",
   "execution_count": 52,
   "metadata": {},
   "outputs": [],
   "source": [
    "from nltk.corpus import stopwords\n",
    "from collections import Counter\n",
    "from nltk.tokenize import word_tokenize\n",
    "from nltk import WordNetLemmatizer\n",
    "from nltk.probability import FreqDist\n",
    "import nltk\n",
    "import time\n",
    "import random"
   ]
  },
  {
   "cell_type": "code",
   "execution_count": 67,
   "metadata": {},
   "outputs": [
    {
     "ename": "NameError",
     "evalue": "name 'text' is not defined",
     "output_type": "error",
     "traceback": [
      "\u001b[1;31m---------------------------------------------------------------------------\u001b[0m",
      "\u001b[1;31mNameError\u001b[0m                                 Traceback (most recent call last)",
      "Cell \u001b[1;32mIn[67], line 16\u001b[0m\n\u001b[0;32m     12\u001b[0m     filtered \u001b[38;5;241m=\u001b[39m [lemmatizer\u001b[38;5;241m.\u001b[39mlemmatize(word) \u001b[38;5;28;01mfor\u001b[39;00m word \u001b[38;5;129;01min\u001b[39;00m tokens \u001b[38;5;28;01mif\u001b[39;00m word\u001b[38;5;241m.\u001b[39mlower() \u001b[38;5;129;01mnot\u001b[39;00m \u001b[38;5;129;01min\u001b[39;00m stopwords_ \u001b[38;5;129;01mand\u001b[39;00m \u001b[38;5;28mlen\u001b[39m(word) \u001b[38;5;241m>\u001b[39m \u001b[38;5;241m5\u001b[39m]\n\u001b[0;32m     14\u001b[0m     \u001b[38;5;28;01mreturn\u001b[39;00m Counter(filtered)\u001b[38;5;241m.\u001b[39mmost_common(\u001b[38;5;241m3\u001b[39m)\n\u001b[1;32m---> 16\u001b[0m summarise(\u001b[43mtext\u001b[49m)\n",
      "\u001b[1;31mNameError\u001b[0m: name 'text' is not defined"
     ]
    }
   ],
   "source": [
    "# nltk.download()\n",
    "# stopwords.words('English')\n",
    "\n",
    "def summarise(text):\n",
    "    \"\"\"\n",
    "    Calculating frequency distributions for tokenised words. \n",
    "    \"\"\"\n",
    "    lemmatizer = WordNetLemmatizer()  \n",
    "    \n",
    "    tokens = word_tokenize(text.lower())    \n",
    "    stopwords_ = list(set(stopwords.words('English'))) + ['☰']\n",
    "    filtered = [lemmatizer.lemmatize(word) for word in tokens if word.lower() not in stopwords_ and len(word) > 5]\n",
    "    \n",
    "    return Counter(filtered).most_common(3)\n",
    "    \n",
    "summarise(text)"
   ]
  }
 ],
 "metadata": {
  "kernelspec": {
   "display_name": "johannes",
   "language": "python",
   "name": "python3"
  },
  "language_info": {
   "codemirror_mode": {
    "name": "ipython",
    "version": 3
   },
   "file_extension": ".py",
   "mimetype": "text/x-python",
   "name": "python",
   "nbconvert_exporter": "python",
   "pygments_lexer": "ipython3",
   "version": "3.12.1"
  }
 },
 "nbformat": 4,
 "nbformat_minor": 2
}
