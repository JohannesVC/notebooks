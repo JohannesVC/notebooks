{
 "cells": [
  {
   "cell_type": "code",
   "execution_count": 1,
   "metadata": {},
   "outputs": [],
   "source": [
    "import pandas as pd\n",
    "import numpy as np"
   ]
  },
  {
   "cell_type": "markdown",
   "metadata": {},
   "source": [
    "### 1.14 Reading and activity: Percentiles and quartiles\n",
    "\n",
    "Reading\n",
    "\n",
    "This reading will give you a brief and clear explanation that should add value to what has already been explained in the lesson. Read the following pages from the main text book for this module: Bruce, Bruce and Gedeck (2020), Chapter 1 Exploratory Data Analysis, pp.20–3.\n",
    "\n",
    ">Activity (feel free to discuss your answers with your classmates using the discussion forum)\n",
    "\n",
    "Using the following data (which has been helpfully sorted for you), answer the questions below.\n",
    "\n",
    "datapoint\tvalue\n",
    "1\t12\n",
    "2\t16\n",
    "3\t20\n",
    "4\t25\n",
    "5\t26\n",
    "6\t28\n",
    "7\t33\n",
    "8\t35\n",
    "9\t36\n",
    "10\t41\n",
    "11\t44\n",
    "12\t49\n",
    "13\t53\n",
    "14\t56\n",
    "15\t61\n",
    "16\t63\n",
    "17\t67\n",
    "18\t70\n",
    "19\t75\n",
    "20\t77\n",
    "\n",
    "\n",
    ">Question 1\n",
    "\n",
    "Work out the following percentiles: 10, 25, 33, 50, 75, 90\n",
    "\n",
    ">Question 2\n",
    "\n",
    "What are the names of each of these (if a particular name exists)?"
   ]
  },
  {
   "cell_type": "code",
   "execution_count": 2,
   "metadata": {},
   "outputs": [
    {
     "data": {
      "text/plain": [
       "0     12\n",
       "1     16\n",
       "2     20\n",
       "3     25\n",
       "4     26\n",
       "5     28\n",
       "6     33\n",
       "7     35\n",
       "8     36\n",
       "9     41\n",
       "10    44\n",
       "11    49\n",
       "12    53\n",
       "13    56\n",
       "14    61\n",
       "15    63\n",
       "16    67\n",
       "17    70\n",
       "18    75\n",
       "19    77\n",
       "dtype: int64"
      ]
     },
     "execution_count": 2,
     "metadata": {},
     "output_type": "execute_result"
    }
   ],
   "source": [
    "# parsing the html table into a pandas series\n",
    "data = \"\"\"\n",
    "1\t12\n",
    "2\t16\n",
    "3\t20\n",
    "4\t25\n",
    "5\t26\n",
    "6\t28\n",
    "7\t33\n",
    "8\t35\n",
    "9\t36\n",
    "10\t41\n",
    "11\t44\n",
    "12\t49\n",
    "13\t53\n",
    "14\t56\n",
    "15\t61\n",
    "16\t63\n",
    "17\t67\n",
    "18\t70\n",
    "19\t75\n",
    "20\t77\n",
    "\"\"\"\n",
    "lines = data.split(\"\\n\")\n",
    "data_list = [v.split('\\t')[1] for v in lines if v]\n",
    "data_list = [int(d) for d in data_list]\n",
    "series = pd.Series(data_list)\n",
    "series"
   ]
  },
  {
   "cell_type": "markdown",
   "metadata": {},
   "source": [
    "### Q1\n",
    "\n",
    "*Working out the percentiles is easy using pandas' quantiles method (as in Bruce and Bruce p20).*"
   ]
  },
  {
   "cell_type": "code",
   "execution_count": 25,
   "metadata": {},
   "outputs": [
    {
     "data": {
      "text/plain": [
       "0.10    18.0\n",
       "0.25    27.0\n",
       "0.33    34.0\n",
       "0.50    42.5\n",
       "0.75    62.0\n",
       "0.90    72.5\n",
       "dtype: float64"
      ]
     },
     "execution_count": 25,
     "metadata": {},
     "output_type": "execute_result"
    }
   ],
   "source": [
    "# pandas' quantile method combines percentiles with quartiles - hence the quaNtile I suppose\n",
    "series.quantile([0.10, 0.25, 0.33, 0.50, 0.75, 0.90], \n",
    "                interpolation='midpoint'          # like percentiles, the default is 'linear'\n",
    "                )"
   ]
  },
  {
   "cell_type": "code",
   "execution_count": 19,
   "metadata": {},
   "outputs": [
    {
     "data": {
      "text/plain": [
       "62.0"
      ]
     },
     "execution_count": 19,
     "metadata": {},
     "output_type": "execute_result"
    }
   ],
   "source": [
    "np.percentile(series, 75, \n",
    "              method='midpoint' # default is 'linear'\n",
    "              )                 # This argument was previously called \"interpolation\" "
   ]
  },
  {
   "cell_type": "markdown",
   "metadata": {},
   "source": [
    ">The book also shows how to visualise the interquartile range (IQR) in a boxplot. This is cool, because in contrast to a frequency distribution, a percentiles-based visualisation gives an idea of spread through `equal-count bins`. Frequency tables use `equal-size bins`. The difference is that percentiles and quartiles say something about where the most observations are, while the freq dists (with their equal size bins) show where they are in relation to the mean in fixed intervals. \n",
    "\n",
    "The median and related metrics are said to be robust to outliers."
   ]
  },
  {
   "cell_type": "code",
   "execution_count": 4,
   "metadata": {},
   "outputs": [
    {
     "data": {
      "image/png": "[encoded data removed]",
      "text/plain": [
       "<Figure size 640x480 with 1 Axes>"
      ]
     },
     "metadata": {},
     "output_type": "display_data"
    }
   ],
   "source": [
    "ax = series.plot.box()\n",
    "# ax.set_ylabel('values')"
   ]
  },
  {
   "cell_type": "markdown",
   "metadata": {},
   "source": [
    "### Q2\n",
    "\n",
    "The names for these percentiles are as follows:\n",
    "\n",
    ">- 10% > first decile \n",
    ">- 25% > first quartile\n",
    ">- 50% > second quartile or median\n",
    ">- 75% > third quartile\n",
    ">- 90% > ninth decile"
   ]
  }
 ],
 "metadata": {
  "kernelspec": {
   "display_name": "johannes",
   "language": "python",
   "name": "python3"
  },
  "language_info": {
   "codemirror_mode": {
    "name": "ipython",
    "version": 3
   },
   "file_extension": ".py",
   "mimetype": "text/x-python",
   "name": "python",
   "nbconvert_exporter": "python",
   "pygments_lexer": "ipython3",
   "version": "3.12.1"
  }
 },
 "nbformat": 4,
 "nbformat_minor": 2
}
