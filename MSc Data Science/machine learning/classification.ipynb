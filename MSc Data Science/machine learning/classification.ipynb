{
 "cells": [
  {
   "cell_type": "markdown",
   "metadata": {},
   "source": [
    "#### Confusion matrix"
   ]
  },
  {
   "cell_type": "code",
   "execution_count": 1,
   "metadata": {},
   "outputs": [],
   "source": [
    "import matplotlib.pyplot as plt"
   ]
  },
  {
   "cell_type": "code",
   "execution_count": 2,
   "metadata": {},
   "outputs": [
    {
     "data": {
      "text/plain": [
       "([1, 1, 1, 1, 1, 1, 1, 1, 1, 1], [1, 0, 0, 1, 0, 1, 1, 1, 1, 1])"
      ]
     },
     "execution_count": 2,
     "metadata": {},
     "output_type": "execute_result"
    }
   ],
   "source": [
    "Y_pred = \"1 1 1 1 1 1 1 1 1 1\"\n",
    "Y_true = \"1 0 0 1 0 1 1 1 1 1\"\n",
    "\n",
    "Y_true = [int(y) for y in Y_true.split()]\n",
    "Y_pred = [int(y) for y in Y_pred.split()]\n",
    "Y_pred, Y_true "
   ]
  },
  {
   "cell_type": "code",
   "execution_count": 3,
   "metadata": {},
   "outputs": [
    {
     "data": {
      "text/plain": [
       "10"
      ]
     },
     "execution_count": 3,
     "metadata": {},
     "output_type": "execute_result"
    }
   ],
   "source": [
    "len(Y_pred)"
   ]
  },
  {
   "cell_type": "markdown",
   "metadata": {},
   "source": [
    "- there are 10 values\n",
    "- 7 ones are correct\n",
    "- 3 ones are false positives\n",
    "- no false neg\n",
    "- no true neg\n",
    "\n",
    "The $\\text{accuracy} = \\frac{\\text{True Pos + True Neg}}{\\text{Total}}$, in this case that is $7/10 = 0.7$"
   ]
  },
  {
   "cell_type": "markdown",
   "metadata": {},
   "source": [
    "The recall, ie. the correct prediction of a positive given the positive examples, is $\\frac{True Pos}{True Pos + False Pos} = 1$. Note that this weighs towards an overestimation of positives.\n",
    "\n",
    "The precision, ie. the likeliness that the positive prediction is correct, is $\\frac{True Pos}{True Pos + True Neg} = 0.7$. This leans more towards avoiding false negatives."
   ]
  },
  {
   "cell_type": "code",
   "execution_count": 4,
   "metadata": {},
   "outputs": [
    {
     "data": {
      "text/plain": [
       "<sklearn.metrics._plot.confusion_matrix.ConfusionMatrixDisplay at 0x1c11f893e30>"
      ]
     },
     "execution_count": 4,
     "metadata": {},
     "output_type": "execute_result"
    },
    {
     "data": {
      "image/png": "[encoded data removed]",
      "text/plain": [
       "<Figure size 640x480 with 2 Axes>"
      ]
     },
     "metadata": {},
     "output_type": "display_data"
    }
   ],
   "source": [
    "from sklearn.metrics import confusion_matrix, ConfusionMatrixDisplay\n",
    "\n",
    "cm = confusion_matrix(Y_true, Y_pred)\n",
    "ConfusionMatrixDisplay(confusion_matrix=cm).plot()"
   ]
  },
  {
   "cell_type": "code",
   "execution_count": 7,
   "metadata": {},
   "outputs": [
    {
     "data": {
      "text/plain": [
       "8.0"
      ]
     },
     "execution_count": 7,
     "metadata": {},
     "output_type": "execute_result"
    }
   ],
   "source": [
    "((7-3)**2)**1/2"
   ]
  },
  {
   "cell_type": "markdown",
   "metadata": {},
   "source": [
    "Also interesting:\n",
    "\n",
    "### Class accuracy: \n",
    "> Defined as the number of correctly identified elements in proportion to the total number of elements in the class.\n",
    "\n",
    "$\\text{Class accuracy} = \\frac{\\text{element in class diagonal}} {\\text{class elements}}$\n",
    "\n",
    "### Multiple class confusion matrix and related metrics \n",
    "- 0: Cat\n",
    "- 1: Dog\n",
    "- 2: Rabbit\n",
    "\n",
    "Predicted labels \\( Y^* = [0, 1, 0, 2, 0, 1, 2, 1] \\)  \n",
    "True labels \\( Y = [0, 1, 2, 0, 0, 1, 2, 1] \\)\n",
    "\n",
    "Here's how the confusion matrix looks for these labels:\n",
    "\n",
    "|             | Predicted: Cat | Predicted: Dog | Predicted: Rabbit |\n",
    "|-------------|----------------|----------------|-------------------|\n",
    "| **Actual: Cat**    | 2              | 0              | 1                 |\n",
    "| **Actual: Dog**    | 0              | 3              | 0                 |\n",
    "| **Actual: Rabbit** | 1              | 0              | 2                 |\n",
    "\n",
    "- **Accuracy**: Calculated as the sum of diagonal elements (true positives for all classes) divided by the total number of samples:\n",
    "  $$\n",
    "  \\text{Accuracy} = \\frac{TP_{\\text{Cat}} + TP_{\\text{Dog}} + TP_{\\text{Rabbit}}}{\\text{Total samples}} = \\frac{2 + 3 + 2}{8} = \\frac{7}{8} = 87.5\\%\n",
    "  $$\n",
    "\n",
    "- **Precision for each class**: Precision is the ratio of correctly predicted positive observations to the total predicted positives for that class.\n",
    "  - Precision for Cat: $ \\frac{2}{2+1} = 66.7\\% $\n",
    "  - Precision for Dog: $ \\frac{3}{3+0} = 100\\% $\n",
    "  - Precision for Rabbit: $ \\frac{2}{2+1} = 66.7\\% $\n",
    "\n",
    "- **Recall for each class**: Recall (or Sensitivity) is the ratio of correctly predicted positive observations to the all observations in actual class.\n",
    "  - Recall for Cat: $ \\frac{2}{2+1} = 66.7\\% $\n",
    "  - Recall for Dog: $ \\frac{3}{3+0} = 100\\% $\n",
    "  - Recall for Rabbit: $ \\frac{2}{2+1} = 66.7\\% $\n",
    "\n",
    "**Interpretation**\n",
    "- The model performs best in identifying dogs with 100% precision and recall.\n",
    "- The performance for cats and rabbits shows some errors, with both precision and recall at 66.7% for these classes. This indicates some misclassification between cats and rabbits.\n",
    "\n",
    ">We can conclude that cats are confused with rabbits by our algorithm: as we can see, actual class cat can be predicted as rabbit, and actual class rabbit can be predicted as cat."
   ]
  },
  {
   "cell_type": "markdown",
   "metadata": {},
   "source": [
    "## Notes on Time and cost of construction, query and memory use.\n",
    "\n",
    "K neighbours classifier brute force approach scales as O[D N^2]\n",
    "- Big O notation is a mathematical notation used to describe the upper bound of the runtime complexity or performance of an algorithm.\n",
    "-  the computational cost escalates as the number of data points grows\n",
    "- It is typical to use O(expression) or O[expression] for talking about complexity / performance\n",
    "\n",
    "For decision trees:\n",
    "\n",
    "The cost of using the tree (i.e., predicting data) is logarithmic in the number of data points used to train the tree.\n",
    "See: https://scikit-learn.org/stable/modules/tree.html#complexity"
   ]
  }
 ],
 "metadata": {
  "kernelspec": {
   "display_name": "johannes",
   "language": "python",
   "name": "python3"
  },
  "language_info": {
   "codemirror_mode": {
    "name": "ipython",
    "version": 3
   },
   "file_extension": ".py",
   "mimetype": "text/x-python",
   "name": "python",
   "nbconvert_exporter": "python",
   "pygments_lexer": "ipython3",
   "version": "3.12.1"
  }
 },
 "nbformat": 4,
 "nbformat_minor": 2
}
