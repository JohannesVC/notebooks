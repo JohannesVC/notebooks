{
 "cells": [
  {
   "cell_type": "markdown",
   "metadata": {},
   "source": [
    "[D3 JavaScript visualisation in a Python Jupyter notebook](https://livingwithmachines.ac.uk/d3-javascript-visualisation-in-a-python-jupyter-notebook/)"
   ]
  },
  {
   "cell_type": "code",
   "execution_count": 3,
   "metadata": {
    "vscode": {
     "languageId": "javascript"
    }
   },
   "outputs": [
    {
     "data": {
      "application/javascript": "element.text('hello world');\n",
      "text/plain": [
       "<IPython.core.display.Javascript object>"
      ]
     },
     "metadata": {},
     "output_type": "display_data"
    }
   ],
   "source": [
    "%%javascript\n",
    "element.text('hello world');"
   ]
  },
  {
   "cell_type": "code",
   "execution_count": 4,
   "metadata": {
    "vscode": {
     "languageId": "javascript"
    }
   },
   "outputs": [
    {
     "data": {
      "application/javascript": "require.config({ \n     paths: { \n     d3: \"https://d3js.org/d3.v7.min\"\n}});\n",
      "text/plain": [
       "<IPython.core.display.Javascript object>"
      ]
     },
     "metadata": {},
     "output_type": "display_data"
    }
   ],
   "source": [
    "%%javascript\n",
    "require.config({ \n",
    "     paths: { \n",
    "     d3: \"https://d3js.org/d3.v7.min\"\n",
    "}});"
   ]
  },
  {
   "cell_type": "markdown",
   "metadata": {},
   "source": [
    "also see https://d3js.org/getting-started for bundles \n",
    "\n",
    "The above source specifies 'https://d3js.org/d3.v5.min.js'. (without .js)"
   ]
  },
  {
   "cell_type": "code",
   "execution_count": 5,
   "metadata": {},
   "outputs": [
    {
     "data": {
      "application/javascript": "require(['d3'], function(d3) {   \n     console.log(d3);\n});\n",
      "text/plain": [
       "<IPython.core.display.Javascript object>"
      ]
     },
     "metadata": {},
     "output_type": "display_data"
    }
   ],
   "source": [
    "%%javascript\n",
    "require(['d3'], function(d3) {   \n",
    "     console.log(d3);\n",
    "});"
   ]
  },
  {
   "cell_type": "code",
   "execution_count": 6,
   "metadata": {
    "vscode": {
     "languageId": "javascript"
    }
   },
   "outputs": [
    {
     "data": {
      "application/javascript": "(function (element) {\n    require(['d3'], function (d3) {\n        d3.select(element.get(0)).append('svg')\n            .append('rect')\n            .attr('width', 50)\n            .attr('height', 50)\n            .attr('fill', 'black')\n            .on('mouseover', function () { d3.select(this).attr('fill', 'red') })\n            .on('mouseout', function () { d3.select(this).attr('fill', 'black') })\n    })\n})(element);\n",
      "text/plain": [
       "<IPython.core.display.Javascript object>"
      ]
     },
     "metadata": {},
     "output_type": "display_data"
    }
   ],
   "source": [
    "%%javascript\n",
    "(function (element) {\n",
    "    require(['d3'], function (d3) {\n",
    "        d3.select(element.get(0)).append('svg')\n",
    "            .append('rect')\n",
    "            .attr('width', 50)\n",
    "            .attr('height', 50)\n",
    "            .attr('fill', 'black')\n",
    "            .on('mouseover', function () { d3.select(this).attr('fill', 'red') })\n",
    "            .on('mouseout', function () { d3.select(this).attr('fill', 'black') })\n",
    "    })\n",
    "})(element);"
   ]
  },
  {
   "cell_type": "code",
   "execution_count": 10,
   "metadata": {},
   "outputs": [
    {
     "name": "stdout",
     "output_type": "stream",
     "text": [
      "\u001b[1;31mSource:\u001b[0m\n",
      "    \u001b[1;33m@\u001b[0m\u001b[0mcell_magic\u001b[0m\u001b[1;33m\n",
      "\u001b[0m    \u001b[1;32mdef\u001b[0m \u001b[0mjavascript\u001b[0m\u001b[1;33m(\u001b[0m\u001b[0mself\u001b[0m\u001b[1;33m,\u001b[0m \u001b[0mline\u001b[0m\u001b[1;33m,\u001b[0m \u001b[0mcell\u001b[0m\u001b[1;33m)\u001b[0m\u001b[1;33m:\u001b[0m\u001b[1;33m\n",
      "\u001b[0m        \u001b[1;34m\"\"\"Run the cell block of Javascript code\n",
      "\n",
      "        Starting with IPython 8.0 %%javascript is pending deprecation to be replaced\n",
      "        by a more flexible system\n",
      "\n",
      "        Please See https://github.com/ipython/ipython/issues/13376\n",
      "        \"\"\"\u001b[0m\u001b[1;33m\n",
      "\u001b[0m        \u001b[0mdisplay\u001b[0m\u001b[1;33m(\u001b[0m\u001b[0mJavascript\u001b[0m\u001b[1;33m(\u001b[0m\u001b[0mcell\u001b[0m\u001b[1;33m)\u001b[0m\u001b[1;33m)\u001b[0m\u001b[1;33m\u001b[0m\u001b[1;33m\u001b[0m\u001b[0m\n",
      "\u001b[1;31mFile:\u001b[0m   c:\\users\\johan\\appdata\\roaming\\python\\python312\\site-packages\\ipython\\core\\magics\\display.py"
     ]
    }
   ],
   "source": [
    "%%javascript??"
   ]
  },
  {
   "cell_type": "code",
   "execution_count": 8,
   "metadata": {},
   "outputs": [
    {
     "data": {
      "application/javascript": "element.text('hi'))",
      "text/plain": [
       "<IPython.core.display.Javascript object>"
      ]
     },
     "metadata": {},
     "output_type": "display_data"
    }
   ],
   "source": [
    "from IPython.display import display, Javascript\n",
    "\n",
    "display(Javascript(\"element.text('hi'))\"))"
   ]
  },
  {
   "cell_type": "code",
   "execution_count": 11,
   "metadata": {},
   "outputs": [
    {
     "data": {
      "application/javascript": "\n           console.log('hi')\n            // element.text('hi'))\n           ",
      "text/plain": [
       "<IPython.core.display.Javascript object>"
      ]
     },
     "execution_count": 11,
     "metadata": {},
     "output_type": "execute_result"
    }
   ],
   "source": [
    "Javascript(\"\"\"\n",
    "           console.log('hi')\n",
    "            // element.text('hi'))\n",
    "           \"\"\")"
   ]
  }
 ],
 "metadata": {
  "kernelspec": {
   "display_name": "johannes",
   "language": "python",
   "name": "python3"
  },
  "language_info": {
   "codemirror_mode": {
    "name": "ipython",
    "version": 3
   },
   "file_extension": ".py",
   "mimetype": "text/x-python",
   "name": "python",
   "nbconvert_exporter": "python",
   "pygments_lexer": "ipython3",
   "version": "3.12.1"
  }
 },
 "nbformat": 4,
 "nbformat_minor": 2
}
