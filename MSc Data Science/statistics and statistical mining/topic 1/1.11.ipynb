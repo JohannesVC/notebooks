{
 "cells": [
  {
   "cell_type": "markdown",
   "metadata": {},
   "source": [
    "# Reading\n",
    "Read the following readings:\n",
    "\n",
    "Bruce, Bruce and Gedeck (2020), Chapter 1 Exploratory Data Analysis, Estimates of Location section, pp.7–13.\n",
    "\n",
    "Leekley (2010), Chapter 3 Describing Data: Summary Statistics, Section 3.2.1 Measures of Central Tendency, pp.43–50. \n",
    "\n",
    "## Activity\n",
    "\n",
    "For each of the followings sets of data, compute the mean, median and mode. Where there are significant differences, explain the reasons for these differences and comment on the value of the information you are obtaining from each.\n",
    "\n",
    "Fun task: discuss your results with your classmates (use the discussion forum).\n",
    "\n",
    ">Question 1\n",
    "\n",
    "The annual incomes of people drinking in a pub (in thousands of pounds) is: \n",
    "\n",
    "45, 52, 38, 90, 45, 36, 70, 100, 85, 6\n",
    "\n",
    "Elon Musk walks into the pub. He has an annual income of 140 billion dollars. How does this affect the mean, median and mode?\n",
    "\n",
    "Elon Musk is an outlier. One way of dealing with outliers is to do statistics ignoring the tails at both ends.\n",
    "\n",
    ">Question 2\n",
    "\n",
    "The number of hours that 10 supposedly identical lightbulbs (with an advertised lifetime of 2,000 hours) last is as follows:\n",
    "\n",
    "2090, 1900, 2010, 1890, 2010, 1968, 70, 2200, 2012, 1960\n",
    "\n",
    "Comment on the data.\n",
    "\n",
    ">Question 3\n",
    "\n",
    "The height measurements of a population of 1,000 people, as given in the following table.\n",
    "\n",
    "|Height in inches |Number|\n",
    "|-|-|\n",
    "|46-52|\t13|\n",
    "|52-58|\t215|\n",
    "|58-64|\t1459|\n",
    "|64-70|\t3413|\n",
    "|70-76|\t3243|\n",
    "|76-82|\t1512|\n",
    "|82-88|\t135|\n",
    "|88-94|\t10|"
   ]
  },
  {
   "cell_type": "markdown",
   "metadata": {},
   "source": [
    "## Q1\n",
    "\n",
    "Let's start with calculating the mean, median and mode. "
   ]
  },
  {
   "cell_type": "code",
   "execution_count": 3,
   "metadata": {},
   "outputs": [
    {
     "data": {
      "text/plain": [
       "(56.7, 48.5, 45)"
      ]
     },
     "execution_count": 3,
     "metadata": {},
     "output_type": "execute_result"
    }
   ],
   "source": [
    "import numpy as np\n",
    "import scipy.stats as st\n",
    "\n",
    "incomes = np.array([45, 52, 38, 90, 45, 36, 70, 100, 85, 6], dtype=int)\n",
    "\n",
    "incomes.mean(), np.median(incomes), st.mode(incomes).mode"
   ]
  },
  {
   "cell_type": "markdown",
   "metadata": {},
   "source": [
    "If we add Elon Musk's income to the dataset, this is what happens:"
   ]
  },
  {
   "cell_type": "code",
   "execution_count": 20,
   "metadata": {},
   "outputs": [
    {
     "data": {
      "text/plain": [
       "(12727324.27, 52.0, 45)"
      ]
     },
     "execution_count": 20,
     "metadata": {},
     "output_type": "execute_result"
    }
   ],
   "source": [
    "incomes_w_musk = np.append(incomes, [140000000])\n",
    "# incomes_w_musk\n",
    "round(incomes_w_musk.mean(), 2), np.median(incomes_w_musk), st.mode(incomes_w_musk).mode"
   ]
  },
  {
   "cell_type": "markdown",
   "metadata": {},
   "source": [
    "So, most affected is the mean.\n",
    "\n",
    "We could a. simply refer to the median, or b. add a trimmed mean."
   ]
  },
  {
   "cell_type": "code",
   "execution_count": 21,
   "metadata": {},
   "outputs": [
    {
     "data": {
      "text/plain": [
       "62.333333333333336"
      ]
     },
     "execution_count": 21,
     "metadata": {},
     "output_type": "execute_result"
    }
   ],
   "source": [
    "st.trim_mean(incomes_w_musk, 0.1) #  slices off 'leftmost' and 'rightmost' 10% of scores"
   ]
  },
  {
   "cell_type": "markdown",
   "metadata": {},
   "source": [
    "## Q2\n",
    "\n",
    "So we have:"
   ]
  },
  {
   "cell_type": "code",
   "execution_count": 24,
   "metadata": {},
   "outputs": [
    {
     "data": {
      "text/plain": [
       "array([  70, 1890, 1900, 1960, 1968, 2010, 2010, 2012, 2090, 2200])"
      ]
     },
     "execution_count": 24,
     "metadata": {},
     "output_type": "execute_result"
    }
   ],
   "source": [
    "lightbulb_hrs = [2090, 1900, 2010, 1890, 2010, 1968, 70, 2200, 2012, 1960]\n",
    "\n",
    "lb_hr_arr = np.array(lightbulb_hrs)\n",
    "lb_hr_arr.sort()\n",
    "lb_hr_arr"
   ]
  },
  {
   "cell_type": "code",
   "execution_count": 32,
   "metadata": {},
   "outputs": [
    {
     "data": {
      "text/plain": [
       "(1811.0, 1989.0, 2010)"
      ]
     },
     "execution_count": 32,
     "metadata": {},
     "output_type": "execute_result"
    }
   ],
   "source": [
    "round(lb_hr_arr.mean(), 2), np.median(lb_hr_arr), st.mode(lb_hr_arr).mode"
   ]
  },
  {
   "cell_type": "code",
   "execution_count": 40,
   "metadata": {},
   "outputs": [],
   "source": [
    "mean_line = np.full_like(lb_hr_arr, fill_value=lb_hr_arr.mean()) # or np.fill and then use the len(lb_hr_arr) but this is neater\n",
    "median_line = np.full_like(lb_hr_arr, fill_value=np.median(lb_hr_arr))"
   ]
  },
  {
   "cell_type": "code",
   "execution_count": 104,
   "metadata": {},
   "outputs": [
    {
     "data": {
      "text/plain": [
       "<matplotlib.legend.Legend at 0x1a4ce292f60>"
      ]
     },
     "execution_count": 104,
     "metadata": {},
     "output_type": "execute_result"
    },
    {
     "data": {
      "image/png": "[encoded data removed]",
      "text/plain": [
       "<Figure size 640x480 with 1 Axes>"
      ]
     },
     "metadata": {},
     "output_type": "display_data"
    }
   ],
   "source": [
    "import matplotlib.pyplot as plt\n",
    "\n",
    "plt.bar(range(len(lb_hr_arr)), lb_hr_arr)\n",
    "plt.plot(mean_line, color='red', label='mean')\n",
    "plt.plot(median_line, color='green', label='median')\n",
    "plt.title(\"Freq dist of lightbulb hours\")\n",
    "plt.legend(loc='upper right')"
   ]
  },
  {
   "cell_type": "markdown",
   "metadata": {},
   "source": [
    "Tip: to find plt.legend loc: `help(plt.legend) or plt.legend?`"
   ]
  },
  {
   "cell_type": "markdown",
   "metadata": {},
   "source": [
    "> In the small sample provided, we can see that there is one outlier - one value of 70. Thus, the median or trimmed mean may give a better measure of location aka centrality. "
   ]
  },
  {
   "cell_type": "markdown",
   "metadata": {},
   "source": [
    "## Q3\n",
    "\n",
    "Heights in metre of 1000 people:\n",
    "|Height in inches |Number|\n",
    "|-|-|\n",
    "|46-52|\t13|\n",
    "|52-58|\t215|\n",
    "|58-64|\t1459|\n",
    "|64-70|\t3413|\n",
    "|70-76|\t3243|\n",
    "|76-82|\t1512|\n",
    "|82-88|\t135|\n",
    "|88-94|\t10|"
   ]
  },
  {
   "cell_type": "code",
   "execution_count": 62,
   "metadata": {},
   "outputs": [
    {
     "data": {
      "text/plain": [
       "(['46-52', '52-58', '58-64', '64-70', '70-76', '76-82', '82-88', '88-94'],\n",
       " [13, 215, 1459, 3413, 3243, 1512, 135, 10])"
      ]
     },
     "execution_count": 62,
     "metadata": {},
     "output_type": "execute_result"
    }
   ],
   "source": [
    "# some cleaning to turn the markdown table into lists\n",
    "mess = \"\"\"|Height in inches |Number|\n",
    "|-|-|\n",
    "|46-52|\t13|\n",
    "|52-58|\t215|\n",
    "|58-64|\t1459|\n",
    "|64-70|\t3413|\n",
    "|70-76|\t3243|\n",
    "|76-82|\t1512|\n",
    "|82-88|\t135|\n",
    "|88-94|\t10|\"\"\"\n",
    "\n",
    "lines_in_mess = mess.split(\"\\n\")\n",
    "\n",
    "heights =  [line.split('|')[1] for line in lines_in_mess][2:]\n",
    "numbers =  [line.split('|')[2].replace('\\t','') for line in lines_in_mess][2:]\n",
    "numbers = [int(number) for number in numbers]\n",
    "heights, numbers"
   ]
  },
  {
   "cell_type": "code",
   "execution_count": 66,
   "metadata": {},
   "outputs": [
    {
     "data": {
      "text/plain": [
       "Text(0.5, 1.0, 'Freq Dist of Heights')"
      ]
     },
     "execution_count": 66,
     "metadata": {},
     "output_type": "execute_result"
    },
    {
     "data": {
      "image/png": "[encoded data removed]",
      "text/plain": [
       "<Figure size 640x480 with 1 Axes>"
      ]
     },
     "metadata": {},
     "output_type": "display_data"
    }
   ],
   "source": [
    "plt.bar(heights, numbers); plt.title('Freq Dist of Heights')"
   ]
  },
  {
   "cell_type": "markdown",
   "metadata": {},
   "source": [
    "The mode is obvious from looking at the graph: the 64-70 bucket has highest number of observations. It is the *most common value.*\n",
    "$$mode = 64-70$$\n",
    "\n",
    "The mean is a bit harder."
   ]
  },
  {
   "cell_type": "code",
   "execution_count": 68,
   "metadata": {},
   "outputs": [
    {
     "data": {
      "text/plain": [
       "[49.0, 55.0, 61.0, 67.0, 73.0, 79.0, 85.0, 91.0]"
      ]
     },
     "execution_count": 68,
     "metadata": {},
     "output_type": "execute_result"
    }
   ],
   "source": [
    "# to find mean we need to find the middle of each bucket\n",
    "middle_heights = [(int(h.split('-')[0]) + int(h.split('-')[1]))/2 for h in heights]\n",
    "middle_heights"
   ]
  },
  {
   "cell_type": "code",
   "execution_count": 73,
   "metadata": {},
   "outputs": [
    {
     "data": {
      "text/plain": [
       "10000"
      ]
     },
     "execution_count": 73,
     "metadata": {},
     "output_type": "execute_result"
    }
   ],
   "source": [
    "np.sum(numbers)"
   ]
  },
  {
   "cell_type": "code",
   "execution_count": 80,
   "metadata": {},
   "outputs": [
    {
     "data": {
      "text/plain": [
       "69.8704"
      ]
     },
     "execution_count": 80,
     "metadata": {},
     "output_type": "execute_result"
    }
   ],
   "source": [
    "# remember: ndarrays can multipy element wise\n",
    "sum = np.sum((np.array(middle_heights) * np.array(numbers)))\n",
    "mean = sum / np.sum(numbers)\n",
    "mean"
   ]
  },
  {
   "cell_type": "markdown",
   "metadata": {},
   "source": [
    "So the mean is:\n",
    "$$mean = 69.87$$"
   ]
  },
  {
   "cell_type": "markdown",
   "metadata": {},
   "source": [
    "The median is the middle of a sorted list. As there are 10000 `numbers`, the median is the `height` of number 5000. \n",
    "\n",
    "So we can add up the shortest people until we reach 5000th person, and then show their bin. "
   ]
  },
  {
   "cell_type": "code",
   "execution_count": 81,
   "metadata": {},
   "outputs": [
    {
     "name": "stdout",
     "output_type": "stream",
     "text": [
      "64-70\n"
     ]
    }
   ],
   "source": [
    "sum_of_numbers = 0\n",
    "for number, bin in zip(numbers,heights):\n",
    "    sum_of_numbers += int(number)\n",
    "    if sum_of_numbers >= 5000:        \n",
    "        print(bin)\n",
    "        break "
   ]
  },
  {
   "cell_type": "markdown",
   "metadata": {},
   "source": [
    "When a median falls in the middle of an even-length list, we take the average, so, \n",
    "$$median = 67$$"
   ]
  }
 ],
 "metadata": {
  "kernelspec": {
   "display_name": "johannes",
   "language": "python",
   "name": "python3"
  },
  "language_info": {
   "codemirror_mode": {
    "name": "ipython",
    "version": 3
   },
   "file_extension": ".py",
   "mimetype": "text/x-python",
   "name": "python",
   "nbconvert_exporter": "python",
   "pygments_lexer": "ipython3",
   "version": "3.12.1"
  }
 },
 "nbformat": 4,
 "nbformat_minor": 2
}
