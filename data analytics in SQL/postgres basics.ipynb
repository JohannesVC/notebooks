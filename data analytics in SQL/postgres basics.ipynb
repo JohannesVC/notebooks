{
 "cells": [
  {
   "cell_type": "markdown",
   "metadata": {},
   "source": [
    "# First some simple operations in Postgres \n",
    "Also see [SQL Style Guide](https://www.sqlstyle.guide/)\n",
    "\n"
   ]
  },
  {
   "cell_type": "code",
   "execution_count": 1,
   "metadata": {
    "vscode": {
     "languageId": "sql"
    }
   },
   "outputs": [
    {
     "data": {
      "text/html": [
       "<span style=\"None\">Connecting to &#x27;sqlite:///:memory:&#x27;</span>"
      ],
      "text/plain": [
       "Connecting to 'sqlite:///:memory:'"
      ]
     },
     "metadata": {},
     "output_type": "display_data"
    }
   ],
   "source": [
    "%load_ext sql\n",
    "%sql sqlite:///:memory:"
   ]
  },
  {
   "cell_type": "code",
   "execution_count": 14,
   "metadata": {
    "vscode": {
     "languageId": "sql"
    }
   },
   "outputs": [
    {
     "data": {
      "text/html": [
       "<span style=\"None\">Running query in &#x27;sqlite:///:memory:&#x27;</span>"
      ],
      "text/plain": [
       "Running query in 'sqlite:///:memory:'"
      ]
     },
     "metadata": {},
     "output_type": "display_data"
    },
    {
     "data": {
      "text/html": [
       "<table>\n",
       "    <thead>\n",
       "        <tr>\n",
       "        </tr>\n",
       "    </thead>\n",
       "    <tbody>\n",
       "    </tbody>\n",
       "</table>"
      ],
      "text/plain": [
       "++\n",
       "||\n",
       "++\n",
       "++"
      ]
     },
     "execution_count": 14,
     "metadata": {},
     "output_type": "execute_result"
    }
   ],
   "source": [
    "%%sql\n",
    "CREATE TABLE\n",
    "    IF NOT EXISTS test (name varchar, age INT);"
   ]
  },
  {
   "cell_type": "code",
   "execution_count": null,
   "metadata": {
    "vscode": {
     "languageId": "sql"
    }
   },
   "outputs": [],
   "source": [
    "INSERT INTO\n",
    "    test (name, age)\n",
    "VALUES\n",
    "    ('John Doe', 30),\n",
    "    ('Jane Smith', 25),\n",
    "    ('Emily Johnson', 40);"
   ]
  },
  {
   "cell_type": "markdown",
   "metadata": {},
   "source": [
    "Note that you can import csv in a query, using:\n",
    "\n",
    "```sql\n",
    "COPY table_name (column1, column2, column3, ...)\n",
    "FROM '/path/to/your/file.csv'\n",
    "DELIMITER ','\n",
    "CSV HEADER;\n",
    "```\n",
    "Note that the table should already exist, and its schema should match the data in the CSV file.\n",
    "\n"
   ]
  },
  {
   "cell_type": "code",
   "execution_count": 12,
   "metadata": {
    "vscode": {
     "languageId": "sql"
    }
   },
   "outputs": [
    {
     "data": {
      "text/html": [
       "<span style=\"None\">Running query in &#x27;sqlite:///:memory:&#x27;</span>"
      ],
      "text/plain": [
       "Running query in 'sqlite:///:memory:'"
      ]
     },
     "metadata": {},
     "output_type": "display_data"
    },
    {
     "data": {
      "text/html": [
       "<table>\n",
       "    <thead>\n",
       "        <tr>\n",
       "            <th>name</th>\n",
       "            <th>age</th>\n",
       "        </tr>\n",
       "    </thead>\n",
       "    <tbody>\n",
       "        <tr>\n",
       "            <td>John Doe</td>\n",
       "            <td>30</td>\n",
       "        </tr>\n",
       "        <tr>\n",
       "            <td>Jane Smith</td>\n",
       "            <td>25</td>\n",
       "        </tr>\n",
       "        <tr>\n",
       "            <td>Emily Johnson</td>\n",
       "            <td>40</td>\n",
       "        </tr>\n",
       "        <tr>\n",
       "            <td>Rosy</td>\n",
       "            <td>36</td>\n",
       "        </tr>\n",
       "    </tbody>\n",
       "</table>"
      ],
      "text/plain": [
       "+---------------+-----+\n",
       "|      name     | age |\n",
       "+---------------+-----+\n",
       "|    John Doe   |  30 |\n",
       "|   Jane Smith  |  25 |\n",
       "| Emily Johnson |  40 |\n",
       "|      Rosy     |  36 |\n",
       "+---------------+-----+"
      ]
     },
     "execution_count": 12,
     "metadata": {},
     "output_type": "execute_result"
    }
   ],
   "source": [
    "%%sql\n",
    "SELECT\n",
    "    *\n",
    "FROM\n",
    "    test"
   ]
  },
  {
   "cell_type": "code",
   "execution_count": null,
   "metadata": {
    "vscode": {
     "languageId": "sql"
    }
   },
   "outputs": [],
   "source": [
    "%%sql\n",
    "SELECT\n",
    "    column_name,\n",
    "    data_type,\n",
    "    udt_name\n",
    "FROM\n",
    "    INFORMATION_SCHEMA.COLUMNS\n",
    "WHERE\n",
    "    table_name = 'test'"
   ]
  },
  {
   "cell_type": "markdown",
   "metadata": {},
   "source": [
    "in sqlite this is `sqlite_master` or `PRAGMA table_info(table_name);` \n",
    "\n",
    "see https://www.sqlite.org/pragma.html#toc"
   ]
  },
  {
   "cell_type": "code",
   "execution_count": 13,
   "metadata": {
    "vscode": {
     "languageId": "sql"
    }
   },
   "outputs": [
    {
     "data": {
      "text/html": [
       "<span style=\"None\">Running query in &#x27;sqlite:///:memory:&#x27;</span>"
      ],
      "text/plain": [
       "Running query in 'sqlite:///:memory:'"
      ]
     },
     "metadata": {},
     "output_type": "display_data"
    },
    {
     "data": {
      "text/html": [
       "<table>\n",
       "    <thead>\n",
       "        <tr>\n",
       "            <th>cid</th>\n",
       "            <th>name</th>\n",
       "            <th>type</th>\n",
       "            <th>notnull</th>\n",
       "            <th>dflt_value</th>\n",
       "            <th>pk</th>\n",
       "        </tr>\n",
       "    </thead>\n",
       "    <tbody>\n",
       "        <tr>\n",
       "            <td>0</td>\n",
       "            <td>name</td>\n",
       "            <td>varchar</td>\n",
       "            <td>0</td>\n",
       "            <td>None</td>\n",
       "            <td>0</td>\n",
       "        </tr>\n",
       "        <tr>\n",
       "            <td>1</td>\n",
       "            <td>age</td>\n",
       "            <td>INT</td>\n",
       "            <td>0</td>\n",
       "            <td>None</td>\n",
       "            <td>0</td>\n",
       "        </tr>\n",
       "    </tbody>\n",
       "</table>"
      ],
      "text/plain": [
       "+-----+------+---------+---------+------------+----+\n",
       "| cid | name |   type  | notnull | dflt_value | pk |\n",
       "+-----+------+---------+---------+------------+----+\n",
       "|  0  | name | varchar |    0    |    None    | 0  |\n",
       "|  1  | age  |   INT   |    0    |    None    | 0  |\n",
       "+-----+------+---------+---------+------------+----+"
      ]
     },
     "execution_count": 13,
     "metadata": {},
     "output_type": "execute_result"
    }
   ],
   "source": [
    "%%sql\n",
    "PRAGMA table_info(test);"
   ]
  },
  {
   "cell_type": "markdown",
   "metadata": {
    "vscode": {
     "languageId": "sql"
    }
   },
   "source": [
    "To drill deeper into (user defined) data types, use `pg_type`"
   ]
  },
  {
   "cell_type": "code",
   "execution_count": null,
   "metadata": {
    "vscode": {
     "languageId": "sql"
    }
   },
   "outputs": [],
   "source": [
    "%%sql\n",
    "SELECT\n",
    "    typname,\n",
    "    typcategory\n",
    "FROM\n",
    "    pg_type\n",
    "WHERE\n",
    "    typname = 'varchar';"
   ]
  },
  {
   "cell_type": "markdown",
   "metadata": {},
   "source": [
    "\n",
    "## Extensions"
   ]
  },
  {
   "cell_type": "code",
   "execution_count": 5,
   "metadata": {
    "vscode": {
     "languageId": "sql"
    }
   },
   "outputs": [
    {
     "data": {
      "text/html": [
       "<span style=\"None\">Running query in &#x27;sqlite:///:memory:&#x27;</span>"
      ],
      "text/plain": [
       "Running query in 'sqlite:///:memory:'"
      ]
     },
     "metadata": {},
     "output_type": "display_data"
    },
    {
     "name": "stderr",
     "output_type": "stream",
     "text": [
      "RuntimeError: If using snippets, you may pass the --with argument explicitly.\n",
      "For more details please refer: https://jupysql.ploomber.io/en/latest/compose.html#with-argument\n",
      "\n",
      "\n",
      "Original error message from DB driver:\n",
      "(sqlite3.OperationalError) near \"CREATE\": syntax error\n",
      "[SQL: SELECT\n",
      "    *\n",
      "FROM\n",
      "    pg_available_extensions CREATE EXTENSION IF NOT EXISTS fuzzystrmatch;]\n",
      "(Background on this error at: https://sqlalche.me/e/20/e3q8)\n",
      "\n",
      "If you need help solving this issue, send us a message: https://ploomber.io/community\n"
     ]
    }
   ],
   "source": [
    "%%sql\n",
    "SELECT\n",
    "    *\n",
    "FROM\n",
    "    pg_available_extensions CREATE EXTENSION IF NOT EXISTS fuzzystrmatch;\n",
    "\n",
    "SELECT\n",
    "    levenshtein ('BOGUS', 'BORGOS');"
   ]
  },
  {
   "cell_type": "markdown",
   "metadata": {},
   "source": [
    "\n",
    "## INSERT INTO // VALUES should be the first thing to learn\n",
    "\n"
   ]
  },
  {
   "cell_type": "code",
   "execution_count": 6,
   "metadata": {
    "vscode": {
     "languageId": "sql"
    }
   },
   "outputs": [
    {
     "data": {
      "text/html": [
       "<span style=\"None\">Running query in &#x27;sqlite:///:memory:&#x27;</span>"
      ],
      "text/plain": [
       "Running query in 'sqlite:///:memory:'"
      ]
     },
     "metadata": {},
     "output_type": "display_data"
    },
    {
     "data": {
      "text/html": [
       "<table>\n",
       "    <thead>\n",
       "        <tr>\n",
       "            <th>name</th>\n",
       "            <th>age</th>\n",
       "        </tr>\n",
       "    </thead>\n",
       "    <tbody>\n",
       "        <tr>\n",
       "            <td>Johannes2</td>\n",
       "            <td>36</td>\n",
       "        </tr>\n",
       "    </tbody>\n",
       "</table>"
      ],
      "text/plain": [
       "+-----------+-----+\n",
       "|    name   | age |\n",
       "+-----------+-----+\n",
       "| Johannes2 |  36 |\n",
       "+-----------+-----+"
      ]
     },
     "execution_count": 6,
     "metadata": {},
     "output_type": "execute_result"
    }
   ],
   "source": [
    "%%sql\n",
    "INSERT INTO test (name, age)\n",
    "    VALUES ('Johannes2', 36)\n",
    "    RETURNING name, age;"
   ]
  },
  {
   "cell_type": "markdown",
   "metadata": {},
   "source": [
    "# Alongside INSERT, use this to UPDATE "
   ]
  },
  {
   "cell_type": "code",
   "execution_count": 7,
   "metadata": {
    "vscode": {
     "languageId": "sql"
    }
   },
   "outputs": [
    {
     "data": {
      "text/html": [
       "<span style=\"None\">Running query in &#x27;sqlite:///:memory:&#x27;</span>"
      ],
      "text/plain": [
       "Running query in 'sqlite:///:memory:'"
      ]
     },
     "metadata": {},
     "output_type": "display_data"
    },
    {
     "data": {
      "text/html": [
       "<table>\n",
       "    <thead>\n",
       "        <tr>\n",
       "            <th>STRING_AGG (name, ', ')</th>\n",
       "        </tr>\n",
       "    </thead>\n",
       "    <tbody>\n",
       "        <tr>\n",
       "            <td>John Doe, Jane Smith, Emily Johnson, Rosy</td>\n",
       "        </tr>\n",
       "    </tbody>\n",
       "</table>"
      ],
      "text/plain": [
       "+-------------------------------------------+\n",
       "|          STRING_AGG (name, ', ')          |\n",
       "+-------------------------------------------+\n",
       "| John Doe, Jane Smith, Emily Johnson, Rosy |\n",
       "+-------------------------------------------+"
      ]
     },
     "execution_count": 7,
     "metadata": {},
     "output_type": "execute_result"
    }
   ],
   "source": [
    "%%sql\n",
    "UPDATE test\n",
    "SET\n",
    "    name = 'Rosy'\n",
    "WHERE\n",
    "    name = 'Johannes2' RETURNING name,\n",
    "    age;"
   ]
  },
  {
   "cell_type": "code",
   "execution_count": null,
   "metadata": {
    "vscode": {
     "languageId": "sql"
    }
   },
   "outputs": [],
   "source": [
    "%%sql\n",
    "SELECT\n",
    "    STRING_AGG (name, ', ')\n",
    "FROM\n",
    "    test"
   ]
  },
  {
   "cell_type": "markdown",
   "metadata": {},
   "source": [
    "\n",
    "# DELETE\n"
   ]
  },
  {
   "cell_type": "code",
   "execution_count": null,
   "metadata": {
    "vscode": {
     "languageId": "sql"
    }
   },
   "outputs": [],
   "source": [
    "%%sql\n",
    "DELETE FROM test \n",
    "WHERE age >= 40;"
   ]
  },
  {
   "cell_type": "markdown",
   "metadata": {},
   "source": [
    "## Create a temp table\n",
    "\n",
    "useful if you can't make a new table due to permissions.\n",
    "\n",
    "```sql\n",
    "CREATE TEMP TABLE temporary AS\n",
    "SELECT name, age\n",
    "    FROM test\n",
    "\n",
    "-- or (less common)    \n",
    "SELECT name, age\n",
    "INTO TEMP TABLE temporary\n",
    "    FROM test\n",
    "\n",
    "-- then to add rows\n",
    "INSERT INTO temporary\n",
    "SELECT name, age\n",
    "FROM test\n",
    "WHERE age BETWEEN 30 AND 40;\n",
    "```\n",
    "\n"
   ]
  },
  {
   "cell_type": "code",
   "execution_count": 8,
   "metadata": {
    "vscode": {
     "languageId": "sql"
    }
   },
   "outputs": [
    {
     "data": {
      "text/html": [
       "<span style=\"None\">Running query in &#x27;sqlite:///:memory:&#x27;</span>"
      ],
      "text/plain": [
       "Running query in 'sqlite:///:memory:'"
      ]
     },
     "metadata": {},
     "output_type": "display_data"
    },
    {
     "data": {
      "text/html": [
       "<table>\n",
       "    <thead>\n",
       "        <tr>\n",
       "        </tr>\n",
       "    </thead>\n",
       "    <tbody>\n",
       "    </tbody>\n",
       "</table>"
      ],
      "text/plain": [
       "++\n",
       "||\n",
       "++\n",
       "++"
      ]
     },
     "execution_count": 8,
     "metadata": {},
     "output_type": "execute_result"
    }
   ],
   "source": [
    "%%sql\n",
    "DROP TABLE IF EXISTS temporary;"
   ]
  },
  {
   "cell_type": "markdown",
   "metadata": {},
   "source": [
    "\n",
    "# Datacamp notes\n",
    "\n",
    "Create bins: use trunc() "
   ]
  },
  {
   "cell_type": "code",
   "execution_count": 9,
   "metadata": {
    "vscode": {
     "languageId": "sql"
    }
   },
   "outputs": [
    {
     "data": {
      "text/html": [
       "<span style=\"None\">Running query in &#x27;sqlite:///:memory:&#x27;</span>"
      ],
      "text/plain": [
       "Running query in 'sqlite:///:memory:'"
      ]
     },
     "metadata": {},
     "output_type": "display_data"
    },
    {
     "name": "stderr",
     "output_type": "stream",
     "text": [
      "RuntimeError: (sqlite3.OperationalError) no such function: trunc\n",
      "[SQL: SELECT trunc('125.5', -2);]\n",
      "(Background on this error at: https://sqlalche.me/e/20/e3q8)\n",
      "If you need help solving this issue, send us a message: https://ploomber.io/community\n"
     ]
    }
   ],
   "source": [
    "%%sql\n",
    "SELECT trunc('125.5', -2);\n",
    "\n",
    "-- Create bins\n",
    "WITH bins AS ( \n",
    "    SELECT generate_series(30, 60, 5) AS lower, \n",
    "        generate_series(35,65,5) AS upper\n",
    "        ),\n",
    "-- Subset data to tag of interest\n",
    "    ebs AS ( \n",
    "        SELECT unanswered_count \n",
    "        FROM stackoverflow \n",
    "        WHERE tag='amazon-ebs' \n",
    "        )\n",
    "-- Count values in each bin\n",
    "SELECT lower, upper, count(unanswered_count)\n",
    "    -- left join keeps all bins\n",
    "    FROM bins\n",
    "        LEFT JOIN ebs\n",
    "            ON unanswered_count >= lower\n",
    "            AND unanswered_count < upper\n",
    "    -- Group by bin bounds to create the groups\n",
    "    GROUP BY lower, upper\n",
    "    ORDER BY lower;\n"
   ]
  },
  {
   "cell_type": "markdown",
   "metadata": {},
   "source": [
    "\n",
    "same can be done if you make 1 time-based series and then join the original table with a date_trunc.\n",
    "```SQL \n",
    "LEFT JOIN sales\n",
    "    ON hours=date_trunc('hour', date)\n",
    "```\n",
    "\n",
    "OR a lower and upper time-series and join `ON date >= lower AND date < upper`\n",
    "\n",
    "# String operations\n"
   ]
  },
  {
   "cell_type": "code",
   "execution_count": 10,
   "metadata": {
    "vscode": {
     "languageId": "sql"
    }
   },
   "outputs": [
    {
     "data": {
      "text/html": [
       "<span style=\"None\">Running query in &#x27;sqlite:///:memory:&#x27;</span>"
      ],
      "text/plain": [
       "Running query in 'sqlite:///:memory:'"
      ]
     },
     "metadata": {},
     "output_type": "display_data"
    },
    {
     "name": "stderr",
     "output_type": "stream",
     "text": [
      "RuntimeError: (sqlite3.OperationalError) no such function: split_part\n",
      "[SQL: SELECT split_part('a,bc,d', ',', 2);]\n",
      "(Background on this error at: https://sqlalche.me/e/20/e3q8)\n",
      "If you need help solving this issue, send us a message: https://ploomber.io/community\n"
     ]
    }
   ],
   "source": [
    "%%sql\n",
    "SELECT split_part('a,bc,d', ',', 2);\n",
    "\n",
    "SELECT substring('abcdef' FROM 2 FOR 3);\n",
    "\n",
    "SELECT 'a' || 2 || 'cc'; -- or concat()"
   ]
  },
  {
   "cell_type": "markdown",
   "metadata": {},
   "source": [
    "\n",
    "/*markdown\n",
    "## Common issue with string categories\n",
    "\n",
    "Inputted as 'Aple', ' apple'...\n",
    "\n",
    "|customer | fav_fruit|\n",
    "|----------|-----------|\n",
    "|349 | aple|\n",
    "|874 | Apple|\n",
    "|703 | apple|\n",
    "\n",
    "...\n",
    "\n",
    "## Strategy: recode > join\n",
    "```SQL\n",
    "-- Step 1\n",
    "CREATE TEMP TABLE recode AS\n",
    "SELECT DISTINCT fav_fruit AS original, -- original, messy values\n",
    "fav_fruit AS standardized -- new standardized values\n",
    "FROM fruit;\n",
    "\n",
    "-- Step 2\n",
    "-- All rows: lower case, remove white space on ends\n",
    "UPDATE recode\n",
    "SET standardized=trim(lower(original));\n",
    "-- Specific rows: correct a misspelling\n",
    "UPDATE recode\n",
    "SET standardized='banana'\n",
    "WHERE standardized LIKE '%nn%';\n",
    "-- All rows: remove any s\n",
    "UPDATE recode\n",
    "SET standardized=rtrim(standardized, 's');\n",
    "\n",
    "-- Step 3\n",
    "SELECT standardized,\n",
    "    count(*)\n",
    "    FROM fruit\n",
    "        LEFT JOIN recode\n",
    "        ON fav_fruit=original\n",
    "    GROUP BY standardized;\n",
    "```\n"
   ]
  },
  {
   "cell_type": "code",
   "execution_count": null,
   "metadata": {
    "vscode": {
     "languageId": "sql"
    }
   },
   "outputs": [],
   "source": [
    "%%sql\n",
    "SELECT date_trunc('month', now());\n",
    "\n",
    "SELECT generate_series('2018-01-01',\n",
    "                        '2018-01-15',\n",
    "                        '2 days'::interval);\n",
    "\n",
    "-- alternative to LIKE\n",
    "SELECT title, description\n",
    "FROM film\n",
    "WHERE to_tsvector(title) @@ to_tsquery('elf');"
   ]
  },
  {
   "cell_type": "markdown",
   "metadata": {},
   "source": [
    "## Correlation matrix\n",
    "\n",
    "Note that the correlations are calculated/inserted by row. \n",
    "```SQL\n",
    "DROP TABLE IF EXISTS correlations;\n",
    "\n",
    "CREATE TEMP TABLE correlations AS\n",
    "SELECT 'profits'::varchar AS measure,\n",
    "       corr(profits, profits) AS profits,\n",
    "       corr(profits, profits_change) AS profits_change,\n",
    "       corr(profits, revenues_change) AS revenues_change\n",
    "  FROM fortune500;\n",
    "\n",
    "INSERT INTO correlations\n",
    "SELECT 'profits_change'::varchar AS measure,\n",
    "       corr(profits_change, profits) AS profits,\n",
    "       corr(profits_change, profits_change) AS profits_change,\n",
    "       corr(profits_change, revenues_change) AS revenues_change\n",
    "  FROM fortune500;\n",
    "\n",
    "INSERT INTO correlations\n",
    "SELECT 'revenues_change'::varchar AS measure,\n",
    "       corr(revenues_change, profits) AS profits,\n",
    "       corr(revenues_change, profits_change) AS profits_change,\n",
    "       corr(revenues_change, revenues_change) AS revenues_change\n",
    "  FROM fortune500;\n",
    "\n",
    "-- Select each column, rounding the correlations\n",
    "SELECT measure, \n",
    "       round(profits::numeric, 2) AS profits,\n",
    "       round(profits_change::numeric, 2) AS profits_change,\n",
    "       round(revenues_change::numeric, 2) AS revenues_change\n",
    "  FROM correlations;\n",
    "  ```\n",
    "\n",
    "|measure\t|profits\t|profits_change\t|revenues_change|\n",
    "|--|--|--|--|\n",
    "|profits|\t1.00\t|0.02\t|0.02|\n",
    "|profits_change\t|0.02\t|1.00\t|-0.09|\n",
    "|revenues_change\t|0.02\t|-0.09\t|1.00|\n"
   ]
  }
 ],
 "metadata": {
  "kernelspec": {
   "display_name": "notebooks",
   "language": "python",
   "name": "python3"
  },
  "language_info": {
   "codemirror_mode": {
    "name": "ipython",
    "version": 3
   },
   "file_extension": ".py",
   "mimetype": "text/x-python",
   "name": "python",
   "nbconvert_exporter": "python",
   "pygments_lexer": "ipython3",
   "version": "3.12.3"
  }
 },
 "nbformat": 4,
 "nbformat_minor": 2
}
