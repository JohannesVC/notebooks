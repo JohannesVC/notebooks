{
 "cells": [
  {
   "attachments": {},
   "cell_type": "markdown",
   "metadata": {},
   "source": [
    "# Getting data"
   ]
  },
  {
   "attachments": {},
   "cell_type": "markdown",
   "metadata": {},
   "source": [
    "## *Processing pipelines* with `stdin` and `stdout`\n",
    "\n",
    "See folder `Jupyter\\stdin and stdout` for the files.\n",
    "\n",
    "Some notes:\n",
    "- this is the simplest way of transforming data: it reads from a file (text, pdf, html), filter it, sort it, whatever, and write it out again without having to store the entire thing in a temporary file or memory. It just reads line by line.\n",
    "  \n",
    "- after copying the two python files in a folder, `cd Jupyter\\stdin and stdout`\n",
    "- `type SomeFile.txt | python egrep.py \"[0-9]\" | python line_count.py`\n",
    "  - this looks at SomeFile and pipes it to egrep.py, which outputs all lines containing numbers, then pipes it to line_count.py\n",
    "-`type the_bible.txt | python most_common_words.py 10`\n",
    "- add `> output.txt` to the end of the command to write the output to a file"
   ]
  },
  {
   "attachments": {},
   "cell_type": "markdown",
   "metadata": {},
   "source": [
    "## Reading and writing txt files"
   ]
  },
  {
   "cell_type": "code",
   "execution_count": 2,
   "metadata": {},
   "outputs": [
    {
     "data": {
      "text/plain": [
       "Counter({'gmail.com': 1, 'm.datasciencester.com': 2})"
      ]
     },
     "execution_count": 2,
     "metadata": {},
     "output_type": "execute_result"
    }
   ],
   "source": [
    "# Just stick some data there\n",
    "with open('email_addresses.txt', 'w') as f:\n",
    "    f.write(\"joelgrus@gmail.com\\n\")\n",
    "    f.write(\"joel@m.datasciencester.com\\n\")\n",
    "    f.write(\"joelgrus@m.datasciencester.com\\n\")\n",
    "\n",
    "def get_domain(email_address: str) -> str:\n",
    "    \"\"\"Split on '@' and return the last piece\"\"\"\n",
    "    return email_address.lower().split(\"@\")[-1]\n",
    "\n",
    "# a couple of tests\n",
    "assert get_domain('joelgrus@gmail.com') == 'gmail.com'\n",
    "assert get_domain('joel@m.datasciencester.com') == 'm.datasciencester.com'\n",
    "\n",
    "# to check how many domains we now have\n",
    "from collections import Counter\n",
    "\n",
    "with open('email_addresses.txt', 'r') as f:\n",
    "    domain_counts = Counter(get_domain(line.strip())\n",
    "                            for line in f\n",
    "                            if \"@\" in line)\n",
    "domain_counts"
   ]
  },
  {
   "attachments": {},
   "cell_type": "markdown",
   "metadata": {},
   "source": [
    "In text files, you can use a for loop `for line in f` to read the file (one line at a time) and look for matches with `re.match()` and `re.search()`.\n",
    "\n",
    "First set up `pattern = re.compile(r\"regex\")` and then use `pattern.match(line)` or `pattern.search(line)` to look for matches.\n",
    "\n",
    "## Metacharacters in regex\n",
    "\n",
    "`regex` uses metacharacters to match patterns:\n",
    "1. Dot `.` matches any character. `.{3}` matches any 3 characters.} \n",
    "\n",
    "1. `^`: The caret symbol indicates that the pattern should match at the beginning of a string (or a line in multiline mode). For example, the regex `^hello` would match any string that starts with \"hello\".\n",
    "   1. It's also worth noting that inside square brackets ([]), the caret symbol has a different meaning. It negates the character set. For example, [^a-z] matches any character that is NOT a lowercase letter.\n",
    "\n",
    "2. `$`: The dollar symbol indicates that the pattern should match at the end of a string (or a line in multiline mode). For example, the regex `world$` would match any string that ends with \"world\".\n",
    "   \n",
    "3. `[]`: Square brackets are used to indicate a set of characters. In a regex pattern, a dash (-) inside a character set specifies a range of characters. For example, the pattern [a-z] matches any single lowercase letter, [a-zA-Z] any letters, and [0-9] matches any single digit. You can also combine ranges and individual characters in a single character set, so [a-z0-9_] matches a single lowercase letter, digit, or underscore. `[a-z]{3}` matches 3 lowercase letters.\n",
    "\n",
    "4. `d`: The d character is a shorthand character class that matches any single digit (equivalent to [0-9]). For example, the pattern \\d\\d:\\d\\d:\\d\\d will match a string of the form \"09:30:00\", but not \"9:30:00\" (missing leading zero). `d{3}` matches 3 digits.\n",
    "   \n",
    "\n",
    "5. `\\b`: The word boundary metacharacter is used to specify that the pattern should match at the beginning or end of a word. A word boundary occurs where a word character (usually an alphanumeric character or an underscore) is adjacent to a non-word character. For example, the regex `\\bword\\b` would match any string containing the word \"word\" surrounded by whitespace, punctuation, or the start/end of the string.\n",
    "\n",
    "6. `?`: The question mark symbol is a quantifier that indicates that the preceding element (character, group, or character class) is optional, meaning it can appear either 0 or 1 times. For example, the regex pattern colou?r will match both \"color\" and \"colour\".\n",
    "\n",
    "7. `*:` The asterisk symbol is also a quantifier, and it means that the preceding element can appear 0 or more times. For example, the regex pattern ab*c will match \"ac\", \"abc\", \"abbc\", \"abbbc\", and so on.\n",
    "\n",
    "8. `\\`: The backslash symbol is an escape character, which means it is used to indicate that the following character should be treated literally, rather than as a special regex symbol. For example, if you want to match a period (.) in a text, you should use the pattern \\. because a plain period has a special meaning in regex (it matches any single character).\n",
    "\n",
    "9. `\\.`: As I mentioned above, this pattern is used to match a literal period (.) in the text. The backslash is used to escape the period, so it doesn't have its special meaning (matching any character). For example, the regex pattern a\\.b will match the string \"a.b\", but not \"acb\" or \"a5b\".\n",
    "\n",
    "10. `\\w+`: stands for \"word character\". It matches any alphanumeric character (letters and digits) and the underscore (_). This is equivalent to the class `[a-zA-Z0-9_]`. The `+` stands for \"one or more\" of the preceding element. It is a type of quantifier, which means it indicates how many instances of the previous character, group, or character class must be present for a match. So, `\\w+` will match one or more word characters. This means it will match words, including those with digits or underscores in them. It's a common pattern used to match entire words in a text (although it does not handle punctuation or spaces within words). For example, in the string \"Hello, World_123!\", `\\w+` would match \"Hello\", \"World_123\".\n",
    "\n",
    "Example:\n",
    "```python\n",
    "   regex = r\"^https?://.*\\.house\\.gov/?$\" # matches http:// or https://, followed by any number of characters, followed by .house.gov or .house.gov/ (the ? makes the s optional)\n",
    "```\n",
    "\n",
    "Example: \n",
    "```python\n",
    "regex = r\"Action\\s*\\d*\\s*:(.*?)\\nAction\\s*\\d*\\s*Input\\s*\\d*\\s*:[\\s]*(.*)\"\n",
    "match = re.search(regex, llm_output)\n",
    "```\n",
    "      \\s* is whitespace, 0 or more\n",
    "\n",
    "      \\d* letters, 0 or more\n",
    "      \n",
    "      () is a group. This allows you to select `match.group(1)`"
   ]
  },
  {
   "cell_type": "code",
   "execution_count": 8,
   "metadata": {},
   "outputs": [],
   "source": [
    "import re\n",
    "\n",
    "re.search('^i', 'it is the music')"
   ]
  },
  {
   "cell_type": "code",
   "execution_count": 120,
   "metadata": {},
   "outputs": [],
   "source": [
    "# Must start with http:// or https://\n",
    "# Must end with .house.gov or .house.gov/\n",
    "regex = r\"^https?://.*\\.house\\.gov/?$\"\n",
    "\n",
    "# Let's write some tests!\n",
    "assert re.match(regex, \"http://joel.house.gov\")\n",
    "assert re.match(regex, \"https://joel.house.gov\")\n",
    "assert re.match(regex, \"http://joel.house.gov/\")\n",
    "assert re.match(regex, \"https://joel.house.gov/\")\n",
    "assert not re.match(regex, \"joel.house.gov\")\n",
    "assert not re.match(regex, \"http://joel.house.com\")\n",
    "assert not re.match(regex, \"https://joel.house.gov/biography\")"
   ]
  },
  {
   "cell_type": "code",
   "execution_count": 7,
   "metadata": {},
   "outputs": [
    {
     "name": "stdout",
     "output_type": "stream",
     "text": [
      "Match found: 123\n"
     ]
    }
   ],
   "source": [
    "import re\n",
    "\n",
    "pattern = r'\\d{3}'  # Matches three digits\n",
    "text = \"There are 123 apples and 456 oranges.\"\n",
    "\n",
    "srch = re.findall(pattern, text)\n",
    "\n",
    "if srch:\n",
    "    print(\"Match found:\", srch)\n",
    "else:\n",
    "    print(\"No match found.\")"
   ]
  },
  {
   "cell_type": "code",
   "execution_count": 8,
   "metadata": {},
   "outputs": [
    {
     "name": "stdout",
     "output_type": "stream",
     "text": [
      "Match found: 123\n"
     ]
    }
   ],
   "source": [
    "import re\n",
    "\n",
    "pattern = r'\\d{3}'  # Matches three digits\n",
    "text = \"There are 123 apples and 456 oranges.\"\n",
    "\n",
    "srch = re.search(pattern, text)\n",
    "\n",
    "if srch:\n",
    "    print(\"Match found:\", match.group())\n",
    "else:\n",
    "    print(\"No match found.\")"
   ]
  },
  {
   "attachments": {},
   "cell_type": "markdown",
   "metadata": {},
   "source": [
    "## CSV"
   ]
  },
  {
   "attachments": {},
   "cell_type": "markdown",
   "metadata": {},
   "source": [
    "note `csv.reader(f)`"
   ]
  },
  {
   "cell_type": "code",
   "execution_count": 13,
   "metadata": {},
   "outputs": [
    {
     "name": "stdout",
     "output_type": "stream",
     "text": [
      "6/20/2014 AAPL 90.91\n",
      "6/20/2014 MSFT 41.68\n",
      "6/20/2014 FB 64.5\n",
      "6/19/2014 AAPL 91.86\n",
      "6/19/2014 MSFT 41.51\n",
      "6/19/2014 FB 64.34\n"
     ]
    }
   ],
   "source": [
    "with open('tab_delimited_stock_prices.txt', 'w') as f:\n",
    "    f.write(\"\"\"6/20/2014\\tAAPL\\t90.91\n",
    "6/20/2014\\tMSFT\\t41.68\n",
    "6/20/2014\\tFB\\t64.5\n",
    "6/19/2014\\tAAPL\\t91.86\n",
    "6/19/2014\\tMSFT\\t41.51\n",
    "6/19/2014\\tFB\\t64.34\n",
    "\"\"\")\n",
    "\n",
    "def process(date: str, symbol: str, closing_price: float) -> None:\n",
    "    # Imaginge that this function actually does something.\n",
    "    assert closing_price > 0.0\n",
    "\n",
    "\n",
    "# this reads and \"interprets\" a file, allowing processing\n",
    "import csv\n",
    "\n",
    "with open('tab_delimited_stock_prices.txt') as f:\n",
    "    tab_reader = csv.reader(f, delimiter='\\t')\n",
    "    for row in tab_reader:\n",
    "        date = row[0]\n",
    "        symbol = row[1]\n",
    "        closing_price = float(row[2])\n",
    "        process(date, symbol, closing_price)\n",
    "        # print(date, symbol,closing_price)\n",
    "\n",
    "# which is good for further processing in the current format"
   ]
  },
  {
   "attachments": {},
   "cell_type": "markdown",
   "metadata": {},
   "source": [
    "note `csv.DictReader()` method"
   ]
  },
  {
   "cell_type": "code",
   "execution_count": 15,
   "metadata": {},
   "outputs": [
    {
     "name": "stdout",
     "output_type": "stream",
     "text": [
      "{'date': '6/20/2014', 'symbol': 'AAPL', 'closing_price': '90.91'}\n",
      "{'date': '6/20/2014', 'symbol': 'MSFT', 'closing_price': '41.68'}\n",
      "{'date': '6/20/2014', 'symbol': 'FB', 'closing_price': '64.5'}\n"
     ]
    }
   ],
   "source": [
    "with open('colon_delimited_stock_prices.txt', 'w') as f:\n",
    "    f.write(\"\"\"date:symbol:closing_price\n",
    "6/20/2014:AAPL:90.91\n",
    "6/20/2014:MSFT:41.68\n",
    "6/20/2014:FB:64.5\n",
    "\"\"\")\n",
    "\n",
    "# this organises it in a dict\n",
    "with open('colon_delimited_stock_prices.txt') as f:\n",
    "    colon_reader = csv.DictReader(f, delimiter=':')\n",
    "    for dict_row in colon_reader:\n",
    "        date = dict_row[\"date\"]\n",
    "        symbol = dict_row[\"symbol\"]\n",
    "        closing_price = float(dict_row[\"closing_price\"])\n",
    "        process(date, symbol, closing_price)\n",
    "        print(dict_row)"
   ]
  },
  {
   "attachments": {},
   "cell_type": "markdown",
   "metadata": {},
   "source": [
    "note `.writerow()` method"
   ]
  },
  {
   "cell_type": "code",
   "execution_count": 16,
   "metadata": {},
   "outputs": [],
   "source": [
    "todays_prices = {'AAPL': 90.91, 'MSFT': 41.68, 'FB': 64.5 }\n",
    "\n",
    "# this takes the dict and writes it to a new csv file\n",
    "with open('comma_delimited_stock_prices.txt', 'w') as f:\n",
    "    csv_writer = csv.writer(f, delimiter=',')\n",
    "    for stock, price in todays_prices.items():\n",
    "        csv_writer.writerow([stock, price])"
   ]
  },
  {
   "cell_type": "code",
   "execution_count": null,
   "metadata": {},
   "outputs": [],
   "source": [
    "import string, random\n",
    "\n",
    "length = 5\n",
    "\n",
    "characters = string.ascii_letters + string.digits + string.punctuation\n",
    "\n",
    "''.join(random.choice(characters) for _ in range(length))"
   ]
  }
 ],
 "metadata": {
  "kernelspec": {
   "display_name": "joh_env",
   "language": "python",
   "name": "python3"
  },
  "language_info": {
   "codemirror_mode": {
    "name": "ipython",
    "version": 3
   },
   "file_extension": ".py",
   "mimetype": "text/x-python",
   "name": "python",
   "nbconvert_exporter": "python",
   "pygments_lexer": "ipython3",
   "version": "3.10.9"
  },
  "orig_nbformat": 4
 },
 "nbformat": 4,
 "nbformat_minor": 2
}
