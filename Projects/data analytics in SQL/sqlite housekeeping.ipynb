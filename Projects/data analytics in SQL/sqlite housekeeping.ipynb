{
 "cells": [
  {
   "cell_type": "code",
   "execution_count": 1,
   "metadata": {},
   "outputs": [],
   "source": [
    "import sqlite3\n",
    "import json\n",
    "from typing import Literal, Generator, List, Optional\n",
    "from sqlite3 import Error, PrepareProtocol, register_adapter"
   ]
  },
  {
   "cell_type": "code",
   "execution_count": null,
   "metadata": {},
   "outputs": [],
   "source": [
    "from pydantic import BaseModel\n",
    "\n",
    "class Message(BaseModel):\n",
    "    id: int = 0\n",
    "    role: Literal[\"system\", \"user\", \"assistant\"]\n",
    "    content: str\n",
    "    summary_id: int = 0\n",
    "\n",
    "class Summary(BaseModel):\n",
    "    id: int\n",
    "    title: str\n",
    "    summary: str\n",
    "    entities: List[str]\n",
    "    \n",
    "class SummaryAndMessages(BaseModel):\n",
    "    summary: Summary\n",
    "    messages: List[Message]\n"
   ]
  },
  {
   "cell_type": "code",
   "execution_count": null,
   "metadata": {},
   "outputs": [],
   "source": [
    "conn = sqlite3.connect(r'Z:\\electron_groq\\database.db')\n",
    "# conn.row_factory = sqlite3.Row\n",
    "cursor = conn.cursor()"
   ]
  },
  {
   "cell_type": "code",
   "execution_count": null,
   "metadata": {},
   "outputs": [],
   "source": [
    "conn.close()"
   ]
  },
  {
   "cell_type": "code",
   "execution_count": 1,
   "metadata": {},
   "outputs": [
    {
     "data": {
      "text/html": [
       "<span style=\"None\">Connecting to &#x27;sqlite:///Z:/electron_groq/database.db&#x27;</span>"
      ],
      "text/plain": [
       "Connecting to 'sqlite:///Z:/electron_groq/database.db'"
      ]
     },
     "metadata": {},
     "output_type": "display_data"
    }
   ],
   "source": [
    "%load_ext sql\n",
    "%sql sqlite:///Z:/electron_groq/database.db"
   ]
  },
  {
   "cell_type": "code",
   "execution_count": 3,
   "metadata": {
    "vscode": {
     "languageId": "sql"
    }
   },
   "outputs": [
    {
     "data": {
      "text/html": [
       "<span style=\"None\">Running query in &#x27;sqlite:///Z:/electron_groq/database.db&#x27;</span>"
      ],
      "text/plain": [
       "Running query in 'sqlite:///Z:/electron_groq/database.db'"
      ]
     },
     "metadata": {},
     "output_type": "display_data"
    },
    {
     "data": {
      "text/html": [
       "<table>\n",
       "    <thead>\n",
       "        <tr>\n",
       "            <th>type</th>\n",
       "            <th>name</th>\n",
       "            <th>tbl_name</th>\n",
       "            <th>rootpage</th>\n",
       "            <th>sql</th>\n",
       "        </tr>\n",
       "    </thead>\n",
       "    <tbody>\n",
       "        <tr>\n",
       "            <td>table</td>\n",
       "            <td>summary</td>\n",
       "            <td>summary</td>\n",
       "            <td>3</td>\n",
       "            <td>CREATE TABLE summary (<br>                                id integer PRIMARY KEY,<br>                                title text NOT NULL,<br>                                summary text NOT NULL, <br>                                entities text NOT NULL<br>                                )</td>\n",
       "        </tr>\n",
       "        <tr>\n",
       "            <td>table</td>\n",
       "            <td>master</td>\n",
       "            <td>master</td>\n",
       "            <td>4</td>\n",
       "            <td>CREATE TABLE master (id, role, content, summary_id)</td>\n",
       "        </tr>\n",
       "        <tr>\n",
       "            <td>table</td>\n",
       "            <td>temp_chat</td>\n",
       "            <td>temp_chat</td>\n",
       "            <td>2</td>\n",
       "            <td>CREATE TABLE temp_chat (<br>                                id integer PRIMARY KEY,<br>                                role text NOT NULL,<br>                                content text NOT NULL                                <br>                            )</td>\n",
       "        </tr>\n",
       "    </tbody>\n",
       "</table>"
      ],
      "text/plain": [
       "+-------+-----------+-----------+----------+---------------------------------------------------------------------------------------+\n",
       "|  type |    name   |  tbl_name | rootpage |                                          sql                                          |\n",
       "+-------+-----------+-----------+----------+---------------------------------------------------------------------------------------+\n",
       "| table |  summary  |  summary  |    3     |                                 CREATE TABLE summary (                                |\n",
       "|       |           |           |          |                                                id integer PRIMARY KEY,                |\n",
       "|       |           |           |          |                                                  title text NOT NULL,                 |\n",
       "|       |           |           |          |                                                summary text NOT NULL,                 |\n",
       "|       |           |           |          |                                                 entities text NOT NULL                |\n",
       "|       |           |           |          |                                                           )                           |\n",
       "| table |   master  |   master  |    4     |                  CREATE TABLE master (id, role, content, summary_id)                  |\n",
       "| table | temp_chat | temp_chat |    2     |                                CREATE TABLE temp_chat (                               |\n",
       "|       |           |           |          |                                                id integer PRIMARY KEY,                |\n",
       "|       |           |           |          |                                                  role text NOT NULL,                  |\n",
       "|       |           |           |          |                                 content text NOT NULL                                 |\n",
       "|       |           |           |          |                                                         )                             |\n",
       "+-------+-----------+-----------+----------+---------------------------------------------------------------------------------------+"
      ]
     },
     "execution_count": 3,
     "metadata": {},
     "output_type": "execute_result"
    }
   ],
   "source": [
    "%%sql\n",
    "SELECT * FROM sqlite_master;"
   ]
  },
  {
   "cell_type": "code",
   "execution_count": 5,
   "metadata": {
    "vscode": {
     "languageId": "sql"
    }
   },
   "outputs": [
    {
     "data": {
      "text/html": [
       "<span style=\"None\">Running query in &#x27;sqlite:///Z:/electron_groq/database.db&#x27;</span>"
      ],
      "text/plain": [
       "Running query in 'sqlite:///Z:/electron_groq/database.db'"
      ]
     },
     "metadata": {},
     "output_type": "display_data"
    },
    {
     "data": {
      "text/html": [
       "<table>\n",
       "    <thead>\n",
       "        <tr>\n",
       "            <th>id</th>\n",
       "            <th>role</th>\n",
       "            <th>content</th>\n",
       "        </tr>\n",
       "    </thead>\n",
       "    <tbody>\n",
       "        <tr>\n",
       "            <td>1</td>\n",
       "            <td>system</td>\n",
       "            <td><br>        You are **SuperModels**, an ingenious human-computer interface that combines all the best AI models out there. You are fast, eloquent, and succinct. And you incorporate various research and analysis tools in your workflow. Furthermore, you have agency.<br>        </td>\n",
       "        </tr>\n",
       "        <tr>\n",
       "            <td>2</td>\n",
       "            <td>user</td>\n",
       "            <td>what can you ddo?</td>\n",
       "        </tr>\n",
       "    </tbody>\n",
       "</table>"
      ],
      "text/plain": [
       "+----+--------+----------------------------------------------------------------------------------------------------------------------------------------------------------------------------------------------------------------------------------------------------------------------+\n",
       "| id |  role  |                                                                                                                               content                                                                                                                                |\n",
       "+----+--------+----------------------------------------------------------------------------------------------------------------------------------------------------------------------------------------------------------------------------------------------------------------------+\n",
       "| 1  | system |                                                                                                                                                                                                                                                                      |\n",
       "|    |        |         You are **SuperModels**, an ingenious human-computer interface that combines all the best AI models out there. You are fast, eloquent, and succinct. And you incorporate various research and analysis tools in your workflow. Furthermore, you have agency. |\n",
       "|    |        |                                                                                                                                                                                                                                                                      |\n",
       "| 2  |  user  |                                                                                                                          what can you ddo?                                                                                                                           |\n",
       "+----+--------+----------------------------------------------------------------------------------------------------------------------------------------------------------------------------------------------------------------------------------------------------------------------+"
      ]
     },
     "execution_count": 5,
     "metadata": {},
     "output_type": "execute_result"
    }
   ],
   "source": [
    "%%sql \n",
    "SELECT * FROM temp_chat LIMIT 2;"
   ]
  },
  {
   "cell_type": "code",
   "execution_count": null,
   "metadata": {},
   "outputs": [],
   "source": [
    "cursor.execute(\"\"\"CREATE TABLE IF NOT EXISTS master_s (id, role, content);\"\"\")\n",
    "\n",
    "cursor.execute(\"\"\"\n",
    "    INSERT INTO master_s (id, role, content)\n",
    "    SELECT id, role, content FROM master\n",
    "    UNION ALL\n",
    "    SELECT id, role, content FROM temp_chat;\n",
    "\"\"\")\n",
    "\n",
    "cursor.execute(\"DROP TABLE master\")\n",
    "\n",
    "cursor.execute(\"CREATE TABLE IF NOT EXISTS master (id, role, content);\")\n",
    "\n",
    "cursor.execute(\"\"\"\n",
    "    INSERT INTO master (id, role, content)\n",
    "    SELECT id, role, content FROM master_s\n",
    "\"\"\")\n",
    "\n",
    "cursor.execute(\"DROP TABLE master_s\")\n",
    "\n",
    "conn.commit()"
   ]
  },
  {
   "cell_type": "code",
   "execution_count": null,
   "metadata": {},
   "outputs": [],
   "source": [
    "cursor.execute(\"SELECT * FROM temp_chat\")\n",
    "rows = cursor.fetchall()\n",
    "messages = [{\"role\": row[1], \"content\": row[2]} for row in rows]  # use pydantic's [message.to_dict() for row in rows]\n",
    "messages"
   ]
  },
  {
   "cell_type": "code",
   "execution_count": null,
   "metadata": {},
   "outputs": [],
   "source": [
    "row = {\"role\": rows[0][1], \"content\": rows[0][2]}\n",
    "Message(**row)"
   ]
  },
  {
   "cell_type": "code",
   "execution_count": null,
   "metadata": {},
   "outputs": [],
   "source": [
    "from groq import Groq\n",
    "import os, json\n",
    "\n",
    "conn.row_factory = sqlite3.Row\n",
    "cursor = conn.cursor()\n",
    "\n",
    "client = Groq(api_key=os.getenv('GROQ_API_KEY')) \n",
    "\n",
    "cursor.execute(\"SELECT * FROM temp_chat\")\n",
    "rows = cursor.fetchall()\n",
    "messages = [Message(role=row['role'], content=row['content']) for row in rows] \n",
    "\n",
    "messages.append(Message(role=\"system\", content=f\"You are a summary database that outputs summaries in JSON.\\n\\\n",
    "    The JSON object must use the schema: {json.dumps(Summary.model_json_schema(), indent=2)}\"))\n",
    "    \n",
    "messages.append(Message(role=\"user\", content=\"Summarise the above conversation and list up all named entities.\"))\n",
    "\n",
    "main_request = client.chat.completions.create(model=\"mixtral-8x7b-32768\",\n",
    "                                              messages=messages,\n",
    "                                              response_format={\"type\": \"json_object\"})\n",
    "         \n",
    "res = main_request.choices[0].message.content\n",
    "\n",
    "summary_dict = Summary.model_validate_json(res).model_dump()"
   ]
  },
  {
   "cell_type": "code",
   "execution_count": null,
   "metadata": {},
   "outputs": [],
   "source": [
    "summary_dict['summary']"
   ]
  },
  {
   "cell_type": "code",
   "execution_count": null,
   "metadata": {},
   "outputs": [],
   "source": [
    "cursor.execute(\"\"\"SELECT * FROM summary;\"\"\")\n",
    "res = cursor.fetchall()\n",
    "res"
   ]
  },
  {
   "cell_type": "code",
   "execution_count": null,
   "metadata": {},
   "outputs": [],
   "source": [
    "cursor.execute(\"\"\"SELECT MAX(id) FROM summary;\"\"\")\n",
    "res = cursor.fetchone()\n",
    "res[0]"
   ]
  },
  {
   "cell_type": "code",
   "execution_count": null,
   "metadata": {},
   "outputs": [],
   "source": [
    "cursor.execute(\"DROP TABLE temp_chat\")\n",
    "cursor.execute(\"DROP TABLE master\")\n",
    "# cursor.execute(\"DROP TABLE master_s\")\n",
    "cursor.execute(\"\"\"CREATE TABLE IF NOT EXISTS master (\n",
    "    id integer, role text, content text, summary_id integer);\"\"\")\n",
    "\n",
    "cursor.execute(\"DROP TABLE summary\")\n",
    "cursor.execute(\"\"\"CREATE TABLE IF NOT EXISTS summary (\n",
    "                            id integer PRIMARY KEY,\n",
    "                            title text NOT NULL,\n",
    "                            summary text NOT NULL, \n",
    "                            entities text NOT NULL\n",
    "                            );\"\"\")\n",
    "conn.commit()"
   ]
  },
  {
   "cell_type": "code",
   "execution_count": null,
   "metadata": {},
   "outputs": [],
   "source": [
    "conn.close()"
   ]
  },
  {
   "cell_type": "markdown",
   "metadata": {},
   "source": [
    "### using [adaptors](https://docs.python.org/3/library/sqlite3.html#how-to-adapt-custom-python-types-to-sqlite-values) to conform objects."
   ]
  },
  {
   "cell_type": "code",
   "execution_count": null,
   "metadata": {},
   "outputs": [],
   "source": [
    "class Point:\n",
    "    def __init__(self, x, y):\n",
    "        self.x, self.y = x, y\n",
    "\n",
    "    def __conform__(self, protocol):\n",
    "        if protocol is sqlite3.PrepareProtocol:\n",
    "            return f\"{self.x};{self.y}\"\n",
    "\n",
    "con = sqlite3.connect(\":memory:\")\n",
    "cur = con.cursor()\n",
    "\n",
    "cur.execute(\"SELECT ?\", (Point(4.0, -3.2),))\n",
    "print(cur.fetchone()[0])"
   ]
  },
  {
   "cell_type": "code",
   "execution_count": null,
   "metadata": {},
   "outputs": [],
   "source": [
    "def adapt(summary):\n",
    "    return ' '.join(summary.entities)\n",
    "    \n",
    "register_adapter(Summary, adapt)"
   ]
  },
  {
   "cell_type": "code",
   "execution_count": null,
   "metadata": {},
   "outputs": [],
   "source": [
    "def adapt_list_to_json(lst):\n",
    "    return json.dumps(lst).encode('utf-8')\n",
    "\n",
    "def convert_json_to_list(text):\n",
    "    return json.loads(text.decode('utf-8'))\n",
    "\n",
    "sqlite3.register_adapter(list, adapt_list_to_json)\n",
    "sqlite3.register_converter(\"JSON\", convert_json_to_list)\n",
    "\n",
    "# Connect to your SQLite database, enabling the converter\n",
    "conn = sqlite3.connect('database.db', detect_types=sqlite3.PARSE_DECLTYPES)\n",
    "cursor = conn.cursor()\n",
    "\n",
    "cursor.execute(\"\"\"\n",
    "            INSERT INTO summary (summary, entities) \n",
    "            VALUES (?, ?);\"\"\", (summary.summary, summary.entities))\n",
    "\n",
    "# Don't forget to commit and close\n",
    "conn.commit()\n",
    "conn.close()"
   ]
  },
  {
   "cell_type": "code",
   "execution_count": null,
   "metadata": {},
   "outputs": [],
   "source": [
    "summary.entities"
   ]
  },
  {
   "cell_type": "code",
   "execution_count": null,
   "metadata": {},
   "outputs": [],
   "source": [
    "cursor.execute(\"DROP TABLE temp_chat\")\n",
    "\n",
    "cursor.execute(\"\"\"CREATE TABLE IF NOT EXISTS temp_chat (\n",
    "                                id integer PRIMARY KEY,\n",
    "                                role text NOT NULL,\n",
    "                                content text NOT NULL                                \n",
    "                            );\"\"\")\n",
    "conn.commit()"
   ]
  },
  {
   "cell_type": "code",
   "execution_count": null,
   "metadata": {},
   "outputs": [],
   "source": [
    "# add a column\n",
    "summary_id = 1\n",
    "cursor.execute(f\"\"\"\n",
    "               ALTER TABLE temp_chat\n",
    "               ADD COLUMN summary_id integer DEFAULT {summary_id};\"\"\")\n",
    "conn.commit()\n",
    "# cursor.fetchall()"
   ]
  },
  {
   "cell_type": "code",
   "execution_count": null,
   "metadata": {},
   "outputs": [],
   "source": [
    "# set a value\n",
    "summary_id = 1 \n",
    "cursor.execute(\"\"\"\n",
    "UPDATE temp_chat\n",
    "SET summary_id = ?;\n",
    "\"\"\", (summary_id,))"
   ]
  },
  {
   "cell_type": "code",
   "execution_count": null,
   "metadata": {},
   "outputs": [],
   "source": [
    "cursor.execute(\"DROP TABLE master\")\n",
    "cursor.execute(\"\"\"CREATE TABLE IF NOT EXISTS master (\n",
    "    id integer PRIMARY KEY, \n",
    "    role text, \n",
    "    content text, \n",
    "    summary_id integer);\"\"\")\n",
    "\n",
    "cursor.execute(\"DROP TABLE summary\")\n",
    "cursor.execute(\"\"\"CREATE TABLE IF NOT EXISTS summary (\n",
    "                            id integer PRIMARY KEY,\n",
    "                            summary text NOT NULL, \n",
    "                            entities text NOT NULL\n",
    "                            );\"\"\")\n",
    "conn.commit()"
   ]
  },
  {
   "cell_type": "code",
   "execution_count": null,
   "metadata": {},
   "outputs": [],
   "source": [
    "cursor.execute(\"\"\"CREATE TABLE IF NOT EXISTS temp_chat (\n",
    "                                id integer PRIMARY KEY,\n",
    "                                role text NOT NULL,\n",
    "                                content text NOT NULL                                \n",
    "                            );\"\"\")\n",
    "conn.commit()"
   ]
  },
  {
   "cell_type": "code",
   "execution_count": null,
   "metadata": {
    "vscode": {
     "languageId": "sql"
    }
   },
   "outputs": [],
   "source": [
    "%%sql\n",
    "SELECT COUNT(*) FROM temp_chat;"
   ]
  },
  {
   "cell_type": "code",
   "execution_count": null,
   "metadata": {
    "vscode": {
     "languageId": "sql"
    }
   },
   "outputs": [],
   "source": [
    "%%sql\n",
    "SELECT * FROM summary;\n",
    "-- WHERE id == 1;"
   ]
  },
  {
   "cell_type": "code",
   "execution_count": null,
   "metadata": {},
   "outputs": [],
   "source": [
    "cursor.execute(\"\"\"SELECT * FROM summary \n",
    "               WHERE id == ?;\"\"\", (1,))\n",
    "conn.commit()"
   ]
  },
  {
   "cell_type": "code",
   "execution_count": null,
   "metadata": {},
   "outputs": [],
   "source": [
    "class YesOrNo(BaseModel):\n",
    "    answer: bool\n",
    "    reason: str\n",
    "    userInputRequired: Optional[bool]"
   ]
  },
  {
   "cell_type": "code",
   "execution_count": null,
   "metadata": {},
   "outputs": [],
   "source": [
    "YesOrNo.model_json_schema()"
   ]
  }
 ],
 "metadata": {
  "kernelspec": {
   "display_name": "env",
   "language": "python",
   "name": "python3"
  },
  "language_info": {
   "codemirror_mode": {
    "name": "ipython",
    "version": 3
   },
   "file_extension": ".py",
   "mimetype": "text/x-python",
   "name": "python",
   "nbconvert_exporter": "python",
   "pygments_lexer": "ipython3",
   "version": "3.12.3"
  }
 },
 "nbformat": 4,
 "nbformat_minor": 2
}
