{
 "cells": [
  {
   "cell_type": "markdown",
   "metadata": {},
   "source": [
    "## Scraping\n"
   ]
  },
  {
   "cell_type": "markdown",
   "metadata": {},
   "source": [
    "Note the many ways to refer to an element in a webpage:\n",
    "- `soup.find_all(\"a\")` finds all `<a>` tags\n",
    "- any tag can be found by its `id` or `class` attributes\n",
    "- a loop to get all the links in a page:\n",
    "```python\n",
    "for link in soup.find_all(\"a\"):\n",
    "    print(link.get(\"href\"))\n",
    "```\n",
    "or \n",
    "```py\n",
    "[a['href'] for a in soup.find_all('a')]\n",
    "```"
   ]
  },
  {
   "cell_type": "code",
   "execution_count": null,
   "metadata": {},
   "outputs": [],
   "source": [
    "from bs4 import BeautifulSoup\n",
    "import requests\n",
    "\n",
    "url = (\"https://raw.githubusercontent.com/joelgrus/data/master/getting-data.html\")\n",
    "html = requests.get(url).text\n",
    "soup = BeautifulSoup(html, 'html5lib')\n",
    "\n",
    "first_paragraph = soup.find('p')        # or just soup.p\n",
    "\n",
    "\n",
    "assert str(soup.find('p')) == '<p id=\"p1\">This is the first paragraph.</p>'\n",
    "\n",
    "first_paragraph_text = soup.p.text\n",
    "first_paragraph_words = soup.p.text.split()\n",
    "\n",
    "\n",
    "assert first_paragraph_words == ['This', 'is', 'the', 'first', 'paragraph.']\n",
    "\n",
    "first_paragraph_id = soup.p['id']       # raises KeyError if no 'id'\n",
    "first_paragraph_id2 = soup.p.get('id')  # returns None if no 'id'\n",
    "\n",
    "\n",
    "assert first_paragraph_id == first_paragraph_id2 == 'p1'\n",
    "\n",
    "all_paragraphs = soup.find_all('p')  # or just soup('p')\n",
    "paragraphs_with_ids = [p for p in soup('p') if p.get('id')]\n",
    "\n",
    "\n",
    "assert len(all_paragraphs) == 2\n",
    "assert len(paragraphs_with_ids) == 1\n",
    "\n",
    "important_paragraphs = soup('p', {'class' : 'important'})\n",
    "important_paragraphs2 = soup('p', 'important')\n",
    "important_paragraphs3 = [p for p in soup('p')\n",
    "                         if 'important' in p.get('class', [])]\n",
    "\n",
    "\n",
    "assert important_paragraphs == important_paragraphs2 == important_paragraphs3\n",
    "assert len(important_paragraphs) == 1"
   ]
  },
  {
   "cell_type": "code",
   "execution_count": null,
   "metadata": {},
   "outputs": [
    {
     "data": {
      "text/plain": [
       "'This is the first paragraph.'"
      ]
     },
     "metadata": {},
     "output_type": "display_data"
    }
   ],
   "source": [
    "first_paragraph_text"
   ]
  },
  {
   "cell_type": "code",
   "execution_count": null,
   "metadata": {},
   "outputs": [
    {
     "data": {
      "text/plain": [
       "[<h1>Getting Data</h1>]"
      ]
     },
     "metadata": {},
     "output_type": "display_data"
    }
   ],
   "source": [
    "soup('h1')"
   ]
  },
  {
   "cell_type": "code",
   "execution_count": null,
   "metadata": {},
   "outputs": [
    {
     "data": {
      "text/plain": [
       "'Getting Data'"
      ]
     },
     "metadata": {},
     "output_type": "display_data"
    }
   ],
   "source": [
    "soup.h1.text"
   ]
  },
  {
   "cell_type": "code",
   "execution_count": null,
   "metadata": {},
   "outputs": [
    {
     "data": {
      "text/plain": [
       "[<p class=\"important\">This is the second paragraph.</p>]"
      ]
     },
     "metadata": {},
     "output_type": "display_data"
    }
   ],
   "source": [
    "[p for p in soup('p') if p.get('class', [])]"
   ]
  },
  {
   "cell_type": "markdown",
   "metadata": {},
   "source": [
    "Other useful tricks with beautiful soup: "
   ]
  },
  {
   "cell_type": "code",
   "execution_count": null,
   "metadata": {},
   "outputs": [
    {
     "data": {
      "text/plain": [
       "2"
      ]
     },
     "metadata": {},
     "output_type": "display_data"
    }
   ],
   "source": [
    "len(list(soup.children))"
   ]
  },
  {
   "cell_type": "code",
   "execution_count": null,
   "metadata": {},
   "outputs": [
    {
     "data": {
      "text/plain": [
       "42"
      ]
     },
     "metadata": {},
     "output_type": "display_data"
    }
   ],
   "source": [
    "len(list(soup.descendants))"
   ]
  },
  {
   "cell_type": "code",
   "execution_count": null,
   "metadata": {},
   "outputs": [
    {
     "data": {
      "text/plain": [
       "1"
      ]
     },
     "metadata": {},
     "output_type": "display_data"
    }
   ],
   "source": [
    "len(list(soup.h1.descendants)) # which can be soup.h1.descendants"
   ]
  },
  {
   "cell_type": "code",
   "execution_count": null,
   "metadata": {},
   "outputs": [
    {
     "data": {
      "text/plain": [
       "2"
      ]
     },
     "metadata": {},
     "output_type": "display_data"
    }
   ],
   "source": [
    "len(soup.contents)"
   ]
  },
  {
   "cell_type": "code",
   "execution_count": null,
   "metadata": {},
   "outputs": [
    {
     "data": {
      "text/plain": [
       "'html'"
      ]
     },
     "metadata": {},
     "output_type": "display_data"
    }
   ],
   "source": [
    "soup.contents[0]"
   ]
  },
  {
   "cell_type": "code",
   "execution_count": null,
   "metadata": {},
   "outputs": [],
   "source": [
    "for string in soup.stripped_strings:\n",
    "    print(repr(string))"
   ]
  },
  {
   "cell_type": "markdown",
   "metadata": {},
   "source": [
    "## Applied on abscis"
   ]
  },
  {
   "cell_type": "code",
   "execution_count": null,
   "metadata": {},
   "outputs": [],
   "source": [
    "url = (\"https://www.abscis-architecten.be/nl/publicaties\")\n",
    "html = requests.get(url).text\n",
    "soup = BeautifulSoup(html, 'html5lib')\n",
    "\n",
    "# soup.find('p')                   # finds first paragraph, or soup.p\n",
    "first_header = soup.h2             # finds first h2 header\n"
   ]
  },
  {
   "cell_type": "code",
   "execution_count": null,
   "metadata": {},
   "outputs": [
    {
     "data": {
      "text/plain": [
       "['#',\n",
       " 'https://www.abscis-architecten.be/nl/architectenbureau',\n",
       " 'https://www.abscis-architecten.be/nl/projecten',\n",
       " 'https://www.abscis-architecten.be/nl/nieuws',\n",
       " 'https://www.abscis-architecten.be/nl/publicaties',\n",
       " 'https://www.abscis-architecten.be/nl/vacatures',\n",
       " 'https://www.abscis-architecten.be/nl/contact',\n",
       " 'https://www.abscis-architecten.be/nl',\n",
       " 'https://www.abscis-architecten.be/nl',\n",
       " 'https://www.abscis-architecten.be/en',\n",
       " 'https://www.abscis-architecten.be/nl/publicaties/houtbouw-voor-gestapelde-woningbouw/14-03-2023/794',\n",
       " 'https://www.abscis-architecten.be/nl/publicaties/houtbouw-voor-gestapelde-woningbouw/14-03-2023/794',\n",
       " 'https://www.abscis-architecten.be/nl/publicaties/houtbouw-voor-gestapelde-woningbouw/14-03-2023/794',\n",
       " 'https://www.abscis-architecten.be/nl/publicaties/comfort-in-scholenbouw-hoe-ontwerp-je-een-gezonde-en-veilige-school/07-11-2022/790',\n",
       " 'https://www.abscis-architecten.be/nl/publicaties/comfort-in-scholenbouw-hoe-ontwerp-je-een-gezonde-en-veilige-school/07-11-2022/790',\n",
       " 'https://www.abscis-architecten.be/nl/publicaties/comfort-in-scholenbouw-hoe-ontwerp-je-een-gezonde-en-veilige-school/07-11-2022/790',\n",
       " 'https://www.abscis-architecten.be/nl/publicaties/sociaal-wooncomplex-tilt-circulaire-houtskeletbouw-naar-hoger-niveau/27-09-2022/787',\n",
       " 'https://www.abscis-architecten.be/nl/publicaties/sociaal-wooncomplex-tilt-circulaire-houtskeletbouw-naar-hoger-niveau/27-09-2022/787',\n",
       " 'https://www.abscis-architecten.be/nl/publicaties/sociaal-wooncomplex-tilt-circulaire-houtskeletbouw-naar-hoger-niveau/27-09-2022/787',\n",
       " 'https://www.abscis-architecten.be/nl/publicaties/blending-old-and-new-7-delicate-alterations-to-brick-faades/08-08-2022/783',\n",
       " 'https://www.abscis-architecten.be/nl/publicaties/blending-old-and-new-7-delicate-alterations-to-brick-faades/08-08-2022/783',\n",
       " 'https://www.abscis-architecten.be/nl/publicaties/blending-old-and-new-7-delicate-alterations-to-brick-faades/08-08-2022/783',\n",
       " 'https://www.abscis-architecten.be/nl/publicaties/karakteristieke-kloostergevel-herbergt-sociaal-woonproject/05-08-2022/782',\n",
       " 'https://www.abscis-architecten.be/nl/publicaties/karakteristieke-kloostergevel-herbergt-sociaal-woonproject/05-08-2022/782',\n",
       " 'https://www.abscis-architecten.be/nl/publicaties/karakteristieke-kloostergevel-herbergt-sociaal-woonproject/05-08-2022/782',\n",
       " 'https://www.facebook.com/pages/ABSCIS-ARCHITECTEN-BVBA/211789498891411',\n",
       " 'https://www.abscis-architecten.be/nl/publicaties/voetgangersveer-appels/10-05-2022/774',\n",
       " 'https://www.abscis-architecten.be/nl/publicaties/voetgangersveer-appels/10-05-2022/774',\n",
       " 'https://www.abscis-architecten.be/nl/publicaties/voetgangersveer-appels/10-05-2022/774',\n",
       " 'https://www.abscis-architecten.be/nl/publicaties/a295-reimagining-the-office/21-04-2022/773',\n",
       " 'https://www.abscis-architecten.be/nl/publicaties/a295-reimagining-the-office/21-04-2022/773',\n",
       " 'https://www.abscis-architecten.be/nl/publicaties/a295-reimagining-the-office/21-04-2022/773',\n",
       " 'https://www.abscis-architecten.be/nl/publicaties/circulair-bouwproject-in-centrum-gent/15-03-2022/772',\n",
       " 'https://www.abscis-architecten.be/nl/publicaties/circulair-bouwproject-in-centrum-gent/15-03-2022/772',\n",
       " 'https://www.abscis-architecten.be/nl/publicaties/circulair-bouwproject-in-centrum-gent/15-03-2022/772',\n",
       " 'https://www.abscis-architecten.be/nl/publicaties/het-menslievendheidproject-middelhoog-houtskeletgebouw-in-brussel-gebouwd-volgens-strengste-brandveiligheidsnormen/11-02-2022/771',\n",
       " 'https://www.abscis-architecten.be/nl/publicaties/het-menslievendheidproject-middelhoog-houtskeletgebouw-in-brussel-gebouwd-volgens-strengste-brandveiligheidsnormen/11-02-2022/771',\n",
       " 'https://www.abscis-architecten.be/nl/publicaties/het-menslievendheidproject-middelhoog-houtskeletgebouw-in-brussel-gebouwd-volgens-strengste-brandveiligheidsnormen/11-02-2022/771',\n",
       " 'https://www.abscis-architecten.be/nl/publicaties/1',\n",
       " 'https://www.abscis-architecten.be/nl/publicaties/2',\n",
       " 'https://www.abscis-architecten.be/nl/publicaties/3',\n",
       " 'https://www.abscis-architecten.be/nl/publicaties/4',\n",
       " 'https://www.abscis-architecten.be/nl/publicaties/5',\n",
       " 'https://www.abscis-architecten.be/nl/publicaties/6',\n",
       " 'https://www.abscis-architecten.be/nl/architectenbureau',\n",
       " 'https://www.google.be/maps/dir//Jean-Baptiste+de+Ghellincklaan+2,+9051+Gent/@51.0344709,3.6898564,13z/data=!4m13!1m4!3m3!1s0x47c37236f54202b5:0x57a9676e53fda48!2sJean-Baptiste+de+Ghellincklaan+2,+9051+Gent!3b1!4m7!1m0!1m5!1m1!1s0x47c37236f54202b5:0x57a9676e53fda48!2m2!1d3.677588!2d51.0198783',\n",
       " 'mailto:info@abscis.be?subject=[CONTACT] via www.abscis-architecten.be',\n",
       " 'https://www.facebook.com/pages/ABSCIS-ARCHITECTEN-BVBA/211789498891411',\n",
       " 'https://www.instagram.com/abscisarchitecten',\n",
       " 'https://twitter.com/abscis',\n",
       " 'https://www.linkedin.com/company/abscis-architecten-bvba',\n",
       " 'https://www.abscis-architecten.be/nl/privacy-disclaimer',\n",
       " '#header']"
      ]
     },
     "metadata": {},
     "output_type": "display_data"
    }
   ],
   "source": [
    "links = [a['href'] for a in soup.find_all('a')]\n",
    "links"
   ]
  },
  {
   "cell_type": "code",
   "execution_count": null,
   "metadata": {},
   "outputs": [
    {
     "data": {
      "text/plain": [
       "'https://www.abscis-architecten.be/nl/publicaties/houtbouw-voor-gestapelde-woningbouw/14-03-2023/794'"
      ]
     },
     "metadata": {},
     "output_type": "display_data"
    }
   ],
   "source": [
    "first_header.find('a')['href']  # .find('a')['href'] first finds the first <a> tag within the calling object's context \n",
    "                                # and then extracts the href attribute value (the link) from that tag"
   ]
  },
  {
   "cell_type": "code",
   "execution_count": null,
   "metadata": {},
   "outputs": [],
   "source": [
    "headers = soup('h2')"
   ]
  },
  {
   "cell_type": "code",
   "execution_count": null,
   "metadata": {},
   "outputs": [
    {
     "data": {
      "text/plain": [
       "{'Houtbouw voor gestapelde woningbouw': 'https://www.abscis-architecten.be/nl/publicaties/houtbouw-voor-gestapelde-woningbouw/14-03-2023/794',\n",
       " 'Comfort in scholenbouw: Hoe ontwerp je een gezonde en veilige school?': 'https://www.abscis-architecten.be/nl/publicaties/comfort-in-scholenbouw-hoe-ontwerp-je-een-gezonde-en-veilige-school/07-11-2022/790',\n",
       " 'Sociaal wooncomplex tilt circulaire houtskeletbouw naar hoger niveau': 'https://www.abscis-architecten.be/nl/publicaties/sociaal-wooncomplex-tilt-circulaire-houtskeletbouw-naar-hoger-niveau/27-09-2022/787',\n",
       " 'Blending Old and New: 7 Delicate Alterations to Brick Façades': 'https://www.abscis-architecten.be/nl/publicaties/blending-old-and-new-7-delicate-alterations-to-brick-faades/08-08-2022/783',\n",
       " 'Karakteristieke kloostergevel herbergt sociaal woonproject': 'https://www.abscis-architecten.be/nl/publicaties/karakteristieke-kloostergevel-herbergt-sociaal-woonproject/05-08-2022/782',\n",
       " 'Voetgangersveer, Appels': 'https://www.abscis-architecten.be/nl/publicaties/voetgangersveer-appels/10-05-2022/774',\n",
       " 'A+295: Reimagining the office': 'https://www.abscis-architecten.be/nl/publicaties/a295-reimagining-the-office/21-04-2022/773',\n",
       " 'Circulair bouwproject in centrum Gent': 'https://www.abscis-architecten.be/nl/publicaties/circulair-bouwproject-in-centrum-gent/15-03-2022/772',\n",
       " 'Het Menslievendheidproject: Middelhoog houtskeletgebouw in Brussel gebouwd volgens strengste brandveiligheidsnormen': 'https://www.abscis-architecten.be/nl/publicaties/het-menslievendheidproject-middelhoog-houtskeletgebouw-in-brussel-gebouwd-volgens-strengste-brandveiligheidsnormen/11-02-2022/771'}"
      ]
     },
     "metadata": {},
     "output_type": "display_data"
    }
   ],
   "source": [
    "links_dict = {}\n",
    "\n",
    "for h in headers:\n",
    "    a_tag = h.find('a') # I had to split this up: first look for anchor. Because it looks for a link in an anchor in a header. \n",
    "    \n",
    "    if a_tag:\n",
    "        title = h.text\n",
    "        link = a_tag['href'] # note that a href is an attribute of an anchor (hence the <a href=...)\n",
    "        links_dict[title] = link \n",
    "links_dict "
   ]
  },
  {
   "cell_type": "code",
   "execution_count": null,
   "metadata": {},
   "outputs": [
    {
     "name": "stdout",
     "output_type": "stream",
     "text": [
      "Houtbouw voor gestapelde woningbouw\n",
      "De klassieke opvatting dat een stenen gebouw langer meegaat dan houtbouw, is al lang achterhaald. De circulaire bouwmethode levert een grote bijdrage aan de verduurzaming van de bouwindustrie.\n",
      "\n",
      "https://www.abscis-architecten.be/nl/publicaties/het-menslievendheidproject-middelhoog-houtskeletgebouw-in-brussel-gebouwd-volgens-strengste-brandveiligheidsnormen/11-02-2022/771 \n",
      "\n",
      "Comfort in scholenbouw: Hoe ontwerp je een gezonde en veilige school?\n",
      "Welke zijn de grootste problemen wat comfort in scholenbouw betreft? Die vraag stond centraal in de poll die Architectura organiseerde tijdens een webinar. Luchtkwaliteit, akoestiek, ergonomie en daglicht scoorden het…\n",
      "https://www.abscis-architecten.be/nl/publicaties/het-menslievendheidproject-middelhoog-houtskeletgebouw-in-brussel-gebouwd-volgens-strengste-brandveiligheidsnormen/11-02-2022/771 \n",
      "\n",
      "Sociaal wooncomplex tilt circulaire houtskeletbouw naar hoger niveau\n",
      "Voor zijn nieuw sociaal huisvestingsproject in de Menslievendheidsstraat in de Brusselse Marollenwijk legde de Brusselse Gewestelijke Huisvestingsmaatschappij (BGHM) de lat erg hoog – zowel in letterlijke als figuurlijke zin.\n",
      "https://www.abscis-architecten.be/nl/publicaties/het-menslievendheidproject-middelhoog-houtskeletgebouw-in-brussel-gebouwd-volgens-strengste-brandveiligheidsnormen/11-02-2022/771 \n",
      "\n",
      "Blending Old and New: 7 Delicate Alterations to Brick Façades\n",
      "How can additions to historic buildings be respectfully revitalizing?\n",
      "https://www.abscis-architecten.be/nl/publicaties/het-menslievendheidproject-middelhoog-houtskeletgebouw-in-brussel-gebouwd-volgens-strengste-brandveiligheidsnormen/11-02-2022/771 \n",
      "\n",
      "Karakteristieke kloostergevel herbergt sociaal woonproject\n",
      "Tot een tiental jaar geleden liep de Oosterzeelse jeugd er school. En nog veel voeger was het de thuis van de Zusters-Apostolinnen. Vandaag wordt de voormalige kloostersite omgevormd tot een modern complex met sociale appartementen. Met respect voor het verleden weliswaar. De oude kloostergevel bleef behouden en is optimaal in het ontwerp geïntegreerd.\n",
      "\n",
      "https://www.abscis-architecten.be/nl/publicaties/het-menslievendheidproject-middelhoog-houtskeletgebouw-in-brussel-gebouwd-volgens-strengste-brandveiligheidsnormen/11-02-2022/771 \n",
      "\n",
      "Volg ons op facebook\n",
      "https://www.abscis-architecten.be/nl/publicaties/het-menslievendheidproject-middelhoog-houtskeletgebouw-in-brussel-gebouwd-volgens-strengste-brandveiligheidsnormen/11-02-2022/771 \n",
      "\n",
      "Voetgangersveer, Appels\n",
      "Enkele jaren geleden stortte een houten brug in het natuurdomein Oude Schelde in. Ze verbond de twee oevers van een oude Schelde-arm in de Dendermondse deelgemeente Appels. Nu is er een trekveer gerealiseerd. Zo kan de wandeling door het natuurdomein weer vlot, aangenaam en veilig verlopen.\n",
      "\n",
      "https://www.abscis-architecten.be/nl/publicaties/het-menslievendheidproject-middelhoog-houtskeletgebouw-in-brussel-gebouwd-volgens-strengste-brandveiligheidsnormen/11-02-2022/771 \n",
      "\n",
      "A+295: Reimagining the office\n",
      "A+ wijdde een volledig nummer aan de toekomst van kantoren. In een edito geeft hoofdredacteur Lisa De Visscher een uiteenzetting over hoe kantoren mee de toekomst van de stad richting…\n",
      "https://www.abscis-architecten.be/nl/publicaties/het-menslievendheidproject-middelhoog-houtskeletgebouw-in-brussel-gebouwd-volgens-strengste-brandveiligheidsnormen/11-02-2022/771 \n",
      "\n",
      "Circulair bouwproject in centrum Gent\n",
      "Arthur Van Cauwenberghe werd door Stad Gent geïnterviewd over de circulaire aanpak in de architectuur- en bouwwereld, met name in het gemengd project in de Veldstraat: \"Het Gentse team van Abscis Architecten…\n",
      "https://www.abscis-architecten.be/nl/publicaties/het-menslievendheidproject-middelhoog-houtskeletgebouw-in-brussel-gebouwd-volgens-strengste-brandveiligheidsnormen/11-02-2022/771 \n",
      "\n",
      "Het Menslievendheidproject: Middelhoog houtskeletgebouw in Brussel gebouwd volgens strengste brandveiligheidsnormen\n",
      "Voor het sociaal huisvestingsproject aan de Menslievendheidstraat in de Brusselse Marollenwijk, stelde de Brusselse Gewestelijke Huisvestingsmaatschappij (BGHM) een uitdagende visie voorop: de realisatie van betaalbare, kwalitatieve appartementen met een prefab houtconstructie als…\n",
      "https://www.abscis-architecten.be/nl/publicaties/het-menslievendheidproject-middelhoog-houtskeletgebouw-in-brussel-gebouwd-volgens-strengste-brandveiligheidsnormen/11-02-2022/771 \n",
      "\n"
     ]
    }
   ],
   "source": [
    "for h in headers:\n",
    "    if a_tag:\n",
    "        # if soup.p.has_attr('text'):\n",
    "            print(h.text)\n",
    "            try: print(h.find_next_sibling('p').text) # to get the next paragraph\n",
    "            except: pass\n",
    "            print(a_tag['href'],\"\\n\")"
   ]
  },
  {
   "cell_type": "markdown",
   "metadata": {},
   "source": [
    "fun aside - python can also show html with `IPython`:"
   ]
  },
  {
   "cell_type": "code",
   "execution_count": null,
   "metadata": {},
   "outputs": [
    {
     "data": {
      "text/html": [
       "\n",
       "<!DOCTYPE html>\n",
       "<html>\n",
       "<head>\n",
       "<style>\n",
       "  .highlight {\n",
       "    background-color: yellow;\n",
       "  }\n",
       "</style>\n",
       "</head>\n",
       "<body>\n",
       "  <p>\n",
       "    This is a normal paragraph, but\n",
       "    <span class=\"highlight\">this part is highlighted</span>\n",
       "    using a span element with a custom CSS class.\n",
       "  </p>\n",
       "</body>\n",
       "</html>\n"
      ],
      "text/plain": [
       "<IPython.core.display.HTML object>"
      ]
     },
     "metadata": {},
     "output_type": "display_data"
    }
   ],
   "source": [
    "from IPython.display import display, HTML\n",
    "\n",
    "html_string = '''\n",
    "<!DOCTYPE html>\n",
    "<html>\n",
    "<head>\n",
    "<style>\n",
    "  .highlight {\n",
    "    background-color: yellow;\n",
    "  }\n",
    "</style>\n",
    "</head>\n",
    "<body>\n",
    "  <p>\n",
    "    This is a normal paragraph, but\n",
    "    <span class=\"highlight\">this part is highlighted</span>\n",
    "    using a span element with a custom CSS class.\n",
    "  </p>\n",
    "</body>\n",
    "</html>\n",
    "'''\n",
    "\n",
    "display(HTML(html_string))"
   ]
  },
  {
   "cell_type": "markdown",
   "metadata": {},
   "source": [
    "> Checking for mentions (which applies the 'data science' in 'congress' logic below)"
   ]
  },
  {
   "cell_type": "code",
   "execution_count": null,
   "metadata": {},
   "outputs": [
    {
     "data": {
      "text/plain": [
       "False"
      ]
     },
     "metadata": {},
     "output_type": "display_data"
    }
   ],
   "source": [
    "from bs4 import BeautifulSoup\n",
    "import requests\n",
    "\n",
    "url = (\"https://www.abscis-architecten.be/nl/publicaties/houtbouw-voor-gestapelde-woningbouw/14-03-2023/794\")\n",
    "html = requests.get(url).text\n",
    "soup = BeautifulSoup(html, 'html5lib')\n",
    "\n",
    "\n",
    "text = ''.join(p.text for p in soup('p') if p)   # this to get rid of this None value\n",
    "keyword = 'houtk'\n",
    "\n",
    "any(keyword.lower() in text.lower() for _ in text) # ANY expects an iterable so that means it requires a `for loop` after the `in`"
   ]
  },
  {
   "cell_type": "code",
   "execution_count": null,
   "metadata": {},
   "outputs": [
    {
     "data": {
      "text/plain": [
       "'\\n\\t\\t\\t\\t\\t\\t\\t+32 (0)9 244 60 20\\n\\t\\t\\t\\t\\t\\t\\tinfo@abscis.be\\n\\t\\t\\t\\t\\t\\t'"
      ]
     },
     "metadata": {},
     "output_type": "display_data"
    }
   ],
   "source": [
    "paragraph"
   ]
  },
  {
   "cell_type": "code",
   "execution_count": null,
   "metadata": {},
   "outputs": [
    {
     "name": "stdout",
     "output_type": "stream",
     "text": [
      "De\n",
      "Arthur\n"
     ]
    }
   ],
   "source": [
    "all_text = [p.get_text() for p in soup('p')]         # this is the best way to get all text and store it in a variable\n",
    "keywrd = 'houtbouw'\n",
    "\n",
    "# any(keywrd.lower() in paragraph.lower()             # which is a membership check\n",
    "            #    for paragraph in all_text)\n",
    "            \n",
    "for paragraph in all_text:\n",
    "    if keywrd.lower() in paragraph.lower():\n",
    "        print(paragraph.split()[0])"
   ]
  },
  {
   "cell_type": "markdown",
   "metadata": {},
   "source": [
    "## Find *data* in press releases from members of the US congress "
   ]
  },
  {
   "cell_type": "code",
   "execution_count": null,
   "metadata": {},
   "outputs": [
    {
     "name": "stdout",
     "output_type": "stream",
     "text": [
      "967\n"
     ]
    }
   ],
   "source": [
    "from bs4 import BeautifulSoup\n",
    "import requests\n",
    "\n",
    "url = \"https://www.house.gov/representatives\"\n",
    "text = requests.get(url).text\n",
    "soup = BeautifulSoup(text, \"html5lib\")\n",
    "\n",
    "all_urls = [a['href']\n",
    "            for a in soup('a')\n",
    "            if a.has_attr('href')]\n",
    "\n",
    "print(len(all_urls))  # 965 for me, way too many"
   ]
  },
  {
   "cell_type": "code",
   "execution_count": null,
   "metadata": {},
   "outputs": [
    {
     "name": "stdout",
     "output_type": "stream",
     "text": [
      "880\n"
     ]
    }
   ],
   "source": [
    "import re\n",
    "\n",
    "# Must start with http:// or https://\n",
    "# Must end with .house.gov or .house.gov/\n",
    "regex = r\"^https?://.*\\.house\\.gov/?$\"\n",
    "\n",
    "# Let's write some tests!\n",
    "assert re.match(regex, \"http://joel.house.gov\")\n",
    "assert not re.match(regex, \"joel.house.gov\")\n",
    "\n",
    "\n",
    "# And now apply\n",
    "good_urls = [url for url in all_urls if re.match(regex, url)]\n",
    "\n",
    "print(len(good_urls))  # still 862 for me"
   ]
  },
  {
   "cell_type": "code",
   "execution_count": null,
   "metadata": {},
   "outputs": [
    {
     "name": "stdout",
     "output_type": "stream",
     "text": [
      "440\n"
     ]
    }
   ],
   "source": [
    "num_original_good_urls = len(good_urls)\n",
    "\n",
    "good_urls = list(set(good_urls))\n",
    "\n",
    "print(len(good_urls))  # only 431 for me"
   ]
  },
  {
   "cell_type": "code",
   "execution_count": null,
   "metadata": {},
   "outputs": [
    {
     "name": "stdout",
     "output_type": "stream",
     "text": [
      "{'https://jayapal.house.gov/category/news/', 'https://jayapal.house.gov/category/press-releases/'}\n"
     ]
    }
   ],
   "source": [
    "html = requests.get('https://jayapal.house.gov').text\n",
    "soup = BeautifulSoup(html, 'html5lib')\n",
    "\n",
    "# Use a set because the links might appear multiple times.\n",
    "links = {a['href'] for a in soup('a') if 'press releases' in a.text.lower()}\n",
    "\n",
    "print(links) # {'/media/press-releases'}"
   ]
  },
  {
   "cell_type": "code",
   "execution_count": null,
   "metadata": {},
   "outputs": [],
   "source": [
    "def paragraph_mentions(text: str, keyword: str) -> bool:\n",
    "    \"\"\"\n",
    "    Returns True if a <p> inside the text mentions {keyword}\n",
    "    \"\"\"\n",
    "    soup = BeautifulSoup(text, 'html5lib')\n",
    "    paragraphs = [p.get_text() for p in soup('p')]\n",
    "\n",
    "    return any(keyword.lower() in paragraph.lower()\n",
    "               for paragraph in paragraphs)"
   ]
  },
  {
   "cell_type": "code",
   "execution_count": null,
   "metadata": {},
   "outputs": [
    {
     "name": "stdout",
     "output_type": "stream",
     "text": [
      "after sampling, left with ['https://auchincloss.house.gov', 'https://desposito.house.gov', 'https://clyde.house.gov', 'https://sewell.house.gov/', 'https://takano.house.gov']\n",
      "https://auchincloss.house.gov: {'https://auchincloss.house.gov/media/press-releases'}\n",
      "https://desposito.house.gov: {'/media/press-releases'}\n",
      "https://clyde.house.gov: {'/news/documentquery.aspx?DocumentTypeID=27'}\n",
      "https://sewell.house.gov/: {'/press-releases'}\n",
      "https://takano.house.gov: {'https://takano.house.gov/newsroom/press-releases'}\n"
     ]
    }
   ],
   "source": [
    "# I don't want this file to scrape all 400+ websites every time it runs.\n",
    "# So I'm going to randomly throw out most of the urls.\n",
    "# The code in the book doesn't do this... only the github code\n",
    "import random\n",
    "good_urls = random.sample(good_urls, 5)\n",
    "print(f\"after sampling, left with {good_urls}\")\n",
    "\n",
    "from typing import Dict, Set\n",
    "\n",
    "press_releases: Dict[str, Set[str]] = {}\n",
    "\n",
    "for house_url in good_urls:\n",
    "    html = requests.get(house_url).text\n",
    "    soup = BeautifulSoup(html, 'html5lib')\n",
    "    \n",
    "    pr_links = {a['href'] for a in soup('a') if 'press releases' in a.text.lower()}\n",
    "    print(f\"{house_url}: {pr_links}\")\n",
    "    press_releases[house_url] = pr_links"
   ]
  },
  {
   "cell_type": "code",
   "execution_count": null,
   "metadata": {},
   "outputs": [
    {
     "data": {
      "text/plain": [
       "{'https://auchincloss.house.gov': {'https://auchincloss.house.gov/media/press-releases'},\n",
       " 'https://desposito.house.gov': {'/media/press-releases'},\n",
       " 'https://clyde.house.gov': {'/news/documentquery.aspx?DocumentTypeID=27'},\n",
       " 'https://sewell.house.gov/': {'/press-releases'},\n",
       " 'https://takano.house.gov': {'https://takano.house.gov/newsroom/press-releases'}}"
      ]
     },
     "metadata": {},
     "output_type": "display_data"
    }
   ],
   "source": [
    "press_releases"
   ]
  },
  {
   "cell_type": "markdown",
   "metadata": {},
   "source": [
    "I want to try to read all the press releases and scan on 'data'"
   ]
  },
  {
   "cell_type": "code",
   "execution_count": null,
   "metadata": {},
   "outputs": [
    {
     "data": {
      "text/plain": [
       "['/2023/4/rep-sewell-calls-on-congress-to-reject-republican-debt-ceiling-demands-and-avoid-catastrophic-default',\n",
       " '/2023/4/rep-sewell-announces-2-million-in-federal-funding-for-the-lovelady-center-in-birmingham',\n",
       " '/2023/4/reps-sewell-and-rogers-introduce-bipartisan-legislation-to-combat-alabama-s-rural-wastewater-crisis',\n",
       " '/2023/4/rep-sewell-celebrates-the-80th-birthday-of-the-honorable-judge-u-w-clemon-by-honoring-him-on-the-house-floor',\n",
       " '/2023/4/rep-sewell-sends-letter-to-federal-railroad-administrator-amit-bose-requesting-action-to-address-recent-train-blockages-and-safety-concerns',\n",
       " '/2023/4/rep-sewell-announces-2023-congressional-art-competition-for-high-school-students-in-alabama-s-7th-congressional-district',\n",
       " '/2023/4/rep-sewell-joins-reps-tenney-davis-and-kelly-in-introducing-the-bipartisan-new-markets-tax-credit-extension-act',\n",
       " '/2023/3/reps-sewell-arrington-hudson-and-ruiz-introduce-the-nancy-gardner-sewell-medicare-multi-cancer-early-detection-screening-coverage-act',\n",
       " '/2023/3/reps-sewell-fitzpatrick-introduce-bipartisan-legislation-to-combat-physician-shortage-and-improve-access-to-health-care',\n",
       " '/2023/3/rep-sewell-statement-on-the-13th-anniversary-of-the-affordable-care-act']"
      ]
     },
     "metadata": {},
     "output_type": "display_data"
    }
   ],
   "source": [
    "# I need all the links to the actual press releases\n",
    "# first I need to scrape the links from press release page\n",
    "pr = ['https://desposito.house.gov/media/press-releases',\n",
    "      'https://clyde.house.gov/news/documentquery.aspx?DocumentTypeID=27',\n",
    "      'https://sewell.house.gov/press-releases']\n",
    "\n",
    "pr_text_links =  []\n",
    "\n",
    "for pr_link in pr:\n",
    "        url = pr_link\n",
    "        text = requests.get(url).text\n",
    "        soup = BeautifulSoup(text, 'html5lib')\n",
    "\n",
    "        # now add the links\n",
    "        pr_text_links += [a['href'] for a in \n",
    "                          soup('a', {'class': 'ContentGrid'})  # this filtered on contentgrid, which only works for one guy\n",
    "                          if a.has_attr('href')]  # It's a good practice to check if the href attribute is present before trying to access it\n",
    "\n",
    "pr_text_links"
   ]
  },
  {
   "cell_type": "code",
   "execution_count": null,
   "metadata": {},
   "outputs": [],
   "source": [
    "from bs4 import BeautifulSoup\n",
    "import requests"
   ]
  },
  {
   "cell_type": "code",
   "execution_count": null,
   "metadata": {},
   "outputs": [
    {
     "name": "stdout",
     "output_type": "stream",
     "text": [
      "https://sewell.house.gov//2023/3/reps-sewell-fitzpatrick-introduce-bipartisan-legislation-to-combat-physician-shortage-and-improve-access-to-health-care\n"
     ]
    }
   ],
   "source": [
    "texts = []\n",
    "\n",
    "# now read all the texts, and add them to texts just to check\n",
    "for pr_text_link in pr_text_links:\n",
    "    url = f'https://sewell.house.gov/{pr_text_link}' # because the house_url / pr_url combo didn't work\n",
    "    text = requests.get(url).text\n",
    "        \n",
    "    texts += text\n",
    "\n",
    "# then the final check if data is meantioned\n",
    "    if paragraph_mentions(text, 'data'):   \n",
    "        print(f\"{url}\")\n",
    "        break  # done with this house_url\n"
   ]
  },
  {
   "cell_type": "markdown",
   "metadata": {},
   "source": [
    "So there's one..."
   ]
  }
 ],
 "metadata": {
  "language_info": {
   "name": "python"
  }
 },
 "nbformat": 4,
 "nbformat_minor": 2
}
