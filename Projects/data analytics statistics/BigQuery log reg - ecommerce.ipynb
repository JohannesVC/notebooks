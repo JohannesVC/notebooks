{
 "cells": [
  {
   "cell_type": "markdown",
   "metadata": {},
   "source": [
    "## Excellent classification model in bigquery\n",
    "\n",
    "Interesting because it uses an ecommerce dataset and asks some pertinent questions in the EDA part of the exercise. \n",
    "\n",
    "It then builds a logistic regression model in SQL to direct marketing more narrowly at `more likely converters`. This increases ROI within marketing.\n",
    "\n",
    "It is also quite easy to export Google Analytics data from any ecommerce website so this approach can be copied."
   ]
  },
  {
   "cell_type": "code",
   "execution_count": 2,
   "metadata": {},
   "outputs": [],
   "source": [
    "%load_ext google.cloud.bigquery"
   ]
  },
  {
   "cell_type": "markdown",
   "metadata": {},
   "source": [
    "# Exploratory Analysis \n",
    "\n",
    "## `Conversion rate`"
   ]
  },
  {
   "cell_type": "code",
   "execution_count": null,
   "metadata": {
    "vscode": {
     "languageId": "sql"
    }
   },
   "outputs": [],
   "source": [
    "%%bigquery\n",
    "\n",
    "-- Out of the total visitors who visited our website, what % made a purchase?\n",
    "WITH visitors AS(\n",
    "SELECT\n",
    "COUNT(DISTINCT fullVisitorId) AS total_visitors\n",
    "FROM `data-to-insights.ecommerce.web_analytics`\n",
    "),\n",
    "\n",
    "purchasers AS(\n",
    "SELECT\n",
    "COUNT(DISTINCT fullVisitorId) AS total_purchasers\n",
    "FROM `data-to-insights.ecommerce.web_analytics`\n",
    "WHERE totals.transactions IS NOT NULL\n",
    ")\n",
    "\n",
    "SELECT\n",
    "  total_visitors,\n",
    "  total_purchasers,\n",
    "  total_purchasers / total_visitors AS conversion_rate\n",
    "FROM visitors, purchasers"
   ]
  },
  {
   "cell_type": "markdown",
   "metadata": {},
   "source": [
    "## `Top 5 product in sales`"
   ]
  },
  {
   "cell_type": "code",
   "execution_count": null,
   "metadata": {
    "vscode": {
     "languageId": "sql"
    }
   },
   "outputs": [],
   "source": [
    "%%bigquery\n",
    "-- Question: What are the top 5 selling products?\n",
    "SELECT\n",
    "  p.v2ProductName,\n",
    "  p.v2ProductCategory,\n",
    "  SUM(p.productQuantity) AS units_sold,\n",
    "  ROUND(SUM(p.localProductRevenue/1000000),2) AS revenue\n",
    "FROM `data-to-insights.ecommerce.web_analytics`,\n",
    "UNNEST(hits) AS h,\n",
    "UNNEST(h.product) AS p\n",
    "GROUP BY 1, 2\n",
    "ORDER BY revenue DESC\n",
    "LIMIT 5;"
   ]
  },
  {
   "cell_type": "markdown",
   "metadata": {},
   "source": [
    "## `How many visitors buy on subsequent visit`"
   ]
  },
  {
   "cell_type": "code",
   "execution_count": null,
   "metadata": {
    "vscode": {
     "languageId": "sql"
    }
   },
   "outputs": [],
   "source": [
    "%%bigquery\n",
    "-- Question: How many visitors bought on subsequent visits to the website?\n",
    "WITH all_visitor_stats AS (\n",
    "SELECT\n",
    "  fullvisitorid, -- 741,721 unique visitors\n",
    "  IF(COUNTIF(totals.transactions > 0 AND totals.newVisits IS NULL) > 0, 1, 0) AS will_buy_on_return_visit\n",
    "  FROM `data-to-insights.ecommerce.web_analytics`\n",
    "  GROUP BY fullvisitorid\n",
    ")\n",
    "\n",
    "SELECT\n",
    "  COUNT(DISTINCT fullvisitorid) AS total_visitors,\n",
    "  will_buy_on_return_visit\n",
    "FROM all_visitor_stats\n",
    "GROUP BY will_buy_on_return_visit"
   ]
  },
  {
   "cell_type": "markdown",
   "metadata": {},
   "source": [
    "# Classification model\n",
    "1. Select features and create your training dataset\n",
    "\n",
    "Google Analytics captures a wide variety of dimensions and measures about a user's visit on this ecommerce website. Browse the complete list of fields in the [[UA] BigQuery Export schema documentation](https://support.google.com/analytics/answer/3437719?hl=en) and then preview the demo dataset to find useful features that will help a machine learning model understand the relationship between data about a visitor's first time on your website and whether they will return and make a purchase.\n",
    "\n",
    "2. Let's test whether these two fields are good inputs for your classification model:\n",
    "\n",
    "- totals.bounces (whether the visitor left the website immediately)\n",
    "- totals.timeOnSite (how long the visitor was on our website)\n",
    "\n",
    "### These are the features we will use to train the model:"
   ]
  },
  {
   "cell_type": "code",
   "execution_count": 5,
   "metadata": {
    "vscode": {
     "languageId": "sql"
    }
   },
   "outputs": [
    {
     "data": {
      "application/vnd.jupyter.widget-view+json": {
       "model_id": "e3635bb577ce4df5aac2edccbfd45844",
       "version_major": 2,
       "version_minor": 0
      },
      "text/plain": [
       "Query is running:   0%|          |"
      ]
     },
     "metadata": {},
     "output_type": "display_data"
    },
    {
     "data": {
      "application/vnd.jupyter.widget-view+json": {
       "model_id": "85958af8b2bf4990b2b8d09ce6a3d57b",
       "version_major": 2,
       "version_minor": 0
      },
      "text/plain": [
       "Downloading:   0%|          |"
      ]
     },
     "metadata": {},
     "output_type": "display_data"
    },
    {
     "data": {
      "text/html": [
       "<div>\n",
       "<style scoped>\n",
       "    .dataframe tbody tr th:only-of-type {\n",
       "        vertical-align: middle;\n",
       "    }\n",
       "\n",
       "    .dataframe tbody tr th {\n",
       "        vertical-align: top;\n",
       "    }\n",
       "\n",
       "    .dataframe thead th {\n",
       "        text-align: right;\n",
       "    }\n",
       "</style>\n",
       "<table border=\"1\" class=\"dataframe\">\n",
       "  <thead>\n",
       "    <tr style=\"text-align: right;\">\n",
       "      <th></th>\n",
       "      <th>bounces</th>\n",
       "      <th>bounces_1</th>\n",
       "      <th>time_on_site</th>\n",
       "      <th>will_buy_on_return_visit</th>\n",
       "    </tr>\n",
       "  </thead>\n",
       "  <tbody>\n",
       "    <tr>\n",
       "      <th>0</th>\n",
       "      <td>&lt;NA&gt;</td>\n",
       "      <td>0</td>\n",
       "      <td>15047</td>\n",
       "      <td>0</td>\n",
       "    </tr>\n",
       "    <tr>\n",
       "      <th>1</th>\n",
       "      <td>&lt;NA&gt;</td>\n",
       "      <td>0</td>\n",
       "      <td>12136</td>\n",
       "      <td>0</td>\n",
       "    </tr>\n",
       "    <tr>\n",
       "      <th>2</th>\n",
       "      <td>&lt;NA&gt;</td>\n",
       "      <td>0</td>\n",
       "      <td>11201</td>\n",
       "      <td>0</td>\n",
       "    </tr>\n",
       "    <tr>\n",
       "      <th>3</th>\n",
       "      <td>&lt;NA&gt;</td>\n",
       "      <td>0</td>\n",
       "      <td>10046</td>\n",
       "      <td>0</td>\n",
       "    </tr>\n",
       "    <tr>\n",
       "      <th>4</th>\n",
       "      <td>&lt;NA&gt;</td>\n",
       "      <td>0</td>\n",
       "      <td>9974</td>\n",
       "      <td>0</td>\n",
       "    </tr>\n",
       "    <tr>\n",
       "      <th>5</th>\n",
       "      <td>&lt;NA&gt;</td>\n",
       "      <td>0</td>\n",
       "      <td>9564</td>\n",
       "      <td>0</td>\n",
       "    </tr>\n",
       "    <tr>\n",
       "      <th>6</th>\n",
       "      <td>&lt;NA&gt;</td>\n",
       "      <td>0</td>\n",
       "      <td>9520</td>\n",
       "      <td>0</td>\n",
       "    </tr>\n",
       "    <tr>\n",
       "      <th>7</th>\n",
       "      <td>&lt;NA&gt;</td>\n",
       "      <td>0</td>\n",
       "      <td>9275</td>\n",
       "      <td>1</td>\n",
       "    </tr>\n",
       "    <tr>\n",
       "      <th>8</th>\n",
       "      <td>&lt;NA&gt;</td>\n",
       "      <td>0</td>\n",
       "      <td>9138</td>\n",
       "      <td>0</td>\n",
       "    </tr>\n",
       "    <tr>\n",
       "      <th>9</th>\n",
       "      <td>&lt;NA&gt;</td>\n",
       "      <td>0</td>\n",
       "      <td>8872</td>\n",
       "      <td>0</td>\n",
       "    </tr>\n",
       "  </tbody>\n",
       "</table>\n",
       "</div>"
      ],
      "text/plain": [
       "   bounces  bounces_1  time_on_site  will_buy_on_return_visit\n",
       "0     <NA>          0         15047                         0\n",
       "1     <NA>          0         12136                         0\n",
       "2     <NA>          0         11201                         0\n",
       "3     <NA>          0         10046                         0\n",
       "4     <NA>          0          9974                         0\n",
       "5     <NA>          0          9564                         0\n",
       "6     <NA>          0          9520                         0\n",
       "7     <NA>          0          9275                         1\n",
       "8     <NA>          0          9138                         0\n",
       "9     <NA>          0          8872                         0"
      ]
     },
     "execution_count": 5,
     "metadata": {},
     "output_type": "execute_result"
    }
   ],
   "source": [
    "%%bigquery\n",
    "SELECT\n",
    "  * EXCEPT(fullVisitorId)\n",
    "FROM\n",
    "  -- features\n",
    "  (SELECT\n",
    "    fullVisitorId,\n",
    "    IFNULL(totals.bounces, 0) AS bounces,\n",
    "    IFNULL(totals.timeOnSite, 0) AS time_on_site\n",
    "  FROM\n",
    "    `data-to-insights.ecommerce.web_analytics`\n",
    "  WHERE\n",
    "    totals.newVisits = 1)\n",
    "    JOIN\n",
    "      (SELECT\n",
    "        fullvisitorid,\n",
    "        IF(COUNTIF(totals.transactions > 0 AND totals.newVisits IS NULL) > 0, 1, 0) AS will_buy_on_return_visit\n",
    "      FROM\n",
    "          `data-to-insights.ecommerce.web_analytics`\n",
    "      GROUP BY fullvisitorid)\n",
    "    USING (fullVisitorId)\n",
    "ORDER BY time_on_site DESC\n",
    "LIMIT 10;"
   ]
  },
  {
   "cell_type": "markdown",
   "metadata": {},
   "source": [
    "- this does not look great but it may work"
   ]
  },
  {
   "cell_type": "markdown",
   "metadata": {},
   "source": [
    "> Now add a dataset in my project called `ecommerce` to store the model\n",
    "\n",
    "Since you are bucketing visitors into \"will buy in future\" or \"won't buy in future\", use logistic_reg in a classification model.\n",
    "\n",
    "The following query creates a model and specifies model options.\n",
    "\n",
    "#### `will_buy_on_return_visit` is the `label` the model uses for training"
   ]
  },
  {
   "cell_type": "code",
   "execution_count": 4,
   "metadata": {
    "vscode": {
     "languageId": "sql"
    }
   },
   "outputs": [
    {
     "name": "stderr",
     "output_type": "stream",
     "text": [
      "Query complete after 0.02s: 100%|██████████| 4/4 [00:00<?, ?query/s]                                \n"
     ]
    },
    {
     "data": {
      "text/html": [
       "<div>\n",
       "<style scoped>\n",
       "    .dataframe tbody tr th:only-of-type {\n",
       "        vertical-align: middle;\n",
       "    }\n",
       "\n",
       "    .dataframe tbody tr th {\n",
       "        vertical-align: top;\n",
       "    }\n",
       "\n",
       "    .dataframe thead th {\n",
       "        text-align: right;\n",
       "    }\n",
       "</style>\n",
       "<table border=\"1\" class=\"dataframe\">\n",
       "  <thead>\n",
       "    <tr style=\"text-align: right;\">\n",
       "      <th></th>\n",
       "    </tr>\n",
       "  </thead>\n",
       "  <tbody>\n",
       "  </tbody>\n",
       "</table>\n",
       "</div>"
      ],
      "text/plain": [
       "Empty DataFrame\n",
       "Columns: []\n",
       "Index: []"
      ]
     },
     "execution_count": 4,
     "metadata": {},
     "output_type": "execute_result"
    }
   ],
   "source": [
    "%%bigquery\n",
    "CREATE OR REPLACE MODEL `ecommerce.classification_model`\n",
    "OPTIONS\n",
    "  (\n",
    "  model_type='logistic_reg',\n",
    "  labels = ['will_buy_on_return_visit']\n",
    "  )\n",
    "AS\n",
    "\n",
    "  SELECT\n",
    "    * EXCEPT(fullVisitorId)\n",
    "  FROM\n",
    "\n",
    "    -- # features\n",
    "    (SELECT\n",
    "      fullVisitorId,\n",
    "      IFNULL(totals.bounces, 0) AS bounces,\n",
    "      IFNULL(totals.timeOnSite, 0) AS time_on_site\n",
    "    FROM\n",
    "      `data-to-insights.ecommerce.web_analytics`\n",
    "    WHERE\n",
    "      totals.newVisits = 1\n",
    "      AND date BETWEEN '20160801' AND '20170430') # train on first 9 months\n",
    "    JOIN\n",
    "      (SELECT\n",
    "        fullvisitorid,\n",
    "        IF(COUNTIF(totals.transactions > 0 AND totals.newVisits IS NULL) > 0, 1, 0) AS will_buy_on_return_visit\n",
    "      FROM\n",
    "          `data-to-insights.ecommerce.web_analytics`\n",
    "      GROUP BY fullvisitorid)\n",
    "      USING (fullVisitorId)\n",
    "  ;"
   ]
  },
  {
   "cell_type": "markdown",
   "metadata": {},
   "source": [
    "Note: This is training on the first 9 months of data. It's important to have the same training dataset in the feature engineering below so you can be certain a better model output is attributable to better input features and not new or different training data.\n",
    "\n",
    "# Eval\n",
    "For classification problems in ML, you want to minimize the False Positive Rate (predict that the user will return and purchase and they don't) and maximize the True Positive Rate (predict that the user will return and purchase and they do).\n",
    "\n",
    "This relationship is visualized with a ROC (Receiver Operating Characteristic) curve.\n",
    "\n",
    "In BigQuery ML, roc_auc is simply a queryable field when evaluating your trained ML model.\n",
    "\n",
    "Now that training is complete, run this query to evaluate how well the model performs using ML.EVALUATE:"
   ]
  },
  {
   "cell_type": "code",
   "execution_count": 6,
   "metadata": {
    "vscode": {
     "languageId": "sql"
    }
   },
   "outputs": [
    {
     "name": "stderr",
     "output_type": "stream",
     "text": [
      "Query complete after 0.02s: 100%|██████████| 8/8 [00:00<00:00, 510.99query/s]                         \n",
      "Downloading: 100%|██████████| 1/1 [00:01<00:00,  1.26s/rows]\n"
     ]
    },
    {
     "data": {
      "text/html": [
       "<div>\n",
       "<style scoped>\n",
       "    .dataframe tbody tr th:only-of-type {\n",
       "        vertical-align: middle;\n",
       "    }\n",
       "\n",
       "    .dataframe tbody tr th {\n",
       "        vertical-align: top;\n",
       "    }\n",
       "\n",
       "    .dataframe thead th {\n",
       "        text-align: right;\n",
       "    }\n",
       "</style>\n",
       "<table border=\"1\" class=\"dataframe\">\n",
       "  <thead>\n",
       "    <tr style=\"text-align: right;\">\n",
       "      <th></th>\n",
       "      <th>roc_auc</th>\n",
       "      <th>model_quality</th>\n",
       "    </tr>\n",
       "  </thead>\n",
       "  <tbody>\n",
       "    <tr>\n",
       "      <th>0</th>\n",
       "      <td>0.723831</td>\n",
       "      <td>decent</td>\n",
       "    </tr>\n",
       "  </tbody>\n",
       "</table>\n",
       "</div>"
      ],
      "text/plain": [
       "    roc_auc model_quality\n",
       "0  0.723831        decent"
      ]
     },
     "execution_count": 6,
     "metadata": {},
     "output_type": "execute_result"
    }
   ],
   "source": [
    "%%bigquery\n",
    "SELECT\n",
    "  roc_auc,\n",
    "  CASE\n",
    "    WHEN roc_auc > .9 THEN 'good'\n",
    "    WHEN roc_auc > .8 THEN 'fair'\n",
    "    WHEN roc_auc > .7 THEN 'decent'\n",
    "    WHEN roc_auc > .6 THEN 'not great'\n",
    "  ELSE 'poor' END AS model_quality\n",
    "FROM\n",
    "  ML.EVALUATE(MODEL ecommerce.classification_model,  (\n",
    "\n",
    "  SELECT\n",
    "    * EXCEPT(fullVisitorId)\n",
    "  FROM\n",
    "\n",
    "    -- # features\n",
    "    (SELECT\n",
    "      fullVisitorId,\n",
    "      IFNULL(totals.bounces, 0) AS bounces,\n",
    "      IFNULL(totals.timeOnSite, 0) AS time_on_site\n",
    "    FROM\n",
    "      `data-to-insights.ecommerce.web_analytics`\n",
    "    WHERE\n",
    "      totals.newVisits = 1\n",
    "      AND date BETWEEN '20170501' AND '20170630') # eval on 2 months\n",
    "    JOIN\n",
    "    (SELECT\n",
    "      fullvisitorid,\n",
    "      IF(COUNTIF(totals.transactions > 0 AND totals.newVisits IS NULL) > 0, 1, 0) AS will_buy_on_return_visit\n",
    "    FROM\n",
    "        `data-to-insights.ecommerce.web_analytics`\n",
    "    GROUP BY fullvisitorid)\n",
    "    USING (fullVisitorId)\n",
    "\n",
    "));"
   ]
  },
  {
   "cell_type": "markdown",
   "metadata": {},
   "source": [
    "# A second model with more features \n",
    "\n",
    "This looks at:\n",
    "- How far the visitor got in the checkout process on their first visit\n",
    "- Where the visitor came from (traffic source: organic search, referring site etc..)\n",
    "- Device category (mobile, tablet, desktop)\n",
    "- Geographic information (country)"
   ]
  },
  {
   "cell_type": "code",
   "execution_count": null,
   "metadata": {
    "vscode": {
     "languageId": "sql"
    }
   },
   "outputs": [],
   "source": [
    "CREATE OR REPLACE MODEL `ecommerce.classification_model_2`\n",
    "OPTIONS\n",
    "  (model_type='logistic_reg', labels = ['will_buy_on_return_visit']) AS\n",
    "\n",
    "WITH all_visitor_stats AS (\n",
    "SELECT\n",
    "  fullvisitorid,\n",
    "  IF(COUNTIF(totals.transactions > 0 AND totals.newVisits IS NULL) > 0, 1, 0) AS will_buy_on_return_visit\n",
    "  FROM `data-to-insights.ecommerce.web_analytics`\n",
    "  GROUP BY fullvisitorid\n",
    ")\n",
    "\n",
    "-- # add in new features\n",
    "SELECT * EXCEPT(unique_session_id) FROM (\n",
    "\n",
    "  SELECT\n",
    "      CONCAT(fullvisitorid, CAST(visitId AS STRING)) AS unique_session_id,\n",
    "\n",
    "      -- # labels\n",
    "      will_buy_on_return_visit,\n",
    "\n",
    "      MAX(CAST(h.eCommerceAction.action_type AS INT64)) AS latest_ecommerce_progress,\n",
    "\n",
    "      -- # behavior on the site\n",
    "      IFNULL(totals.bounces, 0) AS bounces,\n",
    "      IFNULL(totals.timeOnSite, 0) AS time_on_site,\n",
    "      IFNULL(totals.pageviews, 0) AS pageviews,\n",
    "\n",
    "      -- # where the visitor came from\n",
    "      trafficSource.source,\n",
    "      trafficSource.medium,\n",
    "      channelGrouping,\n",
    "\n",
    "      -- # mobile or desktop\n",
    "      device.deviceCategory,\n",
    "\n",
    "      -- # geographic\n",
    "      IFNULL(geoNetwork.country, \"\") AS country\n",
    "\n",
    "  FROM `data-to-insights.ecommerce.web_analytics`,\n",
    "     UNNEST(hits) AS h\n",
    "\n",
    "    JOIN all_visitor_stats USING(fullvisitorid)\n",
    "\n",
    "  WHERE 1=1 \n",
    "    -- # only predict for new visits\n",
    "    AND totals.newVisits = 1\n",
    "    AND date BETWEEN '20160801' AND '20170430' -- train 9 months\n",
    "\n",
    "  GROUP BY\n",
    "  unique_session_id,\n",
    "  will_buy_on_return_visit,\n",
    "  bounces,\n",
    "  time_on_site,\n",
    "  totals.pageviews,\n",
    "  trafficSource.source,\n",
    "  trafficSource.medium,\n",
    "  channelGrouping,\n",
    "  device.deviceCategory,\n",
    "  country\n",
    ");"
   ]
  },
  {
   "cell_type": "markdown",
   "metadata": {},
   "source": [
    "# Eval"
   ]
  },
  {
   "cell_type": "code",
   "execution_count": null,
   "metadata": {
    "vscode": {
     "languageId": "sql"
    }
   },
   "outputs": [],
   "source": [
    "SELECT\n",
    "  roc_auc,\n",
    "  CASE\n",
    "    WHEN roc_auc > .9 THEN 'good'\n",
    "    WHEN roc_auc > .8 THEN 'fair'\n",
    "    WHEN roc_auc > .7 THEN 'decent'\n",
    "    WHEN roc_auc > .6 THEN 'not great'\n",
    "  ELSE 'poor' END AS model_quality\n",
    "FROM\n",
    "  ML.EVALUATE(MODEL ecommerce.classification_model_2,  (\n",
    "\n",
    "WITH all_visitor_stats AS (\n",
    "SELECT\n",
    "  fullvisitorid,\n",
    "  IF(COUNTIF(totals.transactions > 0 AND totals.newVisits IS NULL) > 0, 1, 0) AS will_buy_on_return_visit\n",
    "  FROM `data-to-insights.ecommerce.web_analytics`\n",
    "  GROUP BY fullvisitorid\n",
    ")\n",
    "\n",
    "# add in new features\n",
    "SELECT * EXCEPT(unique_session_id) FROM (\n",
    "\n",
    "  SELECT\n",
    "      CONCAT(fullvisitorid, CAST(visitId AS STRING)) AS unique_session_id,\n",
    "\n",
    "      # labels\n",
    "      will_buy_on_return_visit,\n",
    "\n",
    "      MAX(CAST(h.eCommerceAction.action_type AS INT64)) AS latest_ecommerce_progress,\n",
    "\n",
    "      # behavior on the site\n",
    "      IFNULL(totals.bounces, 0) AS bounces,\n",
    "      IFNULL(totals.timeOnSite, 0) AS time_on_site,\n",
    "      totals.pageviews,\n",
    "\n",
    "      # where the visitor came from\n",
    "      trafficSource.source,\n",
    "      trafficSource.medium,\n",
    "      channelGrouping,\n",
    "\n",
    "      # mobile or desktop\n",
    "      device.deviceCategory,\n",
    "\n",
    "      # geographic\n",
    "      IFNULL(geoNetwork.country, \"\") AS country\n",
    "\n",
    "  FROM `data-to-insights.ecommerce.web_analytics`,\n",
    "     UNNEST(hits) AS h\n",
    "\n",
    "    JOIN all_visitor_stats USING(fullvisitorid)\n",
    "\n",
    "  WHERE 1=1\n",
    "    # only predict for new visits\n",
    "    AND totals.newVisits = 1\n",
    "    AND date BETWEEN '20170501' AND '20170630' # eval 2 months\n",
    "\n",
    "  GROUP BY\n",
    "  unique_session_id,\n",
    "  will_buy_on_return_visit,\n",
    "  bounces,\n",
    "  time_on_site,\n",
    "  totals.pageviews,\n",
    "  trafficSource.source,\n",
    "  trafficSource.medium,\n",
    "  channelGrouping,\n",
    "  device.deviceCategory,\n",
    "  country\n",
    ")\n",
    "));"
   ]
  },
  {
   "cell_type": "markdown",
   "metadata": {},
   "source": [
    "With this new model you now get a roc_auc of 0.91 which is significantly better than the first model."
   ]
  },
  {
   "cell_type": "markdown",
   "metadata": {},
   "source": [
    "## Results\n",
    "`Of the top 6% of first-time visitors (sorted in decreasing order of predicted probability), more than 6% make a purchase in a later visit.\n",
    "These users represent nearly 50% of all first-time visitors who make a purchase in a later visit.\n",
    "Overall, only 0.7% of first-time visitors make a purchase in a later visit.\n",
    "Targeting the top 6% of first-time increases marketing ROI by 9x vs targeting them all!`"
   ]
  },
  {
   "cell_type": "markdown",
   "metadata": {},
   "source": [
    "## Additional information\n",
    "Tip: add warm_start = true to your model options if you are retraining new data on an existing model for faster training times. Note that you cannot change the feature columns (this would necessitate a new model).\n",
    "\n",
    "roc_auc is just one of the performance metrics available during model evaluation. Also available are accuracy, precision, and recall. Knowing which performance metric to rely on is highly dependent on what your overall objective or goal is."
   ]
  }
 ],
 "metadata": {
  "kernelspec": {
   "display_name": "johannes",
   "language": "python",
   "name": "python3"
  },
  "language_info": {
   "codemirror_mode": {
    "name": "ipython",
    "version": 3
   },
   "file_extension": ".py",
   "mimetype": "text/x-python",
   "name": "python",
   "nbconvert_exporter": "python",
   "pygments_lexer": "ipython3",
   "version": "3.12.1"
  }
 },
 "nbformat": 4,
 "nbformat_minor": 2
}
