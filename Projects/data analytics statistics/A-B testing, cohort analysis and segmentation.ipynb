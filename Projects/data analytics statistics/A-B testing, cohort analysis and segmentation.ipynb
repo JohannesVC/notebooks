{
 "cells": [
  {
   "cell_type": "markdown",
   "metadata": {},
   "source": [
    "# Statistical methods for A/B testing, segmentation and cohort analysis in Python\n",
    "\n",
    "## 1. A/B testing\n",
    "\n",
    "As an example how to compare metrics like conversion rate or click-through rate, I connected my website johannes.vc via Google Analytics to BigQuery, and from BigQuery to this analytics notebook. \n",
    "\n",
    "**Objective:**\n",
    "- compare click-through traffic on Mobile and Web.\n",
    "- Is the difference significant (5% level) or highly significant (1% level)?"
   ]
  },
  {
   "cell_type": "markdown",
   "metadata": {},
   "source": [
    "# Some EDA\n",
    "\n",
    "Scroll down for a/b test"
   ]
  },
  {
   "cell_type": "code",
   "execution_count": 2,
   "metadata": {},
   "outputs": [],
   "source": [
    "%load_ext google.cloud.bigquery\n",
    "import pandas as pd\n",
    "import numpy as np"
   ]
  },
  {
   "cell_type": "code",
   "execution_count": 7,
   "metadata": {
    "vscode": {
     "languageId": "sql"
    }
   },
   "outputs": [
    {
     "data": {
      "application/vnd.jupyter.widget-view+json": {
       "model_id": "4c0342c95e8e4c118bdc87423a13ce93",
       "version_major": 2,
       "version_minor": 0
      },
      "text/plain": [
       "Query is running:   0%|          |"
      ]
     },
     "metadata": {},
     "output_type": "display_data"
    },
    {
     "data": {
      "application/vnd.jupyter.widget-view+json": {
       "model_id": "55e4c2e2e73c4844b8e806caa096da64",
       "version_major": 2,
       "version_minor": 0
      },
      "text/plain": [
       "Downloading:   0%|          |"
      ]
     },
     "metadata": {},
     "output_type": "display_data"
    },
    {
     "data": {
      "text/html": [
       "<div>\n",
       "<style scoped>\n",
       "    .dataframe tbody tr th:only-of-type {\n",
       "        vertical-align: middle;\n",
       "    }\n",
       "\n",
       "    .dataframe tbody tr th {\n",
       "        vertical-align: top;\n",
       "    }\n",
       "\n",
       "    .dataframe thead th {\n",
       "        text-align: right;\n",
       "    }\n",
       "</style>\n",
       "<table border=\"1\" class=\"dataframe\">\n",
       "  <thead>\n",
       "    <tr style=\"text-align: right;\">\n",
       "      <th></th>\n",
       "      <th>unique_users</th>\n",
       "    </tr>\n",
       "  </thead>\n",
       "  <tbody>\n",
       "    <tr>\n",
       "      <th>0</th>\n",
       "      <td>4</td>\n",
       "    </tr>\n",
       "  </tbody>\n",
       "</table>\n",
       "</div>"
      ],
      "text/plain": [
       "   unique_users\n",
       "0             4"
      ]
     },
     "execution_count": 7,
     "metadata": {},
     "output_type": "execute_result"
    }
   ],
   "source": [
    "%%bigquery\n",
    "SELECT COUNT(DISTINCT user_pseudo_id) as unique_users\n",
    "FROM `johannesvc.analytics_413581908.events_*`\n",
    "-- WHERE _TABLE_SUFFIX BETWEEN '20240101' AND '20240217'"
   ]
  },
  {
   "cell_type": "code",
   "execution_count": 3,
   "metadata": {
    "vscode": {
     "languageId": "sql"
    }
   },
   "outputs": [
    {
     "data": {
      "application/vnd.jupyter.widget-view+json": {
       "model_id": "ba7127b139c14a928a052d4e0bf4949d",
       "version_major": 2,
       "version_minor": 0
      },
      "text/plain": [
       "Query is running:   0%|          |"
      ]
     },
     "metadata": {},
     "output_type": "display_data"
    },
    {
     "data": {
      "application/vnd.jupyter.widget-view+json": {
       "model_id": "68f9f5b5d76542b3852e85a2015ce035",
       "version_major": 2,
       "version_minor": 0
      },
      "text/plain": [
       "Downloading:   0%|          |"
      ]
     },
     "metadata": {},
     "output_type": "display_data"
    }
   ],
   "source": [
    "%%bigquery inspect\n",
    "SELECT\n",
    "  event_name, \n",
    "  (SELECT value.string_value FROM UNNEST(event_params) WHERE key = 'page_location') AS page_location\n",
    "FROM\n",
    "  `johannesvc.analytics_413581908.events_*`\n",
    "WHERE\n",
    "  event_name = 'page_view'"
   ]
  },
  {
   "cell_type": "code",
   "execution_count": 4,
   "metadata": {
    "vscode": {
     "languageId": "sql"
    }
   },
   "outputs": [
    {
     "data": {
      "text/html": [
       "<div>\n",
       "<style scoped>\n",
       "    .dataframe tbody tr th:only-of-type {\n",
       "        vertical-align: middle;\n",
       "    }\n",
       "\n",
       "    .dataframe tbody tr th {\n",
       "        vertical-align: top;\n",
       "    }\n",
       "\n",
       "    .dataframe thead th {\n",
       "        text-align: right;\n",
       "    }\n",
       "</style>\n",
       "<table border=\"1\" class=\"dataframe\">\n",
       "  <thead>\n",
       "    <tr style=\"text-align: right;\">\n",
       "      <th></th>\n",
       "      <th>event_name</th>\n",
       "      <th>page_location</th>\n",
       "    </tr>\n",
       "  </thead>\n",
       "  <tbody>\n",
       "    <tr>\n",
       "      <th>0</th>\n",
       "      <td>page_view</td>\n",
       "      <td>https://johannes.vc/</td>\n",
       "    </tr>\n",
       "    <tr>\n",
       "      <th>1</th>\n",
       "      <td>page_view</td>\n",
       "      <td>https://johannes.vc/</td>\n",
       "    </tr>\n",
       "    <tr>\n",
       "      <th>2</th>\n",
       "      <td>page_view</td>\n",
       "      <td>https://johannes.vc/</td>\n",
       "    </tr>\n",
       "    <tr>\n",
       "      <th>3</th>\n",
       "      <td>page_view</td>\n",
       "      <td>https://johannes.vc/</td>\n",
       "    </tr>\n",
       "    <tr>\n",
       "      <th>4</th>\n",
       "      <td>page_view</td>\n",
       "      <td>https://johannes.vc/</td>\n",
       "    </tr>\n",
       "    <tr>\n",
       "      <th>...</th>\n",
       "      <td>...</td>\n",
       "      <td>...</td>\n",
       "    </tr>\n",
       "    <tr>\n",
       "      <th>164</th>\n",
       "      <td>page_view</td>\n",
       "      <td>https://johannes.vc/</td>\n",
       "    </tr>\n",
       "    <tr>\n",
       "      <th>165</th>\n",
       "      <td>page_view</td>\n",
       "      <td>https://johannes.vc/</td>\n",
       "    </tr>\n",
       "    <tr>\n",
       "      <th>166</th>\n",
       "      <td>page_view</td>\n",
       "      <td>https://johannes.vc/</td>\n",
       "    </tr>\n",
       "    <tr>\n",
       "      <th>167</th>\n",
       "      <td>page_view</td>\n",
       "      <td>https://johannes.vc/</td>\n",
       "    </tr>\n",
       "    <tr>\n",
       "      <th>168</th>\n",
       "      <td>page_view</td>\n",
       "      <td>https://johannes.vc/</td>\n",
       "    </tr>\n",
       "  </tbody>\n",
       "</table>\n",
       "<p>169 rows × 2 columns</p>\n",
       "</div>"
      ],
      "text/plain": [
       "    event_name         page_location\n",
       "0    page_view  https://johannes.vc/\n",
       "1    page_view  https://johannes.vc/\n",
       "2    page_view  https://johannes.vc/\n",
       "3    page_view  https://johannes.vc/\n",
       "4    page_view  https://johannes.vc/\n",
       "..         ...                   ...\n",
       "164  page_view  https://johannes.vc/\n",
       "165  page_view  https://johannes.vc/\n",
       "166  page_view  https://johannes.vc/\n",
       "167  page_view  https://johannes.vc/\n",
       "168  page_view  https://johannes.vc/\n",
       "\n",
       "[169 rows x 2 columns]"
      ]
     },
     "execution_count": 4,
     "metadata": {},
     "output_type": "execute_result"
    }
   ],
   "source": [
    "inspect"
   ]
  },
  {
   "cell_type": "code",
   "execution_count": 100,
   "metadata": {
    "vscode": {
     "languageId": "sql"
    }
   },
   "outputs": [
    {
     "data": {
      "application/vnd.jupyter.widget-view+json": {
       "model_id": "a63d0f5c467b41438f2d99b9aff53eb6",
       "version_major": 2,
       "version_minor": 0
      },
      "text/plain": [
       "Query is running:   0%|          |"
      ]
     },
     "metadata": {},
     "output_type": "display_data"
    },
    {
     "data": {
      "application/vnd.jupyter.widget-view+json": {
       "model_id": "c01a818705bc4ca2963a4cf7e70174c4",
       "version_major": 2,
       "version_minor": 0
      },
      "text/plain": [
       "Downloading:   0%|          |"
      ]
     },
     "metadata": {},
     "output_type": "display_data"
    },
    {
     "data": {
      "text/html": [
       "<div>\n",
       "<style scoped>\n",
       "    .dataframe tbody tr th:only-of-type {\n",
       "        vertical-align: middle;\n",
       "    }\n",
       "\n",
       "    .dataframe tbody tr th {\n",
       "        vertical-align: top;\n",
       "    }\n",
       "\n",
       "    .dataframe thead th {\n",
       "        text-align: right;\n",
       "    }\n",
       "</style>\n",
       "<table border=\"1\" class=\"dataframe\">\n",
       "  <thead>\n",
       "    <tr style=\"text-align: right;\">\n",
       "      <th></th>\n",
       "      <th>user_pseudo_id</th>\n",
       "      <th>page_location</th>\n",
       "      <th>time_spent_seconds</th>\n",
       "    </tr>\n",
       "  </thead>\n",
       "  <tbody>\n",
       "    <tr>\n",
       "      <th>0</th>\n",
       "      <td>1416806056.1698414500</td>\n",
       "      <td>https://johannes.vc/services/</td>\n",
       "      <td>6</td>\n",
       "    </tr>\n",
       "    <tr>\n",
       "      <th>1</th>\n",
       "      <td>1416806056.1698414500</td>\n",
       "      <td>https://johannes.vc/writings/</td>\n",
       "      <td>18</td>\n",
       "    </tr>\n",
       "    <tr>\n",
       "      <th>2</th>\n",
       "      <td>1416806056.1698414500</td>\n",
       "      <td>https://johannes.vc/</td>\n",
       "      <td>1</td>\n",
       "    </tr>\n",
       "    <tr>\n",
       "      <th>3</th>\n",
       "      <td>1416806056.1698414500</td>\n",
       "      <td>https://johannes.vc/</td>\n",
       "      <td>4907</td>\n",
       "    </tr>\n",
       "  </tbody>\n",
       "</table>\n",
       "</div>"
      ],
      "text/plain": [
       "          user_pseudo_id                  page_location  time_spent_seconds\n",
       "0  1416806056.1698414500  https://johannes.vc/services/                   6\n",
       "1  1416806056.1698414500  https://johannes.vc/writings/                  18\n",
       "2  1416806056.1698414500           https://johannes.vc/                   1\n",
       "3  1416806056.1698414500           https://johannes.vc/                4907"
      ]
     },
     "execution_count": 100,
     "metadata": {},
     "output_type": "execute_result"
    }
   ],
   "source": [
    "%%bigquery\n",
    "WITH PageViewsWithLead AS (\n",
    "  SELECT\n",
    "    user_pseudo_id,\n",
    "    event_timestamp,\n",
    "    event_name,\n",
    "    LAG(event_timestamp) OVER(PARTITION BY user_pseudo_id ORDER BY event_timestamp) AS prev_event_timestamp,\n",
    "    (SELECT value.string_value FROM UNNEST(event_params) WHERE key = 'page_location') AS page_location\n",
    "  FROM\n",
    "    `johannesvc.analytics_413581908.events_20240215`\n",
    "  WHERE\n",
    "    event_name = 'page_view'\n",
    ")\n",
    "\n",
    "SELECT\n",
    "  user_pseudo_id,\n",
    "  page_location,\n",
    "--   event_timestamp,\n",
    "--   prev_event_timestamp,\n",
    "  TIMESTAMP_DIFF(TIMESTAMP_MICROS(event_timestamp), TIMESTAMP_MICROS(prev_event_timestamp), SECOND) AS time_spent_seconds\n",
    "FROM\n",
    "  PageViewsWithLead\n",
    "WHERE\n",
    "  prev_event_timestamp IS NOT NULL\n",
    "ORDER BY\n",
    "  user_pseudo_id, event_timestamp"
   ]
  },
  {
   "cell_type": "markdown",
   "metadata": {},
   "source": [
    "Two ways of calculating engagement time. "
   ]
  },
  {
   "cell_type": "code",
   "execution_count": 11,
   "metadata": {
    "vscode": {
     "languageId": "sql"
    }
   },
   "outputs": [
    {
     "data": {
      "application/vnd.jupyter.widget-view+json": {
       "model_id": "fd3e74a31e3647319bdde898398dd050",
       "version_major": 2,
       "version_minor": 0
      },
      "text/plain": [
       "Query is running:   0%|          |"
      ]
     },
     "metadata": {},
     "output_type": "display_data"
    },
    {
     "data": {
      "application/vnd.jupyter.widget-view+json": {
       "model_id": "0cb43e039658486ab353c45b1e96c647",
       "version_major": 2,
       "version_minor": 0
      },
      "text/plain": [
       "Downloading:   0%|          |"
      ]
     },
     "metadata": {},
     "output_type": "display_data"
    },
    {
     "data": {
      "text/html": [
       "<div>\n",
       "<style scoped>\n",
       "    .dataframe tbody tr th:only-of-type {\n",
       "        vertical-align: middle;\n",
       "    }\n",
       "\n",
       "    .dataframe tbody tr th {\n",
       "        vertical-align: top;\n",
       "    }\n",
       "\n",
       "    .dataframe thead th {\n",
       "        text-align: right;\n",
       "    }\n",
       "</style>\n",
       "<table border=\"1\" class=\"dataframe\">\n",
       "  <thead>\n",
       "    <tr style=\"text-align: right;\">\n",
       "      <th></th>\n",
       "      <th>user_pseudo_id</th>\n",
       "      <th>event_name</th>\n",
       "      <th>category</th>\n",
       "      <th>page_location</th>\n",
       "      <th>session_engaged</th>\n",
       "      <th>engagement_time_msec</th>\n",
       "      <th>time_spent_seconds</th>\n",
       "    </tr>\n",
       "  </thead>\n",
       "  <tbody>\n",
       "    <tr>\n",
       "      <th>0</th>\n",
       "      <td>1416806056.1698414500</td>\n",
       "      <td>session_start</td>\n",
       "      <td>mobile</td>\n",
       "      <td>https://johannes.vc/</td>\n",
       "      <td>1</td>\n",
       "      <td>&lt;NA&gt;</td>\n",
       "      <td>&lt;NA&gt;</td>\n",
       "    </tr>\n",
       "    <tr>\n",
       "      <th>1</th>\n",
       "      <td>1416806056.1698414500</td>\n",
       "      <td>page_view</td>\n",
       "      <td>mobile</td>\n",
       "      <td>https://johannes.vc/</td>\n",
       "      <td>&lt;NA&gt;</td>\n",
       "      <td>&lt;NA&gt;</td>\n",
       "      <td>0</td>\n",
       "    </tr>\n",
       "    <tr>\n",
       "      <th>2</th>\n",
       "      <td>1416806056.1698414500</td>\n",
       "      <td>scroll</td>\n",
       "      <td>mobile</td>\n",
       "      <td>https://johannes.vc/</td>\n",
       "      <td>&lt;NA&gt;</td>\n",
       "      <td>5155</td>\n",
       "      <td>6</td>\n",
       "    </tr>\n",
       "    <tr>\n",
       "      <th>3</th>\n",
       "      <td>1416806056.1698414500</td>\n",
       "      <td>user_engagement</td>\n",
       "      <td>mobile</td>\n",
       "      <td>https://johannes.vc/</td>\n",
       "      <td>&lt;NA&gt;</td>\n",
       "      <td>1060</td>\n",
       "      <td>0</td>\n",
       "    </tr>\n",
       "    <tr>\n",
       "      <th>4</th>\n",
       "      <td>1416806056.1698414500</td>\n",
       "      <td>page_view</td>\n",
       "      <td>mobile</td>\n",
       "      <td>https://johannes.vc/services/</td>\n",
       "      <td>&lt;NA&gt;</td>\n",
       "      <td>&lt;NA&gt;</td>\n",
       "      <td>0</td>\n",
       "    </tr>\n",
       "    <tr>\n",
       "      <th>5</th>\n",
       "      <td>1416806056.1698414500</td>\n",
       "      <td>scroll</td>\n",
       "      <td>mobile</td>\n",
       "      <td>https://johannes.vc/services/</td>\n",
       "      <td>&lt;NA&gt;</td>\n",
       "      <td>5</td>\n",
       "      <td>5</td>\n",
       "    </tr>\n",
       "    <tr>\n",
       "      <th>6</th>\n",
       "      <td>1416806056.1698414500</td>\n",
       "      <td>user_engagement</td>\n",
       "      <td>mobile</td>\n",
       "      <td>https://johannes.vc/services/</td>\n",
       "      <td>&lt;NA&gt;</td>\n",
       "      <td>18591</td>\n",
       "      <td>13</td>\n",
       "    </tr>\n",
       "    <tr>\n",
       "      <th>7</th>\n",
       "      <td>1416806056.1698414500</td>\n",
       "      <td>page_view</td>\n",
       "      <td>mobile</td>\n",
       "      <td>https://johannes.vc/writings/</td>\n",
       "      <td>&lt;NA&gt;</td>\n",
       "      <td>&lt;NA&gt;</td>\n",
       "      <td>0</td>\n",
       "    </tr>\n",
       "    <tr>\n",
       "      <th>8</th>\n",
       "      <td>1416806056.1698414500</td>\n",
       "      <td>scroll</td>\n",
       "      <td>mobile</td>\n",
       "      <td>https://johannes.vc/writings/</td>\n",
       "      <td>&lt;NA&gt;</td>\n",
       "      <td>8</td>\n",
       "      <td>1</td>\n",
       "    </tr>\n",
       "    <tr>\n",
       "      <th>9</th>\n",
       "      <td>1416806056.1698414500</td>\n",
       "      <td>user_engagement</td>\n",
       "      <td>mobile</td>\n",
       "      <td>https://johannes.vc/writings/</td>\n",
       "      <td>&lt;NA&gt;</td>\n",
       "      <td>1759</td>\n",
       "      <td>0</td>\n",
       "    </tr>\n",
       "    <tr>\n",
       "      <th>10</th>\n",
       "      <td>1416806056.1698414500</td>\n",
       "      <td>page_view</td>\n",
       "      <td>mobile</td>\n",
       "      <td>https://johannes.vc/</td>\n",
       "      <td>&lt;NA&gt;</td>\n",
       "      <td>&lt;NA&gt;</td>\n",
       "      <td>0</td>\n",
       "    </tr>\n",
       "    <tr>\n",
       "      <th>11</th>\n",
       "      <td>1416806056.1698414500</td>\n",
       "      <td>scroll</td>\n",
       "      <td>mobile</td>\n",
       "      <td>https://johannes.vc/</td>\n",
       "      <td>&lt;NA&gt;</td>\n",
       "      <td>38</td>\n",
       "      <td>5</td>\n",
       "    </tr>\n",
       "    <tr>\n",
       "      <th>12</th>\n",
       "      <td>1416806056.1698414500</td>\n",
       "      <td>session_start</td>\n",
       "      <td>mobile</td>\n",
       "      <td>https://johannes.vc/</td>\n",
       "      <td>&lt;NA&gt;</td>\n",
       "      <td>&lt;NA&gt;</td>\n",
       "      <td>4902</td>\n",
       "    </tr>\n",
       "    <tr>\n",
       "      <th>13</th>\n",
       "      <td>1416806056.1698414500</td>\n",
       "      <td>page_view</td>\n",
       "      <td>mobile</td>\n",
       "      <td>https://johannes.vc/</td>\n",
       "      <td>&lt;NA&gt;</td>\n",
       "      <td>&lt;NA&gt;</td>\n",
       "      <td>0</td>\n",
       "    </tr>\n",
       "    <tr>\n",
       "      <th>14</th>\n",
       "      <td>49639856.1698414481</td>\n",
       "      <td>session_start</td>\n",
       "      <td>mobile</td>\n",
       "      <td>https://johannes.vc/</td>\n",
       "      <td>1</td>\n",
       "      <td>&lt;NA&gt;</td>\n",
       "      <td>&lt;NA&gt;</td>\n",
       "    </tr>\n",
       "    <tr>\n",
       "      <th>15</th>\n",
       "      <td>49639856.1698414481</td>\n",
       "      <td>page_view</td>\n",
       "      <td>mobile</td>\n",
       "      <td>https://johannes.vc/</td>\n",
       "      <td>&lt;NA&gt;</td>\n",
       "      <td>&lt;NA&gt;</td>\n",
       "      <td>0</td>\n",
       "    </tr>\n",
       "    <tr>\n",
       "      <th>16</th>\n",
       "      <td>49639856.1698414481</td>\n",
       "      <td>scroll</td>\n",
       "      <td>mobile</td>\n",
       "      <td>https://johannes.vc/</td>\n",
       "      <td>&lt;NA&gt;</td>\n",
       "      <td>153</td>\n",
       "      <td>5</td>\n",
       "    </tr>\n",
       "    <tr>\n",
       "      <th>17</th>\n",
       "      <td>49639856.1698414481</td>\n",
       "      <td>user_engagement</td>\n",
       "      <td>mobile</td>\n",
       "      <td>https://johannes.vc/</td>\n",
       "      <td>&lt;NA&gt;</td>\n",
       "      <td>9018</td>\n",
       "      <td>4</td>\n",
       "    </tr>\n",
       "    <tr>\n",
       "      <th>18</th>\n",
       "      <td>49639856.1698414481</td>\n",
       "      <td>page_view</td>\n",
       "      <td>mobile</td>\n",
       "      <td>https://johannes.vc/services/</td>\n",
       "      <td>&lt;NA&gt;</td>\n",
       "      <td>&lt;NA&gt;</td>\n",
       "      <td>5</td>\n",
       "    </tr>\n",
       "    <tr>\n",
       "      <th>19</th>\n",
       "      <td>49639856.1698414481</td>\n",
       "      <td>scroll</td>\n",
       "      <td>mobile</td>\n",
       "      <td>https://johannes.vc/services/</td>\n",
       "      <td>&lt;NA&gt;</td>\n",
       "      <td>15939</td>\n",
       "      <td>500</td>\n",
       "    </tr>\n",
       "    <tr>\n",
       "      <th>20</th>\n",
       "      <td>1505607843.1708194715</td>\n",
       "      <td>first_visit</td>\n",
       "      <td>mobile</td>\n",
       "      <td>https://johannes.vc/</td>\n",
       "      <td>&lt;NA&gt;</td>\n",
       "      <td>&lt;NA&gt;</td>\n",
       "      <td>&lt;NA&gt;</td>\n",
       "    </tr>\n",
       "    <tr>\n",
       "      <th>21</th>\n",
       "      <td>1505607843.1708194715</td>\n",
       "      <td>session_start</td>\n",
       "      <td>mobile</td>\n",
       "      <td>https://johannes.vc/</td>\n",
       "      <td>&lt;NA&gt;</td>\n",
       "      <td>&lt;NA&gt;</td>\n",
       "      <td>0</td>\n",
       "    </tr>\n",
       "    <tr>\n",
       "      <th>22</th>\n",
       "      <td>1505607843.1708194715</td>\n",
       "      <td>page_view</td>\n",
       "      <td>mobile</td>\n",
       "      <td>https://johannes.vc/</td>\n",
       "      <td>&lt;NA&gt;</td>\n",
       "      <td>&lt;NA&gt;</td>\n",
       "      <td>0</td>\n",
       "    </tr>\n",
       "    <tr>\n",
       "      <th>23</th>\n",
       "      <td>1007198316.1707993467</td>\n",
       "      <td>first_visit</td>\n",
       "      <td>desktop</td>\n",
       "      <td>https://johannes.vc/services/</td>\n",
       "      <td>&lt;NA&gt;</td>\n",
       "      <td>&lt;NA&gt;</td>\n",
       "      <td>&lt;NA&gt;</td>\n",
       "    </tr>\n",
       "    <tr>\n",
       "      <th>24</th>\n",
       "      <td>1007198316.1707993467</td>\n",
       "      <td>session_start</td>\n",
       "      <td>desktop</td>\n",
       "      <td>https://johannes.vc/services/</td>\n",
       "      <td>&lt;NA&gt;</td>\n",
       "      <td>&lt;NA&gt;</td>\n",
       "      <td>0</td>\n",
       "    </tr>\n",
       "    <tr>\n",
       "      <th>25</th>\n",
       "      <td>1007198316.1707993467</td>\n",
       "      <td>page_view</td>\n",
       "      <td>desktop</td>\n",
       "      <td>https://johannes.vc/services/</td>\n",
       "      <td>&lt;NA&gt;</td>\n",
       "      <td>&lt;NA&gt;</td>\n",
       "      <td>0</td>\n",
       "    </tr>\n",
       "    <tr>\n",
       "      <th>26</th>\n",
       "      <td>1007198316.1707993467</td>\n",
       "      <td>scroll</td>\n",
       "      <td>desktop</td>\n",
       "      <td>https://johannes.vc/services/</td>\n",
       "      <td>&lt;NA&gt;</td>\n",
       "      <td>4</td>\n",
       "      <td>2</td>\n",
       "    </tr>\n",
       "    <tr>\n",
       "      <th>27</th>\n",
       "      <td>1007198316.1707993467</td>\n",
       "      <td>user_engagement</td>\n",
       "      <td>desktop</td>\n",
       "      <td>https://johannes.vc/services/</td>\n",
       "      <td>&lt;NA&gt;</td>\n",
       "      <td>2793</td>\n",
       "      <td>0</td>\n",
       "    </tr>\n",
       "  </tbody>\n",
       "</table>\n",
       "</div>"
      ],
      "text/plain": [
       "           user_pseudo_id       event_name category  \\\n",
       "0   1416806056.1698414500    session_start   mobile   \n",
       "1   1416806056.1698414500        page_view   mobile   \n",
       "2   1416806056.1698414500           scroll   mobile   \n",
       "3   1416806056.1698414500  user_engagement   mobile   \n",
       "4   1416806056.1698414500        page_view   mobile   \n",
       "5   1416806056.1698414500           scroll   mobile   \n",
       "6   1416806056.1698414500  user_engagement   mobile   \n",
       "7   1416806056.1698414500        page_view   mobile   \n",
       "8   1416806056.1698414500           scroll   mobile   \n",
       "9   1416806056.1698414500  user_engagement   mobile   \n",
       "10  1416806056.1698414500        page_view   mobile   \n",
       "11  1416806056.1698414500           scroll   mobile   \n",
       "12  1416806056.1698414500    session_start   mobile   \n",
       "13  1416806056.1698414500        page_view   mobile   \n",
       "14    49639856.1698414481    session_start   mobile   \n",
       "15    49639856.1698414481        page_view   mobile   \n",
       "16    49639856.1698414481           scroll   mobile   \n",
       "17    49639856.1698414481  user_engagement   mobile   \n",
       "18    49639856.1698414481        page_view   mobile   \n",
       "19    49639856.1698414481           scroll   mobile   \n",
       "20  1505607843.1708194715      first_visit   mobile   \n",
       "21  1505607843.1708194715    session_start   mobile   \n",
       "22  1505607843.1708194715        page_view   mobile   \n",
       "23  1007198316.1707993467      first_visit  desktop   \n",
       "24  1007198316.1707993467    session_start  desktop   \n",
       "25  1007198316.1707993467        page_view  desktop   \n",
       "26  1007198316.1707993467           scroll  desktop   \n",
       "27  1007198316.1707993467  user_engagement  desktop   \n",
       "\n",
       "                    page_location  session_engaged  engagement_time_msec  \\\n",
       "0            https://johannes.vc/                1                  <NA>   \n",
       "1            https://johannes.vc/             <NA>                  <NA>   \n",
       "2            https://johannes.vc/             <NA>                  5155   \n",
       "3            https://johannes.vc/             <NA>                  1060   \n",
       "4   https://johannes.vc/services/             <NA>                  <NA>   \n",
       "5   https://johannes.vc/services/             <NA>                     5   \n",
       "6   https://johannes.vc/services/             <NA>                 18591   \n",
       "7   https://johannes.vc/writings/             <NA>                  <NA>   \n",
       "8   https://johannes.vc/writings/             <NA>                     8   \n",
       "9   https://johannes.vc/writings/             <NA>                  1759   \n",
       "10           https://johannes.vc/             <NA>                  <NA>   \n",
       "11           https://johannes.vc/             <NA>                    38   \n",
       "12           https://johannes.vc/             <NA>                  <NA>   \n",
       "13           https://johannes.vc/             <NA>                  <NA>   \n",
       "14           https://johannes.vc/                1                  <NA>   \n",
       "15           https://johannes.vc/             <NA>                  <NA>   \n",
       "16           https://johannes.vc/             <NA>                   153   \n",
       "17           https://johannes.vc/             <NA>                  9018   \n",
       "18  https://johannes.vc/services/             <NA>                  <NA>   \n",
       "19  https://johannes.vc/services/             <NA>                 15939   \n",
       "20           https://johannes.vc/             <NA>                  <NA>   \n",
       "21           https://johannes.vc/             <NA>                  <NA>   \n",
       "22           https://johannes.vc/             <NA>                  <NA>   \n",
       "23  https://johannes.vc/services/             <NA>                  <NA>   \n",
       "24  https://johannes.vc/services/             <NA>                  <NA>   \n",
       "25  https://johannes.vc/services/             <NA>                  <NA>   \n",
       "26  https://johannes.vc/services/             <NA>                     4   \n",
       "27  https://johannes.vc/services/             <NA>                  2793   \n",
       "\n",
       "    time_spent_seconds  \n",
       "0                 <NA>  \n",
       "1                    0  \n",
       "2                    6  \n",
       "3                    0  \n",
       "4                    0  \n",
       "5                    5  \n",
       "6                   13  \n",
       "7                    0  \n",
       "8                    1  \n",
       "9                    0  \n",
       "10                   0  \n",
       "11                   5  \n",
       "12                4902  \n",
       "13                   0  \n",
       "14                <NA>  \n",
       "15                   0  \n",
       "16                   5  \n",
       "17                   4  \n",
       "18                   5  \n",
       "19                 500  \n",
       "20                <NA>  \n",
       "21                   0  \n",
       "22                   0  \n",
       "23                <NA>  \n",
       "24                   0  \n",
       "25                   0  \n",
       "26                   2  \n",
       "27                   0  "
      ]
     },
     "execution_count": 11,
     "metadata": {},
     "output_type": "execute_result"
    }
   ],
   "source": [
    "%%bigquery\n",
    "SELECT\n",
    "  user_pseudo_id,\n",
    "  event_name,\n",
    "  -- event_timestamp,\n",
    "  device.category,\n",
    "  (SELECT value.string_value FROM UNNEST(event_params) WHERE key = 'page_location') AS page_location,\n",
    "  (SELECT value.int_value FROM UNNEST(event_params) WHERE key = 'session_engaged') AS session_engaged,\n",
    "  (SELECT value.int_value FROM UNNEST(event_params) WHERE key = 'engagement_time_msec') AS engagement_time_msec,\n",
    "  TIMESTAMP_DIFF(\n",
    "    TIMESTAMP_MICROS(event_timestamp), TIMESTAMP_MICROS(\n",
    "      LAG(event_timestamp) OVER(PARTITION BY user_pseudo_id ORDER BY event_timestamp)\n",
    "      ), SECOND) AS time_spent_seconds,\n",
    "FROM\n",
    "  `johannesvc.analytics_413581908.events_*`"
   ]
  },
  {
   "cell_type": "markdown",
   "metadata": {},
   "source": [
    "# Simple grouping for A/B test"
   ]
  },
  {
   "cell_type": "code",
   "execution_count": 14,
   "metadata": {
    "vscode": {
     "languageId": "sql"
    }
   },
   "outputs": [
    {
     "data": {
      "application/vnd.jupyter.widget-view+json": {
       "model_id": "9ad52d3b93e44dc49a95157cee9e5d20",
       "version_major": 2,
       "version_minor": 0
      },
      "text/plain": [
       "Query is running:   0%|          |"
      ]
     },
     "metadata": {},
     "output_type": "display_data"
    },
    {
     "data": {
      "application/vnd.jupyter.widget-view+json": {
       "model_id": "4cc0dad4e7ec458d9e35d325348c4bbf",
       "version_major": 2,
       "version_minor": 0
      },
      "text/plain": [
       "Downloading:   0%|          |"
      ]
     },
     "metadata": {},
     "output_type": "display_data"
    }
   ],
   "source": [
    "%%bigquery df\n",
    "SELECT\n",
    "    user_pseudo_id,\n",
    "    COUNT(*) AS pageviews,\n",
    "    device.category AS metric\n",
    "  FROM\n",
    "    `johannesvc.analytics_413581908.events_*`\n",
    "  WHERE\n",
    "    event_name = 'page_view'\n",
    "  GROUP BY\n",
    "    device.category,\n",
    "    user_pseudo_id"
   ]
  },
  {
   "cell_type": "code",
   "execution_count": 15,
   "metadata": {},
   "outputs": [],
   "source": [
    "# get the metric (binary 1-0) for each group\n",
    "group_a = df[df['metric'] == 'mobile']['pageviews'].astype('float64')\n",
    "group_b = df[df['metric'] == 'desktop']['pageviews'].astype('float64')"
   ]
  },
  {
   "cell_type": "code",
   "execution_count": 16,
   "metadata": {},
   "outputs": [
    {
     "data": {
      "text/plain": [
       "(0    5.0\n",
       " 2    1.0\n",
       " 3    2.0\n",
       " Name: pageviews, dtype: float64,\n",
       " 1    1.0\n",
       " Name: pageviews, dtype: float64)"
      ]
     },
     "execution_count": 16,
     "metadata": {},
     "output_type": "execute_result"
    }
   ],
   "source": [
    "group_a, group_b"
   ]
  },
  {
   "cell_type": "code",
   "execution_count": 17,
   "metadata": {},
   "outputs": [
    {
     "name": "stdout",
     "output_type": "stream",
     "text": [
      "T-statistic: 0.6933752452815364, P-value: 0.5597745468371882\n",
      "There is no statistically significant difference between the two groups.\n"
     ]
    }
   ],
   "source": [
    "from scipy.stats import ttest_ind\n",
    "\n",
    "# Perform independent two-sample t-test\n",
    "t_stat, p_value = ttest_ind(group_a, group_b)\n",
    "\n",
    "print(f\"T-statistic: {t_stat}, P-value: {p_value}\")\n",
    "\n",
    "alpha = 0.05  # significance level\n",
    "if p_value < alpha:\n",
    "    print(\"There is a statistically significant difference between the two groups.\")\n",
    "else:\n",
    "    print(\"There is no statistically significant difference between the two groups.\")"
   ]
  },
  {
   "cell_type": "code",
   "execution_count": 41,
   "metadata": {},
   "outputs": [
    {
     "data": {
      "text/plain": [
       "TtestResult(statistic=0.6933752452815364, pvalue=0.5597745468371882, df=2.0)"
      ]
     },
     "execution_count": 41,
     "metadata": {},
     "output_type": "execute_result"
    }
   ],
   "source": [
    "ttest_ind(group_a, group_b)"
   ]
  },
  {
   "cell_type": "markdown",
   "metadata": {},
   "source": [
    "## Explanation\n",
    "In the context of a t-test, the `t_stat` (t-statistic) and `p_value` (p-value) are key outcomes that provide statistical measures to help evaluate the significance of the difference between two groups. Here's what they represent:\n",
    "\n",
    "### T-Statistic (`t_stat`)\n",
    "\n",
    "- The t-statistic is a ratio that compares the difference between the means of two groups to the variability of the groups. It's calculated using the formula:\n",
    "\n",
    "  $t = \\frac{\\bar{x}_1 - \\bar{x}_2}{s_{\\bar{x}_1 - \\bar{x}_2}}$\n",
    "  \n",
    "\n",
    "  where $(\\bar{x}_1) and (\\bar{x}_2)$ are the sample means of the two groups, and $(s_{\\bar{x}_1 - \\bar{x}_2})$ is the standard error of the difference between the two means. \n",
    "\n",
    "- The t-statistic measures how many standard errors the difference between the two means is away from 0. A larger absolute value of the t-statistic indicates a greater difference between the groups relative to the variability within the groups.\n",
    "\n",
    "### P-Value (`p_value`)\n",
    "\n",
    "- The p-value is a probability that measures the evidence against the null hypothesis. It tells you how likely it is to observe a test statistic as extreme as, or more extreme than, the one observed, assuming that the null hypothesis is true.\n",
    "\n",
    "- In the context of an A/B test, the null hypothesis typically states that there is no difference between the means of the two groups. A small p-value (typically ≤ 0.05) indicates that the observed data would be very unlikely under the null hypothesis, leading to the rejection of the null hypothesis. This suggests that there is a statistically significant difference between the two groups.\n",
    "\n",
    "- The significance level (α) is a threshold chosen before the test is conducted, against which the p-value is compared. Commonly, α is set to 0.05. If the p-value is less than or equal to α, the difference between the groups is considered statistically significant.\n",
    "\n",
    "Together, the t-statistic and p-value provide a framework for making decisions in hypothesis testing:\n",
    "\n",
    "- The **t-statistic** gives a measure of the magnitude of difference between groups, normalized by the variability of the data.\n",
    "- The **p-value** gives the probability of observing such a difference (or more extreme) if the null hypothesis were true.\n",
    "\n",
    "The combination of these outcomes helps researchers and data analysts determine whether the differences observed in their data (such as conversion rates or other metrics in A/B tests) are statistically significant and not just due to random chance."
   ]
  },
  {
   "cell_type": "markdown",
   "metadata": {},
   "source": [
    "# 2. Cohort analysis and segmentation\n",
    "In cohort analysis and segmentation, these principles still apply, but the approach and context differ. Cohort analysis and segmentation involve breaking down data into specific groups (cohorts) based on shared characteristics or behaviors over time, and then analyzing these groups to understand trends, behaviors, and outcomes.\n",
    "\n",
    "### 2.1 Cohort Analysis\n",
    "\n",
    "- **Purpose**: Cohort analysis tracks the behavior of groups of users over time to identify trends or patterns. These cohorts could be based on the users' first purchase date, sign-up date, or any other event that marks their entry point into the dataset.\n",
    "\n",
    "- **Application of Statistical Tests**: You can apply statistical tests to compare metrics across different cohorts. For example, if you're looking at monthly cohorts based on sign-up date and you want to compare the 6-month retention rate across cohorts, you could use a t-test to compare the retention rates between any two cohorts to see if the difference in retention is statistically significant.\n",
    "\n",
    "### 2.2 Segmentation\n",
    "\n",
    "- **Purpose**: Segmentation involves dividing a broader market or customer base into smaller segments based on certain criteria like demographics, behavior, or psychographics. The goal is to understand differences between these segments to tailor products, services, or marketing strategies.\n",
    "\n",
    "- **Application of Statistical Tests**: Similar to cohort analysis, you can use statistical tests to compare key metrics across different segments. For instance, if you have segmented your users into high, medium, and low engagement based on their activity levels, you might use t-tests or ANOVA (Analysis of Variance) to compare average revenue across these segments. ANOVA is particularly useful for comparing more than two groups. \n",
    "  \n",
    "  \n",
    "To calculate the ANOVA F-value for each of the device types:"
   ]
  },
  {
   "cell_type": "code",
   "execution_count": 19,
   "metadata": {
    "vscode": {
     "languageId": "sql"
    }
   },
   "outputs": [
    {
     "data": {
      "application/vnd.jupyter.widget-view+json": {
       "model_id": "fabe081005ed48339c99431de9473b58",
       "version_major": 2,
       "version_minor": 0
      },
      "text/plain": [
       "Query is running:   0%|          |"
      ]
     },
     "metadata": {},
     "output_type": "display_data"
    },
    {
     "data": {
      "application/vnd.jupyter.widget-view+json": {
       "model_id": "7523c2a3cf6948b9a50935c929900900",
       "version_major": 2,
       "version_minor": 0
      },
      "text/plain": [
       "Downloading:   0%|          |"
      ]
     },
     "metadata": {},
     "output_type": "display_data"
    }
   ],
   "source": [
    "%%bigquery df2 \n",
    "SELECT \n",
    "    device.category AS metric,\n",
    "    COUNT(*) AS pageviews\n",
    "FROM `johannesvc.analytics_413581908.events_*`\n",
    "WHERE\n",
    "    event_name = 'page_view'\n",
    "GROUP BY\n",
    "    device.category,\n",
    "    user_pseudo_id"
   ]
  },
  {
   "cell_type": "code",
   "execution_count": 24,
   "metadata": {},
   "outputs": [
    {
     "data": {
      "text/html": [
       "<div>\n",
       "<style scoped>\n",
       "    .dataframe tbody tr th:only-of-type {\n",
       "        vertical-align: middle;\n",
       "    }\n",
       "\n",
       "    .dataframe tbody tr th {\n",
       "        vertical-align: top;\n",
       "    }\n",
       "\n",
       "    .dataframe thead th {\n",
       "        text-align: right;\n",
       "    }\n",
       "</style>\n",
       "<table border=\"1\" class=\"dataframe\">\n",
       "  <thead>\n",
       "    <tr style=\"text-align: right;\">\n",
       "      <th></th>\n",
       "      <th>metric</th>\n",
       "      <th>pageviews</th>\n",
       "    </tr>\n",
       "  </thead>\n",
       "  <tbody>\n",
       "    <tr>\n",
       "      <th>0</th>\n",
       "      <td>mobile</td>\n",
       "      <td>1</td>\n",
       "    </tr>\n",
       "    <tr>\n",
       "      <th>1</th>\n",
       "      <td>mobile</td>\n",
       "      <td>2</td>\n",
       "    </tr>\n",
       "    <tr>\n",
       "      <th>2</th>\n",
       "      <td>mobile</td>\n",
       "      <td>5</td>\n",
       "    </tr>\n",
       "    <tr>\n",
       "      <th>3</th>\n",
       "      <td>desktop</td>\n",
       "      <td>1</td>\n",
       "    </tr>\n",
       "  </tbody>\n",
       "</table>\n",
       "</div>"
      ],
      "text/plain": [
       "    metric  pageviews\n",
       "0   mobile          1\n",
       "1   mobile          2\n",
       "2   mobile          5\n",
       "3  desktop          1"
      ]
     },
     "execution_count": 24,
     "metadata": {},
     "output_type": "execute_result"
    }
   ],
   "source": [
    "df2"
   ]
  },
  {
   "cell_type": "code",
   "execution_count": 38,
   "metadata": {},
   "outputs": [],
   "source": [
    "# get the metric (binary 1-0) for each group\n",
    "group_a = df2[df2['metric'] == 'mobile']['pageviews'].astype('float64')\n",
    "group_b = df2[df2['metric'] == 'desktop']['pageviews'].astype('float64')\n",
    "group_c = [5.0, 1.0] # df2[df2['metric'] == 'tablet']['pageviews'].astype('float64')"
   ]
  },
  {
   "cell_type": "code",
   "execution_count": 40,
   "metadata": {},
   "outputs": [
    {
     "data": {
      "text/plain": [
       "F_onewayResult(statistic=0.255, pvalue=0.7901712196940587)"
      ]
     },
     "execution_count": 40,
     "metadata": {},
     "output_type": "execute_result"
    }
   ],
   "source": [
    "from scipy.stats import f_oneway\n",
    "\n",
    "f_oneway(group_a, group_b, group_c)"
   ]
  }
 ],
 "metadata": {
  "kernelspec": {
   "display_name": "johannes",
   "language": "python",
   "name": "python3"
  },
  "language_info": {
   "codemirror_mode": {
    "name": "ipython",
    "version": 3
   },
   "file_extension": ".py",
   "mimetype": "text/x-python",
   "name": "python",
   "nbconvert_exporter": "python",
   "pygments_lexer": "ipython3",
   "version": "3.12.1"
  }
 },
 "nbformat": 4,
 "nbformat_minor": 2
}
