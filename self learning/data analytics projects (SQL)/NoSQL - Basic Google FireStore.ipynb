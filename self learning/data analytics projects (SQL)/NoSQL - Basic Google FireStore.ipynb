{
 "cells": [
  {
   "cell_type": "markdown",
   "metadata": {},
   "source": [
    "# `Firestore`\n",
    "\n",
    "using google-cloud-firestore and firebase_admin to verify credentials"
   ]
  },
  {
   "cell_type": "code",
   "execution_count": 32,
   "metadata": {},
   "outputs": [],
   "source": [
    "import firebase_admin\n",
    "from firebase_admin import firestore"
   ]
  },
  {
   "cell_type": "code",
   "execution_count": 52,
   "metadata": {},
   "outputs": [
    {
     "name": "stdout",
     "output_type": "stream",
     "text": [
      "johannesvc\n"
     ]
    }
   ],
   "source": [
    "import os\n",
    "print(os.environ.get(\"GOOGLE_CLOUD_PROJECT\"))"
   ]
  },
  {
   "cell_type": "code",
   "execution_count": 50,
   "metadata": {},
   "outputs": [],
   "source": [
    "# os.environ[\"GOOGLE_CLOUD_PROJECT\"] = 'johannesvc'"
   ]
  },
  {
   "cell_type": "markdown",
   "metadata": {},
   "source": [
    "or in command prompt:\n",
    "\n",
    "setx GOOGLE_APPLICATION_CREDENTIALS \"C:/Users/johan/Documents/GitHub/johannes.vc/google_credentials.json\""
   ]
  },
  {
   "cell_type": "code",
   "execution_count": 33,
   "metadata": {},
   "outputs": [
    {
     "ename": "ValueError",
     "evalue": "The default Firebase app already exists. This means you called initialize_app() more than once without providing an app name as the second argument. In most cases you only need to call initialize_app() once. But if you do want to initialize multiple apps, pass a second argument to initialize_app() to give each app a unique name.",
     "output_type": "error",
     "traceback": [
      "\u001b[1;31m---------------------------------------------------------------------------\u001b[0m",
      "\u001b[1;31mValueError\u001b[0m                                Traceback (most recent call last)",
      "\u001b[1;32mc:\\Users\\johan\\Documents\\GitHub\\sandbox\\jupyter\\firestore.ipynb Cell 3\u001b[0m line \u001b[0;36m6\n\u001b[0;32m      <a href='vscode-notebook-cell:/c%3A/Users/johan/Documents/GitHub/sandbox/jupyter/firestore.ipynb#W2sZmlsZQ%3D%3D?line=2'>3</a>\u001b[0m cred \u001b[39m=\u001b[39m credentials\u001b[39m.\u001b[39mCertificate(\u001b[39m'\u001b[39m\u001b[39mC:/Users/johan/Documents/GitHub/johannes.vc/google_credentials.json\u001b[39m\u001b[39m'\u001b[39m)\n\u001b[0;32m      <a href='vscode-notebook-cell:/c%3A/Users/johan/Documents/GitHub/sandbox/jupyter/firestore.ipynb#W2sZmlsZQ%3D%3D?line=4'>5</a>\u001b[0m \u001b[39m# and then the same\u001b[39;00m\n\u001b[1;32m----> <a href='vscode-notebook-cell:/c%3A/Users/johan/Documents/GitHub/sandbox/jupyter/firestore.ipynb#W2sZmlsZQ%3D%3D?line=5'>6</a>\u001b[0m app \u001b[39m=\u001b[39m firebase_admin\u001b[39m.\u001b[39;49minitialize_app(cred)\n\u001b[0;32m      <a href='vscode-notebook-cell:/c%3A/Users/johan/Documents/GitHub/sandbox/jupyter/firestore.ipynb#W2sZmlsZQ%3D%3D?line=7'>8</a>\u001b[0m db \u001b[39m=\u001b[39m firestore\u001b[39m.\u001b[39mclient()\n",
      "File \u001b[1;32mc:\\ProgramData\\miniconda3\\envs\\johannes\\lib\\site-packages\\firebase_admin\\__init__.py:71\u001b[0m, in \u001b[0;36minitialize_app\u001b[1;34m(credential, options, name)\u001b[0m\n\u001b[0;32m     68\u001b[0m         \u001b[39mreturn\u001b[39;00m app\n\u001b[0;32m     70\u001b[0m \u001b[39mif\u001b[39;00m name \u001b[39m==\u001b[39m _DEFAULT_APP_NAME:\n\u001b[1;32m---> 71\u001b[0m     \u001b[39mraise\u001b[39;00m \u001b[39mValueError\u001b[39;00m((\n\u001b[0;32m     72\u001b[0m         \u001b[39m'\u001b[39m\u001b[39mThe default Firebase app already exists. This means you called \u001b[39m\u001b[39m'\u001b[39m\n\u001b[0;32m     73\u001b[0m         \u001b[39m'\u001b[39m\u001b[39minitialize_app() more than once without providing an app name as \u001b[39m\u001b[39m'\u001b[39m\n\u001b[0;32m     74\u001b[0m         \u001b[39m'\u001b[39m\u001b[39mthe second argument. In most cases you only need to call \u001b[39m\u001b[39m'\u001b[39m\n\u001b[0;32m     75\u001b[0m         \u001b[39m'\u001b[39m\u001b[39minitialize_app() once. But if you do want to initialize multiple \u001b[39m\u001b[39m'\u001b[39m\n\u001b[0;32m     76\u001b[0m         \u001b[39m'\u001b[39m\u001b[39mapps, pass a second argument to initialize_app() to give each app \u001b[39m\u001b[39m'\u001b[39m\n\u001b[0;32m     77\u001b[0m         \u001b[39m'\u001b[39m\u001b[39ma unique name.\u001b[39m\u001b[39m'\u001b[39m))\n\u001b[0;32m     79\u001b[0m \u001b[39mraise\u001b[39;00m \u001b[39mValueError\u001b[39;00m((\n\u001b[0;32m     80\u001b[0m     \u001b[39m'\u001b[39m\u001b[39mFirebase app named \u001b[39m\u001b[39m\"\u001b[39m\u001b[39m{0}\u001b[39;00m\u001b[39m\"\u001b[39m\u001b[39m already exists. This means you called \u001b[39m\u001b[39m'\u001b[39m\n\u001b[0;32m     81\u001b[0m     \u001b[39m'\u001b[39m\u001b[39minitialize_app() more than once with the same app name as the \u001b[39m\u001b[39m'\u001b[39m\n\u001b[0;32m     82\u001b[0m     \u001b[39m'\u001b[39m\u001b[39msecond argument. Make sure you provide a unique name every time \u001b[39m\u001b[39m'\u001b[39m\n\u001b[0;32m     83\u001b[0m     \u001b[39m'\u001b[39m\u001b[39myou call initialize_app().\u001b[39m\u001b[39m'\u001b[39m)\u001b[39m.\u001b[39mformat(name))\n",
      "\u001b[1;31mValueError\u001b[0m: The default Firebase app already exists. This means you called initialize_app() more than once without providing an app name as the second argument. In most cases you only need to call initialize_app() once. But if you do want to initialize multiple apps, pass a second argument to initialize_app() to give each app a unique name."
     ]
    }
   ],
   "source": [
    "from firebase_admin import credentials\n",
    "\n",
    "cred = credentials.Certificate(os.environ[\"GOOGLE_APPLICATION_CREDENTIALS\"])\n",
    "\n",
    "# and then the same\n",
    "app = firebase_admin.initialize_app(cred)\n",
    "\n",
    "db = firestore.client()"
   ]
  },
  {
   "cell_type": "markdown",
   "metadata": {},
   "source": [
    "There's also an `ApplicationDefault` (using an existing credential)"
   ]
  },
  {
   "cell_type": "code",
   "execution_count": null,
   "metadata": {},
   "outputs": [],
   "source": [
    "# default\n",
    "cred = credentials.ApplicationDefault()"
   ]
  },
  {
   "cell_type": "markdown",
   "metadata": {},
   "source": [
    "and if the GOOGLE_APPLICATION_CREDENTIALS environment variable is set to the path of your service account key JSON file"
   ]
  },
  {
   "cell_type": "code",
   "execution_count": 35,
   "metadata": {},
   "outputs": [
    {
     "ename": "ValueError",
     "evalue": "The default Firebase app already exists. This means you called initialize_app() more than once without providing an app name as the second argument. In most cases you only need to call initialize_app() once. But if you do want to initialize multiple apps, pass a second argument to initialize_app() to give each app a unique name.",
     "output_type": "error",
     "traceback": [
      "\u001b[1;31m---------------------------------------------------------------------------\u001b[0m",
      "\u001b[1;31mValueError\u001b[0m                                Traceback (most recent call last)",
      "\u001b[1;32mc:\\Users\\johan\\Documents\\GitHub\\sandbox\\jupyter\\firestore.ipynb Cell 7\u001b[0m line \u001b[0;36m1\n\u001b[1;32m----> <a href='vscode-notebook-cell:/c%3A/Users/johan/Documents/GitHub/sandbox/jupyter/firestore.ipynb#W6sZmlsZQ%3D%3D?line=0'>1</a>\u001b[0m app \u001b[39m=\u001b[39m firebase_admin\u001b[39m.\u001b[39;49minitialize_app() \u001b[39m# (cred)\u001b[39;00m\n\u001b[0;32m      <a href='vscode-notebook-cell:/c%3A/Users/johan/Documents/GitHub/sandbox/jupyter/firestore.ipynb#W6sZmlsZQ%3D%3D?line=1'>2</a>\u001b[0m db \u001b[39m=\u001b[39m firestore\u001b[39m.\u001b[39mclient()\n",
      "File \u001b[1;32mc:\\ProgramData\\miniconda3\\envs\\johannes\\lib\\site-packages\\firebase_admin\\__init__.py:71\u001b[0m, in \u001b[0;36minitialize_app\u001b[1;34m(credential, options, name)\u001b[0m\n\u001b[0;32m     68\u001b[0m         \u001b[39mreturn\u001b[39;00m app\n\u001b[0;32m     70\u001b[0m \u001b[39mif\u001b[39;00m name \u001b[39m==\u001b[39m _DEFAULT_APP_NAME:\n\u001b[1;32m---> 71\u001b[0m     \u001b[39mraise\u001b[39;00m \u001b[39mValueError\u001b[39;00m((\n\u001b[0;32m     72\u001b[0m         \u001b[39m'\u001b[39m\u001b[39mThe default Firebase app already exists. This means you called \u001b[39m\u001b[39m'\u001b[39m\n\u001b[0;32m     73\u001b[0m         \u001b[39m'\u001b[39m\u001b[39minitialize_app() more than once without providing an app name as \u001b[39m\u001b[39m'\u001b[39m\n\u001b[0;32m     74\u001b[0m         \u001b[39m'\u001b[39m\u001b[39mthe second argument. In most cases you only need to call \u001b[39m\u001b[39m'\u001b[39m\n\u001b[0;32m     75\u001b[0m         \u001b[39m'\u001b[39m\u001b[39minitialize_app() once. But if you do want to initialize multiple \u001b[39m\u001b[39m'\u001b[39m\n\u001b[0;32m     76\u001b[0m         \u001b[39m'\u001b[39m\u001b[39mapps, pass a second argument to initialize_app() to give each app \u001b[39m\u001b[39m'\u001b[39m\n\u001b[0;32m     77\u001b[0m         \u001b[39m'\u001b[39m\u001b[39ma unique name.\u001b[39m\u001b[39m'\u001b[39m))\n\u001b[0;32m     79\u001b[0m \u001b[39mraise\u001b[39;00m \u001b[39mValueError\u001b[39;00m((\n\u001b[0;32m     80\u001b[0m     \u001b[39m'\u001b[39m\u001b[39mFirebase app named \u001b[39m\u001b[39m\"\u001b[39m\u001b[39m{0}\u001b[39;00m\u001b[39m\"\u001b[39m\u001b[39m already exists. This means you called \u001b[39m\u001b[39m'\u001b[39m\n\u001b[0;32m     81\u001b[0m     \u001b[39m'\u001b[39m\u001b[39minitialize_app() more than once with the same app name as the \u001b[39m\u001b[39m'\u001b[39m\n\u001b[0;32m     82\u001b[0m     \u001b[39m'\u001b[39m\u001b[39msecond argument. Make sure you provide a unique name every time \u001b[39m\u001b[39m'\u001b[39m\n\u001b[0;32m     83\u001b[0m     \u001b[39m'\u001b[39m\u001b[39myou call initialize_app().\u001b[39m\u001b[39m'\u001b[39m)\u001b[39m.\u001b[39mformat(name))\n",
      "\u001b[1;31mValueError\u001b[0m: The default Firebase app already exists. This means you called initialize_app() more than once without providing an app name as the second argument. In most cases you only need to call initialize_app() once. But if you do want to initialize multiple apps, pass a second argument to initialize_app() to give each app a unique name."
     ]
    }
   ],
   "source": [
    "app = firebase_admin.initialize_app() # (cred)"
   ]
  },
  {
   "cell_type": "code",
   "execution_count": null,
   "metadata": {},
   "outputs": [],
   "source": [
    "db = firestore.client()\n",
    "db.project"
   ]
  },
  {
   "cell_type": "markdown",
   "metadata": {},
   "source": [
    "## Create a new collection and document"
   ]
  },
  {
   "cell_type": "code",
   "execution_count": 3,
   "metadata": {},
   "outputs": [],
   "source": [
    "test_doc = db.collection(\"users\").document(\"alovelace\")"
   ]
  },
  {
   "cell_type": "markdown",
   "metadata": {},
   "source": [
    "set fields (much like insert_one - $set in mongodb)"
   ]
  },
  {
   "cell_type": "code",
   "execution_count": 4,
   "metadata": {},
   "outputs": [
    {
     "data": {
      "text/plain": [
       "update_time {\n",
       "  seconds: 1697618452\n",
       "  nanos: 574522000\n",
       "}"
      ]
     },
     "execution_count": 4,
     "metadata": {},
     "output_type": "execute_result"
    }
   ],
   "source": [
    "test_doc.set({\"first\": \"Ada\", \"last\": \"Lovelace\", \"born\": 1815})"
   ]
  },
  {
   "cell_type": "markdown",
   "metadata": {},
   "source": [
    "insert without document id"
   ]
  },
  {
   "cell_type": "code",
   "execution_count": 15,
   "metadata": {},
   "outputs": [
    {
     "data": {
      "text/plain": [
       "(DatetimeWithNanoseconds(2023, 10, 18, 8, 57, 2, 22559, tzinfo=datetime.timezone.utc),\n",
       " <google.cloud.firestore_v1.document.DocumentReference at 0x241dbf093f0>)"
      ]
     },
     "execution_count": 15,
     "metadata": {},
     "output_type": "execute_result"
    }
   ],
   "source": [
    "city = {\"name\": \"Tokyo\", \"country\": \"Japan\"}\n",
    "db.collection(\"cities\").add(city)"
   ]
  },
  {
   "cell_type": "code",
   "execution_count": 22,
   "metadata": {},
   "outputs": [
    {
     "data": {
      "text/plain": [
       "update_time {\n",
       "  seconds: 1697619718\n",
       "  nanos: 990470000\n",
       "}"
      ]
     },
     "execution_count": 22,
     "metadata": {},
     "output_type": "execute_result"
    }
   ],
   "source": [
    "# make doc without setting an id\n",
    "new_city_ref = db.collection(\"cities\").document()\n",
    "\n",
    "# later...\n",
    "new_city_ref.set({\"name\": \"Gent\"})"
   ]
  },
  {
   "cell_type": "markdown",
   "metadata": {},
   "source": [
    ".set overwrites unless merge=True"
   ]
  },
  {
   "cell_type": "code",
   "execution_count": 24,
   "metadata": {},
   "outputs": [
    {
     "data": {
      "text/plain": [
       "update_time {\n",
       "  seconds: 1697619787\n",
       "  nanos: 790536000\n",
       "}"
      ]
     },
     "execution_count": 24,
     "metadata": {},
     "output_type": "execute_result"
    }
   ],
   "source": [
    "new_city_ref.set({\"capital\": True}, merge=True) # otherwise it overwrites"
   ]
  },
  {
   "cell_type": "markdown",
   "metadata": {},
   "source": [
    "## update"
   ]
  },
  {
   "cell_type": "code",
   "execution_count": 25,
   "metadata": {},
   "outputs": [
    {
     "data": {
      "text/plain": [
       "update_time {\n",
       "  seconds: 1697619787\n",
       "  nanos: 790536000\n",
       "}"
      ]
     },
     "execution_count": 25,
     "metadata": {},
     "output_type": "execute_result"
    }
   ],
   "source": [
    "new_city_ref.update({\"capital\": True})"
   ]
  },
  {
   "cell_type": "code",
   "execution_count": 21,
   "metadata": {},
   "outputs": [
    {
     "data": {
      "text/plain": [
       "update_time {\n",
       "  seconds: 1697619648\n",
       "  nanos: 310000\n",
       "}\n",
       "transform_results {\n",
       "  timestamp_value {\n",
       "    seconds: 1697619647\n",
       "    nanos: 720000000\n",
       "  }\n",
       "}"
      ]
     },
     "execution_count": 21,
     "metadata": {},
     "output_type": "execute_result"
    }
   ],
   "source": [
    "# add a timestamp\n",
    "new_city_ref.update({\"timestamp\": firestore.SERVER_TIMESTAMP})"
   ]
  },
  {
   "cell_type": "markdown",
   "metadata": {},
   "source": [
    "nested objects can be reference with dot notation\n",
    "\n",
    "note: `favorites.color`"
   ]
  },
  {
   "cell_type": "code",
   "execution_count": 34,
   "metadata": {},
   "outputs": [
    {
     "data": {
      "text/plain": [
       "update_time {\n",
       "  seconds: 1697620254\n",
       "  nanos: 696226000\n",
       "}"
      ]
     },
     "execution_count": 34,
     "metadata": {},
     "output_type": "execute_result"
    }
   ],
   "source": [
    "# Create an initial document to update\n",
    "frank_ref = db.collection(\"users\").document(\"frank\")\n",
    "frank_ref.set(\n",
    "    {\n",
    "        \"name\": \"Frank\",\n",
    "        \"favorites\": {\"food\": \"Pizza\", \"color\": \"Blue\", \"subject\": \"Recess\"},\n",
    "        \"age\": 12,\n",
    "    }\n",
    ")\n",
    "\n",
    "# Update age and favorite color\n",
    "frank_ref.update({\"age\": 13, \"favorites.color\": \"Red\"})"
   ]
  },
  {
   "cell_type": "markdown",
   "metadata": {},
   "source": [
    "delete"
   ]
  },
  {
   "cell_type": "code",
   "execution_count": null,
   "metadata": {},
   "outputs": [],
   "source": [
    "# delete doc\n",
    "db.collection(\"cities\").document(\"DC\").delete()"
   ]
  },
  {
   "cell_type": "code",
   "execution_count": null,
   "metadata": {},
   "outputs": [],
   "source": [
    "# delete field\n",
    "city_ref = db.collection(\"cities\").document(\"BJ\")\n",
    "city_ref.update({\"capital\": firestore.DELETE_FIELD})"
   ]
  },
  {
   "cell_type": "markdown",
   "metadata": {},
   "source": [
    "find / read docs"
   ]
  },
  {
   "cell_type": "code",
   "execution_count": 37,
   "metadata": {},
   "outputs": [
    {
     "name": "stdout",
     "output_type": "stream",
     "text": [
      "{'age': 13, 'favorites': {'food': 'Pizza', 'subject': 'Recess', 'color': 'Red'}, 'name': 'Frank'}\n"
     ]
    }
   ],
   "source": [
    "doc_ref = db.collection(\"users\").document(\"frank\").get()\n",
    "\n",
    "print(doc_ref.to_dict())"
   ]
  },
  {
   "cell_type": "code",
   "execution_count": 31,
   "metadata": {},
   "outputs": [
    {
     "name": "stdout",
     "output_type": "stream",
     "text": [
      "{'capital': True, 'timestamp': DatetimeWithNanoseconds(2023, 10, 18, 9, 0, 47, 720000, tzinfo=datetime.timezone.utc), 'name': 'Gent'}\n",
      "{'capital': True, 'name': 'Gent'}\n",
      "{'name': 'Tokyo', 'country': 'Japan'}\n"
     ]
    }
   ],
   "source": [
    "docs = db.collection(\"cities\").list_documents()\n",
    "\n",
    "for doc in docs:\n",
    "    print(doc.get().to_dict())"
   ]
  },
  {
   "cell_type": "markdown",
   "metadata": {},
   "source": [
    "stream is better than `.list_documents()` then `.get()`"
   ]
  },
  {
   "cell_type": "code",
   "execution_count": 10,
   "metadata": {},
   "outputs": [
    {
     "name": "stdout",
     "output_type": "stream",
     "text": [
      "alovelace => {'last': 'Lovelace', 'first': 'Ada', 'born': 1815}\n"
     ]
    }
   ],
   "source": [
    "docs = db.collection(\"users\").stream()\n",
    "\n",
    "for doc in docs:\n",
    "    print(f\"{doc.id} => {doc.to_dict()}\")"
   ]
  },
  {
   "cell_type": "markdown",
   "metadata": {},
   "source": [
    "It allows filters"
   ]
  },
  {
   "cell_type": "code",
   "execution_count": 38,
   "metadata": {},
   "outputs": [
    {
     "name": "stdout",
     "output_type": "stream",
     "text": [
      "myPDuz1Mio0QkN6terXB => {'capital': True, 'timestamp': DatetimeWithNanoseconds(2023, 10, 18, 9, 0, 47, 720000, tzinfo=datetime.timezone.utc), 'name': 'Gent'}\n",
      "ullBnrY1xFR9ub30ef1i => {'capital': True, 'name': 'Gent'}\n"
     ]
    }
   ],
   "source": [
    "docs = (\n",
    "    db.collection(\"cities\").where(filter=firestore.FieldFilter(\"capital\", \"==\", True)).stream())\n",
    "\n",
    "for doc in docs:\n",
    "    print(f\"{doc.id} => {doc.to_dict()}\")"
   ]
  },
  {
   "cell_type": "code",
   "execution_count": 43,
   "metadata": {},
   "outputs": [
    {
     "data": {
      "text/plain": [
       "[<google.cloud.firestore_v1.base_document.DocumentSnapshot at 0x26b17672920>,\n",
       " <google.cloud.firestore_v1.base_document.DocumentSnapshot at 0x26b176735b0>]"
      ]
     },
     "execution_count": 43,
     "metadata": {},
     "output_type": "execute_result"
    }
   ],
   "source": [
    "cities_ref = db.collection(\"cities\")\n",
    "\n",
    "query = cities_ref.where(\n",
    "    filter=firestore.FieldFilter(\"name\", \"==\", \"Gent\")\n",
    "    )\n",
    "query."
   ]
  },
  {
   "cell_type": "markdown",
   "metadata": {},
   "source": [
    "subcollections"
   ]
  },
  {
   "cell_type": "code",
   "execution_count": 41,
   "metadata": {},
   "outputs": [
    {
     "ename": "AttributeError",
     "evalue": "'DocumentReference' object has no attribute 'listCollections'",
     "output_type": "error",
     "traceback": [
      "\u001b[1;31m---------------------------------------------------------------------------\u001b[0m",
      "\u001b[1;31mAttributeError\u001b[0m                            Traceback (most recent call last)",
      "\u001b[1;32mc:\\Users\\johan\\Documents\\GitHub\\sandbox\\jupyter\\firestore.ipynb Cell 33\u001b[0m line \u001b[0;36m1\n\u001b[1;32m----> <a href='vscode-notebook-cell:/c%3A/Users/johan/Documents/GitHub/sandbox/jupyter/firestore.ipynb#X51sZmlsZQ%3D%3D?line=0'>1</a>\u001b[0m db\u001b[39m.\u001b[39;49mcollection(\u001b[39m\"\u001b[39;49m\u001b[39musers\u001b[39;49m\u001b[39m\"\u001b[39;49m)\u001b[39m.\u001b[39;49mdocument(\u001b[39m\"\u001b[39;49m\u001b[39mFrank\u001b[39;49m\u001b[39m\"\u001b[39;49m)\u001b[39m.\u001b[39;49mlistCollections()\n",
      "\u001b[1;31mAttributeError\u001b[0m: 'DocumentReference' object has no attribute 'listCollections'"
     ]
    }
   ],
   "source": [
    "db.collection(\"users\").document(\"Frank\").listCollections()"
   ]
  },
  {
   "cell_type": "code",
   "execution_count": 39,
   "metadata": {},
   "outputs": [],
   "source": [
    "collections = db.collection(\"users\").document(\"Frank\").collections()\n",
    "for collection in collections:\n",
    "    for doc in collection.stream():\n",
    "        print(f\"{doc.id} => {doc.to_dict()}\")"
   ]
  },
  {
   "cell_type": "markdown",
   "metadata": {},
   "source": [
    "# Use Google secrets manager"
   ]
  },
  {
   "cell_type": "code",
   "execution_count": 8,
   "metadata": {},
   "outputs": [],
   "source": [
    "from google.cloud import secretmanager\n",
    "\n",
    "def access_secret_version(project_id, secret_id, version_id):\n",
    "    \"\"\"\n",
    "    Access the payload for the given secret version if one exists. \n",
    "    The version can be a version number as a string (e.g. \"5\") or an\n",
    "    alias (e.g. \"latest\").\n",
    "    \"\"\"\n",
    "    client = secretmanager.SecretManagerServiceClient.from_service_account_json('C:/Users/johan/Documents/GitHub/johannes.vc/google_credentials.json')\n",
    "\n",
    "    # Build the resource name of the secret version.\n",
    "    name = f\"projects/{project_id}/secrets/{secret_id}/versions/{version_id}\"\n",
    "\n",
    "    # Access the secret version.\n",
    "    response = client.access_secret_version(request={\"name\": name})\n",
    "    \n",
    "    # Return the decoded payload.\n",
    "    return response.payload.data.decode('UTF-8')\n",
    "\n",
    "import firebase_admin\n",
    "from firebase_admin import credentials, firestore\n",
    "import json\n",
    "\n",
    "# Retrieve JSON credentials from Secret Manager\n",
    "project_id = \"62117585564\"\n",
    "secret_id = \"GOOGLE_APPLICATION_CREDENTIALS\"\n",
    "version_id = 'latest'  # or a specific version\n",
    "\n",
    "json_credentials = access_secret_version(project_id, secret_id, version_id)\n",
    "parsed_credentials = json.loads(json_credentials)\n",
    "\n",
    "# Initialize the Firebase app\n",
    "cred = credentials.Certificate(parsed_credentials)\n",
    "app = firebase_admin.initialize_app(cred)\n",
    "\n",
    "# Initialize Firestore\n",
    "db = firestore.client()"
   ]
  },
  {
   "cell_type": "markdown",
   "metadata": {},
   "source": [
    "# to transfer from mongodb"
   ]
  },
  {
   "cell_type": "code",
   "execution_count": 27,
   "metadata": {},
   "outputs": [],
   "source": [
    "from pymongo import MongoClient\n",
    "from bson.objectid import ObjectId\n",
    "import os\n",
    "\n",
    "uri = os.getenv('MONGODB_KEY')\n",
    "\n",
    "client = MongoClient(uri)\n",
    "\n",
    "db = client.flask_tutorial"
   ]
  },
  {
   "cell_type": "code",
   "execution_count": 29,
   "metadata": {},
   "outputs": [
    {
     "data": {
      "text/plain": [
       "dict_keys(['_id', 'username', 'title', 'body', 'author_id', 'created'])"
      ]
     },
     "execution_count": 29,
     "metadata": {},
     "output_type": "execute_result"
    }
   ],
   "source": [
    "db.blogs.find_one().keys()"
   ]
  },
  {
   "cell_type": "markdown",
   "metadata": {},
   "source": [
    "# Add blogs"
   ]
  },
  {
   "cell_type": "code",
   "execution_count": 56,
   "metadata": {},
   "outputs": [
    {
     "data": {
      "text/plain": [
       "(DatetimeWithNanoseconds(2023, 10, 18, 12, 10, 24, 65364, tzinfo=datetime.timezone.utc),\n",
       " <google.cloud.firestore_v1.document.DocumentReference at 0x26b15987fa0>)"
      ]
     },
     "execution_count": 56,
     "metadata": {},
     "output_type": "execute_result"
    }
   ],
   "source": [
    "db.collection('blogs').add({'id': firestore.SERVER_TIMESTAMP,\n",
    "                        'username': 'joahnnes',\n",
    "                        'title': 'blog', \n",
    "                        'body': 'blablaba', \n",
    "                        'author_id': None,\n",
    "                        'created': firestore.SERVER_TIMESTAMP}) "
   ]
  },
  {
   "cell_type": "code",
   "execution_count": 57,
   "metadata": {},
   "outputs": [],
   "source": [
    "posts = db.collection('blogs').order_by('id', \n",
    "                                        direction=firestore.Query.DESCENDING\n",
    "                                        ).stream()"
   ]
  },
  {
   "cell_type": "code",
   "execution_count": 58,
   "metadata": {},
   "outputs": [
    {
     "data": {
      "text/plain": [
       "[{'title': 'blog',\n",
       "  'created': DatetimeWithNanoseconds(2023, 10, 18, 12, 10, 24, 24000, tzinfo=datetime.timezone.utc),\n",
       "  'id': DatetimeWithNanoseconds(2023, 10, 18, 12, 10, 24, 24000, tzinfo=datetime.timezone.utc),\n",
       "  'body': 'blablaba',\n",
       "  'author_id': None,\n",
       "  'username': 'joahnnes'}]"
      ]
     },
     "execution_count": 58,
     "metadata": {},
     "output_type": "execute_result"
    }
   ],
   "source": [
    "[post.to_dict() for post in posts]"
   ]
  }
 ],
 "metadata": {
  "kernelspec": {
   "display_name": "johannes",
   "language": "python",
   "name": "python3"
  },
  "language_info": {
   "codemirror_mode": {
    "name": "ipython",
    "version": 3
   },
   "file_extension": ".py",
   "mimetype": "text/x-python",
   "name": "python",
   "nbconvert_exporter": "python",
   "pygments_lexer": "ipython3",
   "version": "3.10.11"
  }
 },
 "nbformat": 4,
 "nbformat_minor": 2
}
