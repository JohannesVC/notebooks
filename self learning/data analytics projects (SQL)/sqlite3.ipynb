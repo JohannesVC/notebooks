{
 "cells": [
  {
   "cell_type": "code",
   "execution_count": 13,
   "metadata": {},
   "outputs": [],
   "source": [
    "!pip install jupysql --quiet"
   ]
  },
  {
   "cell_type": "code",
   "execution_count": 1,
   "metadata": {},
   "outputs": [
    {
     "data": {
      "text/html": [
       "<span style=\"None\">Connecting to &#x27;sqlite:///Z:\\\\electron_groq\\\\database\\\\database.db&#x27;</span>"
      ],
      "text/plain": [
       "Connecting to 'sqlite:///Z:\\\\electron_groq\\\\database\\\\database.db'"
      ]
     },
     "metadata": {},
     "output_type": "display_data"
    }
   ],
   "source": [
    "# import sqlite3\n",
    "%load_ext sql\n",
    "%sql sqlite:///Z:\\electron_groq\\database\\database.db"
   ]
  },
  {
   "cell_type": "code",
   "execution_count": 2,
   "metadata": {
    "vscode": {
     "languageId": "sql"
    }
   },
   "outputs": [
    {
     "data": {
      "text/html": [
       "<span style=\"None\">Running query in &#x27;sqlite:///Z:\\\\electron_groq\\\\database\\\\database.db&#x27;</span>"
      ],
      "text/plain": [
       "Running query in 'sqlite:///Z:\\\\electron_groq\\\\database\\\\database.db'"
      ]
     },
     "metadata": {},
     "output_type": "display_data"
    },
    {
     "data": {
      "text/html": [
       "<table>\n",
       "    <thead>\n",
       "        <tr>\n",
       "            <th>type</th>\n",
       "            <th>name</th>\n",
       "            <th>tbl_name</th>\n",
       "            <th>rootpage</th>\n",
       "            <th>sql</th>\n",
       "        </tr>\n",
       "    </thead>\n",
       "    <tbody>\n",
       "        <tr>\n",
       "            <td>table</td>\n",
       "            <td>master</td>\n",
       "            <td>master</td>\n",
       "            <td>3</td>\n",
       "            <td>CREATE TABLE master (<br>    id integer PRIMARY KEY, <br>    role text, <br>    content text, <br>    summary_id integer)</td>\n",
       "        </tr>\n",
       "        <tr>\n",
       "            <td>table</td>\n",
       "            <td>summary</td>\n",
       "            <td>summary</td>\n",
       "            <td>2</td>\n",
       "            <td>CREATE TABLE summary (<br>                            id integer PRIMARY KEY,<br>                            summary text NOT NULL, <br>                            entities text NOT NULL<br>                            )</td>\n",
       "        </tr>\n",
       "    </tbody>\n",
       "</table>"
      ],
      "text/plain": [
       "+-------+---------+----------+----------+-----------------------------------------------------+\n",
       "|  type |   name  | tbl_name | rootpage |                         sql                         |\n",
       "+-------+---------+----------+----------+-----------------------------------------------------+\n",
       "| table |  master |  master  |    3     |                CREATE TABLE master (                |\n",
       "|       |         |          |          |                 id integer PRIMARY KEY,             |\n",
       "|       |         |          |          |                       role text,                    |\n",
       "|       |         |          |          |                      content text,                  |\n",
       "|       |         |          |          |                   summary_id integer)               |\n",
       "| table | summary | summary  |    2     |                CREATE TABLE summary (               |\n",
       "|       |         |          |          |                             id integer PRIMARY KEY, |\n",
       "|       |         |          |          |                             summary text NOT NULL,  |\n",
       "|       |         |          |          |                              entities text NOT NULL |\n",
       "|       |         |          |          |                                        )            |\n",
       "+-------+---------+----------+----------+-----------------------------------------------------+"
      ]
     },
     "execution_count": 2,
     "metadata": {},
     "output_type": "execute_result"
    }
   ],
   "source": [
    "%%sql\n",
    "SELECT * FROM sqlite_master"
   ]
  },
  {
   "cell_type": "code",
   "execution_count": 24,
   "metadata": {
    "vscode": {
     "languageId": "sql"
    }
   },
   "outputs": [
    {
     "data": {
      "text/html": [
       "<span style=\"None\">Running query in &#x27;sqlite:///Z:\\\\electron_groq\\\\database\\\\database.db&#x27;</span>"
      ],
      "text/plain": [
       "Running query in 'sqlite:///Z:\\\\electron_groq\\\\database\\\\database.db'"
      ]
     },
     "metadata": {},
     "output_type": "display_data"
    }
   ],
   "source": [
    "%%sql result <<\n",
    "SELECT * FROM summary;"
   ]
  },
  {
   "cell_type": "code",
   "execution_count": 25,
   "metadata": {
    "vscode": {
     "languageId": "sql"
    }
   },
   "outputs": [
    {
     "data": {
      "text/html": [
       "<table>\n",
       "    <thead>\n",
       "        <tr>\n",
       "            <th>id</th>\n",
       "            <th>summary</th>\n",
       "            <th>entities</th>\n",
       "        </tr>\n",
       "    </thead>\n",
       "    <tbody>\n",
       "        <tr>\n",
       "            <td>1</td>\n",
       "            <td>The conversation covers a class that manages a SQLite database connection, including methods for creating a table, inserting data, dropping a table, and loading data from the database. The class maintains a cursor object that is shared within the class, with a discussion of the potential benefits and drawbacks of sharing the cursor.</td>\n",
       "            <td>LocalDB, sqlite3, Message, create_table, insert_data, load_temp, drop_table, load_master, cursor, fetchall, fetchmany, fetchone, commit, row_factory, rollback, Connection, Error, Thread, multiprocessing, concurrent.futures, concurrent.executors, concurrent.futures.ThreadPoolExecutor, concurrent.futures.ProcessPoolExecutor</td>\n",
       "        </tr>\n",
       "    </tbody>\n",
       "</table>"
      ],
      "text/plain": [
       "+----+------------------------------------------------------------------------------------------------------------------------------------------------------------------------------------------------------------------------------------------------------------------------------------------------------------------------------------------------+-------------------------------------------------------------------------------------------------------------------------------------------------------------------------------------------------------------------------------------------------------------------------------------------------------------------------------------+\n",
       "| id |                                                                                                                                                                    summary                                                                                                                                                                     |                                                                                                                                                               entities                                                                                                                                                              |\n",
       "+----+------------------------------------------------------------------------------------------------------------------------------------------------------------------------------------------------------------------------------------------------------------------------------------------------------------------------------------------------+-------------------------------------------------------------------------------------------------------------------------------------------------------------------------------------------------------------------------------------------------------------------------------------------------------------------------------------+\n",
       "| 1  | The conversation covers a class that manages a SQLite database connection, including methods for creating a table, inserting data, dropping a table, and loading data from the database. The class maintains a cursor object that is shared within the class, with a discussion of the potential benefits and drawbacks of sharing the cursor. | LocalDB, sqlite3, Message, create_table, insert_data, load_temp, drop_table, load_master, cursor, fetchall, fetchmany, fetchone, commit, row_factory, rollback, Connection, Error, Thread, multiprocessing, concurrent.futures, concurrent.executors, concurrent.futures.ThreadPoolExecutor, concurrent.futures.ProcessPoolExecutor |\n",
       "+----+------------------------------------------------------------------------------------------------------------------------------------------------------------------------------------------------------------------------------------------------------------------------------------------------------------------------------------------------+-------------------------------------------------------------------------------------------------------------------------------------------------------------------------------------------------------------------------------------------------------------------------------------------------------------------------------------+"
      ]
     },
     "execution_count": 25,
     "metadata": {},
     "output_type": "execute_result"
    }
   ],
   "source": [
    "result"
   ]
  }
 ],
 "metadata": {
  "kernelspec": {
   "display_name": "johannes",
   "language": "python",
   "name": "python3"
  },
  "language_info": {
   "codemirror_mode": {
    "name": "ipython",
    "version": 3
   },
   "file_extension": ".py",
   "mimetype": "text/x-python",
   "name": "python",
   "nbconvert_exporter": "python",
   "pygments_lexer": "ipython3",
   "version": "3.12.1"
  }
 },
 "nbformat": 4,
 "nbformat_minor": 2
}
