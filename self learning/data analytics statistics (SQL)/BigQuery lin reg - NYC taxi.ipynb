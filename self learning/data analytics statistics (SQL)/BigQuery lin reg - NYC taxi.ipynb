{
 "cells": [
  {
   "cell_type": "markdown",
   "metadata": {},
   "source": [
    "## Forecasting (linear regression) in bigquery"
   ]
  },
  {
   "cell_type": "code",
   "execution_count": null,
   "metadata": {},
   "outputs": [],
   "source": [
    "%load_ext google.cloud.bigquery"
   ]
  },
  {
   "cell_type": "markdown",
   "metadata": {},
   "source": [
    "Question: How many trips did Yellow taxis take each month in 2015?"
   ]
  },
  {
   "cell_type": "code",
   "execution_count": null,
   "metadata": {
    "vscode": {
     "languageId": "sql"
    }
   },
   "outputs": [],
   "source": [
    "%%bigquery\n",
    "\n",
    "SELECT\n",
    "  TIMESTAMP_TRUNC(pickup_datetime,\n",
    "    MONTH) month,\n",
    "  COUNT(*) trips\n",
    "FROM\n",
    "  `bigquery-public-data.new_york.tlc_yellow_trips_2015`\n",
    "GROUP BY\n",
    "  1\n",
    "ORDER BY\n",
    "  1"
   ]
  },
  {
   "cell_type": "markdown",
   "metadata": {},
   "source": [
    "Question: What was the average speed of Yellow taxi trips in 2015?"
   ]
  },
  {
   "cell_type": "code",
   "execution_count": null,
   "metadata": {
    "vscode": {
     "languageId": "sql"
    }
   },
   "outputs": [],
   "source": [
    "%%bigquery\n",
    "\n",
    "SELECT\n",
    "  EXTRACT(HOUR\n",
    "  FROM\n",
    "    pickup_datetime) hour,\n",
    "  ROUND(AVG(trip_distance / TIMESTAMP_DIFF(dropoff_datetime,\n",
    "        pickup_datetime,\n",
    "        SECOND))*3600, 1) speed\n",
    "FROM\n",
    "  `bigquery-public-data.new_york.tlc_yellow_trips_2015`\n",
    "WHERE\n",
    "  trip_distance > 0\n",
    "  AND fare_amount/trip_distance BETWEEN 2\n",
    "  AND 10\n",
    "  AND dropoff_datetime > pickup_datetime\n",
    "GROUP BY\n",
    "  1\n",
    "ORDER BY\n",
    "  1;"
   ]
  },
  {
   "cell_type": "markdown",
   "metadata": {},
   "source": [
    "now create a machine learning model in BigQuery to predict the price of a cab ride in New York City given the historical dataset of trips and trip data. Predicting the fare before the ride could be very useful for trip planning for both the rider and the taxi agency.\n",
    "\n",
    "## approach\n",
    "Browse the complete list of fields and then preview the dataset to find useful features that will help a machine learning model understand the relationship between data about historical cab rides and the price of the fare.\n",
    "\n",
    "Your team decides to test whether these below fields are good inputs to your fare forecasting model:\n",
    "\n",
    "Tolls Amount\n",
    "Fare Amount\n",
    "Hour of Day\n",
    "Pick up address\n",
    "Drop off address\n",
    "Number of passengers"
   ]
  },
  {
   "cell_type": "code",
   "execution_count": null,
   "metadata": {
    "vscode": {
     "languageId": "sql"
    }
   },
   "outputs": [],
   "source": [
    "#standardSQL\n",
    "WITH params AS (\n",
    "    SELECT\n",
    "    1 AS TRAIN,\n",
    "    2 AS EVAL\n",
    "    ),\n",
    "\n",
    "  daynames AS\n",
    "    (SELECT ['Sun', 'Mon', 'Tues', 'Wed', 'Thurs', 'Fri', 'Sat'] AS daysofweek),\n",
    "\n",
    "  taxitrips AS (\n",
    "  SELECT\n",
    "    (tolls_amount + fare_amount) AS total_fare,\n",
    "    daysofweek[ORDINAL(EXTRACT(DAYOFWEEK FROM pickup_datetime))] AS dayofweek,\n",
    "    EXTRACT(HOUR FROM pickup_datetime) AS hourofday,\n",
    "    pickup_longitude AS pickuplon,\n",
    "    pickup_latitude AS pickuplat,\n",
    "    dropoff_longitude AS dropofflon,\n",
    "    dropoff_latitude AS dropofflat,\n",
    "    passenger_count AS passengers\n",
    "  FROM\n",
    "    `nyc-tlc.yellow.trips`, daynames, params\n",
    "  WHERE\n",
    "    trip_distance > 0 AND fare_amount > 0\n",
    "    AND MOD(ABS(FARM_FINGERPRINT(CAST(pickup_datetime AS STRING))),1000) = params.TRAIN\n",
    "  )\n",
    "\n",
    "  SELECT *\n",
    "  FROM taxitrips"
   ]
  },
  {
   "cell_type": "markdown",
   "metadata": {},
   "source": [
    "Note:\n",
    "\n",
    "- How it uses two tables params and daynames, and includes them in the FROM statement \n",
    "- The WHERE removes data that you don't want to train on.\n",
    "- The WHERE also includes a sampling clause to pick up only 1/1000th of the data.\n",
    "- Define a variable called TRAIN so that you can quickly build an independent EVAL set."
   ]
  },
  {
   "cell_type": "markdown",
   "metadata": {},
   "source": [
    "## Train"
   ]
  },
  {
   "cell_type": "code",
   "execution_count": null,
   "metadata": {
    "vscode": {
     "languageId": "sql"
    }
   },
   "outputs": [],
   "source": [
    "CREATE or REPLACE MODEL taxi.taxifare_model\n",
    "OPTIONS\n",
    "  (model_type='linear_reg', labels=['total_fare']) AS\n",
    "\n",
    "WITH params AS (\n",
    "    SELECT\n",
    "    1 AS TRAIN,\n",
    "    2 AS EVAL\n",
    "    ),\n",
    "\n",
    "  daynames AS\n",
    "    (SELECT ['Sun', 'Mon', 'Tues', 'Wed', 'Thurs', 'Fri', 'Sat'] AS daysofweek),\n",
    "\n",
    "  taxitrips AS (\n",
    "  SELECT\n",
    "    (tolls_amount + fare_amount) AS total_fare,\n",
    "    daysofweek[ORDINAL(EXTRACT(DAYOFWEEK FROM pickup_datetime))] AS dayofweek,\n",
    "    EXTRACT(HOUR FROM pickup_datetime) AS hourofday,\n",
    "    pickup_longitude AS pickuplon,\n",
    "    pickup_latitude AS pickuplat,\n",
    "    dropoff_longitude AS dropofflon,\n",
    "    dropoff_latitude AS dropofflat,\n",
    "    passenger_count AS passengers\n",
    "  FROM\n",
    "    `nyc-tlc.yellow.trips`, daynames, params\n",
    "  WHERE\n",
    "    trip_distance > 0 AND fare_amount > 0\n",
    "    AND MOD(ABS(FARM_FINGERPRINT(CAST(pickup_datetime AS STRING))),1000) = params.TRAIN\n",
    "  )\n",
    "\n",
    "  SELECT *\n",
    "  FROM taxitrips"
   ]
  },
  {
   "cell_type": "markdown",
   "metadata": {},
   "source": [
    "## EVAL\n",
    "For linear regression models you want to use a loss metric like Root Mean Square Error (RMSE). You want to keep training and improving the model until it has the lowest RMSE.\n",
    "\n",
    "In BQML, mean_squared_error is a queryable field when evaluating your trained ML model. Add a SQRT() to get RMSE.\n",
    "\n",
    "Now that training is complete, you can evaluate how well the model performs with this query using ML.EVALUATE."
   ]
  },
  {
   "cell_type": "code",
   "execution_count": null,
   "metadata": {
    "vscode": {
     "languageId": "sql"
    }
   },
   "outputs": [],
   "source": [
    "#standardSQL\n",
    "SELECT\n",
    "  SQRT(mean_squared_error) AS rmse\n",
    "FROM\n",
    "  ML.EVALUATE(MODEL taxi.taxifare_model,\n",
    "  (\n",
    "\n",
    "  WITH params AS (\n",
    "    SELECT\n",
    "    1 AS TRAIN,\n",
    "    2 AS EVAL\n",
    "    ),\n",
    "\n",
    "  daynames AS\n",
    "    (SELECT ['Sun', 'Mon', 'Tues', 'Wed', 'Thurs', 'Fri', 'Sat'] AS daysofweek),\n",
    "\n",
    "  taxitrips AS (\n",
    "  SELECT\n",
    "    (tolls_amount + fare_amount) AS total_fare,\n",
    "    daysofweek[ORDINAL(EXTRACT(DAYOFWEEK FROM pickup_datetime))] AS dayofweek,\n",
    "    EXTRACT(HOUR FROM pickup_datetime) AS hourofday,\n",
    "    pickup_longitude AS pickuplon,\n",
    "    pickup_latitude AS pickuplat,\n",
    "    dropoff_longitude AS dropofflon,\n",
    "    dropoff_latitude AS dropofflat,\n",
    "    passenger_count AS passengers\n",
    "  FROM\n",
    "    `nyc-tlc.yellow.trips`, daynames, params\n",
    "  WHERE\n",
    "    trip_distance > 0 AND fare_amount > 0\n",
    "    AND MOD(ABS(FARM_FINGERPRINT(CAST(pickup_datetime AS STRING))),1000) = params.EVAL\n",
    "  )\n",
    "\n",
    "  SELECT *\n",
    "  FROM taxitrips\n",
    "\n",
    "  ))"
   ]
  },
  {
   "cell_type": "markdown",
   "metadata": {},
   "source": [
    "After evaluating your model you get a RMSE of 9.47. Since we took the Root of the Mean Squared Error (RMSE) the 9.47 error can be evaluated in the same units as the total_fare so it's +-$9.47.\n",
    "\n",
    "Knowing whether or not this loss metric is acceptable to productionalize your model is entirely dependent on your benchmark criteria, which is set before model training begins. Benchmarking is establishing a minimum level of model performance and accuracy that is acceptable.\n",
    "\n",
    "## Predict"
   ]
  },
  {
   "cell_type": "code",
   "execution_count": null,
   "metadata": {
    "vscode": {
     "languageId": "sql"
    }
   },
   "outputs": [],
   "source": [
    "#standardSQL\n",
    "SELECT\n",
    "*\n",
    "FROM\n",
    "  ml.PREDICT(MODEL `taxi.taxifare_model`,\n",
    "   (\n",
    "\n",
    " WITH params AS (\n",
    "    SELECT\n",
    "    1 AS TRAIN,\n",
    "    2 AS EVAL\n",
    "    ),\n",
    "\n",
    "  daynames AS\n",
    "    (SELECT ['Sun', 'Mon', 'Tues', 'Wed', 'Thurs', 'Fri', 'Sat'] AS daysofweek),\n",
    "\n",
    "  taxitrips AS (\n",
    "  SELECT\n",
    "    (tolls_amount + fare_amount) AS total_fare,\n",
    "    daysofweek[ORDINAL(EXTRACT(DAYOFWEEK FROM pickup_datetime))] AS dayofweek,\n",
    "    EXTRACT(HOUR FROM pickup_datetime) AS hourofday,\n",
    "    pickup_longitude AS pickuplon,\n",
    "    pickup_latitude AS pickuplat,\n",
    "    dropoff_longitude AS dropofflon,\n",
    "    dropoff_latitude AS dropofflat,\n",
    "    passenger_count AS passengers\n",
    "  FROM\n",
    "    `nyc-tlc.yellow.trips`, daynames, params\n",
    "  WHERE\n",
    "    trip_distance > 0 AND fare_amount > 0\n",
    "    AND MOD(ABS(FARM_FINGERPRINT(CAST(pickup_datetime AS STRING))),1000) = params.EVAL\n",
    "  )\n",
    "\n",
    "  SELECT *\n",
    "  FROM taxitrips\n",
    "\n",
    "));"
   ]
  },
  {
   "cell_type": "markdown",
   "metadata": {},
   "source": [
    "## Feature engineering"
   ]
  },
  {
   "cell_type": "markdown",
   "metadata": {},
   "source": [
    "view the common statistics for taxi cab fares."
   ]
  },
  {
   "cell_type": "code",
   "execution_count": null,
   "metadata": {
    "vscode": {
     "languageId": "sql"
    }
   },
   "outputs": [],
   "source": [
    "SELECT\n",
    "  COUNT(fare_amount) AS num_fares,\n",
    "  MIN(fare_amount) AS low_fare,\n",
    "  MAX(fare_amount) AS high_fare,\n",
    "  AVG(fare_amount) AS avg_fare,\n",
    "  STDDEV(fare_amount) AS stddev\n",
    "FROM\n",
    "`nyc-tlc.yellow.trips`\n",
    "# 1,108,779,463 fares"
   ]
  },
  {
   "cell_type": "markdown",
   "metadata": {},
   "source": [
    "As you can see, there are some strange outliers in our dataset (negative fares or fares over $50,000). Apply some of our subject matter expertise to help the model avoid learning on strange outliers.\n",
    "\n",
    "Limit the data to only fares between $6 and $200."
   ]
  },
  {
   "cell_type": "code",
   "execution_count": null,
   "metadata": {
    "vscode": {
     "languageId": "sql"
    }
   },
   "outputs": [],
   "source": [
    "SELECT\n",
    "  COUNT(fare_amount) AS num_fares,\n",
    "  MIN(fare_amount) AS low_fare,\n",
    "  MAX(fare_amount) AS high_fare,\n",
    "  AVG(fare_amount) AS avg_fare,\n",
    "  STDDEV(fare_amount) AS stddev\n",
    "FROM\n",
    "`nyc-tlc.yellow.trips`\n",
    "WHERE trip_distance > 0 AND fare_amount BETWEEN 6 and 200\n",
    "# 843,834,902 fares"
   ]
  },
  {
   "cell_type": "markdown",
   "metadata": {},
   "source": [
    "limit the distance traveled so you're really focusing on New York City."
   ]
  },
  {
   "cell_type": "code",
   "execution_count": null,
   "metadata": {
    "vscode": {
     "languageId": "sql"
    }
   },
   "outputs": [],
   "source": [
    "SELECT\n",
    "  COUNT(fare_amount) AS num_fares,\n",
    "  MIN(fare_amount) AS low_fare,\n",
    "  MAX(fare_amount) AS high_fare,\n",
    "  AVG(fare_amount) AS avg_fare,\n",
    "  STDDEV(fare_amount) AS stddev\n",
    "FROM\n",
    "`nyc-tlc.yellow.trips`\n",
    "WHERE trip_distance > 0 AND fare_amount BETWEEN 6 and 200\n",
    "    AND pickup_longitude > -75 #limiting of the distance the taxis travel out\n",
    "    AND pickup_longitude < -73\n",
    "    AND dropoff_longitude > -75\n",
    "    AND dropoff_longitude < -73\n",
    "    AND pickup_latitude > 40\n",
    "    AND pickup_latitude < 42\n",
    "    AND dropoff_latitude > 40\n",
    "    AND dropoff_latitude < 42\n",
    "    # 827,365,869 fares"
   ]
  },
  {
   "cell_type": "markdown",
   "metadata": {},
   "source": [
    "Retraining the model\n",
    "\n",
    "Call the new model taxi.taxifare_model_2 and retrain the linear regression model to predict total fare. You'll note that you've also added a few calculated features for the Euclidean distance (straight line) between the pick up and drop off."
   ]
  },
  {
   "cell_type": "code",
   "execution_count": null,
   "metadata": {
    "vscode": {
     "languageId": "sql"
    }
   },
   "outputs": [],
   "source": [
    "CREATE OR REPLACE MODEL taxi.taxifare_model_2\n",
    "OPTIONS\n",
    "  (model_type='linear_reg', labels=['total_fare']) AS\n",
    "\n",
    "\n",
    "WITH params AS (\n",
    "    SELECT\n",
    "    1 AS TRAIN,\n",
    "    2 AS EVAL\n",
    "    ),\n",
    "\n",
    "  daynames AS\n",
    "    (SELECT ['Sun', 'Mon', 'Tues', 'Wed', 'Thurs', 'Fri', 'Sat'] AS daysofweek),\n",
    "\n",
    "  taxitrips AS (\n",
    "  SELECT\n",
    "    (tolls_amount + fare_amount) AS total_fare,\n",
    "    daysofweek[ORDINAL(EXTRACT(DAYOFWEEK FROM pickup_datetime))] AS dayofweek,\n",
    "    EXTRACT(HOUR FROM pickup_datetime) AS hourofday,\n",
    "    SQRT(POW((pickup_longitude - dropoff_longitude),2) + POW(( pickup_latitude - dropoff_latitude), 2)) as dist, #Euclidean distance between pickup and drop off\n",
    "    SQRT(POW((pickup_longitude - dropoff_longitude),2)) as longitude, #Euclidean distance between pickup and drop off in longitude\n",
    "    SQRT(POW((pickup_latitude - dropoff_latitude), 2)) as latitude, #Euclidean distance between pickup and drop off in latitude\n",
    "    passenger_count AS passengers\n",
    "  FROM\n",
    "    `nyc-tlc.yellow.trips`, daynames, params\n",
    "WHERE trip_distance > 0 AND fare_amount BETWEEN 6 and 200\n",
    "    AND pickup_longitude > -75 #limiting of the distance the taxis travel out\n",
    "    AND pickup_longitude < -73\n",
    "    AND dropoff_longitude > -75\n",
    "    AND dropoff_longitude < -73\n",
    "    AND pickup_latitude > 40\n",
    "    AND pickup_latitude < 42\n",
    "    AND dropoff_latitude > 40\n",
    "    AND dropoff_latitude < 42\n",
    "    AND MOD(ABS(FARM_FINGERPRINT(CAST(pickup_datetime AS STRING))),1000) = params.TRAIN\n",
    "  )\n",
    "\n",
    "  SELECT *\n",
    "  FROM taxitrips"
   ]
  },
  {
   "cell_type": "markdown",
   "metadata": {},
   "source": [
    "EVAL"
   ]
  },
  {
   "cell_type": "code",
   "execution_count": null,
   "metadata": {
    "vscode": {
     "languageId": "sql"
    }
   },
   "outputs": [],
   "source": [
    "SELECT\n",
    "  SQRT(mean_squared_error) AS rmse\n",
    "FROM\n",
    "  ML.EVALUATE(MODEL taxi.taxifare_model_2,\n",
    "  (\n",
    "\n",
    "  WITH params AS (\n",
    "    SELECT\n",
    "    1 AS TRAIN,\n",
    "    2 AS EVAL\n",
    "    ),\n",
    "\n",
    "  daynames AS\n",
    "    (SELECT ['Sun', 'Mon', 'Tues', 'Wed', 'Thurs', 'Fri', 'Sat'] AS daysofweek),\n",
    "\n",
    "  taxitrips AS (\n",
    "  SELECT\n",
    "    (tolls_amount + fare_amount) AS total_fare,\n",
    "    daysofweek[ORDINAL(EXTRACT(DAYOFWEEK FROM pickup_datetime))] AS dayofweek,\n",
    "    EXTRACT(HOUR FROM pickup_datetime) AS hourofday,\n",
    "    SQRT(POW((pickup_longitude - dropoff_longitude),2) + POW(( pickup_latitude - dropoff_latitude), 2)) as dist, #Euclidean distance between pickup and drop off\n",
    "    SQRT(POW((pickup_longitude - dropoff_longitude),2)) as longitude, #Euclidean distance between pickup and drop off in longitude\n",
    "    SQRT(POW((pickup_latitude - dropoff_latitude), 2)) as latitude, #Euclidean distance between pickup and drop off in latitude\n",
    "    passenger_count AS passengers\n",
    "  FROM\n",
    "    `nyc-tlc.yellow.trips`, daynames, params\n",
    "WHERE trip_distance > 0 AND fare_amount BETWEEN 6 and 200\n",
    "    AND pickup_longitude > -75 #limiting of the distance the taxis travel out\n",
    "    AND pickup_longitude < -73\n",
    "    AND dropoff_longitude > -75\n",
    "    AND dropoff_longitude < -73\n",
    "    AND pickup_latitude > 40\n",
    "    AND pickup_latitude < 42\n",
    "    AND dropoff_latitude > 40\n",
    "    AND dropoff_latitude < 42\n",
    "    AND MOD(ABS(FARM_FINGERPRINT(CAST(pickup_datetime AS STRING))),1000) = params.EVAL\n",
    "  )\n",
    "\n",
    "  SELECT *\n",
    "  FROM taxitrips\n",
    "\n",
    "  ))"
   ]
  },
  {
   "cell_type": "markdown",
   "metadata": {},
   "source": [
    "As you see, you've gotten the RMSE down to: +-$5.12 which is significantly better than +-$9.47 for your first model.\n",
    "\n",
    "Since RMSE defines the standard deviation of prediction errors, we see that the retrained linear regression made our model a lot more accurate."
   ]
  },
  {
   "cell_type": "markdown",
   "metadata": {},
   "source": [
    "# Inspect weights:"
   ]
  },
  {
   "cell_type": "code",
   "execution_count": null,
   "metadata": {
    "vscode": {
     "languageId": "sql"
    }
   },
   "outputs": [],
   "source": [
    "SELECT\n",
    "  category,\n",
    "  weight\n",
    "FROM\n",
    "  UNNEST((\n",
    "    SELECT\n",
    "      category_weights\n",
    "    FROM\n",
    "      ML.WEIGHTS(MODEL `bracketology.ncaa_model`)\n",
    "    WHERE\n",
    "      processed_input = 'seed')) -- try other features like 'school_ncaa'\n",
    "      ORDER BY weight DESC"
   ]
  },
  {
   "cell_type": "markdown",
   "metadata": {},
   "source": [
    "In the model tab there are quite some stats on graphs on the performance of the model. See this [glossary](https://developers.google.com/machine-learning/glossary) for all definitions.\n",
    "\n",
    "Alternatively query it with ML.EVALUATE"
   ]
  },
  {
   "cell_type": "code",
   "execution_count": null,
   "metadata": {
    "vscode": {
     "languageId": "sql"
    }
   },
   "outputs": [],
   "source": [
    "SELECT\n",
    "  *\n",
    "FROM\n",
    "  ML.EVALUATE(MODEL   `bracketology.ncaa_model`)"
   ]
  }
 ],
 "metadata": {
  "language_info": {
   "name": "python"
  }
 },
 "nbformat": 4,
 "nbformat_minor": 2
}
