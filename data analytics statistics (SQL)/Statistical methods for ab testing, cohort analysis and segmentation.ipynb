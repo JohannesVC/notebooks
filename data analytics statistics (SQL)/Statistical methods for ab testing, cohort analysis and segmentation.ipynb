{
 "cells": [
  {
   "cell_type": "markdown",
   "metadata": {},
   "source": [
    "# Statistical methods for A/B testing, segmentation and cohort analysis in Python\n",
    "\n",
    "## 1. A/B testing\n",
    "\n",
    "As an example how to compare metrics like conversion rate or click-through rate, I connected my website johannes.vc via Google Analytics to BigQuery, and from BigQuery to this analytics notebook. \n",
    "\n",
    "**Objective:**\n",
    "- compare click-through traffic on Mobile and Web.\n",
    "- Is the difference significant (5% level) or highly significant (1% level)?"
   ]
  },
  {
   "cell_type": "code",
   "execution_count": 1,
   "metadata": {},
   "outputs": [],
   "source": [
    "%load_ext google.cloud.bigquery\n",
    "import pandas as pd\n",
    "import numpy as np"
   ]
  },
  {
   "cell_type": "code",
   "execution_count": null,
   "metadata": {
    "vscode": {
     "languageId": "sql"
    }
   },
   "outputs": [],
   "source": [
    "%%bigquery df \n",
    "SELECT \n",
    "    CASE\n",
    "        WHEN device.deviceCategory = 'Tablet' THEN 'Mobile' \n",
    "        ELSE device.deviceCategory END AS group\n",
    "    CASE \n",
    "        WHEN totals.pageviews > 2 THEN 0 \n",
    "        ELSE 1 END AS metric\n",
    "FROM `johannesvc.johannesvc.johannesvc`\n",
    "WHERE group IN ('A', 'B')"
   ]
  },
  {
   "cell_type": "code",
   "execution_count": null,
   "metadata": {},
   "outputs": [],
   "source": [
    "# get the metric (binary 1-0) for each group\n",
    "group_a = df[df['group'] == 'Mobile']['metric']\n",
    "group_b = df[df['group'] == 'Desktop']['metric']"
   ]
  },
  {
   "cell_type": "code",
   "execution_count": null,
   "metadata": {},
   "outputs": [],
   "source": [
    "from scipy.stats import ttest_ind\n",
    "\n",
    "# Perform independent two-sample t-test\n",
    "t_stat, p_value = ttest_ind(group_a, group_b)\n",
    "\n",
    "print(f\"T-statistic: {t_stat}, P-value: {p_value}\")\n",
    "\n",
    "# Interpret the results\n",
    "alpha = 0.05  # significance level\n",
    "if p_value < alpha:\n",
    "    print(\"There is a statistically significant difference between the two groups.\")\n",
    "else:\n",
    "    print(\"There is no statistically significant difference between the two groups.\")"
   ]
  },
  {
   "cell_type": "markdown",
   "metadata": {},
   "source": [
    "## Explanation\n",
    "In the context of a t-test, the `t_stat` (t-statistic) and `p_value` (p-value) are key outcomes that provide statistical measures to help evaluate the significance of the difference between two groups. Here's what they represent:\n",
    "\n",
    "### T-Statistic (`t_stat`)\n",
    "\n",
    "- The t-statistic is a ratio that compares the difference between the means of two groups to the variability of the groups. It's calculated using the formula:\n",
    "\n",
    "  $t = \\frac{\\bar{x}_1 - \\bar{x}_2}{s_{\\bar{x}_1 - \\bar{x}_2}}$\n",
    "  \n",
    "\n",
    "  where $(\\bar{x}_1) and (\\bar{x}_2)$ are the sample means of the two groups, and $(s_{\\bar{x}_1 - \\bar{x}_2})$ is the standard error of the difference between the two means. \n",
    "\n",
    "- The t-statistic measures how many standard errors the difference between the two means is away from 0. A larger absolute value of the t-statistic indicates a greater difference between the groups relative to the variability within the groups.\n",
    "\n",
    "### P-Value (`p_value`)\n",
    "\n",
    "- The p-value is a probability that measures the evidence against the null hypothesis. It tells you how likely it is to observe a test statistic as extreme as, or more extreme than, the one observed, assuming that the null hypothesis is true.\n",
    "\n",
    "- In the context of an A/B test, the null hypothesis typically states that there is no difference between the means of the two groups. A small p-value (typically ≤ 0.05) indicates that the observed data would be very unlikely under the null hypothesis, leading to the rejection of the null hypothesis. This suggests that there is a statistically significant difference between the two groups.\n",
    "\n",
    "- The significance level (α) is a threshold chosen before the test is conducted, against which the p-value is compared. Commonly, α is set to 0.05. If the p-value is less than or equal to α, the difference between the groups is considered statistically significant.\n",
    "\n",
    "Together, the t-statistic and p-value provide a framework for making decisions in hypothesis testing:\n",
    "\n",
    "- The **t-statistic** gives a measure of the magnitude of difference between groups, normalized by the variability of the data.\n",
    "- The **p-value** gives the probability of observing such a difference (or more extreme) if the null hypothesis were true.\n",
    "\n",
    "The combination of these outcomes helps researchers and data analysts determine whether the differences observed in their data (such as conversion rates or other metrics in A/B tests) are statistically significant and not just due to random chance."
   ]
  },
  {
   "cell_type": "markdown",
   "metadata": {},
   "source": [
    "# 2. Cohort analysis and segmentation\n",
    "In cohort analysis and segmentation, these principles still apply, but the approach and context differ. Cohort analysis and segmentation involve breaking down data into specific groups (cohorts) based on shared characteristics or behaviors over time, and then analyzing these groups to understand trends, behaviors, and outcomes.\n",
    "\n",
    "### 2.1 Cohort Analysis\n",
    "\n",
    "- **Purpose**: Cohort analysis tracks the behavior of groups of users over time to identify trends or patterns. These cohorts could be based on the users' first purchase date, sign-up date, or any other event that marks their entry point into the dataset.\n",
    "\n",
    "- **Application of Statistical Tests**: You can apply statistical tests to compare metrics across different cohorts. For example, if you're looking at monthly cohorts based on sign-up date and you want to compare the 6-month retention rate across cohorts, you could use a t-test to compare the retention rates between any two cohorts to see if the difference in retention is statistically significant.\n",
    "\n",
    "### 2.2 Segmentation\n",
    "\n",
    "- **Purpose**: Segmentation involves dividing a broader market or customer base into smaller segments based on certain criteria like demographics, behavior, or psychographics. The goal is to understand differences between these segments to tailor products, services, or marketing strategies.\n",
    "\n",
    "- **Application of Statistical Tests**: Similar to cohort analysis, you can use statistical tests to compare key metrics across different segments. For instance, if you have segmented your users into high, medium, and low engagement based on their activity levels, you might use t-tests or ANOVA (Analysis of Variance) to compare average revenue across these segments. ANOVA is particularly useful for comparing more than two groups. \n",
    "  \n",
    "  \n",
    "To calculate the ANOVA F-value for each of the device types:"
   ]
  },
  {
   "cell_type": "code",
   "execution_count": null,
   "metadata": {
    "vscode": {
     "languageId": "sql"
    }
   },
   "outputs": [],
   "source": [
    "%%bigquery df2 \n",
    "SELECT \n",
    "    device.deviceCategory AS group\n",
    "    CASE \n",
    "        WHEN totals.pageviews > 2 THEN 0 \n",
    "        ELSE 1 END AS metric\n",
    "FROM `johannesvc.johannesvc.johannesvc`\n",
    "WHERE group IN ('A', 'B')"
   ]
  },
  {
   "cell_type": "code",
   "execution_count": null,
   "metadata": {},
   "outputs": [],
   "source": [
    "# get the metric (binary 1-0) for each group\n",
    "group_a = df2[df2['group'] == 'Mobile']['metric']\n",
    "group_b = df2[df2['group'] == 'Desktop']['metric']\n",
    "group_c = df2[df2['group'] == 'Tablet']['metric']"
   ]
  },
  {
   "cell_type": "code",
   "execution_count": null,
   "metadata": {},
   "outputs": [],
   "source": [
    "from scipy.stats import f_oneway\n",
    "\n",
    "# assuming 3 groups\n",
    "f_stat, p_value = f_oneway(group_a, group_b, group_c)\n",
    "print(f\"F-Statistic: {f_stat}, P-Value: {p_value}\")"
   ]
  }
 ],
 "metadata": {
  "kernelspec": {
   "display_name": "johannes",
   "language": "python",
   "name": "python3"
  },
  "language_info": {
   "codemirror_mode": {
    "name": "ipython",
    "version": 3
   },
   "file_extension": ".py",
   "mimetype": "text/x-python",
   "name": "python",
   "nbconvert_exporter": "python",
   "pygments_lexer": "ipython3",
   "version": "3.12.1"
  }
 },
 "nbformat": 4,
 "nbformat_minor": 2
}
