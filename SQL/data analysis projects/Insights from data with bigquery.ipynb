{
 "cells": [
  {
   "cell_type": "code",
   "execution_count": null,
   "metadata": {},
   "outputs": [],
   "source": [
    "%load_ext google.cloud.bigquery"
   ]
  },
  {
   "cell_type": "code",
   "execution_count": null,
   "metadata": {
    "vscode": {
     "languageId": "sql"
    }
   },
   "outputs": [],
   "source": [
    "%%bigquery\n",
    "-- task 1\n",
    "SELECT \n",
    "    SUM(cumulative_confirmed) as total_cases_worldwide\n",
    "  FROM `bigquery-public-data.covid19_open_data.covid19_open_data`\n",
    "  WHERE \n",
    "    date= '2020-04-10'"
   ]
  },
  {
   "cell_type": "code",
   "execution_count": null,
   "metadata": {
    "vscode": {
     "languageId": "sql"
    }
   },
   "outputs": [],
   "source": [
    "%%bigquery\n",
    "-- task 2\n",
    "select count(*) as count_of_states\n",
    "from (\n",
    "SELECT \n",
    "  subregion1_name as state, \n",
    "  sum(cumulative_deceased) as death_count\n",
    "FROM `bigquery-public-data.covid19_open_data.covid19_open_data`\n",
    "where country_name='United States of America' and date='2020-04-10' and subregion1_name is NOT NULL\n",
    "group by subregion1_name\n",
    ")\n",
    "where death_count > 300"
   ]
  },
  {
   "cell_type": "code",
   "execution_count": null,
   "metadata": {
    "vscode": {
     "languageId": "sql"
    }
   },
   "outputs": [],
   "source": [
    "%%bigquery\n",
    "-- task 3\n",
    "SELECT \n",
    "    subregion1_name AS state,\n",
    "    SUM(cumulative_confirmed) AS total_confirmed_cases\n",
    "FROM `bigquery-public-data.covid19_open_data.covid19_open_data`\n",
    "WHERE country_name=\"United States of America\" AND date='2020-04-10' AND subregion1_name IS NOT NULL\n",
    "GROUP BY subregion1_name\n",
    "HAVING total_confirmed_cases > 1000\n",
    "ORDER BY total_confirmed_cases DESC"
   ]
  },
  {
   "cell_type": "code",
   "execution_count": null,
   "metadata": {
    "vscode": {
     "languageId": "sql"
    }
   },
   "outputs": [],
   "source": [
    "%%bigquery\n",
    "-- Task 4. Fatality ratio\n",
    "SELECT \n",
    "    SUM(cumulative_confirmed) AS total_confirmed_cases,\n",
    "    SUM(cumulative_deceased) AS total_deaths,\n",
    "    (SUM(cumulative_deceased)/SUM(cumulative_confirmed))*100 AS case_fatality_ratio\n",
    "    \n",
    "  FROM `bigquery-public-data.covid19_open_data.covid19_open_data`\n",
    "  WHERE \n",
    "    country_name='Italy' \n",
    "    AND date BETWEEN '2020-06-01' AND '2020-06-30'\n"
   ]
  },
  {
   "cell_type": "code",
   "execution_count": null,
   "metadata": {
    "vscode": {
     "languageId": "sql"
    }
   },
   "outputs": [],
   "source": [
    "%%bigquery\n",
    "-- Task 5. Identifying specific day\n",
    "SELECT \n",
    "    date    \n",
    "  FROM `bigquery-public-data.covid19_open_data.covid19_open_data`\n",
    "  WHERE \n",
    "    country_name='Italy'\n",
    "    AND cumulative_deceased > 12000\n",
    "  GROUP BY date\n",
    "  ORDER BY date\n",
    "  LIMIT 1\n",
    "\n"
   ]
  },
  {
   "cell_type": "code",
   "execution_count": null,
   "metadata": {
    "vscode": {
     "languageId": "sql"
    }
   },
   "outputs": [],
   "source": [
    "%%bigquery\n",
    "-- Task 6. Finding days with zero net new cases\n",
    "WITH india_cases_by_date AS (\n",
    "  SELECT\n",
    "    date,\n",
    "    SUM(cumulative_confirmed) AS cases\n",
    "  FROM\n",
    "    `bigquery-public-data.covid19_open_data.covid19_open_data`\n",
    "  WHERE\n",
    "    country_name=\"India\"\n",
    "    AND date between '2020-02-21' and '2020-03-12'\n",
    "  GROUP BY\n",
    "    date\n",
    "  ORDER BY\n",
    "    date ASC\n",
    " )\n",
    ", india_previous_day_comparison AS\n",
    "(SELECT\n",
    "  date,\n",
    "  cases,\n",
    "  LAG(cases) OVER(ORDER BY date) AS previous_day,\n",
    "  cases - LAG(cases) OVER(ORDER BY date) AS net_new_cases\n",
    "FROM india_cases_by_date\n",
    ")\n",
    "SELECT COUNT(*)\n",
    "FROM india_previous_day_comparison\n",
    "WHERE net_new_cases = 0"
   ]
  },
  {
   "cell_type": "code",
   "execution_count": null,
   "metadata": {
    "vscode": {
     "languageId": "sql"
    }
   },
   "outputs": [],
   "source": [
    "%%bigquery\n",
    "-- Task 7. Doubling rate\n",
    "WITH USA_cases_by_date AS (\n",
    "  SELECT\n",
    "    date,\n",
    "    SUM(cumulative_confirmed) AS cases\n",
    "  FROM\n",
    "    `bigquery-public-data.covid19_open_data.covid19_open_data`\n",
    "  WHERE\n",
    "    country_name=\"United States of America\"\n",
    "    AND date between '2020-03-22' and '2020-04-20'\n",
    "  GROUP BY\n",
    "    date\n",
    "  ORDER BY\n",
    "    date ASC\n",
    " )\n",
    ", USA_previous_day_comparison AS\n",
    "(SELECT\n",
    "    Date,\n",
    "    cases as Confirmed_Cases_On_Day,\n",
    "    LAG(cases) OVER(ORDER BY date) AS Confirmed_Cases_Previous_Day ,\n",
    "    (cases - LAG(cases) OVER(ORDER BY date))*100/LAG(cases) OVER(ORDER BY date) AS Percentage_Increase_In_Cases\n",
    "    \n",
    "  FROM USA_cases_by_date\n",
    ")\n",
    "SELECT \n",
    "  Date, Confirmed_Cases_On_Day, Confirmed_Cases_Previous_Day, Percentage_Increase_In_Cases\n",
    "FROM USA_previous_day_comparison\n",
    "WHERE Percentage_Increase_In_Cases > 5\n",
    "\n"
   ]
  },
  {
   "cell_type": "code",
   "execution_count": null,
   "metadata": {
    "vscode": {
     "languageId": "sql"
    }
   },
   "outputs": [],
   "source": [
    "%%bigquery\n",
    "-- Task 8. Recovery rate\n",
    "SELECT country, recovered_cases, confirmed_cases, recovery_rate\n",
    "FROM (\n",
    "  SELECT\n",
    "    country_name country,\n",
    "    SUM(cumulative_recovered) recovered_cases,\n",
    "    SUM(cumulative_confirmed) confirmed_cases,\n",
    "    (SUM(cumulative_recovered)/SUM(cumulative_confirmed))*100 recovery_rate\n",
    "    FROM\n",
    "      `bigquery-public-data.covid19_open_data.covid19_open_data`\n",
    "  WHERE date = '2020-05-10'\n",
    "  GROUP BY country\n",
    "  )\n",
    "WHERE confirmed_cases > 50000\n",
    "ORDER BY recovery_rate DESC\n",
    "LIMIT 5\n"
   ]
  },
  {
   "cell_type": "code",
   "execution_count": null,
   "metadata": {
    "vscode": {
     "languageId": "sql"
    }
   },
   "outputs": [],
   "source": [
    "%%bigquery\n",
    "-- Task 9. CDGR - Cumulative daily growth rate\n",
    "WITH\n",
    "  france_cases AS (\n",
    "  SELECT\n",
    "    date,\n",
    "    SUM(cumulative_confirmed) AS total_cases\n",
    "  FROM\n",
    "    `bigquery-public-data.covid19_open_data.covid19_open_data`\n",
    "  WHERE\n",
    "    country_name=\"France\"\n",
    "    AND date IN ('2020-01-24',\n",
    "      '2020-05-10')\n",
    "  GROUP BY\n",
    "    date\n",
    "  ORDER BY\n",
    "    date)\n",
    ", summary as (\n",
    " SELECT\n",
    "  total_cases AS first_day_cases,\n",
    "  LEAD(total_cases) OVER(ORDER BY date) AS last_day_cases,\n",
    "  DATE_DIFF(LEAD(date) OVER(ORDER BY date),date, day) AS days_diff\n",
    "FROM\n",
    "  france_cases\n",
    "LIMIT 1\n",
    ")\n",
    "SELECT \n",
    "    first_day_cases, \n",
    "    last_day_cases, \n",
    "    days_diff, \n",
    "    POW(last_day_cases/first_day_cases,1/days_diff)-1 as cdgr\n",
    "FROM summary\n"
   ]
  },
  {
   "cell_type": "code",
   "execution_count": null,
   "metadata": {
    "vscode": {
     "languageId": "sql"
    }
   },
   "outputs": [],
   "source": [
    "%%bigquery\n",
    "-- Task 10\n",
    "SELECT\n",
    "    date, SUM(cumulative_confirmed) AS country_cases,\n",
    "    SUM(cumulative_deceased) AS country_deaths\n",
    "FROM `bigquery-public-data.covid19_open_data.covid19_open_data`\n",
    "WHERE date BETWEEN '2020-03-15' AND '2020-04-30' AND country_name =\"United States of America\"\n",
    "GROUP BY date\n",
    "-- Click \"explore in looker studio\""
   ]
  }
 ],
 "metadata": {
  "language_info": {
   "name": "python"
  }
 },
 "nbformat": 4,
 "nbformat_minor": 2
}
