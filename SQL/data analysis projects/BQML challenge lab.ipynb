{
 "cells": [
  {
   "cell_type": "markdown",
   "metadata": {},
   "source": [
    "Task 1. Make a dataset\n",
    "\n",
    "Task 2. Create a forecasting BigQuery machine learning model\n",
    "Create the first machine learning model to predict the trip duration for bike trips.\n",
    "The features of this model must incorporate the starting station name, the hour the trip started, the weekday of the trip, and the address of the start station labelled as location. You must use Training Year data only to train this model."
   ]
  },
  {
   "cell_type": "code",
   "execution_count": null,
   "metadata": {},
   "outputs": [],
   "source": [
    "%load_ext google.cloud.bigquery"
   ]
  },
  {
   "cell_type": "code",
   "execution_count": null,
   "metadata": {
    "vscode": {
     "languageId": "sql"
    }
   },
   "outputs": [],
   "source": [
    "-- starting station name, the hour the trip started, the weekday of the trip, and the address of the start station labelled as location\n",
    "%%bigquery\n",
    "CREATE OR REPLACE MODEL ML_dataset.trained_model\n",
    "OPTIONS (\n",
    "  model_type='linear_reg',\n",
    "  labels=['duration_minutes']\n",
    ")\n",
    "AS\n",
    "\n",
    "SELECT\n",
    "  start_station_name, \n",
    "  EXTRACT(HOUR FROM start_time) as hour,\n",
    "  EXTRACT(dayofweek FROM start_time) as weekday,\n",
    "  address location,\n",
    "  duration_minutes\n",
    "FROM\n",
    "  `bigquery-public-data.austin_bikeshare.bikeshare_trips`\n",
    "JOIN `bigquery-public-data.austin_bikeshare.bikeshare_stations`\n",
    "ON station_id=station_id\n",
    "WHERE start_time BETWEEN TIMESTAMP('2016-01-01') AND TIMESTAMP('2017-01-01')\n",
    "-- LIMIT 10;"
   ]
  },
  {
   "cell_type": "markdown",
   "metadata": {},
   "source": [
    "Task 3. Create the second machine learning model\n",
    "Create the second machine learning model to predict the trip duration for bike trips.\n",
    "The features of this model must incorporate the starting station name, the bike share subscriber type and the start time for the trip. You must also use Training Year data only to train this model."
   ]
  },
  {
   "cell_type": "code",
   "execution_count": null,
   "metadata": {
    "vscode": {
     "languageId": "sql"
    }
   },
   "outputs": [],
   "source": [
    "-- The features of this model must incorporate the starting station name, the bike share subscriber type and the start time for the trip. You must also use 2016 data only to train this model.\n",
    "%%bigquery\n",
    "CREATE OR REPLACE MODEL ML_dataset.trained_model2\n",
    "OPTIONS (\n",
    "  model_type='linear_reg',\n",
    "  labels=['duration_minutes']\n",
    ")\n",
    "AS\n",
    "\n",
    "SELECT\n",
    "  start_station_name, \n",
    "  subscriber_type,\n",
    "  EXTRACT(HOUR FROM start_time) AS start_hour,\n",
    "  duration_minutes\n",
    "FROM\n",
    "  `bigquery-public-data.austin_bikeshare.bikeshare_trips`\n",
    "-- JOIN `bigquery-public-data.austin_bikeshare.bikeshare_stations`\n",
    "-- ON station_id=station_id\n",
    "WHERE EXTRACT(YEAR FROM start_time) = 2016\n",
    "-- LIMIT 10;"
   ]
  },
  {
   "cell_type": "markdown",
   "metadata": {},
   "source": [
    "Task 4. Evaluate the two machine learning models"
   ]
  },
  {
   "cell_type": "code",
   "execution_count": null,
   "metadata": {
    "vscode": {
     "languageId": "sql"
    }
   },
   "outputs": [],
   "source": [
    "%%bigquery\n",
    "SELECT \n",
    "  SQRT(mean_squared_error) AS rmse,\n",
    "  mean_absolute_error\n",
    "\n",
    "FROM ML.EVALUATE(MODEL `qwiklabs-gcp-04-6b085ce229df.ML_dataset.trained_model`, (\n",
    "\n",
    "  SELECT\n",
    "    start_station_name, \n",
    "    EXTRACT(HOUR FROM start_time) as hour,\n",
    "    EXTRACT(dayofweek FROM start_time) as weekday,\n",
    "    address location,\n",
    "    duration_minutes\n",
    "  FROM\n",
    "    `bigquery-public-data.austin_bikeshare.bikeshare_trips`\n",
    "  JOIN `bigquery-public-data.austin_bikeshare.bikeshare_stations`\n",
    "  ON station_id=station_id\n",
    "  WHERE start_time BETWEEN TIMESTAMP('2019-01-01') AND TIMESTAMP('2020-01-01')\n",
    "))"
   ]
  },
  {
   "cell_type": "code",
   "execution_count": null,
   "metadata": {
    "vscode": {
     "languageId": "sql"
    }
   },
   "outputs": [],
   "source": [
    "%%bigquery\n",
    "SELECT \n",
    "  SQRT(mean_squared_error) AS rmse,\n",
    "  mean_absolute_error\n",
    "\n",
    "FROM ML.EVALUATE(MODEL `qwiklabs-gcp-04-6b085ce229df.ML_dataset.trained_model2`, (\n",
    "\n",
    "  SELECT\n",
    "    start_station_name, \n",
    "    subscriber_type,\n",
    "    start_time,\n",
    "    duration_minutes\n",
    "  FROM\n",
    "    `bigquery-public-data.austin_bikeshare.bikeshare_trips`\n",
    "  -- JOIN `bigquery-public-data.austin_bikeshare.bikeshare_stations`\n",
    "  -- ON station_id=station_id\n",
    "  WHERE start_time BETWEEN TIMESTAMP('2019-01-01') AND TIMESTAMP('2020-01-01')\n",
    "))"
   ]
  },
  {
   "cell_type": "markdown",
   "metadata": {},
   "source": [
    "Task 5. Use the subscriber type machine learning model to predict average trip durations"
   ]
  },
  {
   "cell_type": "code",
   "execution_count": null,
   "metadata": {
    "vscode": {
     "languageId": "sql"
    }
   },
   "outputs": [],
   "source": [
    "%%bigquery\n",
    "WITH busiest_station AS (\n",
    "    SELECT\n",
    "      start_station_id\n",
    "    FROM `bigquery-public-data.austin_bikeshare.bikeshare_trips`\n",
    "    WHERE EXTRACT(YEAR FROM start_time) = 2019\n",
    "    GROUP BY start_station_id\n",
    "    ORDER BY COUNT(*) DESC\n",
    "    LIMIT 10\n",
    "  )\n",
    "\n",
    "SELECT \n",
    "  AVG(predicted_duration_minutes) as predicted_average_trip_length\n",
    "\n",
    "FROM ML.PREDICT(MODEL `qwiklabs-gcp-04-6b085ce229df.ML_dataset.trained_model2`, (\n",
    " \n",
    "  SELECT\n",
    "    trips.start_station_name, \n",
    "    trips.subscriber_type,\n",
    "    EXTRACT(HOUR FROM start_time) AS start_hour,\n",
    "    trips.duration_minutes\n",
    "  FROM `bigquery-public-data.austin_bikeshare.bikeshare_trips` trips\n",
    "  JOIN \n",
    "    busiest_station ON trips.start_station_id = busiest_station.start_station_id\n",
    "  WHERE \n",
    "    EXTRACT(YEAR FROM trips.start_time) = 2019\n",
    "    AND trips.subscriber_type = 'Single Trip'\n",
    "  ))"
   ]
  }
 ],
 "metadata": {
  "language_info": {
   "name": "python"
  }
 },
 "nbformat": 4,
 "nbformat_minor": 2
}
