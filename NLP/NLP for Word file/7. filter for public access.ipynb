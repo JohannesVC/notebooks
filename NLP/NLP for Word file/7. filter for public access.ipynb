{
 "cells": [
  {
   "cell_type": "code",
   "execution_count": 1,
   "metadata": {},
   "outputs": [],
   "source": [
    "import re, yaml\n",
    "import numpy as np\n",
    "import pandas as pd\n",
    "import matplotlib.pyplot as plt\n",
    "import matplotlib.colors as mcolors\n",
    "import spacy"
   ]
  },
  {
   "cell_type": "code",
   "execution_count": 5,
   "metadata": {},
   "outputs": [],
   "source": [
    "df_pickle = pd.read_parquet(r\"C:\\Users\\johan\\Documents\\GitHub\\johannes.vc\\website\\static\\df_topic_parquet\")"
   ]
  },
  {
   "cell_type": "code",
   "execution_count": 61,
   "metadata": {},
   "outputs": [
    {
     "data": {
      "text/html": [
       "<div>\n",
       "<style scoped>\n",
       "    .dataframe tbody tr th:only-of-type {\n",
       "        vertical-align: middle;\n",
       "    }\n",
       "\n",
       "    .dataframe tbody tr th {\n",
       "        vertical-align: top;\n",
       "    }\n",
       "\n",
       "    .dataframe thead th {\n",
       "        text-align: right;\n",
       "    }\n",
       "</style>\n",
       "<table border=\"1\" class=\"dataframe\">\n",
       "  <thead>\n",
       "    <tr style=\"text-align: right;\">\n",
       "      <th></th>\n",
       "      <th>Topic</th>\n",
       "      <th>Name</th>\n",
       "      <th>Top_n_words</th>\n",
       "      <th>2d_embeddings_x</th>\n",
       "      <th>2d_embeddings_y</th>\n",
       "      <th>texts</th>\n",
       "      <th>mask</th>\n",
       "      <th>embeddings</th>\n",
       "    </tr>\n",
       "  </thead>\n",
       "  <tbody>\n",
       "    <tr>\n",
       "      <th>0</th>\n",
       "      <td>14</td>\n",
       "      <td>14_taal_spreken_discours_woorden</td>\n",
       "      <td>taal - spreken - discours - woorden - zeker - ...</td>\n",
       "      <td>2.815553</td>\n",
       "      <td>2.021039</td>\n",
       "      <td>Wat ik hier wil doen is, net als in mijn dagbo...</td>\n",
       "      <td>True</td>\n",
       "      <td>[-0.007182960398495197, -0.01577874645590782, ...</td>\n",
       "    </tr>\n",
       "    <tr>\n",
       "      <th>2</th>\n",
       "      <td>34</td>\n",
       "      <td>34_drugs_mdma_jake_persoon</td>\n",
       "      <td>drugs - mdma - jake - persoon - coke - middele...</td>\n",
       "      <td>7.133348</td>\n",
       "      <td>2.299568</td>\n",
       "      <td>Drugs, ziekte en gemoed. Wat ik wil doen is in...</td>\n",
       "      <td>True</td>\n",
       "      <td>[-0.004304243717342615, -0.009285484440624714,...</td>\n",
       "    </tr>\n",
       "    <tr>\n",
       "      <th>3</th>\n",
       "      <td>18</td>\n",
       "      <td>18_overtuigen_gedrag_denken_kritiek</td>\n",
       "      <td>overtuigen - gedrag - denken - kritiek - ander...</td>\n",
       "      <td>3.955438</td>\n",
       "      <td>0.293900</td>\n",
       "      <td>Zelfrelativering. Het is een notie die het ove...</td>\n",
       "      <td>True</td>\n",
       "      <td>[-0.016389941796660423, -0.01944853737950325, ...</td>\n",
       "    </tr>\n",
       "    <tr>\n",
       "      <th>4</th>\n",
       "      <td>14</td>\n",
       "      <td>14_taal_spreken_discours_woorden</td>\n",
       "      <td>taal - spreken - discours - woorden - zeker - ...</td>\n",
       "      <td>2.340214</td>\n",
       "      <td>1.799563</td>\n",
       "      <td>Wat is taal? Taal is als lijn die boven de tre...</td>\n",
       "      <td>True</td>\n",
       "      <td>[0.012348778545856476, -0.02358260191977024, 0...</td>\n",
       "    </tr>\n",
       "    <tr>\n",
       "      <th>5</th>\n",
       "      <td>0</td>\n",
       "      <td>0_wetenschap_intelligentie_onze_reality</td>\n",
       "      <td>wetenschap - intelligentie - onze - reality - ...</td>\n",
       "      <td>3.345256</td>\n",
       "      <td>0.882175</td>\n",
       "      <td>Voorfilosofisch. Wat zijn de gedachten die mij...</td>\n",
       "      <td>True</td>\n",
       "      <td>[0.004265272058546543, -0.030903104692697525, ...</td>\n",
       "    </tr>\n",
       "  </tbody>\n",
       "</table>\n",
       "</div>"
      ],
      "text/plain": [
       "   Topic                                     Name  \\\n",
       "0     14         14_taal_spreken_discours_woorden   \n",
       "2     34               34_drugs_mdma_jake_persoon   \n",
       "3     18      18_overtuigen_gedrag_denken_kritiek   \n",
       "4     14         14_taal_spreken_discours_woorden   \n",
       "5      0  0_wetenschap_intelligentie_onze_reality   \n",
       "\n",
       "                                         Top_n_words  2d_embeddings_x  \\\n",
       "0  taal - spreken - discours - woorden - zeker - ...         2.815553   \n",
       "2  drugs - mdma - jake - persoon - coke - middele...         7.133348   \n",
       "3  overtuigen - gedrag - denken - kritiek - ander...         3.955438   \n",
       "4  taal - spreken - discours - woorden - zeker - ...         2.340214   \n",
       "5  wetenschap - intelligentie - onze - reality - ...         3.345256   \n",
       "\n",
       "   2d_embeddings_y                                              texts  mask  \\\n",
       "0         2.021039  Wat ik hier wil doen is, net als in mijn dagbo...  True   \n",
       "2         2.299568  Drugs, ziekte en gemoed. Wat ik wil doen is in...  True   \n",
       "3         0.293900  Zelfrelativering. Het is een notie die het ove...  True   \n",
       "4         1.799563  Wat is taal? Taal is als lijn die boven de tre...  True   \n",
       "5         0.882175  Voorfilosofisch. Wat zijn de gedachten die mij...  True   \n",
       "\n",
       "                                          embeddings  \n",
       "0  [-0.007182960398495197, -0.01577874645590782, ...  \n",
       "2  [-0.004304243717342615, -0.009285484440624714,...  \n",
       "3  [-0.016389941796660423, -0.01944853737950325, ...  \n",
       "4  [0.012348778545856476, -0.02358260191977024, 0...  \n",
       "5  [0.004265272058546543, -0.030903104692697525, ...  "
      ]
     },
     "execution_count": 61,
     "metadata": {},
     "output_type": "execute_result"
    }
   ],
   "source": [
    "df_pickle_ = pd.read_pickle(\"df_topic3.pkl\")\n",
    "df_pickle_.head()"
   ]
  },
  {
   "cell_type": "code",
   "execution_count": 68,
   "metadata": {},
   "outputs": [
    {
     "data": {
      "text/plain": [
       "numpy.ndarray"
      ]
     },
     "execution_count": 68,
     "metadata": {},
     "output_type": "execute_result"
    }
   ],
   "source": [
    "type(df_pickle_.embeddings.to_list()[5])"
   ]
  },
  {
   "cell_type": "code",
   "execution_count": 66,
   "metadata": {},
   "outputs": [],
   "source": [
    "df_pickle_.embeddings = df_pickle_.embeddings.apply(lambda x : np.array(x))"
   ]
  },
  {
   "cell_type": "markdown",
   "metadata": {},
   "source": [
    "# 1. filter "
   ]
  },
  {
   "cell_type": "markdown",
   "metadata": {},
   "source": [
    "- remove unnecessary columns\n",
    "\n",
    "- add a mask column that is False whenever there's too much porn.\n",
    "\n",
    "- add embeddings"
   ]
  },
  {
   "cell_type": "markdown",
   "metadata": {},
   "source": [
    "a. drop unnecessary columns"
   ]
  },
  {
   "cell_type": "code",
   "execution_count": null,
   "metadata": {},
   "outputs": [
    {
     "data": {
      "text/plain": [
       "Index(['Document', 'Topic', 'Name', 'Representation', 'Representative_Docs',\n",
       "       'Top_n_words', 'Probability', 'Representative_document',\n",
       "       '2d_embeddings_x', '2d_embeddings_y', 'texts'],\n",
       "      dtype='object')"
      ]
     },
     "metadata": {},
     "output_type": "display_data"
    }
   ],
   "source": [
    "df_pickle.columns"
   ]
  },
  {
   "cell_type": "code",
   "execution_count": null,
   "metadata": {},
   "outputs": [
    {
     "data": {
      "text/plain": [
       "(['taal',\n",
       "  'spreken',\n",
       "  'discours',\n",
       "  'woorden',\n",
       "  'zeker',\n",
       "  'leren',\n",
       "  'steeds',\n",
       "  'chalmers',\n",
       "  'vertaalbaarheid',\n",
       "  'denken'],\n",
       " 'taal - spreken - discours - woorden - zeker - leren - steeds - chalmers - vertaalbaarheid - denken',\n",
       " 0.7859896795762747)"
      ]
     },
     "metadata": {},
     "output_type": "display_data"
    }
   ],
   "source": [
    "df_pickle.Representation[0], df_pickle.Top_n_words[0], df_pickle.Probability[0]"
   ]
  },
  {
   "cell_type": "markdown",
   "metadata": {},
   "source": [
    "> df_pickle.Representative_Docs[0] is maybe better than .sample"
   ]
  },
  {
   "cell_type": "code",
   "execution_count": 16,
   "metadata": {},
   "outputs": [],
   "source": [
    "df_pickle_clean = df_pickle.drop(['Document', 'Representation', 'Probability', 'Representative_Docs', 'Representative_document'], axis=1)"
   ]
  },
  {
   "cell_type": "code",
   "execution_count": 17,
   "metadata": {},
   "outputs": [
    {
     "data": {
      "text/plain": [
       "Index(['Topic', 'Name', 'Top_n_words', '2d_embeddings_x', '2d_embeddings_y',\n",
       "       'texts'],\n",
       "      dtype='object')"
      ]
     },
     "execution_count": 17,
     "metadata": {},
     "output_type": "execute_result"
    }
   ],
   "source": [
    "df_pickle_clean.columns"
   ]
  },
  {
   "cell_type": "markdown",
   "metadata": {},
   "source": [
    "b. test mask on subset"
   ]
  },
  {
   "cell_type": "code",
   "execution_count": 80,
   "metadata": {},
   "outputs": [],
   "source": [
    "df_test = df_pickle_clean.iloc[1050:1150]"
   ]
  },
  {
   "cell_type": "code",
   "execution_count": 81,
   "metadata": {},
   "outputs": [
    {
     "data": {
      "text/plain": [
       "1085    Het scherm houdt ons in z’n greep. Vooral de p...\n",
       "1087    Extended masturbation: met je goede hand de pr...\n",
       "1112    Porno is de objectivering van het interindivid...\n",
       "1133    Betoverd door porno. – Filmpje Good Porn: zove...\n",
       "Name: texts, dtype: object"
      ]
     },
     "execution_count": 81,
     "metadata": {},
     "output_type": "execute_result"
    }
   ],
   "source": [
    "df_test['texts'][df_test['Topic'] == 7]"
   ]
  },
  {
   "cell_type": "code",
   "execution_count": 10,
   "metadata": {},
   "outputs": [],
   "source": [
    "nlp = spacy.load('nl_core_news_md')"
   ]
  },
  {
   "cell_type": "code",
   "execution_count": 119,
   "metadata": {},
   "outputs": [
    {
     "name": "stderr",
     "output_type": "stream",
     "text": [
      "C:\\Users\\johan\\AppData\\Local\\Temp\\ipykernel_346400\\2719710505.py:8: UserWarning: [W008] Evaluating Doc.similarity based on empty vectors.\n",
      "  similarity = dirt.similarity(spacy_word) # cosine_similarity([dirty_vector], [word_vector])[0][0]\n"
     ]
    },
    {
     "name": "stdout",
     "output_type": "stream",
     "text": [
      "porno\n",
      "seks\n",
      "porno\n",
      "seks\n",
      "seks,\n",
      "neuken\n",
      "masturbeerde\n",
      "seks\n",
      "seks,\n",
      "seks\n",
      "masturberen\n",
      "seks,\n",
      "seks,\n",
      "seks\n",
      "seks\n",
      "masturberen\n",
      "seks\n",
      "seks\n",
      "seks,\n",
      "porno\n",
      "porno\n",
      "seks\n",
      "porno\n",
      "sex\n",
      "seks\n",
      "seks\n",
      "masturberen\n",
      "sex\n",
      "sex\n",
      "seks\n",
      "neuken\n",
      "sex\n",
      "porno\n",
      "porno\n",
      "masturbeer\n",
      "penissen\n",
      "neuken\n",
      "seks\n",
      "cumshots\n",
      "seks\n",
      "porno\n",
      "porno\n",
      "porno\n",
      "seks\n",
      "porno\n",
      "porno\n",
      "porno\n",
      "porno\n",
      "pornofilm\n",
      "seks\n",
      "sex\n",
      "pornography\n",
      "sex\n",
      "sex,\n",
      "pornografie\n",
      "masturbatie\n",
      "masturberen\n",
      "porno\n",
      "voyeur\n",
      "seks\n",
      "lesbiennes\n",
      "seks\n",
      "seks\n",
      "seks\n",
      "seksverhalen\n",
      "seks\n",
      "seks\n",
      "porno\n",
      "porno\n",
      "pornografie\n",
      "seks\n",
      "seks\n",
      "seks\n",
      "pornofilm\n",
      "porno\n",
      "porno\n",
      "masturberen\n",
      "seks\n",
      "porno\n",
      "seksscène\n",
      "porno\n",
      "seks\n",
      "sex\n",
      "seks\n",
      "seks\n",
      "seks\n",
      "seks\n",
      "porno\n",
      "masturberen\n",
      "seks\n",
      "porno\n",
      "seks\n",
      "seks\n",
      "porno\n",
      "seks\n",
      "porno\n",
      "lesbiënnes\n",
      "seks\n",
      "seks\n",
      "seks\n",
      "seks\n",
      "seks\n",
      "seks\n",
      "seks\n",
      "seks\n",
      "sex,\n",
      "sexes\n",
      "seks,\n",
      "masturbation\n",
      "masturbatie\n",
      "sex\n",
      "sex\n",
      "seks,\n",
      "seks\n",
      "seks\n",
      "seks\n",
      "seks\n",
      "porno\n",
      "masturbeert\n",
      "seksslaaf\n",
      "seks\n",
      "porno\n",
      "seks\n",
      "seks\n",
      "seks\n",
      "orgies\n",
      "seks\n",
      "seks\n",
      "porno\n",
      "porno\n",
      "seks\n"
     ]
    }
   ],
   "source": [
    "dirt = nlp(\"seks\")\n",
    "\n",
    "def calculate_similarity(doc):\n",
    "    seks = True\n",
    "    words = nlp(doc)    \n",
    "    for word in words:\n",
    "        similarity = dirt.similarity(word) \n",
    "        if similarity > 0.7:\n",
    "            seks = False\n",
    "            # print(word)\n",
    "            return False\n",
    "    if seks:\n",
    "        return True\n",
    "\n",
    "df_pickle_clean = df_pickle_clean.copy()\n",
    "df_pickle_clean.loc[:, 'mask'] = df_pickle_clean['texts'].apply(calculate_similarity)"
   ]
  },
  {
   "cell_type": "code",
   "execution_count": 221,
   "metadata": {},
   "outputs": [
    {
     "name": "stderr",
     "output_type": "stream",
     "text": [
      "C:\\Users\\johan\\AppData\\Local\\Temp\\ipykernel_346400\\1684368466.py:2: SettingWithCopyWarning: \n",
      "A value is trying to be set on a copy of a slice from a DataFrame\n",
      "\n",
      "See the caveats in the documentation: https://pandas.pydata.org/pandas-docs/stable/user_guide/indexing.html#returning-a-view-versus-a-copy\n",
      "  df_pickle_clean.loc[:, 'mask'][df_pickle_clean['mask'] != False] = True\n"
     ]
    }
   ],
   "source": [
    "df_pickle_clean = df_pickle_clean.copy()\n",
    "df_pickle_clean.loc[:, 'mask'][df_pickle_clean['mask'] != False] = True\n",
    "# df_pickle_clean_"
   ]
  },
  {
   "cell_type": "markdown",
   "metadata": {},
   "source": [
    "this is now the clean one"
   ]
  },
  {
   "cell_type": "code",
   "execution_count": 229,
   "metadata": {},
   "outputs": [
    {
     "data": {
      "text/html": [
       "<div>\n",
       "<style scoped>\n",
       "    .dataframe tbody tr th:only-of-type {\n",
       "        vertical-align: middle;\n",
       "    }\n",
       "\n",
       "    .dataframe tbody tr th {\n",
       "        vertical-align: top;\n",
       "    }\n",
       "\n",
       "    .dataframe thead th {\n",
       "        text-align: right;\n",
       "    }\n",
       "</style>\n",
       "<table border=\"1\" class=\"dataframe\">\n",
       "  <thead>\n",
       "    <tr style=\"text-align: right;\">\n",
       "      <th></th>\n",
       "      <th>Topic</th>\n",
       "      <th>Name</th>\n",
       "      <th>2d_embeddings_x</th>\n",
       "      <th>2d_embeddings_y</th>\n",
       "      <th>texts</th>\n",
       "      <th>mask</th>\n",
       "    </tr>\n",
       "  </thead>\n",
       "  <tbody>\n",
       "    <tr>\n",
       "      <th>0</th>\n",
       "      <td>14</td>\n",
       "      <td>14_taal_spreken_discours_woorden</td>\n",
       "      <td>2.815553</td>\n",
       "      <td>2.021039</td>\n",
       "      <td>Wat ik hier wil doen is, net als in mijn dagbo...</td>\n",
       "      <td>True</td>\n",
       "    </tr>\n",
       "    <tr>\n",
       "      <th>2</th>\n",
       "      <td>34</td>\n",
       "      <td>34_drugs_mdma_jake_persoon</td>\n",
       "      <td>7.133348</td>\n",
       "      <td>2.299568</td>\n",
       "      <td>Drugs, ziekte en gemoed. Wat ik wil doen is in...</td>\n",
       "      <td>True</td>\n",
       "    </tr>\n",
       "    <tr>\n",
       "      <th>3</th>\n",
       "      <td>18</td>\n",
       "      <td>18_overtuigen_gedrag_denken_kritiek</td>\n",
       "      <td>3.955438</td>\n",
       "      <td>0.293900</td>\n",
       "      <td>Zelfrelativering. Het is een notie die het ove...</td>\n",
       "      <td>True</td>\n",
       "    </tr>\n",
       "    <tr>\n",
       "      <th>4</th>\n",
       "      <td>14</td>\n",
       "      <td>14_taal_spreken_discours_woorden</td>\n",
       "      <td>2.340214</td>\n",
       "      <td>1.799563</td>\n",
       "      <td>Wat is taal? Taal is als lijn die boven de tre...</td>\n",
       "      <td>True</td>\n",
       "    </tr>\n",
       "    <tr>\n",
       "      <th>5</th>\n",
       "      <td>0</td>\n",
       "      <td>0_wetenschap_intelligentie_onze_reality</td>\n",
       "      <td>3.345256</td>\n",
       "      <td>0.882175</td>\n",
       "      <td>Voorfilosofisch. Wat zijn de gedachten die mij...</td>\n",
       "      <td>True</td>\n",
       "    </tr>\n",
       "    <tr>\n",
       "      <th>...</th>\n",
       "      <td>...</td>\n",
       "      <td>...</td>\n",
       "      <td>...</td>\n",
       "      <td>...</td>\n",
       "      <td>...</td>\n",
       "      <td>...</td>\n",
       "    </tr>\n",
       "    <tr>\n",
       "      <th>3517</th>\n",
       "      <td>-1</td>\n",
       "      <td>-1_onze_mensen_wel_wereld</td>\n",
       "      <td>0.908426</td>\n",
       "      <td>-0.580378</td>\n",
       "      <td>The size of UK markets\\nThe oecd, a club of mo...</td>\n",
       "      <td>True</td>\n",
       "    </tr>\n",
       "    <tr>\n",
       "      <th>3518</th>\n",
       "      <td>-1</td>\n",
       "      <td>-1_onze_mensen_wel_wereld</td>\n",
       "      <td>0.986804</td>\n",
       "      <td>-1.035888</td>\n",
       "      <td>the spectrum from philanthropy to max return i...</td>\n",
       "      <td>True</td>\n",
       "    </tr>\n",
       "    <tr>\n",
       "      <th>3519</th>\n",
       "      <td>5</td>\n",
       "      <td>5_europa_frankrijk_europese_land</td>\n",
       "      <td>0.608428</td>\n",
       "      <td>0.582077</td>\n",
       "      <td>Voor boek:\\nMathieu heeft een positieve intent...</td>\n",
       "      <td>True</td>\n",
       "    </tr>\n",
       "    <tr>\n",
       "      <th>3520</th>\n",
       "      <td>8</td>\n",
       "      <td>8_boek_schrijver_schrijven_lezen</td>\n",
       "      <td>4.084053</td>\n",
       "      <td>1.368689</td>\n",
       "      <td>\"Geen enkel boek is interessanter dan een goed...</td>\n",
       "      <td>True</td>\n",
       "    </tr>\n",
       "    <tr>\n",
       "      <th>3521</th>\n",
       "      <td>-1</td>\n",
       "      <td>-1_onze_mensen_wel_wereld</td>\n",
       "      <td>7.651461</td>\n",
       "      <td>-0.020993</td>\n",
       "      <td>De rotsscene is een (zoveelste) verkenning van...</td>\n",
       "      <td>True</td>\n",
       "    </tr>\n",
       "  </tbody>\n",
       "</table>\n",
       "<p>3405 rows × 6 columns</p>\n",
       "</div>"
      ],
      "text/plain": [
       "      Topic                                     Name  2d_embeddings_x  \\\n",
       "0        14         14_taal_spreken_discours_woorden         2.815553   \n",
       "2        34               34_drugs_mdma_jake_persoon         7.133348   \n",
       "3        18      18_overtuigen_gedrag_denken_kritiek         3.955438   \n",
       "4        14         14_taal_spreken_discours_woorden         2.340214   \n",
       "5         0  0_wetenschap_intelligentie_onze_reality         3.345256   \n",
       "...     ...                                      ...              ...   \n",
       "3517     -1                -1_onze_mensen_wel_wereld         0.908426   \n",
       "3518     -1                -1_onze_mensen_wel_wereld         0.986804   \n",
       "3519      5         5_europa_frankrijk_europese_land         0.608428   \n",
       "3520      8         8_boek_schrijver_schrijven_lezen         4.084053   \n",
       "3521     -1                -1_onze_mensen_wel_wereld         7.651461   \n",
       "\n",
       "      2d_embeddings_y                                              texts  mask  \n",
       "0            2.021039  Wat ik hier wil doen is, net als in mijn dagbo...  True  \n",
       "2            2.299568  Drugs, ziekte en gemoed. Wat ik wil doen is in...  True  \n",
       "3            0.293900  Zelfrelativering. Het is een notie die het ove...  True  \n",
       "4            1.799563  Wat is taal? Taal is als lijn die boven de tre...  True  \n",
       "5            0.882175  Voorfilosofisch. Wat zijn de gedachten die mij...  True  \n",
       "...               ...                                                ...   ...  \n",
       "3517        -0.580378  The size of UK markets\\nThe oecd, a club of mo...  True  \n",
       "3518        -1.035888  the spectrum from philanthropy to max return i...  True  \n",
       "3519         0.582077  Voor boek:\\nMathieu heeft een positieve intent...  True  \n",
       "3520         1.368689  \"Geen enkel boek is interessanter dan een goed...  True  \n",
       "3521        -0.020993  De rotsscene is een (zoveelste) verkenning van...  True  \n",
       "\n",
       "[3405 rows x 6 columns]"
      ]
     },
     "execution_count": 229,
     "metadata": {},
     "output_type": "execute_result"
    }
   ],
   "source": [
    "df_pickle_clean.loc[df_pickle_clean['mask']]"
   ]
  },
  {
   "cell_type": "markdown",
   "metadata": {},
   "source": [
    "This is now the dirty one"
   ]
  },
  {
   "cell_type": "code",
   "execution_count": 227,
   "metadata": {},
   "outputs": [
    {
     "data": {
      "text/plain": [
       "(117,\n",
       " ['Bepaalde vragen rond structuur en verhaallijn houden mij bezig. Kan een realisme volstaan? Wordt het arbitrair invoegen van ‘wijsheden’ niet algauw pompeus en pedant?\\nEr moet een climax en een opbouw zijn, een evolutie, eventueel een revolutie. Er moet een rode draad zijn met spanningselementen en beminnelijke verleidingselementen.\\nWat als alles evolueerde naar een alles-ontknopend gesprek? Een soort realisme waarin vragen worden vooruit geschoven waarvoor de lezer naar een antwoord snakt, en in één beweging komt alles samen in een existentiële crisis en in één beweging verschijnt de ruimte van de ware filosofie.\\nEen grondstelling zou de volgende kunnen zijn. In werkelijkheid is alles porno. We zien echter geen porno, dus dit is de werkelijkheid niet. Porno is zelf de werkelijkheid. Dit heeft vele interessante eigenschappen. Ten eerste is het pornografische sinds het internet in belang geëxplodeerd. Maar het wordt ook verondersteld als een verborgen werkelijkheid, als een verdrukte en genegeerde natuur. Porno moet bevrijd worden, lijkt het.\\nUiteraard is dat niet mijn stelling. Het is een grondstelling om tot een heel pak nuances te komen die zowel het seksuele als het zakelijke in een ander daglicht stellen.\\nDe grondstelling zou verpakt kunnen worden in een blog van één van de personages. Verder vormt het niet een punt van aandacht, een focus van de rode draad, maar het blijft als relatief belangrijk doorwegen. Het komt terug vanuit verschillende invalshoeken. Elke benadering neemt als het ware een klein hapje uit dat grootse bouwwerk van onze tijd, die schijnbaar onverzoenbare tegenstelling van onze zakelijke moraal versus onze instinctieve seksualiteit.\\nEventueel volgt een soort verzoenende discussie naar het einde toe, waarin alle eindjes aan elkaar worden geknoopt. Een climax, een soort catharsis, waarin de existentiële gesteldheid onder de voeten verschijnt, als een grond waarvan men de weerstand is vergeten de het tegen elk gewicht biedt.\\n',\n",
       "  'Ik ben de laatste tijd in alle richtingen aan het denken. Mijn plan wordt steeds weer herzien. Even dacht ik om een toekomstbeeld te schetsen in een soort futuristische, historische roman, waarin de externe krachten die inwerken op mijn belevenissen worden doorgetrokken. Het is een genre dat al lang niet meer werd aangedurfd, maar dat niet ondankbaar is. Futurisme is verlokkelijk.\\nDoor verder na te denken over de mogelijkheden die een dergelijk futurisme biedt, ben ik tot enkele nieuwe ontdekkingen gekomen. Een futurisme zou die ‘systemische’ krachten zichtbaar maken die ik in mijn filosofische opleiding hebben leren zien. Dat zou het grote voordeel zijn. Ik denk aan een verhaal in de stijl van Borges. Ik zou kunnen schrijven over digitale protheses, over de toekomst van pc, iphone, tablets, enzovoort, over de aanhoudende evolutie naar een terminal-bestaan, meer tele-, minder kine-. Transport wordt teletransport, de stad wordt een plaats van spektakel en evenementen. Het marginale van de ‘onderklasse’ wordt steeds meer een ‘uitklasse.’ Digitale toegangscodes verbinden de ruimte met de netwerken die op onze terminals zijn aangesloten. Relaties, porno, identiteit, werkkracht, wetenschappelijke vooruitgang: alles komt in een nieuw licht te staan. Nihilisme dreigt meer dan ooit.\\nNu onlangs ben ik afgestapt van het futuristische. Om Borges juister te volgen, en om het hoger qua niveau, en vooral, vernieuwender te maken, zou het beter zijn om deze hedendaagse realiteit met aforismen en metaforen in te vullen om zodoende iets te zeggen over de realiteit. Een Baudrillard-achtige fantasiewereld scheppen die als een theoriefictie onze huidige maatschappelijk orde uitdaagt en aan (ironisch) onderzoek onderwerpt.\\nIk ben ook aan het terugkomen op het idee om er een reisverhaal van te maken. Toch wil ik mijn dialoogschema behouden. Oorspronkelijk dacht ik om te vertrekken van een drietal blog-schijvers die samen op reis vertrekken. Ik dacht om dan verschillende aspecten van mijn karakter, zoals die ontluiken in het verloop van mijn reis, in elk van deze personages om te zetten enzovoort.\\nMaar misschien kom ik tot betere resultaten door vanuit de context van een reis na te denken over mijn thuissituatie. Door die afstand, die ruimtelijke en linguïstieke afstand, kan ik mezelf beter onder de loep nemen. Mijn dagelijkse bezigheden worden minder vanzelfsprekend. Ik kan erin doordringen. Nochtans kan ik de stemmingen niet herbeleven, teneinde te toetsen wat ik schrijf of wat ik vermoed.\\nWat ik wel wil behouden is het contrast tussen logica’s. Verschillende filosofische posities worden in discussie gehandhaafd. Ik denk aan een wetenschappelijk naïef realisme in combinatie met atheïsme, een commercieel realisme, waarin alles herleid wordt tot geld als kleinste deeltje, en een taalkundig fenomenalisme, waarin alles wordt uitgedaagd, en wat niet in ‘mijn leven’ past overboord wordt gegooid. Aan zo’n posities denk ik dus. Ze zijn weliswaar nog niet erg uitgewerkt. Het heeft ook weinig zin om ze uit te werken als consistente logische standpunten, want niemand geeft daar ooit uitdrukking aan. Het gaat in discussies altijd om details. Deze logica’s zijn gewoonweg logica’s die men in het dagelijks leven vaak terugvindt. Er zijn geen personen die ze integraal belichamen.\\nStilistisch gezien wil ik een verhaal waarin het denken van de personages de voorgrond vormt. Ik wil geen alwetende auteur spelen die hun handelingen romantiseert en hun motieven invult. Als schrijver neem ik de rol in van een omgevingsbeeld, een soort interindividuele stemming die de sfeer bepaald. De aspecten die aanleiding tot deze stemming hebben zijn steeds uitwendig, tis te zeggen, ze staan buiten de talige termen die de personages gebruiken. Als schrijver ‘ken’ ik de personages niet. Zij spreken als het ware in mij, door mijn mond, door mijn pen. Mijn enige vertrouwdheid is dat ik hun leven beleef. Als schrijver vertaal ik niet zozeer hun ervaringen, als ik ze wel noteer – zonder oordeel, zonder dualisme tussen mij en hen, zonder dualisme tussen theorie en beleving. Ik als schrijver mag bovenal niet tonen dat ik een theorie heb over de belevenissen van mijn personages.\\nMijn meest recente visie op de aard van het verhaal houdt in dat er een futurisme aanwezig is als een speelse magie. Door met metaforen en kleurrijke details de collectieve verbeelding als waar en verwezenlijkt voor te stellen kan ik dieper gaan en meer zeggen dan anders. Het is als in die mop die ik daar in Griekenland tussen de Serviërs heb leren kennen: “Where is the closest teleport? /... / What, you don’t have no teleport here? Are you people that backwarded here?” De nadruk ligt op het idee dat ik van uitga dat iedereen het kent en het dan ook bezit.\\n',\n",
       "  'Als ik naar een maatschappelijke relevantie wil toewerken, zou het interessant zijn om te onderzoeken wat voor literatuur geschreven wordt rond ethische codes in de bedrijfswereld. De strijd tussen ngo’s en grote bedrijven is veel groter (en veel significanter) dan de academische strijd rond politieke principes. Het zou interessant zijn om de stugge conceptuele constructies van net die woordenstrijd tussen ngo en bedrijfswereld stuk te slagen vanuit een existentialistische benadering. Ik wil een soort van reality check bieden zonder zelf in de ideologische discussie mee te doen.\\nAls we de recente evoluties bekijken, is te zien dat we wegevolueren van het model van een vrije markt dat binnen het staatsbestel willens nillens een ideologie opgedrongen krijgt. De verhouding tussen de markt en de intellectuelen verandert daar ook helemaal door. Geleerdheid, politiek en economie staan in een heel andere verhouding. Ngo’s werken internationaal, en boeken succes als lobbygroepen, bij de regering, en door sensibilisatie- en andere campagnes, bij de burgers. Duurzaamheid en ethische en ideologische overwegingen worden op die onder controle van de gemeenschappen gehouden.\\nEr is veel veranderd de laatste jaren door de globalisering, de segmentatie, differentiëring en specialisatie van de markt(en). Maar we staan op het punt om nog heel wat drastischere veranderingen mee te maken. Dat onmeetbare, eindeloos uitgestrekte archief genaamd het internet maakt alles deelbaar, ruilbaar en vermarktbaar. Locale politiek heeft weinig vat op de inhoud van webpagina’s. Voor een website is verhuizen nooit een onoverkoombaar probleem. Het gevolg is dat op het internet alles wordt verkocht. En als het niet te koop wordt aangeboden, dan is het wel gewoon gratis. De ‘dingen’ (van encyclopedische kennis, over porno en entertainment, tot clandestien verhandelde middeltjes zoals namaaklenzen) die via het net te verspreiden zijn worden weinig gecontroleerd of binnen een bepaald ideologisch stramien getrokken. We krijgen een complete uitwaaiering van ‘dingen’ en diensten die aangeboden worden, alles naargelang de concrete behoeftes van de intuïtief klikkende mens. Ethisch ondernemen op het internet lijkt mij paradoxaal.\\nNgo’s hebben ook weinig belangen te verdedigen op dit terrein, aangezien het internet van en voor het rijke westen is. Er is weinig sprake van uitbuiting, tenzij dan indirect, via de traditionele weg: de producten die verhandeld worden zijn misschien wel geproduceerd in onmenselijke omstandigheden.\\nVoor controle hebben we een nieuwe dynamiek nodig. En daarvoor zijn betrokken partijen nodig. De aangeboden producten zijn misschien wel makkelijk te definiëren, maar wie zijn de stakeholders? en wie investeert?\\n',\n",
       "  'Ik wil de gangbare attitude tegenover de nieuwe objecten verwoorden in een plezante narratief, een narratief die meer aanleunt bij een gesprek dat we van dag tot dag voeren, dan een typische vertelnarratief, een stijl die meer op boeken teruggaat. Ik moet er daarom mezelf, mijn eigen idiote uitdrukkingen in verwerken. De collectieve fantasieën blijven hun hoop uitspreken. – Maar het verhaal is daarom zelf nog geen fantasie.\\nHet verhaal zou aaneen hangen door van persoon naar persoon te huppelen als geleid door toeval, als een impulsief klikken van profiel naar profiel op couchsurfing.com. – En dit laatste kan dienen als een metafoor voor profielsites en netwerksites allerhande, en uiteraard ook het mijne.\\nHet internet verandert het leven. We zien op wikipedia wat we normaal enkel in musea zien, we vinden via google alle informatie die we normaal slechts in bibliotheken vinden. Het internet is het archief van de wereld. – Alleen is het gebruiksgemak niet optimaal. Het is een objectief archief, waarin de werkelijkheid opgezocht wordt. De kennis bestaat, en waarheid en onwaarheid ligt onverdeeld in het archief te rijpen.\\nHet internet als archief verandert op zich weinig. Het is iets wat we al lang kennen, iets als een bibliotheek, discotheek, videotheek, pornotheek, supermarkt. De autoriteiten liggen enigszins vergelijkbaar verdeeld. Alleen worden we niet op de vingers gekeken bij het surfen. We vinden wat we zoeken en bouwen daarop verder.\\n',\n",
       "  'Jaren geleden las men erotische verhalen bij het masturberen. Er heerste een collectieve verbeelding waarin mythische schoonheden seks hadden met elkaar. Betekenisstructuren werden erdoor gevormd en geordend. Vandaag kijkt men porno. De mystiek is er een beetje uit. Maar dat neemt niet weg dat ze geen betekenissen helpen vormgeven. Het is zoals ik vaak bij antropologie dacht: de introductie van het moderne is niet louter een ontworteling van de traditie: er komt iets nieuws en betekenisvols in de plaats. Vaak denkt men aan een soort van uitzuivering van de cultuur tot rationele ordeningen, maar nog steeds gaat het om een inleven – al is dat nu een inleven in de geest van de ordenaar, in plaats van de vele geesten van de voorouders, van wie het erfgoed afstamt. Het is een inleven in de attitude.\\n',\n",
       "  \"Wie wil er nu terug naar echte wereld wanneer je Mcdonnalds en porno en bier en tv en gsm (en communitiesites) hebt; even die hersenen uitzetten en genieten: wie wil er nu in de echte wereld vertoeven?\\nWe geloven in een reelere wereld, waarin we die driften niet nastreven en willen nastreven. Onze ‘rationele,’ ‘echte’ waarden liggen niet verdeeld over ons leven als onze werkelijke ervaring. (Zoals Batens over deelrationaliteiten sprak kunnen we ook over deelirrationaliteiten spreken.)\\nSommige driften zijn inderdaad fundamenteel, zo geeft verleiding een naam aan zo'n drift. Mensen die ‘op zoek’ zijn, zijn vaak zo ingenomen door hun doel dat ze geen oog meer hebben voor andere dingen. Ze hebben hun orde, t.t.z. hun gewoontes, maar daar eenmaal voorbij lijkt er geen orde meer opgebouwd te worden, alles verglijdt steeds in weer in de stroom van verleiding, als een afwatering die alles wat gezond is uit de ether onttrekt en meevoert in een oceaan van immanente verleiding.\\n\",\n",
       "  'Pornografische verwerkelijking van de fantasie, verwerkelijking van de pornografische fantasie, nieuwe norm als algemeen aanvaarde ‘onderdrukte waarheid van het lichaam.’\\n',\n",
       "  'De antibordelisering van de wereld. - We keuren het af als iets niet opgeruimd is, we willen orde aanbrengen, we willen de rommel verbannen, maar tegelijk is er in het leven altijd een zekere graad van rommel. Het opruimen, het aanbrengen van orde is altijd maar oppervlakkig. We vluchten als het ware in de transcendentie, en zien enkel nog die orde. We denken na in netjes uitgewerkte systemen en masturberen, zonder te beseffen dat dat masturberen, de drang die ertoe leidt, maar ook de consequenties die eruit voortvloeien, buiten die ordening liggen.\\nIkzelf ben iemand die rommel nooit kan uitstaan, maar in de praktijk mijn eigen rommel behoorlijk goed verdraag. Ik bijt me vast in de orde die ik heb en verban wat er niet in past tot de achtergrond, of hoogstens tot een bijrol. – Het gaat wellicht om controle.\\nVanuit die rommel, waar ik me altijd in bevind, kijk ik dan, net als eender wie, in die horizon, in die horizon van idealen, die altijd oneindig veel verder ligt als mijn concrete positie. Die horizon is mijn gewenste concrete positie, als een product van mijn natuurlijke dispositie (mijn driften en neiging) en de orde waarmee ik mij omgeef.\\nMaar het is zo dat het bewustzijn toeneemt. Alles wat we doen wordt ontspiegeld in een transcendente ruimte en we ruilen die in voor de echte, beleefde wereld. Het probleem is nu dat die ruimte is ingericht met een soort meubilair dat de ruimte indeelt, en de ruimte vormgeeft. Het zijn onze noties van kennis, waarheid, liefde enz.\\n- Iedereen bekijkt vanuit zijn eigen puinhoop naar de wereld.\\n',\n",
       "  \"Meer reflecties over hoe ik dingen beleef om er foto's van te nemen of gewoonweg te kunnen zeggen tegen mijn vrienden dat ik het beleefd heb.\\n+ ‘ik zag dat het mooi was, dus nam ik een foto en ging op weg’\\n+ ‘mooi of niet, er is te weinig licht, en dus kan ik er geen foto van maken: veel belangrijker!’\\n+ 'het zoomend geluid van mijn pc werkt op mijn systeem'\\n+ 'ik masturbeerde me bij de gedachte bij haar in bed te gaan liggen'\\n+ 'ik twijfelde of die open deur als uitnodiging bedoeld was'\\n+ 'ik dierf niet gaan kakken omdat de wc naast haar kamer was'\\n+ 'ik liet scheten op het nieuwjaarsfeestje'\\n+ 'ik hoorde een regelmatig schuddend geluid en leidde eruit af dat ze aan het masturberen was'\\n+ 'hij was er stellig van overtuigd dat de industrie verhinderde dat parallelskies vroeger op de markt kwamen' (en andere kleine meninkjes - uitgevonden verklaringkjes waar niemand kritiek op uit)\\n\",\n",
       "  \"De ontzinnelijking van de wereld. - Betekenissen worden dermate met waarde beladen dat het hele proces zich omkeert en zich terstond uitledigt in betekenisloze waarden.\\nVandaag is de poëzie zo bijvoorbeeld van betekenis ontroofd in de waarde die we aan foto's hechten.\\nZin, die vertrouwde, gemoedelijke, welhaast tastelijke drijfveer van hoop en verlangen, raakt verstrikt in het web van interafhankelijke betekenissen waarmee deze wereld is opgebouwd, en het komt terug in waarden die de begrijpelijke, omvatbare sematische structuren van woorden te boven gaan, in foto's, in films, in muziek, in mode, in 'zelfexpressie', en in nieuwe wijzen om iemand aan te spreken en diens interesse te wekken. Tenslotte komt het terug in alle vormen van cultuurproductie: alles wat uit de greep van woorden wordt uitgesloten, komt terug in artistieke uitdrukkingsvormen (ook al worden die niet als zodanig erkend: zoals in de retoriek van personal coaches, in sommige pornografie, in sommige hedendaagse techno producties).\\n\",\n",
       "  'Zij moet geloven aan het beeld dat ik van haar heb. – Soms kan gewoon masturberen interessanter zijn. Neuken is lastig. Waarom zou ik dan ook samen willen genieten als ik haar niet eens kan doen genieten. Daarvoor moet ze aan me geloven.\\n',\n",
       "  '(inhoudelijk) Tegenwoordig ga ik langs bij willekeurige punten van het netwerk. - Laat dit het verleden van een hoofdpersonage zijn: laat hem op heden de stichter van een netwerk zijn dan van bij aanvang al elitair was (en exclusief, zoals elk netwerk), dan van bij aanvang al gericht was op zijn eigen machtstoename. Op reis gaat hij dan niet meer langs willekeurige punten van het netwerk, maar hij zoekt zijn gelijken op: een schrijver die verliefd is op een dood medium, een filosoof die constant alles in aforismes wil gieten, een verleider en chaoot, een encyclopedische wetenschapsmens enz.\\n>Eigenlijk maar moeilijk met dat idee van ‘alles is porno’ te combineren.\\n',\n",
       "  'Seks als mechaniek - de mannelijke pornoster die op zetel zit te masturberen terwijl vrouw een sigaretje rookt.\\n',\n",
       "  \"Seks en voortplanting als ultieme constituent. - Dat alles uiteindelijk om seks draait is voor velen moeilijker te aanvaarden dan me op het eerste zicht leek. Velen hebben het idee dat men ook op dingen verliefd kan worden, of men gewoon kan werken omwille van het geld zelf. - Dat alles om status en zo indirect door discriminatiemechanismen van natuurlijke selectie gestuurd worden, is hen minder evident. Als ik zou beginnen van 'alles is porno', dan moet ik een hele darwinistische logica onder de voor allen gekende realiteit schuiven. - Weliswaar zonder te 'naturaliseren', zonder me uitdrukkelijk over natuurlijke driften uit te spreken. Het gaat om een theorie, en een perspectief op deze theorie is hoogst belangrijk.\\n\",\n",
       "  'Youporn - recommended to you\\n',\n",
       "  \"Ik heb vaak gedacht: 'als ik dit zou filmen, zou dit veel betere porno opleveren dan al die 'professionele porno.'' Een meisje dat bij mij is, en mij liefheeft, bedrijft op een geheel andere manier liefde. Het is alleszins beter.\\nWat ik eerder al zei over amateurporno, is interessant om daarnaast te leggen: 'in amateurporno bootst men vaak de 'facial door masturbatie' na uit de professionele filmpjes, natuurlijk is dit kunstmatig en liefdeloos.' De hele aard van het spel gaat erin verloren.\\nMaar de praktijk van de liefde - seks - vindt steeds inspiratie in al die beelden, in die professionele en amateurporno, en het simuleert die beelden, daar ze opwindend zijn. Ze worden mee in het spel gebracht, en opgevoerd, in levende lijve. De beelden worden bezield door imitatie.\\nMen zou kunnen zeggen dat al die beelden, met de tekens die ze uitzenden, zijn als ankerpunten voor onze maatschappij, waaraan de gehele nieuwe realiteit opgetrokken wordt.\\n\",\n",
       "  'Nogmaals de plot van mijn boek – als aanname van het digitaal netwerk, als bildungsroman die van porno naar spel evolueert, en als kritiek op politiek-economische ordeningen: aanvang in een forumdiscussie (volgens het principe van evaluatie en reactie) met een discussie over ‘porno als grondprincipe’. Daarna een karaktervorming en een eerste voorbeeld van hoe situaties op de stemmingen inwerken, en stemmingen op de interpretaties van situaties.\\nDan drugs, reizen, chatten, persoonlijke crisissen, relatie tussen drank, drugs en betekenissen, technologische fascinaties, samen tot hogere waarden komen, tot hogere rationaliteit komen (niet door nihilistische navolging van bestaande logica’s, maar door het in- en uitademen van levenslust, en het aandurven de adem in andermans gezicht te blazen).\\n',\n",
       "  \"IJdelheid en technologie: als niet meer alle porno als 'het hoogste' kan beschouwd worden, hoe zit het dan met de liefde? (aangenomen dat lust en liefde in elkaar overgaat)\\nKNALLER VAN EEN THESE OM MIJN BOEK VAN TE VERTREKKEN! “Welke porno delete ik en welke niet?”\\n\",\n",
       "  \"'De nieuwe dingen' zijn dingen die nu van waarde zijn, dingen die nu zin geven aan ons leven. Daarom lijkt het mij goed te vertrekken van porno, techno, sociale kritiek, ecologisme enz.\\n\",\n",
       "  'Drie personages: een clubber, een genuanceerde vrouwenzot, en een links activist\\nPlot rond porno, rond sociale en ecologische harmonie en rond techno\\n',\n",
       "  'Door internet wordt het niet alleen makkelijker zaken te kopen waarvoor men anders nooit een winkel zou durven betreden, maar men wordt ook makkelijker verleidt, als op reis, om de grenzen van het normale te overschreiden, en men gaat al sneller een winkel, club of videotheek binnen in een plaats waar men slechts toe verbonden is via een persoon, een \\'terminal\\' uit het netwerk.\\nbv. Op een feestje is ze naar haar nieuwe vlam op zoek. \"Hij zit in de porno-kamer,\" zegt een gemeenschappelijke vriend.\\nIn een moment van bespiegeling: \"En zeggen dat men daar vroeger niet voor openstond, zeggen dat men vroeger dat deel van zijn natuur verborg... Hoe primitief!\"\\nOok het systeem volgens welke azareus werk zal deel van die netwerk-toekomst uitmaken. Een torrent te sharen betekent hem te ondersteunen, er garant voor te staan dat het werkt, dat het weer geen andere reclamestunt of slechte grap is.\\n',\n",
       "  \"Verlicht door niks dan de bleke gloed van het computerscherm, tekende zijn gestalte zich af in de ruimte. Een koud gezicht, schijnbaar verontrust en zichtbaar vermagerd sinds het begin van zijn reis, maar met een onafwendbare blik de foto's en teksten van profielen doorvorsend. Hij klikte een weg van profiel naar profiel. Knappe meisjes, inspiratievolle kerels, tientallen profielen passeerden de revue, de één na de ander solliciteerden ze als zijn potentiële nieuwe gastheer of gastvrouw. Te enthousiast. Hij klikte op het kruisje. Te weinig foto's: klik. Te clichématig: klik. Te veel tekst, te oppervlakkig, te weinig referenties...\\nHet was 10 uur 's morgens. Buiten was het al volop dag. De gordijnen weerden de zon bijzonder efficiënt. De zetel waarop hij zat en een stukje van een Ché Gevarra-poster achter hem waren al wat te zien was in de kamer. Het was een woonkamer, een klein gemeenschappelijk kamertje waar de spullen van de drie medehuurders hun minder waardevolle spullen gestockeerd hadden. Ze waren alledrie het huis uit. Hij was alleen en had heel dit vreemde huis voor zichzelf. Met slaap in de ogen staarde hij het blauwige scherm aan. Een banner aan de zijkant van het venster verzocht of hij in live sex geïnteresseerd was. Het stuurde zijn verbeelding in een voortijlende gelijktijdigheid over een handvol kliks en scrolls naar zijn pornocollectie. Neen, eerst die volgende gastheer, maande hij zichzelf toe, anders geraak ik hier nooit weg. Met die aandachtsgeile medehuurders!\\nHij wendde zich terug naar zijn potentiële gastheren en gastvrouwen en focuste zich op de nieuwe contacten.\\nOh, met haar wil ik anders zelf wel wat amateur porn maken. Neen, die foto's zijn te geposeerd. Klik. Die mag anders wel eens... Hmm, neen. Klik.\\n\",\n",
       "  'Het fonkelende staal van de flitsende moderne treinen in het station laten zich in hun mooie mechaniek als een staaltje van industriële vernuftigheid beschrijven. – Zo is het ook, zij het slechts over een analogie, gesteld met de zinnelijke dialectiek van de seksuele activiteit. Het driftig in het lieve meisje inpompen, als een zuiger die zich in een cilinder beweegt, is een zinnelijke werkzaamheid die eerder haar oorsprong vindt in een (mechanische, of/en pornografische) verbeelding als in een dierlijke drift.\\n',\n",
       "  'Verschillende indrukken van eenzelfde ‘object’ worden elk vanuit een verschillend register als onderscheiden tekens gedacht. Er wordt in gesproken, gedacht en verbeeld, als in een bepaald discours dat vanuit dat bepaald perspectief uitgaat. De indruk van een stel borsten bijvoorbeeld. In bovenaanzicht kunnen ze heerlijk dicht in de buurt van de perfectie lijken; in zijaanzicht kunnen ze een puntige, onesthetische indruk geven. Het ene discours van poëtisch loven van haar vlees als het ideaal van lichamelijke perfectie staat totaal onafhankelijk van dat andere, dat discours van onverschillig relativeren van lichamelijke afwijkingen in het algemeen, als was ze met de vorm van haar borsten een statistische gegeven.\\nEn zo komen we vaak in diametraal tegenovergestelde discours te uiten wat we voelen en wat we verlangen. We worden misschien wel meer verleid door het register waar het teken in past, als door de verschijning zelf. Maar soms komt er confrontatie van onze verschillende indrukken. De vraag rijst: ben ik in mijn oordelen niet inconsistent? En dan confronteert men beide discours met elkaar, op zoek naar de gematigde. De tekens worden uit hun ‘rituele’ samenhang met het discours en het register gehaald en op grond van ‘het ding an sich’ met elkaar verenigd.\\nDit is betrekkelijk eenvoudig uit te werken in geschreven vorm. Een ander voorbeeld:\\nIk liep nog even langs de spiegel voor ik de nacht introk. Nog een final check of alles goed zit. Maar wow, ik ben er altijd van verrast, hoe sereen en onschuldig mijn gezicht eruit ziet, hoe menselijk ideaal, hoe perfect mannelijk, echt een onberispelijke schoonheid. Scherp afgetekend lijnen, mijn karaktervolle frons, mijn vrome mondje, mijn mannelijke stoppelbaard… Moeilijk om een volmaakter gezicht voor te stellen als hetgeen ik nu voor mij zie. Maar goed, dus dat ben ik. Ik sta dáárvoor: wat ik zie, belichaam ik.\\nEen dag later, natuurlijk met wat van een kater, zie ik mezelf terug op foto’s van anderen. En hoe vreemd is confrontatie met dat gevoel van gisteren. Het gezicht dat ik hier zie is niet hetgeen ik gisteren zag. Het is een onvolmaakte lach, verknepen en in een spasme, met een warrige kop haar, een dubbele kin… Het is vreemd dat ik dit gisteren niet zag. Ik dacht: dat is mijn echte ik, de ik die ik uitneem. Nu blijkt ik gisteren met een gans andere ik rondgelopen te hebben. Schaamte volgt.\\nDie schaamte laat me niet toe die twee te verenigen in één consequent ik-beeld. Dat heeft te maken met mijn ijdelheid. In de liefde is dat gelijkaardig. Die mooie indruk kan men niet compromitteren met die lelijke. Men is verliefd op die mooie, en neemt die lelijkere er eerder als randvoorwaarde bij. Men neemt die schone indruk tot het hart, en weert die lelijke af: alle liefde is ijdel.\\nHet komt erop aan te signaleren dat het om registers gaat die elk ingebed zijn in een breder discours, een uitgebreid veld van associaties en evaluaties van zaken die historisch bij elkaar gaan horen zijn. Elk gaat terug op een hedendaags discours waarin namelijk liefde, seksualiteit en verleiding steeds geherdefinieerd worden.\\nDe discours waarin die geherdefinieerd worden, zijn echter steeds meer uit op een verovering van cliënteel, op marktaandeel. Ze staan in dienst van een kapitalistische machtsdrift (die op zich evengoed teruggaat op verleiding) maar die als zodanig nergens heen gaat, tenzij naar meer productie, meer producten, en meer consumptie.\\nLiefde is een gevangengenomen discours, zou je kunnen zeggen (een gekaapt discours). Men zou moeten wakker geschud worden van de wegmijmerende neiging, om in romantiek in een staat van zielsvreugde te verwijlen. Want dat leidt enkel tot de voortzetting en de bestendiging van die hedendaagse verkopersdiscours, tot een uitdrukking van die collectieve illusie die liefde heet, maar het leidt allesbehalve tot een uitdrukking van mijn ware gevoel. Het gemoed is een complex gegeven, stemmingen en gevoelen warrelen door elkander, zonder dat daar één toestand positief uit kan worden afgezonderd, tenzij in een poëtische, betekenende bezigheid.\\nEn voor seksualiteit hetzelfde: gevangengenomen door pornografen en seksuologen. Goede seks is helemaal niet wat ze ons voorspiegelen. Hoewel de contaminatie van tekens en registers onvermijdelijk is, schijnt het de enige weg die tot waarheden kan leiden: die bezwerende, erotiserende werking van het discours te ontmantelen teneinde men het lichaam kan laten spreken.\\nMaar moet men nu zeggen “opgelet: kapers op de kust!” Wel ja, het discours wordt gevangen, gekaapt door die marketinginstanties. Als we zo een twee-perspectievensplitsing hebben rond een object, neem nu die borsten, waarbij er enerzijds in de registers van de sensualiteit, perfectie, romantiek en pornografie wordt gediept, en anderzijds in een eerder afzijdig verwetenschappelijkt register, dat krijgt dat positieve alles mee uit de geïdealiseerde sfeer, alles, overladen met al wat komt uit de commerciële kant. Het komt erop aan jouw discours niet te laten kapen, en het zijn geëigende weg op te laten gaan.\\n',\n",
       "  'Een bj of hj is altijd asymetrisch. De man kan niet genieten omdat de vrouw niet geniet en de vrouw kan niet genieten omdat de man niet geniet. Beiden hebben de indruk dat de man de vrouw gebruikt, of dat ze moet omwille van zijn ‘biologie’, maar weten er geen raad mee.\\nEigenlijk wil ze gewoon genomen worden en zich overgeven aan de leiding van de man, maar hij moet haar leiden naar haar wens.\\nZij wil genomen worden, zich overgeven – hij wil haar nemen en zijn pornofantasieën waarmaken. Een misvatting is rap gebeurd.\\n',\n",
       "  'Een voorbeeld van kater-humor:\\nIk liep mee het huis van sander binnen en bleek dat hij voor mijn komst aan het werk was geweest in zijn werkkamer, waar zijn computer staat. Het licht brandde nog. Ik vroeg: \"ge hebt weer zitten masturberen zeker?\" Hij: \"riekt ge het?\" - Toen we de woonkamer dan binnenkwamen rook het naar spaghetti: \"het riekt naar spaghettisaus: misschien hebben uw spaghettislierten wel wat saus geproduceerd, die riek ik anders wel!\" Eigen sap producerend, spaghetti badend in eigen vocht, slierten tussen klodders saus, uit zichzelf uitgewrongen.\\n',\n",
       "  'Het verleidelijke offer. - Seksualiteit wordt bij de vrouw vaak als verbeeld als passief, en daarom als slachtoffer. Maar de vrouw heeft de verleiding tot haar macht en reikt uit vanuit haar ontvankelijke positie met verleidelijke tekens.\\nIn de pornografische verbeelding missen we die tekens echter regelmatig. En dan gaat het inderdaad om een dader-slachtoffer-verhouding. Dan vraagt men aan een vrouw om zichzelf oppervlakkig zelf te bevredigen omdat wat ze doet opwindender schijnt als zij ook geniet.\\nHet is de vrouw in haar verleidelijke gestalte die bepaald in welke mate een seksuele handeling erotisch is.\\n',\n",
       "  'Russische porno en de ejaculatie die als symbool voor onderdrukking in de ogen van het meisje gereïficeerd wordt.\\n',\n",
       "  'Naam voor porno film: hot chick trying not to get emotionally attached to tender dude while she fucks his brains out.\\n',\n",
       "  'Mijn gespleten persoonlijkheid: ik stel bij mezelf vaak een bittere humor vast, een pijnlijk sarcasme, een cynisme. Ik eis van mijn toehoorder (meestal mijn meest geliefde, mijn bijzondere vriendinnen) dat ze even goedlachs doch donker gestemd zijn zodat ze om mijn \"ik masturbeer me liever dan naar uw gezever te luisteren op dit moment\" kunnen lachen en mij even met rust laten. Ik ga ervan uit dat de verleiding voltooid is, dat ik haar verworven heb en dat ze het me vergeeft. Het is een kant dat ik weinig bij mezelf opmerk. Het is een neiging naar grenzeloosheid, naar overdrijving, naar extase, naar uitbreken van de begeerte naar affectie, naar comfort en stabiliteit, uit de voorwaardelijkheid van onze relatie.\\n',\n",
       "  'Perplexiteit: amputatie van een lullig velletje.\\nIk had geen idee waaraan ik me moest verwachten. Ik maakte mezelf gewoonweg geen verwachtingen. Ik bekeek pornopenissen anders als tevoren. Ik trachtte me bewuster als ooit in te beelden dat die besneden lul daar de mijne was. Divas die erop sabbelden, likten, de hele lengte ervan in hun mond namen, tot kokhalzen toe. Het wond me op ja, maar het wond me niet op meer als voordien. Ik miste iets in mijn voorstellingsvermogen. Mijn penis met voorhuid werd helemaal anders gestimuleerd als hun penissen zonder voorhuid. En wat zij daar deden, daar had ik het minste raakvlak mee. Letterlijk: vermits ik mijn voorhuid moeilijk achteruit kon schuiven, kon ik mijn eikel ook nauwelijks rechtstreeks stumuleren. Het was pijnlijk-opwindend; maar ik moest mijn lul en mijn velletje wat sparen, want als het dik en gezwollen zou staan, zou het de operatie allicht bemoeilijken en het resultaat verslechteren. En boven alles wil ik met die operatie een betere lul hebben, en een mooiere lul. Eindelijk een echte lul. Ik hield wel van het vooruitzicht. Eindelijk zou ik mijn complexen opzij kunnen schuiven. Meer nog, misschien zouden meisjes mijn lul herinneringen aan hete pornomomenten ontketenen en er dus als het ware meer weggemoffelde geilheid op projecteren. Een pornolul.\\nTerug bij de realiteit gekomen had ik ontzettend veel moeite om me de komende dagen voor te stellen. De avond voordien toonde ik mijn geestesoog abstracte beelden van knip-knip, weg met dat velletje. Maar er was geen attitude met de logica verbonden, er was geen analogie waar mijn geestesoog een gevoel aan kon ontlenen. Het was een abstracte knip-knip. Daarna zou mijn eikel wellicht wat kleverig zijn en gevoelig zijn. Maar bloed? Pijn? Geen idee, geen voorstelling mogelijk.\\nWat betreft de ingreep zelf was de grootste stap de confrontatie met de dokters: de omvorming van mijn persoonlijk, seksueel probleem (overhit masturberen) in een medisch probleem, een coördinaat in een assenstelsel, en louter één patiënt meer, een belichaming van dat percentage van de bevolking met die aandoening. De oorzaak leek weggemoffeld onder lagen medisch gezwans, wat er uiteindelijk op neerkwam dat ik ook gewoon mens was. Mens en dus patiënt.\\nDezen die het niet moesten weten, kwamen er ook niet van te weten en ik liep mijn kwetsbaarheid negerend, met blik op medischere zaken, door de dagkliniek. Er werd voor mij gezorgd en niemand sprak over mijn probleem.\\nDe opgestapelde angsten uitten zich echter pas op de operatietafel. \"Nu zult ge wat geprikkel in uw linkerarm voelen. En nu zult ge slapen.\" \"Dag allemaal,\" zei ik. Maar het voelde alsof een schaduw over mij kwam, een monster mij kwam halen. Ik werd opgeslokt door een sluipend zware duisternis.\\nIk ontwaakte met een kermende vrouw naast me. Ik begreep niet goed waar ik me bevond. Het was niet de kamer waar ik verbleef. Er lagen mensen te slapen. Langzaam drong het tot me door. Ik herinnerde mijn operatie. Ik probeerde het me in te beelden. Mijn penis was verdoofd. Een nieuwe angst sloeg over me. Ik dierf, ik kon er niet aan denken. Het idee van mijn penis niet meer te voelen bevreemde me. Die penis, mijn penis, dat abstract afgesneden knip-knip velletje. Ik huiverde.\\nPas de ochtend erna besefte ik in hoeverre hij \\'weg\\' was. Toen de gevoelligheid terugkwam realiseerde ik dat ik me die angst voor ongevoeligheid grotendeels had ingebeeld, want later, toen ik thuiskwam, had ik er wel vrede mee, kon ik wel kijken, voelen enz zonder te huiveren. Maar dat eerste moment, die gedachte, knip-knip en mijn penis en het feit dat ik dat niet gevoeld had. Brrrr...\\n(3 dagen later) Vanacht had ik een verschikkelijke droom. Ik leed, ik had enorm veel pijn daar op die plaats waar ik anderen niet deelachtig kan maken in mijn lijden (net zoals gisteren toen clara mij trachtte te overtuigen om samen met haar nog wat te blijven) en ik bleef maar mensen tegenkomen die even een praatje wouden maken, perfect vriendelijke mensen die ondanks hun burgerlijke beleefdheid ook sympathiek zijn. Ik zag ilse voor me: \\'ahh wie da we hier hebben\\' en deed mijn best om vriendelijk te zijn terwijl ik vanbinnen huiverde van de pijn.\\nFantoompijnen: mijn brein probeert de pijn die ik heb automatisch te identificeren in termen die ik ken. Afgeleid, wandelend door de straten, kom ik zo vaak te denken (of: een gevoel meldt zich aan mijn bewustzijn en ik rationaliseer dat) dat mijn verengde voorhuid pijnlijk achter mijn eikel spant.\\nNiets is vreselijker dan wakker worden met een ochtenderectie. Gisteren masturbeerde ik voor het eerst na mijn operatie (4 dagen na operatie), ik zondigde, maar ik beloofde mezelf, en mijn pijnlijk gezwollen lul in het bijzonder, dat ik op z\\'n minst drie dagen zal wachten vooraleer me weer te masturbreren. Anders zal de zwelling nooit afnemen.\\nIk onderzocht niettemin verscheidene malen de pijnlijke plekken in de hals van mijn eikel regelmatig en nauwgezet. Met lichte druk voelde ik waar het pijn deed en ik stelde een snelle genezing vast. De zwelling van de helft dichtst tegen de eikel bleef evenwel. Die zag ik niet echt afnemen. Ik wenste het wel te zien, en zondige gedachten drongen zich weer op.\\nVanmorgen ontwaakte ik van een vreemde droom. Meerdere dromen waren het eigenlijk. Ze volgden elkaar in een tegenstrijdige reeks op. Het is vooral vreemd dat ik ze elk afzonderlijk herinner. Mijn herinnering werd duidelijk niet door de wetten van de ontegenstrijdigheid gefilterd. Ik herinner me de vaststelling, of eerder het gevoel dat ik bij die vaststelling gehad zou hebben, dat ik mijn overige huid toch verder over mijn eikel kon schuiven dan gedacht. (Een gevoel dat samenging met de opluchting die ik eerder voelde, nl: \\'ik kan masturberen\\'.)\\nIk herinner me verder (al weet ik niet wat eerst kwam) het bevreemdende beeld dat ik niet besneden was, of neen, dat mijn huid zich had uitgerokken tot in de vorige positie, en nu weer ging dat laatste beeld over in een ontbloote, doch verzakte eikel; dus de besneden vorm, maar wel in hetzelfde gestalte van voorheen.\\nOndertussen had ik een knoert van een ochtenderectie. Ik droomde mezelf met een geil meisje. Ze was als de duivel in mezelf, en ze ontlokte een hele reeks zondige gedachten. Ik instrueerde haar, met aandacht voor haar wil (door niet te veel te vragen en haar niet af te schrikken), me te masturberen (maar ze overdreef en ik huiverde telkens van pijnsteken), en uiteindelijk (in een soort halfslaap) kwam ze te sabbelen aan mijn eikel terwijl ze zachtjes de huid aan de stam heen en weer schoof.\\nIk werd wakker met een lid dat eigenlijk heel wat minder pijn deed en er heel wat beter uit zag dan in het filmpje dat mijn onderbewustzijn me net voor ogen hield. Ik monsterde die pornolul van me en masturbeerde zachtjes en twijfelde. De stap van de zondige droom naar masturbatie leek klein. Ik drukte weer zachtjes overal op de plaatsen waar het lidteken eerder al pijn veroorzaakte. De erectie nam af naarmate ik mijn zintuigen africhtte om naar de pijn te luisteren. Ik besloot het helen toch weer voorrang te geven.\\nEen andere zaak is de angst voor de barbarie van de artsen die zich met hun ijzerwinkel aan instrumenten op mijn lichaam uitleven en ik die totaal weerloos en als \\'patiënt\\' op hun tafel lig. En dan nog op mijn meest fragiele delen, daar waar mijn verantwoordelijkheid het zwaarst weegt om de geborgenheid van mijn plezier te garanderen. - Wellicht hou ik daar een eeuwige angst voor narcose aan over.\\nEen andere onvoorziene emotie is dat dit lijden een lijden is dat ik helemaal alleen draag: er is niemand om met mij mee te lijden. Ik kan (en wil) niemand in mijn lijden betrekken. Het is werkelijk een lijden dat gevangen zit binnen de contouren die mijn broek is. Die ene emotionele gerichtheid die in mijn broek manifesteert dreigt elke andere (elke geneugte evenals smart) te contamineren met zijn onverdraagzaamheid. Het is een taboe, en zodus zit ik er alleen mee. Maar het beïndrukte me bij het overdenken dat dit heel wat canonieke waarde voor andere kwesties van intimiteit heeft - en ook het probleem van de intimiteit op zich in een boeiend nieuw daglicht stelt.\\nSinds het hele gebeuren voel ik me ook wat onbehaaglijk. Ik voel me niet gelukkig, en af en toe voel ik ook een onthutsend gevoel van afkeer opborrelen. Ik weet niet waar het vandaan komt. Ik zou graag denken dat het maken heeft met mijn beknotting van mijn seksualiteit, van de beperking van mijn natuurlijke uitdrukkingswijzen - wellicht omdat dit mijn gebruikelijke seksdrift enigszins goedpraat. Wellicht heeft het ook te maken met de verdoving. Tot voor enkele dagen dacht ik dat het te maken met mijn nieuwe inline skates en de hoge hartslagmetingen de dag na mijn operatie -- ik vermoedde een soort hormonale depressie die door de adrenaline en het uitputtingseffect was achtergelaten. Maar ik heb geen pasklaar antwoord. Wellicht is dat een gevolg van die volledige verdoving en moet ik daar nog wat van recupereren.\\n',\n",
       "  'Index van de extenties van ons zijn die op verbinden gericht zijn\\n-Werken is een combinatie van arbeid, chatten, bereikbaar zijn per chat, per mail, per telefoon, smsen, en dan speelt ook nog wat muziek (alle mogelijkheden die de moderne extenties ons bieden),\\n-sporten is er één van sporten, bereikbaar zijn, muziek, en hartslagonderzoek en omgeving.\\n-vrije tijd van bereikbaar zijn,.. assertief zijn, omgevingsgeluiden.\\n-lezen.. bereikbaarheid (ev ipad mogelijkheden of chatten)\\n-eten.\\n-schoolgaan bereikbaarheid per sms\\n-masturberen bereikbaar\\n',\n",
       "  'http://www.deredactie.be/permalink/1.835884\\nWe zijn allemaal de knooppunten geworden van een wereldwijd web, kruispunten van informatiewegen, we zijn aangesloten, beschikbaar en maken op die manier deel uit van iets dan onze persoonlijke existentie overstijgt.\\nNetlog en virale schaamte\\nAls een merkteken voor de veranderde gelaagdheid van de realiteit prijken op een historisch gebouw te midden van de Gentse Feesten de letters N-e-t-l-o-g.\\nDe grote lichtreclame N-e-t-l-o-g heeft nagenoeg dezelfde vorm als het websitelogo. Op één cruciaal detail na. Enkel hier, rechttegenover de Sint-Niklaaskerk in de Gentse binnenstad, is het logo in drie dimensies te zien. De lichtreclame is in de stijl van de website ontworpen, en niet omgekeerd zoals meestal het geval is.\\nDe lichtreclame herinnert ons op die manier aan een soort van een parallel universum, aan ons tweede leven – ons second life weet je wel –, waar we via een voor ons uit geschapen representatie van onszelf, onze hoogst eigen avatar, deel van uitmaken.\\nPersoonlijk voel ik me daar wat raar bij, telkens ik er langswandel en er even een moment aan gedachten aan wijd. Want wat is Netlog ook? Miljoenen sletterige foto’s, kwetsbare, om aandacht smekende blogs, en nog veel meer onbehouwen stoere reacties... Het is als een plaatsvervangende schaamte – alhoewel het me niet zo duidelijk is in wiens plaats ik me precies schaam. Het is een punt van blijvende fascinatie. Wat is die nieuwe schaamte? Ik noem ze virale schaamte. Waarom wordt verder duidelijk.\\nNetlog en zijn neefjes en nichtjes\\nVoor degenen die er niet vertrouwd mee zijn, Netlog is een sociale netwerksite met 62 miljoen leden, vergelijkbaar met Hyves (in Nederland), Studivz (in Duitsland), Tuenti (Spanje), Orkut (Brazilië en India), natuurlijk met de oude bekenden Facebook, Twitter en Myspace, en verder nog met online datingsites, LinkedIn, Couchsurfing en veel meer. .\\nMaar wat mij betreft heeft Netlog afgedaan. Een jaar of twee al. Facebook heeft de meeste van zijn functies overgenomen.\\nNetlog kwam op vijf geleden ongeveer. Het kwam heel plots. Op een gegeven moment scheen iedereen Netlog te hebben. Het was een revolutionair sociaal netwerk dat zijn gebruikers de mogelijkheid gaf nieuwe media-items aan een persoonlijk profiel te koppelen. Foto’s, filmpjes, liedjes en blogs werden opgeslagen op de Netlog-servers en profielen werden persoonlijke homepages, uitgerust met gastenboeken en tal van andere accessoires. Netlogs grote verdienste was dat het de nieuwste web 2.0-technologieën integreerde in een netwerksite. Ze voegden er ook iets nieuws aan toe: nieuw geuploade items werden geafficheerd op een portaalsite. Vervolgens konden gebruikers via die portaalsite doorklikken naar profielen van andere gebruikers, reageren op hun items, ‘vrienden’ maken enz. Er ving algauw een soort populariteitswedloop aan. Met tools als bezoekersstatistieken, ratings en reacties werd een narcisme aan zijn gebruikers ontlokt en begonnen de aandachtsgeile Netloggers met elkaar te wedijveren. (Google eens naar ‘Netlogslet’  .)\\nEen beetje zielig allemaal. Toch is het nauwelijks verschillend van de voornoemde broertjes, zusjes, nichtjes en neefjes (neem nu Facebook).\\nCreatie van de behoefte om verbonden te zijn\\nZielig of niet, ik was een tijdlang vaste klant. Het scheen me toe alsof er zich een nieuw spectrum aan mogelijkheden binnen het oude, welbekende spectrum ontvouwde, en alsof mijn alterego op Netlog een deining zou kunnen veroorzaken die zich zou tot de intiemste regionen van mijn actuele leven zou kunnen uitstrekken.\\nIk dacht dat ik er lekkere seks zou kunnen scoren, inderdaad. Dat geef ik toe. Maar in details ga ik er hier niet over uitwijden.\\nIk was er echter ook op een dieper niveau afhankelijk van gemaakt. Nog voor ik het wist was het een deel van mijn sociaal leven geworden. Het was niet langer louter een site meer, het was een vast gegeven in mijn leven geworden.\\nEén van de eerste dergelijke netwerktechnologieën was de horloge. Heb je je ooit wel al eens afgevraagd wat de eerste persoon bezielde een horloge bij zich te dragen? De eerste was wellicht een freak. Maar jaren later waren het degenen zonder horloges die de freaks waren. Tegenwoordig is het uur overal. Als je zegt ‘tijd’ dan verwijs je naar abstracte concept, die lineaire opeenvolging van uniforme eenheden. Er bestaat zowaar geen andere tijd meer.\\nZo gaat het er ook met andere netwerktechnologieën aan toe. Facebook zit aan 500 miljoen gebruikers. Het is daarom nog nauwelijks een merknaam te noemen. Het is een blijvend iets, en als zodanig dicteert het ons onze verbondenheid als een atoomklok ons ons levensritme oplegt.\\nNochtans mogen we de concurrentie niet over het hoofd zien. Net als zijn soortgenoten, van Netlog tot Orkut, is Facebook een mediaplatvorm. En hoewel Facebook vaak de beste voorbeelden biedt, hebben we het hier over dergelijke mediaplatvormen in het algemeen. Want met een oog op nieuwe sociaal-psychologische verhoudingen, onderzoeken we die hele resem fascinerende nieuwe fenomenen, met als belangrijkste: viraliteit.\\nViraliteit\\nJe krijgt er heus geen verkoudheid van. Viraliteit staat voor die revolutionaire manier waarop foto’s, filmpjes, liedjes en tekstjes worden verspreid op het net. Vaak gaat het over de grootst mogelijke onzin – denk maar aan het filmpje van Double Rainbow Guy <object width=\"480\" height=\"385\"><param name=\"movie\" value=\"http://www.youtube.com/v/OQSNhk5ICTI&amp;hl=nl_NL&amp;fs=1\"></param><param name=\"allowFullScreen\" value=\"true\"></param><param name=\"allowscriptaccess\" value=\"always\"></param><embed src=\"http://www.youtube.com/v/OQSNhk5ICTI&amp;hl=nl_NL&amp;fs=1\" type=\"application/x-shockwave-flash\" allowscriptaccess=\"always\" allowfullscreen=\"true\" width=\"480\" height=\"385\"></embed></object> dat ondertussen zo’n 6.600.000 keer aangeklikt is geweest – maar de nieuwe media brengen ook verrassende, nieuwe formats voort, waarmee vruchtbare, ongekende tereinen ontsloten worden, en intelligente, innovative markten ontgonnen kunnen worden.\\nDe nieuwe media bestaan enkel in het meervoud\\nMarshal McLuhan maakte er zijn stokpaardje van: je kan niet één medium geïsoleerd bestuderen, de anderen daarbij buiten beschouwing latend.\\nDe tijd dat we webadressen intikten van de ‘http’ tot de ‘.com’ ligt reeds ver achter ons, maar met de opkomst van de 3g-technologie lijken enkele bijzonder recente manieren van spreken ineens ook achterhaald. Waarom zou je nog vragen ‘heb je internet?’, ‘ben je online?’ als je weet dat de ander een iPhone met 3g heeft? Telefonie wordt gecombineerd met internet, televisie wordt gecombineerd met internet, en combinaties met gps (google latitude http://www.google.be/latitude/intro.html), augmented mobility en domotica volgen.\\nDe evolutie is duidelijk: de media worden op nieuwe wijzen samengebald en komen in nieuwe technologieën tot ons. Of de toekomst transhumanistisch, posthumanistisch of postsingulariteit moet heten, laat ik in het midden. Maar wat vaststaat is dat, terwijl de oude informatiekanalen bijbenen om zich aan de nieuwe standaarden te conformeren, overal verrassende, gekke initiatieven uitbloeien tot merken en IT-innovators succes oogsten. Blogs krijgen de rigueur van kwaliteitsmagazines en kranten verworden newsfeeds. Algemener kan je zeggen dat informatiekanalen samensmelten en corporate assets opgaan in een collectieve intelligentie waar iedereen deel van het potentieel komt uit te maken.\\nDe technologische vernieuwingen en de trends op de mediamarkt zijn op het eerste zicht enkel samen te brengen in een soort mozaïek, een collage, een samenraapsel van amorfe structuren die vaak zelfs op een ander niveau werkzaam lijken. Elke evolutie heeft zijn particulariteit, er wordt een doelgroep aangesproken, er wordt van een bepaalde levensduur en actieradius gewag gemaakt en het wordt gepresenteerd in specifieke onverwisselbare concepten. Vaak zijn apparaten niet compatibel en sluiten media elkaar wederzijds uit.\\nDoch kunnen we enkele opvallende trends als vaste waarden doorheen het hele mediaspectrum beschouwen. Laten we eens enkele van de duurzaamste opvallendste onder de loep nemen.\\nTrends\\nNiet zo lang geleden werden sollicitaties met de hand overgeschreven, om toch maar niet de indruk te geven dat het gekopieerd is. Nu, om af te spreken voor een avondje Gentse Feesten stuur ik een sympathieke, persoonlijke sms naar één vriend en besluit ik algauw, zonder enig gewetensbezwaar, hetzelfde bericht ineens ook naar enkele andere vrienden te sturen. Kwestie van al mijn vrienden eens te zien. Of toch zeker één. Want anders geen feest op de Gentse Feesten.\\nHet fenomeen lijkt wel het omgekeerde van viraliteit. Het lijkt erg op spammen: met een identiek bericht overtuig je verschillende mensen. En zo gaat het niet alleen met sollicitaties en uitnodigingen, maar ook met vragen en verzoeken (couchrequests).\\nOp startpagina’s als NetVibes, iGoogle en PageFlakes kan je newsfeeds (ook wel rss-feeds) verzamelen van zaken die jou interesseren. Het zijn als krantenabonomenten of televisiezenders, een onaflaatbare aanstroom van zaken die jou interesseren. Je kan er ook een andere feedreader gebruiken, of zelfs een emailprogramma als Outlook of Windows Live. In elk geval, op mijn NetVibes-startpagina staat zo steeds het laatste weerbericht, een lijstje met de laatste krantenkoppen van de standaard, een prachtig fotootje dat Flickr voor me uitkiest, en een hele resem koppen van blogs en online-magazines waar ik me zowaar continu mee voed.\\nOp sociale netwerksites is spontaan een online zelfnarriviteit ontstaan. Netlogs shouts, Twitters tweets en Facebooks ‘wat ben je aan het doen’ breidden een vervolg aan het succes van de vele blogwebsites en nodigen gebruikers uit om te vertellen wat ze doen en hoe ze zich voelen. Zelf vind ik Twitter maar niks. Ooit maakte ik een account aan en tweette ik “masturbating.” Sindsdien ontving ik één à twee mailtjes per week, om te melden dat één of de andere twitteraar me interessant genoeg achtte om me te volgen. Velen haken evenwel snel terug af, aangezien ik volgens Twitter al sinds December 2008 ben aan het masturberen. Iets te pijnlijk om te blijven volgen wellicht. Toch blijft gebruiker Yourhighnessjoh doorgaan met masturberen. Elke keer iemand die account van me ontdekt. Zonder eind. Dat is het leven van mijn Twitter-avatar dat met de wereld gedeeld wordt. De rest is cencuur, maar daar komen we straks op terug.\\n-digitaal narcisme: exhibitionisme, artistiek talent, verveling. “jezelf googlene is intellectuele masturbatie.”\\n-videoblogs, podcasts\\nNaast spammen, newsfeeds en online zelfnarrativiteit is ook persoonlijke agregatie ook zo’n modewoord dat je zeker eens geproefd of toch op z’n minst in de mond genomen moet hebben. Persoonlijke aggregatie wat men doet als men diverse web 2.0-items (denk aan films op YouTube, liedjes op last.fm, foto’s op Picasa, blogs op Blogger) samenbrengt op een sociale netwerksite (als Facebook). Door persoonlijk aggregatie wordt iedereen een beetje de content manager van een eigen nieuwskanaal, ofte wel, de content curator van een soort van online museum.\\n‘I like’: persoonlijke aanbeveling en profilering\\nRecentelijk kwam de persoonlijke aggregatie weer in een stroomversnelling terecht met de Facebook ‘I like’-knopjes die overal in blogs en online-artikels opdoken. Een simpele muisklik, en iedereen die jouw profielpagina bekijkt, wordt gelinkt naar dat blog of artikel dat je net voordien las.\\nEén simpele muisklik en je maakt een persoonlijke aanbeveling.\\nMaar niet alleen maak je een aanbeveling, tegelijk profileer je jezelf. Het is eenvoudig: het komt op jouw profiel.\\n‘I like’ is op zich weinigzeggend. Je kan zo een pornofilmpje leuk vinden, op ‘I like’ klikken zal je wellicht niet doen. En toch is de deining die het ‘I like’-knopje veroorzaakt is veel groter qua schaal en qua impact. Het beweegt massa’s over oceanen heen. Het concept viraliteit dat we vandaag onderzoeken, is daarom steeds een combinatie van net die twee zaken: profilering en aanbeveling.\\nEn het staat buiten kijf dat het wereld wijde web nog heel wat in petto heeft. Als je alleen al maar eens denkt wat voor goed viraliteit de wereld brengen kan:\\neen stem voor uitgesloten oppositieleden ,\\nverhoging van het consumentenbewustzijn   ,\\nsensibilisatie voor volksgezondheid ,\\naanklacht van alle soort extremismes  , en\\nvoor de emancipatie van talrijke verdrukte minderheidsgroepen en militantisme http://coalitionofthewilling.org.uk/.\\nAls filosoof zou ik kunnen verder gaan en voorgenoemde mogelijkheden veralgemenen als het potentieel van het semantisch web, ofte wel, web 3.0. Ik volg die materie al een hele poos nauwgelet in de gaten, en ik heb heel wat bedenkingen. Me dunkt dat men nooit veel verder zal gaan dan aanbevelen en profileren (steeds in een onderlinge combinatie) en als zodanig zal filteren en geïnformeerd worden door filters. Maar neem zelf maar eens een kijkje naar wat de toonaangevende visionairen te zeggen hebben: <object width=\"400\" height=\"300\"><param name=\"allowfullscreen\" value=\"true\" /><param name=\"allowscriptaccess\" value=\"always\" /><param name=\"movie\" value=\"http://vimeo.com/moogaloop.swf?clip_id=11529540&amp;server=vimeo.com&amp;show_title=1&amp;show_byline=1&amp;show_portrait=0&amp;color=&amp;fullscreen=1\" /><embed src=\"http://vimeo.com/moogaloop.swf?clip_id=11529540&amp;server=vimeo.com&amp;show_title=1&amp;show_byline=1&amp;show_portrait=0&amp;color=&amp;fullscreen=1\" type=\"application/x-shockwave-flash\" allowfullscreen=\"true\" allowscriptaccess=\"always\" width=\"400\" height=\"300\"></embed></object><p><a href=\"http://vimeo.com/11529540\">Web 3.0</a> from <a href=\"http://vimeo.com/kateray\">Kate Ray</a> on <a href=\"http://vimeo.com\">Vimeo</a>.</p>\\nVirale schaamte: zelfbedrog online\\nNietzsche maakte er steeds een punt van: de mens moet zich leren schamen. Steeds moet hij zichzelf opnieuw leren aankijken, identificeren waarvoor hij zich schaamt en de schaamte te boven komen, als een vollere, grootsere, betere mens.\\nZo niet verdoe je jouw tijd hier op aarde als slaaf, als lijfeigen van het collectieve bewustzijn, beknot door taboe, gedwongen door de druk tot conformeren. Schaamte, sociale conditionering is overal rondom ons. Het zit alreeds in ons vanbinnen, vervat in elk van onze interpretaties, als het ongevraagde geschenk van de traditie waarin we leven. Het komt erop die verinnerlijkte onzin te identificeren, te veruitwendigen en aan te kaarten zodra die zich toont.\\nHet is evenwel de vraag: welk gezicht toont deze onzin in het netwerk?\\nHerrin je wat ik zei over sollicitaties. Vandaag heten die dingen spam. Maar er is een opvallende tegenstrijdigheid tussen wat iedereen schrijft en wat iedereen wenst te ontvangen. Statistisch gezien is het de meest succesvolle strategie om te schrijven dat je de brief die je schrijft persoonlijk schrijft: als een brief. Zodra een lezer de indruk heeft dat er ook andere geadresseerden zijn die je als schrijver misschien beter, interessanter, leuker, mooier of wat dan ook zou vinden, haakt die lezer af. Een beetje zoals bij veel blogs het geval is. Gedurende mijn 18 maandenlange couchsurfingtocht heb ik af en toe eens de proef op de som genomen, en kwam ik telkens tot dezelfde conclusie: schrijf nooit “ik schrijf dit aan jou en 10 anderen omdat ik weet dat slechts 1 op 10 mijn verzoek inwilligt.” Doch schrijf: “ik schrijf dit aan jou persoonlijk omdat jij mij de geschikte persoon lijkt.” Net als spam dus. Zo werkt de wereld tegenwoordig. Overstijg jouw schaamte, leer ermee leven.\\nHet tweede gezicht waarin de onzin vaak terugkomt in het wereld wijde web, is in de online zelfnarriviteit. Al diegenen die hun leven verhalen en documenteren op Facebook, doch bepaalde delen van hun leven verhullen, doen aan zelfcensuur. Volgens Twitter ben ik al meer als een jaar aan het masturberen en verhul ik al het overige. Ik censureer een groot deel van mijn leven dus. Niet dat het zoveel interessanter dan masturbatie is.\\nKunst dat viraal gaat\\nGrote denkers zeiden het reeds voor mij: kunstenaars herstellen onze band met de integrale realiteit. Op een profielsite als Facebook zijn we louter voor onszelf uitgeschapen representaties. Ons ware zelf, geworteld in een authentieke en onvervreemdbare realiteit, bestaat daar niet. Enkel de meer of minder narcistische fascinatie met zichzelf. En liever minder dan meer. Want te veel, dat heet ijdelheid, en dat kan iedereen herkennen.\\nAls ik deze teksten schrijf is het ook vaak een hele opgave om me niet als ijdeltuit te tonen. Want velen lijken erop te zitten wachten om me net daarop af te rekenen.\\nMaar ijdelheid is daaraan te herkennen aan dat het op succes uit is, en meestal worden daartoe formules aangewend die hun succes voordien reeds bewezen hebben. IJdelheid is in zekere zin het zich halsstarrig vastklampen aan wat vergankelijk is en het is de motor die ervoor zorgt dat het bestaande blijft bestaan. Maar dat het nieuwe wordt aanvaard en gewaardeerd is meer nodig.\\nAls filosoof kwam ik vaker bij dit punt terecht, vooruitgang, wérkelijke vooruitgang, wordt afgemeten aan mensen die zichzelf onderzoeken, aan de poëten en de artiesten die hun verlangens in woorden en communiceerbare tekens proberen vatten, hun persoonlijkste gedachten moment willen geven en hun gevoel proberen begrijpen en uitdrukking geven.\\nHet is een kunst iets op te pikken dat niet vanzelfsprekend is het aan te prijzen, evenals het een kunst is iets nieuws te creëren. Zowel innovators als pioniers kunnen niet zonder elkaar en zijn elkaar respect verontschuldigd. – En ik spreek niet over de gadget lovers en hun ontwikkelaars.\\nHet net is een broedplaats voor creativiteit. Wees ook een beetje een kunstenaar en spreek je uit, niet als ijdeltuit, voor iets triviaal, maar als eerlijk mens.\\n-via mijn facebook ben ik een beetje een content curator – vanuit mijn studie heb ik daarvoor gespecialiseerd (ik ben een interdisciplinair deskundige)\\n-via mijn blogs ...\\n-ik doe dit al terwijl ik wacht totdat dit verdienstelijk wordt gemaakt. Tegen dan sta ik aan de top\\n-een eerste stap zal een mentaliteitswijziging inhouden: de pioneers zijn jullie\\n“I like.”\\nEn laat dit het begin zijn.\\n',\n",
       "  'De intelligentie die ‘exponentieel’ groeit is niet noodzakelijk een humane intelligentie: kijk maar naar de zoekrobotten: ze denken voor ons en maken zoeken makkelijker: maar porno wordt ook makkelijker bereikbaar, en ook een pizza bestellen was nooit zo makkelijk.\\nOns bewustzijn bevindt zich niet “in” ons hoofd of ergens op één of andere andere plaats. Eerst en vooral zijn we een “men”. Maar daarbovenop is het zo dat heel ons lichaam onze beslissingen, onze wil stuurt. Dat is wat we weten.\\nNuja, pillen, protheses veranderen delen, maar dat is een kwestie van probleemoplossing.\\nEn zoals we zagen, de norm komt als maar strakker rond ons leven te zitten.\\nDefinities van intelligentie, bewustzijn ed. Zijn gewoon te humanistisch.\\nMaar! Met het semantisch web bijvoorbeeld: zou het niet kunnen dat de computers die de gedragingen kennne van de filters van filters van filters en al de relaties onderling, ook die mensen daardoor beter gaan kennen en hen op die manier gaan controleren? Met een kantelpunt, een singularity?\\n',\n",
       "  'Numbing/verdoving. De gezichtsuitdrukking van een tv-kijkend kind zegt genoeg. Een extensie, een amplificatie en een vertaling, elk medium dat zijn eigen discours heeft ontwikkeld, vormt een modus waarin het hele lichaam komt te vertoeven. Ons perspectief lost als het ware op in de diverse perspectieven die ons aangereikt worden door de televisie. Het zijn de punten van fascinatie, door de televisiemakers ontwerpt en ontwikkeld, die ons voorgekauwd worden voorgelegd, en het is aan ons om ze op te merken, en ons in hun perspectieven in te leven.\\nHetzelfde geldt voor porno: het heeft de seksuele verbeelding overgenomen, het discours gekaapt en nu gaat het spreekwoordelijk onbekende wateren op.\\nStoppen met porno kijken is daarom een beetje als een amputatie: een amputatie van een extensie van een zeker zintuiglijk bereik dat evolutionair gezien ‘onmiddellijk’ gebleven is, ongereflecteerd, - en dus zonder verweer gebleven is.\\nNet zoals onze breinen niet zijn gemaakt om in abstracte wiskundige, en logische termen te denken, zijn ze ook niet gemaakt om ons tegen de verleidingen van porno af te zetten.\\nMaar net zoals er bij de fotografie tegelijkertijd een tegengestelde trend was, is er ok bij porno een seksuele poëzie aan het ontstaan die buiten de mogelijkheden van het medium van de pornovideo liggen.\\nEchte seks ruikt scherper, klinkt extatischer, smaakt opwindender, en voelt echter... In tegenstelling tot de fantasie is echte seks onvolmaakt, feilbaar, reversibel. En de kloof tussen pornokijkers en niet-kijkers kan groot zijn, maar de seks verhaalt zich makkelijker onder pornokijkers, het wordt makkelijker opgenomen in een ‘productief discours’. En alhoewel het discours ‘gekaapt’ is, en vaak wat misleidend is in de detectie van onze hoogstpersoonlijke verlangens, wordt seks meer dan ooit bevraagd op nut en effect. – Seks wordt een genotsmiddel.\\n',\n",
       "  'J.2 droomt ervan om te blijven reizen en al reizend geld te verdienen: door porno te maken, door te gaan spreken in communities over reizen, door workshops te geven, of toch terug te gaan om een CS-bar te beginnen..?\\n',\n",
       "  'Om porno en media in de vriendenkring aan bod te laten komen. – (Pratend over technologische vernieuwing en gebruiksgemak. Het voorbeeld wordt gegeven dat men op een iPhone kan inzoomen op de scroll-knop.) “De nieuwe Windows Media Player maakt scrollen door pornofilms moeilijk. Zo’n ‘groot’ programma, en hoe kijk je anders naar porno dan al scrollend?”\\nHot – cool: en de overdaad aan zappen. Het opwindende van de pornofilm is moeilijk aan te wijzen. Meestal zapt men van de een naar het ander opwindend aanzicht.\\n',\n",
       "  'Het porno-kijken ‘tonen’ door de opwindende aanzichten te beschrijven in functie van prikkelingen, geprojecteerd lichamelijk (‘zoals ze met haar hand in een gevoelige draai langs de rug van de eikel omhoog bewoog’) maar ook visueel (‘geknield en op alle vier wierp ze haar haar achterover en keek met een extatische blik de camera in terwijl de man kletsend op haar billen op haar inbeukte’).\\nPorno is echter de fascinatie door de norm. In tegenstelling tot de pure verleiding die door de extase geleid wordt, meer bepaald van het bedenken van mogelijkheden in de roes van de geilheid, zit er in porno steeds een inherente bestendiging van de norm vervat. Alles is norm in porno, elke perversie wordt als fetisjisme erkent en als zodanig geclassificeerd. Er is geen grenzeloosheid, geen echte perversie.\\n',\n",
       "  'Voor een wetenschappelijk onderzoek. – Zou een man minder zaad producereen als hij hele dagen gespeend blijft van pornografische en aantrekkelijke beelden van reclame en dergelijke?\\nZou hij makkelijker geprikkeld worden door andere dingen?\\n',\n",
       "  'Een ideeëngeschiedenis: porno. Tot en met een effect: extended masturbation.\\n',\n",
       "  'Ideeëngeschiedenis van de woorden middenklasse, burgerij, arbeider enz. Een vergelijking tussen landen en taalgebieden.\\nEen ideeëngeschiedenis “porno.” Tot en met een effect: extended masturbation.\\n',\n",
       "  'Porno heeft de seksuele verbeelding ongedaan gemaakt. Masturberend porno kijken is de nieuwe seksualiteitsbeleving. Neuken in het echt is vermoeiender, docht blijft dit het voorgespiegelde doel. Men wordt een seks gewoon die in eender welke omstandigheid valt aan te schakelen. Men wil veel seks en heeft er weinig voor over.\\nDe seksuele drift is georiënteerd geraakt naar een scrollen door seksuele episodes. Ze kennen een zekere opbouw en proberen aan de uiteenlopende verwachtingen van hun publiek te voldoen. Maar pornokijkend wordt je zelf niet bekeken.\\nEen afwijken van de ‘pornonorm’ zou er dus bijvoorbeeld in kunnen bestaan van zo ver mogelijk te ejaculeren op een meisje. Want afstand houdt steeds een zekere reflectie in: ik word bekeken door haar.\\n',\n",
       "  'Het belangrijkste effect van het medium porno is het verdwijnen van afstand: de reflectie die terugslaat op zichzelf; de waardering voor de begeerlijke blik van de genietende ander.\\n',\n",
       "  '“Ik heb ooit eens een pornofilm gezien die mij blijft achtervolgen. Op zich vond ik het wat afstotend, maar later heb ik het begrepen wat het was dat me zo betoverde: afstand.\\nJe denkt er niet zo spontaan aan maar in porno bestaat er geen afstand. Alles wat op het scherm gebeurt “is” er gewoon, zonder onderliggend besef van invalshoek of perspectief.\\nMensen willen daarom ook meer en meer de afstand verliezen.\\nDie ene scène was nu dit: twee zetels tonden tegenover elkaar, in beide zetels zat er één iemand, de man in de ene, de vrouw in de andere. Wat ze deden? Seks. Ze masturbeerden en keken elkaar aan. De blik van de man waar raar.. maar de vrouw: man!, zo geil…\\n',\n",
       "  'Wat De Geboorte van de Tragedie destijds betekende, herhaalt zich wellicht over 2000 jaar met: de geboorte van de extensieve seksualiteit. Niemand heeft nog seks met een intensief gevormd mentaal beeld. Het is eerder als een dooreen waren van geesten, een eindeloos moduleren van diverse droombeelden, van porno-actrices en seksuele partners, die telkens als een dissonant op de voorgrond treden en terug verdwijnen, verzwelgt worden, in de onstuimige roes van de seksuele opwinding.\\n>Voor boek: de geschiedenis van het verboden beeld. Beginnend met de vraag: wat zag een man wanneer hij zijn ogen sloot en zijn hand om zijn lid spande? Zag hij überhaupt wel iets? Misschien was het dan eerder een geur, een geluid, een smaak? Wie zal het zeggen. Dit boek is een speculatieve verkenning van de erotische verbeelding in zijn visuele vorm.\\n>>een verschil met vandaag: men oefende het verleiden denkbeeldig. Vandaag doet men dat niet meer!\\n',\n",
       "  'Antipornografie-activiste Gail Dines:\\n\"The more porn images filter into mainstream culture, the more girls and women are stripped of full human status and reduced to sex objects. This has a terrible effect on girls\\' sexual identity because it robs them of their own sexual desire.\"\\n',\n",
       "  '\"most contemporary scholars are positive about pornography, due to both a fear of being considered in alliance with the religious right and the view that pornography represents and champions sexual liberation.\"\\n',\n",
       "  '\"Many on the liberal left adopt a view that says pornographers are not businessmen but are simply there to unleash our sexuality from state-imposed constraints.\"\\n',\n",
       "  'Extended masturbation: met je goede hand de prikkels bedienen om met de mindere hand je lichaam te bedienen.\\n',\n",
       "  'Het geheim. – Elke goede roman lijkt een/het geheim centraal te stellen. Een verdoken, onontwarbare boodschap, alleen als een vage suggestie leesbaar tussen de lijnen door. Het is een kindse achterdocht die ons op het spoor brengt, een raadselachtig verlangen naar obscuriteit. Alsof het geheim van de wereld overal wordt verondersteld maar niemand het durft uitspreken. Het is het antwoord op de vraag die iedereen voelt dringen, maar niemand durft stellen.\\nDe romanschrijver houdt de kindse, achterdochtige mens een spiegel voor, en neemt de taak van die zoektocht exemplarisch op zich. Elke vorm van nihilisme wordt geïdentificeerd en overstegen. De mens moet voortplanten; om in een maatschappij te overleven is status nodig; er zijn maar zoveel levensvormen mogelijk als er jobs zijn die je kan doen; een economie heeft groei, heeft consumptie nodig; we moeten onze levensdoelen beperken; onze verlangens moeten die van onze maatschappelijke klasse niet overstijgen; pornografie toont de extreemste vormen van seksualiteitsbeleving; reisverhalen, -magazines en –gidsen bevatten alles wat van het reizen verwacht kan worden; godsdienst heeft een praxis nodig; het Westen is blank; academici moeten zich specialiseren; er is niks kenbaar dat nog niet neergeschreven staat.\\n',\n",
       "  'Betoverd door porno. – Filmpje Good Porn: zoveel mannen kijken porno, zoveel vrouwen.\\nOnlangs was ik in een vertrouwd mannelijk gezelschap en zei ik tegen de één dat ik gestopt was met porno-kijken. Hij verklaarde me meteen gek. Hij zei dat een man zonder vrouw niet zonder masturbatie kan.\\nHet geeft aan hoezeer die twee dingen gelinkt worden. Kan een man dan niet masturberen zonder porno?\\n(Ikzelf heb gezien mijn leeftijd de overgang naar gratis internetporno in mijn seksueel actiefste periode meegemaakt. )\\nLichaam en geest: een seksueel evenwicht.\\n>de verbeelding van een geil persoon zoekt mogelijkheden voor seks.\\n',\n",
       "  'Benjamin en porno:\\nPorno haalt iets uit het rituele en brengt het in het esthetische. Norm wordt het pas wanneer er een (beeld)taal ontstaat die door allen (de dominante klasse) enigermate uitdrukkelijk geaccepteerd wordt. Er moet namelijk geweten worden dat men weet opdat het als norm kan gelden. Daarvoor is het voldoende dat er grapjes over specifieke handelingen bestaan, of een lichaamscultus of kledingstijl wordt aanvaard met een duidelijke referentie.\\nOp die manier doet iedereen mee met de pornoproductie: de bevestiging van de norm volgt uit de erkenning en aanvaarding van zijn tekens.\\nDe vraag blijft evenwel hoeveel er over de beide seksen heen aan tekens wordt uitgewisseld en gedeeld. Grapjes onder mannen, en oordelen naar stijl en mode onder vrouwen bewegen zich in gescheiden sferen.\\n',\n",
       "  'Extended masturbation. – Een erotisch verhaal of fragment in mijn boek: Een reflectie bij het masturberen op zoek naar aanzetten in een voorbije ontmoeting. Eventueel eerst de ontmoeting schetsen en dan de subjectieve mogelijkheden vanuit het perspectief van verleiding.\\nDaarmee wil ik dan geen waardeoordeel uitspreken over de mannelijke “extended masturbation”, maar gewoon die realiteit aan het licht brengen.\\nBinnenkort stuurt men wellicht ingescande seksorganen door en print met die af met 3D-printers om zo “dichter bij elkaar te zijn.”\\n',\n",
       "  'Wanneer we alle tijd die we voor onszelf hebben spenderen door op facebook te zitten, internetartikels te lezen, youtubefilmpjes te bekijken, en de liefde te bedrijven met de meisjes en jongens van youporn en eropodium, kan je je gaan afvragen: verdwijnen onze levens in \"the cloud\"?\\nUiteindelijk zal \"uploaden\" mss geen grote stap meer zijn?\\n',\n",
       "  'De porno-ban. – Het is weer een tijdje geleden. Van alle experimenten die ik op mezelf uitvoer blijft dit wellicht het meest ingrijpende. Het is niet dat ik geen porno kijk dat ik niet masturbeer. Maar er is wel iets veranderd in de manier waarop, de routine, het ritueel is veranderd. Het lijkt omslachtiger om er een moment voor uit te trekken. Normaal vloeit mijn aandacht meteen af naar het beeld op het scherm, nu flikkeren nieuwe gedachten op in mijn hoofd en lijkt de opwinding moeilijk vast te houden. Gisteren merkte ik bij mezelf op dat mijn leven op één of andere manier kleur verloren was. Het lijkt wel alsof er minder glans op ligt, alsof het één of andere extatisch schitterende pracht verloren is.\\nWanneer ik tegenwoordig masturbeer probeer ik mij te focussen op meisjes, meisjes uit de herinnering, maar vooral op meisjes waarmee toekomst mogelijk is. Daarbij stoot ik altijd op kwetsbaarheid. Mijn ervaringen van teleurstelling geven toekomstperspectieven een pijnlijk realistische betekenis. Het neemt kleur weg uit de verbeelding.\\nAlthans tot vannacht. Ik werd wakker van een droom die wellicht was gevoed door de poging van gisterenavond om me eerder pornografische beelden (waarover mijn geheugen rijkelijk beschikt) te verbeelden dan beelden uit mijn ervaring of mogelijke toekomsten. Ik droomde namelijk van een meisje met porno-allures (een slank donkerharig, geil ding) dat me pijpte en neukte op meesterlijke wijze. Ik werd geleidelijk wakker, de gedachte dat mijn verbeelding op porno gebaseerd was, maakt het zelfs in mijn droom onecht. Toch was de opwinding levendiger dan ooit. Ik voelde me alsof ik een porno had bekeken, in kleur, in volle extase. In dromen wordt de gekste verbeelding werkelijkheid.\\n',\n",
       "  'Ik wil dat elke scène van mijn boek er één is waarop men zich kan masturberen. Dus met meer flirterige dubbelheid, ofwel in de beschrijving van het hoofdpersonage (en dus verlegenheid, schaamte van het personage/ironie van de verteller), ofwel in het oordeel van het personage zelf (een uitdagende roekeloosheid).\\n>”dubbel,” monter, flirterig taalgebruik\\n>sensualiteit van de personages, een fysiek bewustzijn gekoppeld aan erotische en esthetische waardering\\n',\n",
       "  'Eén van de eerste gekke dingen die mij steeds weer binnenschoten toen ik iemands leefruimte betrad, was: dus het is hier waar hij/zij altijd masturbeerde.\\n',\n",
       "  'Seks is alomtegenwoordig (als veredelde prostituees hangen ze daar dan met hun glossy photoshop-look in de straten http://excitingny.com/nyphotos/timessquareheader.jpg) maar wat met de erotiek op mensenmaat?, de oprechte, speelse erotiek van het alledaagse leven? Moeten we ons daarvoor wenden tot ofwel porno, ofwel slappe, romantische komedies, afhankelijk van het “geslacht”? (Waar moeten homo’s en lesbiennes dan naar kijken, of nog erger: transseksuelen?)\\nWe kijken lachend de “foute” films van vroeger, “Hahah, toen was dat nog taboe!” Maar kijk eens waar we nu staan. Op elke straathoek slaat de obsceniteit je in het gezicht. Knal: “Wat een stoot,” “Wat een bink.”\\nFeministen zeggen dat we gedesensibiliseerd zijn, we verzadigd zijn. De seksuele aantrekking is zodanig geobjectiveerd dat het alleen nog in de boekjes bestaat.\\nMaar is dat zo? Ah nee. Lekkere wijven zijn lekker omdat ze echt zijn, en omdat ze je willen. Of net niet willen. Of misschien wel? Hoe dan ook, precies dat maakt ze zo lekker. Niet omdat ze er goed uitzien op foto en goed uitgerust zijn met seksuele “apparatuur” dat naar behoren functioneert.\\nDe feministen hebben de wereld in tweeën verdeeld. Maar dat slaat terug, en ze worden nu op één hoopje gegooid met romantici, nostalgische dwepers die makkelijke dingen liever moeilijk doen.\\nDe mens is een dier, zeggen ze dan. En daaruit leiden ze af (in éénzelfde beweging) dat we over “primaire behoeftes” beschikken. Darwin wordt aangehaald, Freud, en er wordt gedaan alsof een lichaam over een stock aan seksueel verlangen beschikt dat we kunnen aanspreken als we de juiste taal spreken, de taal van het lichaam, van het onderbewuste, een taal die we spijtig genoeg niet kennen, een mysterieuze code die we maar kunnen ontdekken door over jager-verzamelaar gemeenschappen te fantaseren. Maar romantiek, oh romantiek!, dat is literatuur, tijdverdrijf… De mens is een dier. Seks is natuurlijk.\\nNu ga ik dat niet tegenspreken, maar er is een nuance die ik wel belangrijk vind. Zeg niet: seks is natuurlijk; maar zeg: de beste voorhanden theorieën zeggen dat seks natuurlijk is. En die theorieën gaan zover als ze gaan.\\nIn tegenstelling tot andere dieren zijn wij rationeel. Seks is natuurlijk, maar wij staan daarboven. Dus is seks “eigenlijk” niet natuurlijk? Seks is een woord, we begrijpen het maar voor zover we de natuur begrijpen. Maar begrijpen we de natuur? Of geloven we in een tweedimensionale representatie?\\nJa, het gepraat van feministen over de objectivering van seks is een valstrik. Loop er niet in. Rauwe, tweedimensionale seks laat zich misschien wel in een hokje steken, maar de uitdagende, verleidelijke erotiek is overal. Je moet er alleen oog voor hebben. En daarvoor de romantiek je helpen.\\n>tenzij amateurporno?\\n',\n",
       "  'Voor Steffen: “Elke keer ik in iemands woonkamer binnenkwam en een pc zie staan, denk ik: “achzo, dit is dus waar jij masturbeert.”\\n',\n",
       "  'Meisjes en porno. – Toen ik Crestel zei dat ik wel eens een meisje alles wil leren over seks en erotiek, vanaf nul, zei zij: “dan moet je véél porno kijken,” alsof je porno kijkt om standjes te leren.\\n',\n",
       "  'Experimenteren met seks in het internettijdperk. – Crestel leert me iets bij over een naïef, kinderlijk opportunisme. Het zou al te gemakkelijk zijn om het als immoreel af te doen en het weg te redeneren. Wellicht masturbeert ze met verschillende mannen en vrouwen afwisselend.\\nHaar seksualiteit is een nog ongeconditioneerde macht. Het baant zich een weg die als een libidineuze stroom die uit haar vloeit en steeds de gemakkelijkste weg. Het neemt haar online, dildo in de hand, hoewel uitgerust met slechts een zeer beperkte emotionele woordenschat over seks. Ze praat de obscene taal van videoclips, de fallocentrische taal van haar vriendin Halima, ervan uitgaand dat ik het als man even makkelijk heb als zij als vrouw. “Tenzij er iets fout is met mijn lul.” Het is een geïnstrumentaliseerd discours, ontdaan van alle erotiek.\\n',\n",
       "  'Gesprekken over het verleiden van meisjes: over ambitie, passie enz.\\nSteffen: “Ik ben heel gepassioneerd in masturbatie, ik zal het eens daarover hebben.”\\n',\n",
       "  'Ik herinner me nog de eerste ervaring met internet. Ik moet 15 jaar geweest zijn. Ik was in Gent met Ramses en we gingen naar een soort van beurs vlakbij het Zuid. Het was een grote zaal met grote panelen en infogrammen. Boven stonden de computers. We namen plaats met ons tweeën achter één scherm en begonnen aan wat algauw een behoorlijk ontgoochelende ervaring bleek te zijn. We deden wat we op de infogrammen geleerd hadden en tikten in http://www.altavista.com of Yahoo enz... en experimenteerden met de links die ze ons beneden hadden gegeven. Het was ontzettend saai. De helft van de tijd werkten de links niet (omdat we het fout hadden opgeschreven) en we vonden niets dat ons boeide. Tenzij porno.\\nWe hadden gehoord dat er op internet porno te vinden was. Dat mocht natuurlijk niet. “XXX” moest je intikken. We probeerden het eens, en we kwamen op wat middelmatige foto’s van middelmatige modellen. Het duurde ongeveer 10 minuten om zo een pagina met foto’s te laden. We speelden wat wat met venstertjes boven elkaar. Als er niemand achter ons stond keken we even. Spannend. En dat was dan mijn eerste ervaring met het Internet.\\n',\n",
       "  'Fictie. – Weet iemand waar ge dat kunt vinden, porno? Iedereen praat erover maar niemand lijkt mij concreet te kunnen zeggen wat of waar. Ik begin er op de duur aan te twijfelen of dat dat wel bestaat eigenlijk.\\n',\n",
       "  'Het leven is voor de rappe – tenzij het leven van de pornosterren natuurlijk. Ja, ik prijs me gelukkig.\\n',\n",
       "  'Zou het meisjes opluchten te weten dat mannen niet meer over hun fantaseren wanneer ze masturberen, of is het idee dat mannen porno kijken nog obscener?\\n',\n",
       "  'Hoe pornografie religie verving. - de stroomlijning van perspectieven op het oneindig en onnoembare die religie op het geestelijke leven uitoefende, wordt nu door porno overgenomen.\\nOver porno spreekt men niet inhoudelijk met andere mannen. De obscene waarheden zijn privé, net als mensen seks steevast privé uitoefenen. Het verlangen is ijdel, het is reversibel. Mannen kunnen elkaar ook moeilijk porno aanraden. De opwinding van een andere man is onverzoenbaar met zijn nabijheid.\\n',\n",
       "  'Zelfbesef en ijdelheid gefilterd en versterkt door sociale media. – Alleen in de kamer verlicht door het Facebookscherm, gewapend met de tools van de content creator (het delen en liken en aanraden), in een voortdurende interactie als content consumer, is men zich op een andere manier van zichzelf bewust als in een “analoge” groep. Het besef van status en imago kwijnt algauw weg, moet plaats maken voor een momentaan –een muisklik verwijderd– genot. Men is behoeftig, het scherm werkt hypnotiserend, en de over de hele levensduur opgehoopte verdienstelijkheid en sociale standing wordt uit het oog het verloren. In die behoeftige, gehypnotiseerd klikkende toestand neemt men zichzelf waar als broos, ijdel, kwetsbaar… Daar is het waar de verslaving aangrijpt die van media als Facebook uitgaat.\\nBroosheid en ijdelheid beweegt mensen er steeds weer toe om bij anderen op zoek te gaan naar tekens van erkenning en waardering. Facebook kanaliseert die behoefte zodanig dat tekens als in kleine dosissen van welbehagen kunnen samengebracht worden tot significate dosissen die je gevoel voor zelfwaarde aansterken.\\nHet valt evenwel te bezien in welke mate die erkenning en waardering het ware Zelf betreffen. Een oorspronkelijk en authentiek Zelf is voorzeker een onmogelijk referentiepunt, maar de mate van verdunning lijkt weldegelijk te variëren over verschillende media (gaande van de gewone badkamerspiegel, tot het boek in romanvorm, en tot symbolische prenten foto enzovoort). Een vergelijkende blik kan dus een interessant licht op dat bijzonder soort van erkenning en waardering te werpen.\\nEr lijkt een soort veralgemeend waardeoordeel uit het medium zelf uit te spreken. Facebook is slechts geschikt om deze en gene zaken op te delen, bijvoorbeeld zaken die impulsieve, prijzende reacties toelaten.\\nDe berichten van mensen “in het veld” werken altijd goed: op reis, op een feestje enzovoort. Gepassioneerde mensen die iets laten zien van wat hun bezield doen het ook goed. Maar omdat zo’n populaire, gepassioneerde mensen met sensationele verhalen en iconische foto’s het op FB zo goed doen, lijkt het medium er indirect op aan te sporen om zich op vergelijkbare manieren te uiten en zodus om erkenning en aandacht te vragen. Men meet zich dus aan Facebookpersoonlijkheden en probeert daar voldoening uit te halen.\\nEr zijn echter ook tendensen in qua vorm en inhoud te bespeuren. Het delen, het liken en aanraden ondergaat trends en modes (ik heb bijvoorbeeld nog niemand zijn favoriete pornofilm zien delen, en toch weet ik van veel vrienden dat ze porno kijken), en dan spreek ik nog niet over de evolutie van “memes” (zoals bijvoorbeeld die collages die iedereen kon delen met zes foto’s in: “dit is hoe ik mezelf zie,” “dit is hoe de samenleving me ziet,” enzovoort).\\nHet zelf dat gewaardeerd wordt op Facebook lijkt dus onherkenbaar aangelengd met het oordeel van anderen. Net zoals we in de woorden van de taal niks kunnen uitdrukken over onszelf, dat anderen niet kunnen uitdrukken over hunzelf, moeten we ook op Facebook terugvallen op een algemeen aanvaarde norm om onszelf uit te drukken.\\nVoorbij die norm is er echter een dieper onderscheid mogelijk. De concrete interacties zijn immers doorgaans veel minder in getal dan het Facebookvriendenaantal. Niemand onderhoudt via Facebook contact met werkelijk al zijn of haar vrienden. Een actieve vriendengroep licht als het ware op naarmate men het medium gaat gebruiken. De items die men ziet verschijnen op de Facebook homepage vormen het referentiepunt, en ook al weet men dat de “vrienden” een andere homepage te zien krijgen, samen met de personen die “liken” en reageren, vormen ze het publiek. En als men dan doelbewust een stukje van het Zelf op Facebook gooit, houdt men hen voor ogen. Zij vormen het gezicht van het fenomeen Facebook. Men heeft immers geen andere referentie (tenzij men er verschillende accounts waarop men dingen deelt en aanraadt waarin men behagen schept, die met andere woorden op het Zelf van toepassing zijn). Het is de concrete Facebookgroep met wie men wil delen – ook al krijgen zij het niet te zien, zijn het altijd dezelfde personen die “liken” en reageren, en zou je liever de mensen aanspreken die jou aanspreken.\\nDat is wat paradoxaal aan facebook. Maar zoals het tegenwoordig met zo’n sociale algoritmes gaat, is dat probleem wellicht al verholpen nog voor het zich stelt – wiemand kent de algoritmes, en dus valt wel te verwachten dat ze zo ingewikkeld zijn dat ze niet te kennen zijn.\\nWie men precies zal aanspreken en wie die perceptie precies bepaald wat Facebook is, is dus moeilijk te doorgronden. De tijd zal uitwijzen welke algoritmes blijven, en welke verder op punt gesteld worden. Wat wel al duidelijk is, is dat er voorbij trends en modes bepaalde stijlen Facebookgebruik te onderscheiden zijn (onder early adapters en innovatiefans, of onder wetenschapnerds en marketeers, of onder filosofen en politieke activisten), en het zou mij niet verwonderen als lijsten (als op FB en Twitter) of kringen (op Google+) dermate aan populariteit zullen winnen dat die algoritmes overeenkomstig zullen uiteenlopen.\\nMen censureert het Facebookzelf dus overeenkomstig met een norm, en wanneer men deelt of liket of aanraadt, houdt men een bepaalde groep gebruikers voor ogen die het niet noodzakelijk overeenkomt met degenen die het te zien krijgen.\\n',\n",
       "  'Feministische kritiek. – Niet alleen het mannelijk discours is dominant. Wanneer het gaat over porno en beeldcultuur in het algemeen (cf.  pornoficatie), moeten we spreken over het mannelijk perspectief, de mannelijke resonantiebodem waarop al het wereldse neerslaat en het zijn weerslag krijgt. Vrouwen zijn zich niet bewust, maar als ze porno kijken, nemen ze een mannelijk gezichtspunt aan op seksualiteit.\\n',\n",
       "  'Facebookfoto’s zijn als porno. – Er is de esthetiek van hoe het moet geweest zijn. Je kan je voorstellen hoe het is om daar te zijn in zijn of haar plaats, en je kan daarbij de werking van spiegelneuronen gebruiken om die identificatie te verklaren. Maar daarnaast is er de prikkel, de opwinding van de esthetiek van de foto. Door te leren omgaan met beelden krijgen poses en enscèneringen een iconisch karakter. Ze vormen een eigen taal, en door herhaling en vernieuwing worden ze intenser, als het ware vervuld van betekenis, en komt de taal tot leven. We identificeren ons niet alleen, alsof we de schoonheid van de ervaring herbeleven, maar we genieten het beeld ook direct.\\n',\n",
       "  'Voor kennismakingsgesprekken. – Over hoe het zou zijn om hier te wonen (in dit huis, in deze straat, in deze stad). Over soorten liefde, soorten relaties. Over je langste relatie. Over drugservaringen. Dierengeluiden in andere talen. Verhalen over kindertijd en wat je toen geloofde. Argumentatie dat vibrators en porno niet verschillend zijn van elkaar (technologische amplificaties van seksueel verlangen).\\n',\n",
       "  'De porno-ban 2. – Wanneer ik me wil masturberen zonder porno voel ik me eenzaam en angstig. Beelden die ik niet “erotisch” vind vervullen mij met afgrijzen en probeer ik te weren. Het is alsof erotiek te eng gedefinieerd is. Ik wil snel en intens genieten, en daarvoor heb ik behoefte aan een bepaald type beelden om mijn geest geëntertainend te houden.\\nPas na enkele dagen porno-ban leer ik andere beelden verdragen bij het masturberen. Vandaag kwam het zelfs in mijn hoofd dat uiteindelijk de minste aanleiding, de minste herinnering van een toegenegen glimlachje als een houvast kan dienen, om de wildste fantasieën rond op te trekken.\\nUiteindelijk begint het vaak met een louter opmerken dat mijn lichaam er klaar voor is, dat het kan, en de activiteit op zich trekt de beelden als met magnetische kracht aan.\\n',\n",
       "  'Voor gesprekken over hoe het zou zijn om hier te wonen. Over seks. Over soorten liefde. Over je langste relatie. Over drugservaringen. Dierengeluiden in andere talen. Verhalen over kindertijd. Argumentatie dat vibrators en porno niet zo verschillend zijn van elkaar.\\n',\n",
       "  'Kennismaking: “hey ik ken u van ergens?” “Niet dat ik weet.” “Ik weet het ook niet meer, maar ge komt mij bekend voor.” “Kijkt ge veel porno misschien? Misschien kent ge me van daar?”\\n',\n",
       "  'Matthieu kan wat meer humor gebruiken. – “Wat zijn uw favoriete pornosterren?” Meer onware redenen voor zijn reis: seriemoordenaar, werkloos op verplaatsing enz. Antwoord op de vraag: “en wat doe je in het leven?” Pornoproducer. “Ik heb een website voor volwassenen. Ik maak pornofilms. Zo kan ik blijven reizen. ” Meer vanuit het improvisatieproces.\\n“Pas maar op of hij pakt u in uw gat!”\\nMatthieu meer doen praten over homo’s en seks alsof het normale interesses zijn. Zonder de dubbele moraal zoals die nu met het internet bestaat (iedereen kijkt porno maar niemand geeft het toe). Benadrukken dat alles draait om seks en relaties. De band is toch tijdelijk dus is de communicatie op dat vlak zeer open.\\n',\n",
       "  'Wat als…? – Ik vraag me vaak af hoe het zou zijn als… als ik homo zou zijn bijvoorbeeld. Toen ik op couchsurfingtoer door Europa was had ik ook altijd zo’n verhaaltje bij de hand dat ik in werkzaam was in de porno-industrie. Met de nodige details klinkt alles overtuigend, dat heb ik toen wel geleerd.\\nIk ken persoonlijk geen Chinese homo’s maar als ik mij probeer te voorstellen hoe het zou zijn om te werken in de ‘gay porn’ dan lijkt het niet zo vergezocht dat ik er een relatie mee zou beginnen, om hem vervolgens te vermoorden en in stukken te snijden, al filmend natuurlijk, waarop ik de stukken als in een handig postformaat opstuur naar de politie, en het filmpje op internet plaats.\\n',\n",
       "  'Voor introductiegesprekken: moordende porno-acteur opgepakt in Berlijn. Een canadese pornoacteur vermoordt zijn chinese homovriend, snijdt hem in stukken, filmt het, stuurt de resten op naar de politie en vlucht het land uit. http://www.deredactie.be/permalink/1.1320400\\n',\n",
       "  'Pornoficatie. - De dominantie van het audiovisueel perspectief op seksualiteit is erg mannelijk. Er is weinig ruimte voor een ontdubbeling van verlangen en fantasie, het hele universum aan mogelijkheden en verwachtingen die ingelost (kunnen) worden. Er zijn geen personages die masturbatorische fantasieën ontwikkelen en ze vervolgens najagen in het echte leven. Er is daarom ook geen vóór en na aan de daad verbonden.\\nSeks was lang het middelpunt, hét grote geheim. Nu wordt dat geheim overal op het net schaamteloos geafficheerd. Het geheim is verklapt. We kunnen de daad nu alleen nog maar \"uitvoeren.\" En daar treedt het misbruik in. Het instrument dat men nodig heeft voor seks is immers de Ander.\\n',\n",
       "  'Kinderporno en pubertijd.\\nWanneer een meisje ontdekt dat ze het lichaam van een vrouw heeft (of kan hebben mits de nodige make-up en kledij), leert ze ook snel dat ze is zoals de vrouwen die daar op het scherm worden geneukt. Porno.\\n',\n",
       "  'Ik “like” al lachend vaak bijzonder choquerend nieuws, zoals dat over die canibaal bv, of die gay porn acteur die zijn vriendje in stukken sneed en opat. Maar het schokeffect heeft op zich weinig waarde voor mij, wel het feit dat het te gek is om het zelf te bedenken. Want ik heb nochtans wel veel fantasie…\\nIk las onlangs een artikel waarin het gemak van dat soort delen wordt geproblematiseerd. Het schuift een interessante hypothese naar voren, namelijk dat angst makkelijk wortel vat in sociale media. We beseffen het nauwelijks, omdat iedereen gelijk is op dat vlak, maar angst houdt ons in haar greep.\\nOmwille van de toename van nieuws lijkt de wereld waarin we leven onveiliger dan ooit. Naar mijn inschatting is het aantal gekken echter niet toegenomen. Het is alleen in onze perceptie toegenomen.\\nHet tegendeel lijkt uiteindelijk waarschijnlijker. Er is vooral meer middelmatigheid. De “dorpsgekken” zijn in the global village verhoudingsgewijs veel geringer. En dat is jammer vind ik. Onze verbeelding strandt in onze beeldcultuur, het wordt opgezuigd, geabsorbeerd door de beelden waarmee we omringd zijn.\\nOndertussen moet fictie realistischer worden, wil het nog verkopen. Er is nog maar één realiteit, één te bewandelen pad, en dat is het pad naar de top. We verlangen allemaal hetzelfde. De dikke auto’s, de meisjes van de boekskes… In plaats van te spreken over realiteit, zeggen we beter, er is nog maar één fictie over: het simulacrum. Het is een categoriënstelsel dat van de maatschappij tot ons eigenste wezen helemaal doordringt. Betekenis lijkt enkel nog vooraf te gaan aan de ervaring. Weg zijn de poëten, weg zijn de mensen die volgens hun eigen betekenissen durven leven. We zijn allemaal verlamd door angst, we worden onder streng toezicht gehouden door de norm. Mensen die uit het gelid springen zijn gek, gehandicapt, of ze “kunnen het niet aan”.\\n',\n",
       "  'Conditionering. - Wanneer ik seks heb, film ik het liefst, zodanig dat ik er de pornoversie van kan zien.\\n',\n",
       "  '“I don’t want you to look at me”\\n“Ik wil nu nog niet komen. Het is te leuk. Hmm haha”\\n“do you want me to cum? Do you want it?\\nIk wil oneindig veel keer klaarkomen\\nI like to see it when you cum. I like to see your face, I mean.\\n>hoe fantasie en seks samengaan (complementair met porno)\\n',\n",
       "  'Computergebruik werkt individualiserend. – Je legt een archief aan en onderhoudt het. Van muziek, film, porno, of godweet wat. Die collectie is persoonlijk. Het is een creatieve daad die zaken te vergaren.\\nAls je surft leg je een traject af waarin je op je stappen kan terugkeren. Je bladert zowaar in je persoonlijke geschiedenis terug. Ook dat is een maaksel waar je dan jezelf in herkent. Het vormt een uitbesteed stukje zelf, en daarmee een uitbreiding van jezelf als persoon.\\nVia sociale media kunnen we ook een tracé van tweets, likes en +1’s achterlaten voor anderen om te volgen. Ook daarmee kunnen we creatief zijn. We leggen een verzameling artikels, filmpjes en afbeeldingen aan, ons Twitter-, Facebook, of Google+-profiel. Daarbij doen we natuurlijk ook nog iets anders: we liken natuurlijk alleen hetgeen waarvoor we willen uitkomen dat we het liken. We liken geen porno of roddels of relatie-advies. We liken datgene wat bij ons past, waarmee ons willen afiliëren, de dingen waarvan we graag zeggen: kijk dan ben ik/zo ben ik.\\nHet gaat hier om totaal nieuwe individuatieprocessen. Men differentieert zich openlijk van anderen door zich te profileren. En intussen ontwikkelt men zichzelf, ontwikkelt men een zelfbeeld, een sociale standing, een plaatsje in de maatschappij.\\n',\n",
       "  'ik ben gefascineerd in hoeverre schoonheid van dingen en die van vrouwen (of van seksobjecten in het algemeen) uit elkaar liggen en in elkaar overvloeien. Vandaar mijn fascinatie voor het beeld te masturberen op een mooi landschap.\\n',\n",
       "  'Ik verlies teveel erotische energie, of libido, aan het “afvloeiende medium” porno.\\n',\n",
       "  'Verdriet van België heeft te weinig van hemzelf: het is een gecensureerde ik als ik-persoon. Coetzee gebruikt te veel persoonlijke gegevens, van een fictioneel ik-persoon, waarin zijn eigen persoon enkel als schrijver opgevoerd wordt, met een zelfzekere mensenkennis.\\nMijn boek wordt te gecensureerd. Ik ben bang om fictieve persoonlijke details in te voegen omdat het snel teveel wordt, maar ik moet meer mijn alter ego’s ontwikkelen. Ik verschans me liever achter een “schrijver-met-mensenkennis” dan dat ik autobiografisch schrijf maar mezelf daarbij censureer.\\n>dus: meer fallocentrisme, meer porno, meer genitaliën.\\n',\n",
       "  'Porno biedt een venster op de menselijke natuur. – Ik heb mij eerder al afgevraagd of mensen even goede orgasmes zouden hebben moesten ze niet dagelijks met verleidelijke beelden geconfronteerd worden. De laatste tijd vraag ik mij ook geregeld af of porno ons stemmingsbereik niet kunstmatig oprekt, als een extensie, een prothese, zoals andere media dat doen en daarmee ons socio-psychologische verhoudingen veranderen. Het seksuele was nooit biologisch (als een libidoneuze investering) maar was altijd al sterk geritualiseerd. Dat porno daar in die verborgen, geritualiseerde natuur weet in te tappen is daarom ergens verwonderlijk. Meer bepaald, de afvloeiende capaciteit ervan is verwonderlijk.\\n>Voor kortverhaal over de seksuoloog die zijn vakgebied verlaat om zich in het obscene te verdiepen.\\n>de dunne lijn tussen fictie en realiteit > ultiem een kortverhaal over de simulatie die de scheiding tussen droom en werkelijkheid heeft opgeheven.\\n>net als met het ander kortverhaal wil ik er een soort revelatie van maken dat zich helemaal achter het computerscherm heeft ontsponnen.\\n>over een reeks van existentiële inzichten: dat het huwelijk slechts schone schijn is, dat seks altijd in het middenpunt staat, ook bij haantjesgedrag, machtspelletjes,… Elk inzicht is als een wijdere concentrische cirkel, die telkens meer omvat van het dagelijks leven, van de verworvenheden van onze cultuur en beschaving,\\n>hij ziet de hele westerse beschaving als een luchtkasteel naar beneden komen\\n',\n",
       "  'Voor hoofstuk 2. – Hoe de hele Fer-ervaring uitkristaliseert in verschillende pornografische beelden. De grootte van haar borsten wordt via zijn tactiele ervaring omgezet naar een visuele, en dan gekeurd en vergeleken.\\n',\n",
       "  'Voor erotisch verhaal. – Koppels delen huisgemaakte porno over het internet. Steeds blijft het scherm binnen het gezichtsveld. Men is exhibitionistisch en voyeuristisch tegelijk, steeds verbonden met andere koppeltjes die hetzelfde doen. Het is de nieuwe groepsseks.\\n',\n",
       "  'S > M: over porno als opgerekt zintuiglijk apparaat. Net als in verhaaltradities worden effecten geïsoleerd en afzonderlijk gemaximaliseerd. Het is als de recente film “the avengers”: bijna elke vertolkte emotie was een cliché uit vorige verhalen.\\n',\n",
       "  'Overweging om een kort tekstje met het summum van romantiek op facebook te plaatsen (het zou tevens een goed tegengewicht zijn voor mijn taboedoorbrekende pornografische fascinaties).\\n-Vannacht had ik een droom. Ooit was ik heel verliefd. Ik droomde dat ik haar zou schrijven: …, en meer van dat soort onzin. En…\\n>lachen met mijn naïviteit, mijn kwetsbaarheid\\n>lachen met de dramatiek\\n>de liefde als een onwezenlijke voorstelling van de realiteit\\n>de liefde als ongeaprecieerd\\n',\n",
       "  'Gebroken hart. – Amateurporno waarbij het meisje al pijpend opkijkt in de lens met een smachtende blik die de frêle verliefdheid van het meisje toont. Eens zo kwetsbaar, maar nu genadeloos aan haar lot overgeleverd. De film werd losgelaten op een grillige, onvoorspelbare oceaan online. Ze is onsterfelijk gemaakt, als een boodschap in een fles, weerloos, richtingloos, verloren. Voor eeuwig van haar onschuld beroofd.\\n',\n",
       "  'Anti-porno-argument. - Het sterkste argument dat ik feministen hebben horen geven anti-porno is dat het een mannelijk perspectief op seks oververtegenwoordigt. De hele ervaringshorizon van de mannelijke en vrouwelijke seksuele beleving wordt gereduceerd tot de audiovisuele opvoering van een liefdeloze, betekenisloze handeling.\\nPorno lijkt zo reëel, maar er zit bitter weinig waarheid in. Het is slechts een perspectief, uitvergroot door de marktwerking: vraag en aanbod heeft ervoor gezorgd dat de porno wordt aangeboden die door mannen wordt verlangd.\\nDe pornoactrice is daarom geen vrouw meer, ze is een figurant in een geënscèneerde mannelijke fantasie, ontdaan van haar menselijkheid. De mannelijke verbeelding wordt in scène gezet, uitgebeeld en gecommercialiseerd, en ze dringt zich op als een nieuwe norm voor seks en de manieren waarop we onze hoogstpersoonlijke seksualiteit kunnen beleven. Maar de seksuele belevingswereld speelt zich af zowel zintuigelijk als in de verbeelding.\\nSeks was lang het middelpunt, hét grote geheim. Nu wordt dat geheim overal op het net schaamteloos geafficheerd. Erotische toekomstperspectieven maken zich los van masturbatorische fantasieën. En je kan je afvragen of het al dan niet een geruststelling is, te weten dat mensen niet over jou meer fantaseren.\\nWe kunnen de daad nu alleen nog uitvoeren. De opvoering van seks is het doel, met als middel de Ander.\\n',\n",
       "  'Beter dan porno. – Het is gek hoe de pornografische obsceniteit een eigen, onderbewuste orde installeert in de seksuele huishouding. Elk denken erover wordt geweerd en oordelen worden verdrongen, maar er ontstaat niettemin een ordening, waarna het haast onmogelijk wordt om nieuwe bronnen van intensiteit naar waarde en effect te schatten.\\n',\n",
       "  '(153) De antibordelisering van de wereld. - We keuren het af als iets niet opgeruimd is, we willen orde aanbrengen, we willen de rommel verbannen, maar tegelijk is er in het leven altijd een zekere graad van rommel. Het opruimen, het aanbrengen van orde is altijd maar oppervlakkig. We vluchten als het ware in de transcendentie, en zien enkel nog die orde. We denken na in netjes uitgewerkte systemen en masturberen, zonder te beseffen dat dat masturberen, de drang die ertoe leidt, maar ook de consequenties die eruit voortvloeien, buiten die ordening liggen.\\nIkzelf ben iemand die rommel nooit kan uitstaan, maar in de praktijk mijn eigen rommel altijd behoorlijk goed verdraagd. Ik bijt me vast in de orde die ik heb en verban wat er niet in past tot de achtergrond, of hoogstens tot een bijrol. – Het gaat wellicht om controle.\\nVanuit die rommel, waar ik me altijd in bevind, kijk ik dan, net als eender wie, in die horizon, in die horizon van idealen, die altijd oneindig veel verder ligt als mijn concrete positie. Die horizon is mijn gewenste concrete positie, als een product van mijn natuurlijke dispositie (mijn driften en neiging) en de orde waarmee ik mij omgeef.\\nMaar het is zo dat het bewustzijn toeneemt. Alles wat we doen wordt ontspiegeld in een transcendente ruimte en we ruilen die in voor de echte, beleefde wereld. Het probleem is nu dat die ruimte is ingericht met een soort meubilair dat de ruimte indeelt, en de ruimte vormgeeft. Het zijn onze noties van kennis, waarheid, liefde enz.\\n',\n",
       "  'Blog:\\nthought in progress\\ngedachten in rijping\\nsamen-rijpsels (ondertitel: waar een gedachtegoed rijpt)\\nmaturisatiekabine/maturisatoria (met fotootje masturbatoria)\\n',\n",
       "  'Voor blog: fragment van de blog van Kate (argentinië) over masturbatie. http://yesthereissuchathingasastupidquestion.com/2012/12/28/how-do-you-start-masturbating/\\n',\n",
       "  'Bij verschillende diersoorten wordt er enkel gepaard als niemand toekijkt. Het gaat weliswaar om rituelen bij de mens. Maar als seks privaat is, is het ook begrijpelijk dat porno taboe is.\\n',\n",
       "  'Erotisch kortverhaal. Over een affirmatieve, zichzelf kiezende moslima. Perspectief: rationele, atheïstische toeschouwer als ik-persoon. Moraal: zij is het minst dogmatisch. Neutraliteit is arbitrair.\\nIk hoorde het naast mij. Gekreun, gemompel, en dan weer gekreun. Slechts door een dunne wand gescheiden.\\nHet meisje was nieuw. Haar keunen klonken klaarder, minder gedempt dan die van het vorige.\\nmijn flatgenoot was een player. Hij was beter dan mij, sterker, charmanter, enz. Ik ben meer het introverte type dat leest en schrijft.\\n>eerste ontmoeting: de hoofddoek. Ze was 5 jaar ouder dan hem. 28 en had een kind. Meteen een klik. Een gesprek.\\n>tweede scène: hij fantaseert. Ze betrapt hem masturberend.\\n“Masturbatie brengt bij mensen die verliefd zijn een mystieke eenwording met god en het universum teweeg.” > ze is spiritueel: hij waardeert dat heel erg. Veel meer dan zijn flatgenoot. “Je mag ‘god’ ook weglaten.”\\n>de dialogen: ze komt steeds vaker na de seks met hem praten: over slecht geloof en slechte wetenschap. >objectief, kritisch, redelijk ed. komt over als onpersoonlijk, ontpersoonlijkt, en kwetsend, vooringenomen, arrogant. Anderzijds neemt ze de Koran zeer figuurlijk. “Letterlijk” is zelf maar woord.\\n>ze gebruikt de symbolen om haar seksualiteit ten volle te beleven. Ze gelooft in geloof, in de werking, in de gemeenschapszin, de cultuur en de moraliteit die het teweegbrengt.\\nConclusie: ze verloochent geen van haar instincten en affirmeert het leven al zijn veelkleurige facetten. >Het komt erop aan zélf de lijn te trekken tussen schijn en zijn. Geen hypocrisie, geen leugens.\\n“Het is MIJN god, het zijn MIJN symbolen. Het is MIJN empirische realiteit, het is MIJN geloof.”\\n',\n",
       "  'I have a question! If (i would ask you that if) you were a producer of porn movies, (what would you answer about) what would interest you the most to film?\\n',\n",
       "  'In praise of masturbation. – I was thinking about what I said earlier about being sinful and less perfect than you might imagine. But I like to think that, for people who are intimately connected, masturbation brings about a mystical unification with God and the universe. Wether you believe in God or not is irrelevant. Knowing that we are one in our wanting, knowing that you grant me these pleasures, is like a blessing that lifts me up and elevates me to a higher state of consciousness. I feel connected, not only to you as a person, but also with the rest of the world, for I never wanted anything so much as I want you. Masturbation calls a lover closer. And it goes even further. Much further. It feels as if our love spills over into the natural world, and during the masturbation everything is weaved together in a endless poetic murmering. Our most intense moments passing before my mind’s eye as a hypnotic parade. Gaze upon gaze, stroke upon stroke, a wink, a grin, the smallest details come forth and keep me mesmerized while a tidal flow sets up inside my body. My lubed hand stroking gently, my free hand caressing the solid stem and root and the reservoir where the tidal flow actually packs up before erupting. And I feel and see the images before my eyes. A smell adds to a gesture recollected. I feel your hands running down my body. I wish I still remembered your taste. The taste of your lips seems fleeting, I grasp but in vain. As I lick my own lips I circle around a mental image of a lick and another of the full frontal sigh you gave me when I tickled you. A new figure emerges as I find it gratifying in my recollection. It’s not nearly anything real, but it is all I love about you distilled into one cogent image. And I play with it in my mind as it transforms into yet another image. This time a far more sensuous one, as my stroking reaches momentum and the tide sets up. Your eyes glazy, your mouth opened, panting. Your face says: “You’re so hard.” Nothing is spared, I’m giving it all I’ve got. No mercy. Everything goes into you. My head spins, my hand strokes up and down. Now and again, consciousness reaches a point where I see what is in front of my eyes. The head is red and slippery. It reminds me of your warm soft lips and how they suckled it. Your smile again. Your dirty wanting. You want to give it all you’ve got, you wanting it makes me reel. I don’t know if it’s me or you. I spill over, we spill over. I feel everything is part of a greater divine belonging. Our house is love and acceptance and giving all we’ve got. The floodgates are open.\\n',\n",
       "  'Bij mensen die verliefd zijn brengt masturbatie een mystieke eenwording met god en het universum teweeg. Meer nog dan seks. – Bovendien moet de ander niet eens op de hoogte zijn van de masturbatorische fantasieën van de één.\\n',\n",
       "  'Meer fictionele elementen toevoegen. – Een ontmoeting. Nu. Wat als…? Uitgaand van een masturbatorische fantasie. Iets bij het lezen/schrijven. Iets in de vrije natuur (een hut op een berg), iets als kind, iets met een voyeur, iets dronken,… Iets interactief, als een gedeeld verhaal. (Welke persoonsvorm, welke setting? Rollenspel: half voyeur, half wijzelf. Porno- of andere acteurs.) Sterke metaforen zoals “getijdenwerking”, “onderdompeling”, “innerlijk landschap”, “beelden en herinneringen die door elkaar geweven worden”, “de moeilijkheden bij het herinneren”, “de roes en het exctatisch bewustzijn”, … “de kruisbestuiving tussen fantasie en werkelijkheid: de droom die werkelijkheid wordt en werkelijkheid droom”, “het verlangen dat zich vastzet op haar lichaam en met haar in kaart wordt gebracht”.\\n',\n",
       "  'Een ontmoeting. Nu. Wat als…? Uitgaand van een masturbatorische fantasie. Iets bij het lezen/schrijven. Iets in de vrije natuur (een hut op een berg), iets als kind, iets met een voyeur, iets dronken,… Iets interactief, als een gedeeld verhaal. (Welke persoonsvorm, welke setting? Rollenspel: half voyeur, half wijzelf. Porno- of andere acteurs.) Sterke metaforen zoals “getijdenwerking”, “onderdompeling”, “innerlijk landschap”, “beelden en herinneringen die door elkaar geweven worden”, “de moeilijkheden bij het herinneren”, “de roes en het exctatisch bewustzijn”, … “de kruisbestuiving tussen fantasie en werkelijkheid: de droom die werkelijkheid wordt en werkelijkheid droom”, “het verlangen dat zich vastzet op haar lichaam en met haar in kaart wordt gebracht”.\\n',\n",
       "  'Beter: meer zeldzame woorden (voor onbelangrijke vergelijkingen, voor emotionele en affectieve oordelen), en meer persoonlijke voorbeelden.\\nWat doen we dan effectief goed of fout op FB?\\nIk hou me soms uren op met de foto’s van exen, of al die gemiste kansen in verafgeleden landen, mogelijkheden die tot hele nieuwe wegen hadden kunnen leiden. Of soms maak ik me druk om de zelfgenoegzaamheid en het narcisme van sommigen die met hun geluk dwepen, alsof de hele wereld ten dienste staat voor hun geluk. Ook dat is me niet nuttig. Wat het wel de moeite waard maakt zijn de vele knappe observaties, van maatschappelijke trends, waarin originele zienswijzen aangereikt worden en ongeziene standpunten weergegeven worden – ik denk aan de vele niches: feministische kritieken op porno, bescheiden maar eerlijke verdedigingen voor polyamorie, radicaal subversieve uitspraken over politieke ideologie, kritieken op het vooruitgangsgeloof (de opmars van de Artificiële Intelligentie, de Singularity-hypothese enz.), en dan de vele consumentenbewustzijnsverhogende artikels en blogs enz. die het belang aangeven van een vegetarisch, fair trade, biologisch, ecologisch dieet, het abolutionisme, het andersglobalisme, en verder al de blogs en persoonlijke vertelsels van unieke belevenissen waaruit te leren valt en die het leven verrijken en de dag een tintje kleur bij geven. En natuurlijk al de zinvolle reflecties over FB zelf.\\nGoed nieuws voor alle facebookverslaafden: uw verslaving is een sociale constructie! - die er stiekem op uit is de norm te bestendigen.\\nEn misschien is al dat opbiechten online op zich ook gewoon een originele manier om aandacht te vragen – één die teruggrijpt naar conservatieve waarden dan wel.\\n',\n",
       "  'Ik ben toch altijd geneigd om goeie, aantrekkelijke porno bepaalde, zeldzame eigenschappen toe te dichten, een ritmiek, een sensualiteit, een erotisch potentieel...\\n',\n",
       "  'Bij iedere zaadlozing gaan 300 miljoen spermatozoa verloren. Elke keer als een man masturbeert doodt hij het equivalent van de hele bevolking van de vs.\\n',\n",
       "  'In een artikel over een foto genomen in 1865 wordt in knappe bewoording geschetst hoe de fotografische techniek een nieuw zelfbewustzijn genereerde. Voortbouwend op werk van Barthes (met het ostentatieve studium en het kijker-afhankelijke punctum), wordt de houding geanalyseerd die men tegenover de camera’s blik aannam. Ze waren zich al te bewust van de lens, het reduceerde hen tot objecten, en ze hadden de voorwaarden nog niet weten te bedingen waarmee ze hun status als een subject met zijn eigen vrijheid veilig konden stellen. Kortom, ze waren nog niet op hun gemak met het spelen van zichzelf voor de camera, met de van zichzelf gedistancieerde air die zo’n performance vereist.\\nPowell, een ter dood veroordeelde, kon de blik van de camera niet vermijden, hij kon ertegen enkel een bedachtzame onverschilligheid uitoefenen. Eerst schudde hij snel heen en weer met zijn hoofd, waardoor de foto mislukte. Dan werd hij bedreigd. De enige overblijvende manier om de blik van de camera te weren, was doen alsof er geen blik was. Om zich van de objectiverende kracht van de camera af te schermen, moest hij zichzelf spelen voor de camera. Gewoon zichzelf zijn, was onmogelijk; het observer effect gecreeërd door de aanwezigheid van de camera verhoogt het zelfbesef zodanig dat het niet langer mogelijk is gewoon zichzelf te zijn. Zichzelf zijn veronderstelt zichzelf vergeten. De camera laat ons niet onszelf zijn. Net als alle technologieën van zelfdocumentatie, verhoogt hij ons zelfbewustzijn. Dus opdat hij onverschillig tegenover de camera kon lijken, moest Powell de rol spelen van Powell zoals hij zou verschijnen wanneer er geen camera aanwezig zou zijn.\\nPowell was een pioneer van subjectiviteit. Vóór hem, staarden veel van zijn tijdsgenoten doelloos, de aanblik gevend van een totaal vaccuüm, ofwel speelden ze een rol – de rol van de moedige soldaat, de staatsman, de geliefde nez. Powell vond een andere manier. Hij speelde zichzelf.\\nHij internaliseerde de objectificatie van het zelf dat door de externe aanwezigheid van de camera wordt opgedrongen.\\nHet artikel ziet er een parabel in voor de menselijke subjectiviteit in het tijdperk van alomtegenwoordige documentatie. We hebben geleerd onszelf te spelen, aldus de auteur, en niet alleen voor de camera, de camera is nu irrelevant geworden. http://thefrailestthing.com/2013/10/12/the-would-be-assassin-and-the-camera/#comments\\nJurgenson nuanceert dat: De fotografische performativiteit is een verdubbelde performance: een zelf dat een zelf opvoert als onverschillig. Bij de uitvinding van fotografie leerden mensen poseren in plaats van gewoon zichzelf zijn, en naarmate documentatie alomtegenwoordig werd, werden poseren en niet-poseren dooreen gehaald en nu lijken we altijd als in beeld ook wanneer we dat niet zijn.\\nOok gaat hij niet akkoord met de stelling dat het om een nieuwe subjectiviteit gaat. Fotografische en sociale media betekenen een intensivering van een bestaande trend, een intensivering van onze relatie met onszelf, in contrast met al wat behoort tot de anderen, tot ons niet-zelf.\\nhttp://thesocietypages.org/cyborgology/2013/10/21/self-out-of-time/\\nDe relatie tot maatschappelijk erkende rollen en meerbepaald iconen lijkt mij onmiskenbaar. Er wordt bijvoorbeeld een heel andere subjectiviteit uitgedrukt in Russische amateurporno.\\nAmerikanen leken mij ook altijd al over een andere subjectiviteit te beschikken dan Europeanen. Dat heeft volgens mij te maken met bereikbaarheid van iconen, de status die eraan toebedeeld wordt, de relatie die ze ermee onderhouden, de identificatie. Russische vrouwen kunnen zich de privileges niet voorstellen hoe het zou zijn om zo dicht bij de sterren te verwijlen. Hun naaktheid is koud, onbehaaglijk, het is de naaktheid van in de spiegel; terwijl Amerikaanse vrouwen zich in hun idolatrie identificeren met de naaktheid van Beyoncé en zovele andere vrouwelijke rolmodellen.\\nDe wisselende configuraties die Kierkegaards Johannes voor zich uit droomt, komen vandaag terug bij klaar daglicht, als configuraties van bestaande sexy beelden. Het is ongetwijfeld een heen en weer-bewegen, tussen abstractie en realiteit, tussen ideaalbeeld en zij hier voor mij. Dat ideaalbeeld wordt onophoudelijk bijgewerkt, wanneer ik rondloop in de stad, zowel het bekijken van de televisie. Het ideaal wordt voortdurend ook omgekeerd en uitgeledigd, wanneer een ideaal als cliché verschijnt, wanneer de beweging generisch voorkomen. Het ideaal en de norm staan in een constante spanning.\\n',\n",
       "  'Zeggen dat CS een datingsite is, is als zeggen dat Google een zoekrobot voor porno is.\\n',\n",
       "  'Ik vraag mij af of men in de toekomst op dezelfde manier naar kunstenaars zal verwijzen als naar Baudelaire en Van Ostaijen. Zal men zoals van Baudelaire’s opiumgebruik en Van Ostaijens cocaïnegebruik ook van een pornoverslaving gewag maken?\\n',\n",
       "  'In clubs bereikt men een graad aan nieuwigheid vergelijkbaar met porno. Ik ben verslaafd aan de prikkels, de eindeloze variatie, al de potentiele vriendinnen, al de seks. Iedereen is even bereikbaar, maar niemand is ideaal. De zoektocht blijft eindeloos verdergaan.\\n',\n",
       "  'Gelaagdheid van blogs: kort en leesbaar - als analytisch voelende, grensoverschrijdende voeler. \"Vandaag zag ik op de trein een meisje huilen, een bijzonder mooi meisje, wier aanblik me vervulde met deemoed en ontroering. Ze was aan het SMS\\'sen, ik stelde mee voor dat ze het afgelopen weekend een jongen had ontmoet. Ze had een uitdagend rood kleedje aan, ze was wellicht goedgehumeurd opgestaan met de herinnering nog levendig in haar geheugen van een spetterende nacht met onvergetelijke seks. Ze was er in meegegaan, ze had zich laten verleiden, tot een droom, tot een toekomstvisioen. Ik zag het allemaal zo voor me afwikkelen, en hier, op de trein, haar tragische besluit krijgen. Des te meer leefde ik mee met haar leed.\"\\n- > korter en dan over universele liefde en de grenzen van de verbeelding. (Misschien ook titel? DE GRENZEN VAN DE VERBEELDING - iets progressief: taboes doorbreken, heilige huisjes omstoten, over porno, vrije liefde, gepraat, post-nihilisme, existentialisme)\\n',\n",
       "  'Eerste twee iets langere blogs:\\n1. over de autoriteit van de schrijver, ofte wel, de nederigheid die erbij nodig is. En Claude Levi-strauss, Jared Diamond en McLuhan. - 600 woorden\\n2. Over liefde als transcendentie. Over wil. - Vertaling van het stukje cirkels van moraliteit. - 600 woorden\\nDan: Over vriendschap. Over Papoea nieuw Guinea en de tijdsgeest. 1000 woorden. Over in Europa en de welvaartsstaat. 600. Over eenzaamheid. Over porno, hedonisme en feminisme. Over liberalisme en rawls. Over transhumanisme, pillen, ai, singulariteit en economie. Over literatuur. Over de liefde voor de natuur. Over de zoektocht naar de waarheid. Over de manier van denken online, al klikkend doorheen een netwerk van associaties. Stukje \"ik denk met jou\". Over hoe de vragen over mijn boek en de vergelijkingen met \"andere schrijvers\" en het schrijnende onbegrip dat mee te beurt viel in het algemeen, mij onderuit gehaald hebben (ijdel en trots als ik nochtans ben, ik ben niet onoverwinnelijk gebleken). Enz.\\nMetafysische contemplaties.\\n',\n",
       "  '(21 okt)\\nporno is te bewonderen als het summum van wat het kapitalisme kan voortbrengen\\n',\n",
       "  'Kwaliteit is bij porno belangrijker dan bij elk ander product. Dat komt omdat het helemaal om een beleving draait. Het zouden kwalitatief gezien de beste producten kunnen zijn, maar toch wordt de markt overspoeld door slechte kwaliteit. Wat is er fout met het kapitalisme, zou je kunnen vragen? Is taboe en dus de norm zo belangrijk voor het systeem om goed te gedijen?\\n',\n",
       "  'Ik denk dat sommige porno-actrices eerst eens echt liefgehad moeten hebben om goed hun werk te kunnen doen.\\n',\n",
       "  'moest Schiller vandaag leven, zou zijn morele opvoeding door cultuur porno ook omvatten? Of waar zou ze ophouden?\\n'])"
      ]
     },
     "execution_count": 227,
     "metadata": {},
     "output_type": "execute_result"
    }
   ],
   "source": [
    "dirty = df_pickle_clean[df_pickle_clean['mask'] == False]['texts'].tolist()\n",
    "dirty"
   ]
  },
  {
   "cell_type": "markdown",
   "metadata": {},
   "source": [
    "## with re"
   ]
  },
  {
   "cell_type": "code",
   "execution_count": 1,
   "metadata": {},
   "outputs": [
    {
     "ename": "NameError",
     "evalue": "name 'df_pickle_' is not defined",
     "output_type": "error",
     "traceback": [
      "\u001b[1;31m---------------------------------------------------------------------------\u001b[0m",
      "\u001b[1;31mNameError\u001b[0m                                 Traceback (most recent call last)",
      "\u001b[1;32mc:\\Users\\johan\\Documents\\GitHub\\notebooks\\NLP\\NLP for Word file\\7. filter for public access.ipynb Cell 25\u001b[0m line \u001b[0;36m5\n\u001b[0;32m      <a href='vscode-notebook-cell:/c%3A/Users/johan/Documents/GitHub/notebooks/NLP/NLP%20for%20Word%20file/7.%20filter%20for%20public%20access.ipynb#X33sZmlsZQ%3D%3D?line=1'>2</a>\u001b[0m count_mast \u001b[39m=\u001b[39m \u001b[39m0\u001b[39m\n\u001b[0;32m      <a href='vscode-notebook-cell:/c%3A/Users/johan/Documents/GitHub/notebooks/NLP/NLP%20for%20Word%20file/7.%20filter%20for%20public%20access.ipynb#X33sZmlsZQ%3D%3D?line=2'>3</a>\u001b[0m count_sex \u001b[39m=\u001b[39m \u001b[39m0\u001b[39m\n\u001b[1;32m----> <a href='vscode-notebook-cell:/c%3A/Users/johan/Documents/GitHub/notebooks/NLP/NLP%20for%20Word%20file/7.%20filter%20for%20public%20access.ipynb#X33sZmlsZQ%3D%3D?line=4'>5</a>\u001b[0m \u001b[39mfor\u001b[39;00m doc \u001b[39min\u001b[39;00m df_pickle_\u001b[39m.\u001b[39mtexts\u001b[39m.\u001b[39mtolist():\n\u001b[0;32m      <a href='vscode-notebook-cell:/c%3A/Users/johan/Documents/GitHub/notebooks/NLP/NLP%20for%20Word%20file/7.%20filter%20for%20public%20access.ipynb#X33sZmlsZQ%3D%3D?line=5'>6</a>\u001b[0m     \u001b[39mif\u001b[39;00m \u001b[39m'\u001b[39m\u001b[39msex \u001b[39m\u001b[39m'\u001b[39m \u001b[39min\u001b[39;00m doc \u001b[39mor\u001b[39;00m \u001b[39m'\u001b[39m\u001b[39mseks \u001b[39m\u001b[39m'\u001b[39m \u001b[39min\u001b[39;00m doc:\n\u001b[0;32m      <a href='vscode-notebook-cell:/c%3A/Users/johan/Documents/GitHub/notebooks/NLP/NLP%20for%20Word%20file/7.%20filter%20for%20public%20access.ipynb#X33sZmlsZQ%3D%3D?line=6'>7</a>\u001b[0m         count_sex \u001b[39m+\u001b[39m\u001b[39m=\u001b[39m \u001b[39m1\u001b[39m\n",
      "\u001b[1;31mNameError\u001b[0m: name 'df_pickle_' is not defined"
     ]
    }
   ],
   "source": [
    "count_porn = 0\n",
    "count_mast = 0\n",
    "count_sex = 0\n",
    "\n",
    "for doc in df_pickle_.texts.tolist():\n",
    "    if 'sex ' in doc or 'seks ' in doc:\n",
    "        count_sex += 1\n",
    "    if 'drugs' in doc:\n",
    "        print(doc)\n",
    "        count_porn += 1\n",
    "    if \"masturb\" in doc:\n",
    "        count_mast += 1\n",
    "                \n",
    "print(count_sex, count_porn, count_mast)"
   ]
  },
  {
   "cell_type": "code",
   "execution_count": 18,
   "metadata": {},
   "outputs": [],
   "source": [
    "def sex_to_love(text):\n",
    "    dirty_list = re.findall(r'porn', text) + re.findall(r'masturb', text)\n",
    "    if dirty_list:\n",
    "        return False\n",
    "    else: return True\n",
    "\n",
    "df_pickle_clean['mask'] = df_pickle_clean['texts'].apply(sex_to_love)"
   ]
  },
  {
   "cell_type": "code",
   "execution_count": 89,
   "metadata": {},
   "outputs": [],
   "source": [
    "def colruyt(text):\n",
    "    dirty_list = re.findall(r'assessment', text)\n",
    "    if dirty_list:\n",
    "        return False\n",
    "    else: return True\n",
    "\n",
    "df_pickle_['mask'] = df_pickle_['texts'].apply(colruyt)"
   ]
  },
  {
   "cell_type": "code",
   "execution_count": 91,
   "metadata": {},
   "outputs": [],
   "source": [
    "df_pickle_['mask'] = True"
   ]
  },
  {
   "cell_type": "code",
   "execution_count": 92,
   "metadata": {},
   "outputs": [
    {
     "data": {
      "text/plain": [
       "[]"
      ]
     },
     "execution_count": 92,
     "metadata": {},
     "output_type": "execute_result"
    }
   ],
   "source": [
    "df_pickle_[df_pickle_['mask'] == False].texts.to_list()"
   ]
  },
  {
   "cell_type": "code",
   "execution_count": 21,
   "metadata": {},
   "outputs": [],
   "source": [
    "df_pickle_clean = df_pickle_clean.loc[df_pickle_clean['mask']]"
   ]
  },
  {
   "cell_type": "code",
   "execution_count": 22,
   "metadata": {},
   "outputs": [],
   "source": [
    "def sex_to_love(text):\n",
    "    new = re.sub(r'sex ', 'passion ', text)\n",
    "    new = re.sub(r'seks ', 'lijfelijke geneugten ', new)\n",
    "    return new\n",
    "\n",
    "df_pickle_clean['texts'] = df_pickle_clean['texts'].apply(sex_to_love)"
   ]
  },
  {
   "cell_type": "markdown",
   "metadata": {},
   "source": [
    "## remove references to people i know"
   ]
  },
  {
   "cell_type": "markdown",
   "metadata": {},
   "source": [
    "https://spacy.io/usage/linguistic-features for more on spacy"
   ]
  },
  {
   "cell_type": "code",
   "execution_count": 118,
   "metadata": {},
   "outputs": [
    {
     "name": "stdout",
     "output_type": "stream",
     "text": [
      "Rosy\n",
      "PERSON\n",
      "PERSON\n"
     ]
    }
   ],
   "source": [
    "# the two ways to find a person\n",
    "dirt = nlp(\"Rosy\")\n",
    "print(dirt[0].text) \n",
    "print(dirt.ents[0].label_) # doc level (first ent in the ents)\n",
    "print(dirt[0].ent_type_) # token level (first token in the doc)"
   ]
  },
  {
   "cell_type": "code",
   "execution_count": 23,
   "metadata": {},
   "outputs": [
    {
     "ename": "NameError",
     "evalue": "name 'nlp' is not defined",
     "output_type": "error",
     "traceback": [
      "\u001b[1;31m---------------------------------------------------------------------------\u001b[0m",
      "\u001b[1;31mNameError\u001b[0m                                 Traceback (most recent call last)",
      "\u001b[1;32mc:\\Users\\johan\\Documents\\GitHub\\sandbox\\NLP\\NLP for grote word file\\7. filter for public access.ipynb Cell 30\u001b[0m line \u001b[0;36m7\n\u001b[0;32m      <a href='vscode-notebook-cell:/c%3A/Users/johan/Documents/GitHub/sandbox/NLP/NLP%20for%20grote%20word%20file/7.%20filter%20for%20public%20access.ipynb#X40sZmlsZQ%3D%3D?line=3'>4</a>\u001b[0m     \u001b[39mif\u001b[39;00m ents:\n\u001b[0;32m      <a href='vscode-notebook-cell:/c%3A/Users/johan/Documents/GitHub/sandbox/NLP/NLP%20for%20grote%20word%20file/7.%20filter%20for%20public%20access.ipynb#X40sZmlsZQ%3D%3D?line=4'>5</a>\u001b[0m         \u001b[39mreturn\u001b[39;00m ents    \n\u001b[1;32m----> <a href='vscode-notebook-cell:/c%3A/Users/johan/Documents/GitHub/sandbox/NLP/NLP%20for%20grote%20word%20file/7.%20filter%20for%20public%20access.ipynb#X40sZmlsZQ%3D%3D?line=6'>7</a>\u001b[0m df_pickle_clean[\u001b[39m'\u001b[39;49m\u001b[39mtexts\u001b[39;49m\u001b[39m'\u001b[39;49m]\u001b[39m.\u001b[39;49mapply(person_filter)\n",
      "File \u001b[1;32mc:\\ProgramData\\miniconda3\\envs\\johannes\\lib\\site-packages\\pandas\\core\\series.py:4630\u001b[0m, in \u001b[0;36mSeries.apply\u001b[1;34m(self, func, convert_dtype, args, **kwargs)\u001b[0m\n\u001b[0;32m   4520\u001b[0m \u001b[39mdef\u001b[39;00m \u001b[39mapply\u001b[39m(\n\u001b[0;32m   4521\u001b[0m     \u001b[39mself\u001b[39m,\n\u001b[0;32m   4522\u001b[0m     func: AggFuncType,\n\u001b[1;32m   (...)\u001b[0m\n\u001b[0;32m   4525\u001b[0m     \u001b[39m*\u001b[39m\u001b[39m*\u001b[39mkwargs,\n\u001b[0;32m   4526\u001b[0m ) \u001b[39m-\u001b[39m\u001b[39m>\u001b[39m DataFrame \u001b[39m|\u001b[39m Series:\n\u001b[0;32m   4527\u001b[0m \u001b[39m    \u001b[39m\u001b[39m\"\"\"\u001b[39;00m\n\u001b[0;32m   4528\u001b[0m \u001b[39m    Invoke function on values of Series.\u001b[39;00m\n\u001b[0;32m   4529\u001b[0m \n\u001b[1;32m   (...)\u001b[0m\n\u001b[0;32m   4628\u001b[0m \u001b[39m    dtype: float64\u001b[39;00m\n\u001b[0;32m   4629\u001b[0m \u001b[39m    \"\"\"\u001b[39;00m\n\u001b[1;32m-> 4630\u001b[0m     \u001b[39mreturn\u001b[39;00m SeriesApply(\u001b[39mself\u001b[39;49m, func, convert_dtype, args, kwargs)\u001b[39m.\u001b[39;49mapply()\n",
      "File \u001b[1;32mc:\\ProgramData\\miniconda3\\envs\\johannes\\lib\\site-packages\\pandas\\core\\apply.py:1025\u001b[0m, in \u001b[0;36mSeriesApply.apply\u001b[1;34m(self)\u001b[0m\n\u001b[0;32m   1022\u001b[0m     \u001b[39mreturn\u001b[39;00m \u001b[39mself\u001b[39m\u001b[39m.\u001b[39mapply_str()\n\u001b[0;32m   1024\u001b[0m \u001b[39m# self.f is Callable\u001b[39;00m\n\u001b[1;32m-> 1025\u001b[0m \u001b[39mreturn\u001b[39;00m \u001b[39mself\u001b[39;49m\u001b[39m.\u001b[39;49mapply_standard()\n",
      "File \u001b[1;32mc:\\ProgramData\\miniconda3\\envs\\johannes\\lib\\site-packages\\pandas\\core\\apply.py:1076\u001b[0m, in \u001b[0;36mSeriesApply.apply_standard\u001b[1;34m(self)\u001b[0m\n\u001b[0;32m   1074\u001b[0m     \u001b[39melse\u001b[39;00m:\n\u001b[0;32m   1075\u001b[0m         values \u001b[39m=\u001b[39m obj\u001b[39m.\u001b[39mastype(\u001b[39mobject\u001b[39m)\u001b[39m.\u001b[39m_values\n\u001b[1;32m-> 1076\u001b[0m         mapped \u001b[39m=\u001b[39m lib\u001b[39m.\u001b[39;49mmap_infer(\n\u001b[0;32m   1077\u001b[0m             values,\n\u001b[0;32m   1078\u001b[0m             f,\n\u001b[0;32m   1079\u001b[0m             convert\u001b[39m=\u001b[39;49m\u001b[39mself\u001b[39;49m\u001b[39m.\u001b[39;49mconvert_dtype,\n\u001b[0;32m   1080\u001b[0m         )\n\u001b[0;32m   1082\u001b[0m \u001b[39mif\u001b[39;00m \u001b[39mlen\u001b[39m(mapped) \u001b[39mand\u001b[39;00m \u001b[39misinstance\u001b[39m(mapped[\u001b[39m0\u001b[39m], ABCSeries):\n\u001b[0;32m   1083\u001b[0m     \u001b[39m# GH#43986 Need to do list(mapped) in order to get treated as nested\u001b[39;00m\n\u001b[0;32m   1084\u001b[0m     \u001b[39m#  See also GH#25959 regarding EA support\u001b[39;00m\n\u001b[0;32m   1085\u001b[0m     \u001b[39mreturn\u001b[39;00m obj\u001b[39m.\u001b[39m_constructor_expanddim(\u001b[39mlist\u001b[39m(mapped), index\u001b[39m=\u001b[39mobj\u001b[39m.\u001b[39mindex)\n",
      "File \u001b[1;32mc:\\ProgramData\\miniconda3\\envs\\johannes\\lib\\site-packages\\pandas\\_libs\\lib.pyx:2834\u001b[0m, in \u001b[0;36mpandas._libs.lib.map_infer\u001b[1;34m()\u001b[0m\n",
      "\u001b[1;32mc:\\Users\\johan\\Documents\\GitHub\\sandbox\\NLP\\NLP for grote word file\\7. filter for public access.ipynb Cell 30\u001b[0m line \u001b[0;36m2\n\u001b[0;32m      <a href='vscode-notebook-cell:/c%3A/Users/johan/Documents/GitHub/sandbox/NLP/NLP%20for%20grote%20word%20file/7.%20filter%20for%20public%20access.ipynb#X40sZmlsZQ%3D%3D?line=0'>1</a>\u001b[0m \u001b[39mdef\u001b[39;00m \u001b[39mperson_filter\u001b[39m(doc):\n\u001b[1;32m----> <a href='vscode-notebook-cell:/c%3A/Users/johan/Documents/GitHub/sandbox/NLP/NLP%20for%20grote%20word%20file/7.%20filter%20for%20public%20access.ipynb#X40sZmlsZQ%3D%3D?line=1'>2</a>\u001b[0m     spacy_doc \u001b[39m=\u001b[39m nlp(doc)\n\u001b[0;32m      <a href='vscode-notebook-cell:/c%3A/Users/johan/Documents/GitHub/sandbox/NLP/NLP%20for%20grote%20word%20file/7.%20filter%20for%20public%20access.ipynb#X40sZmlsZQ%3D%3D?line=2'>3</a>\u001b[0m     ents \u001b[39m=\u001b[39m [e\u001b[39m.\u001b[39mtext \u001b[39mfor\u001b[39;00m e \u001b[39min\u001b[39;00m spacy_doc\u001b[39m.\u001b[39ments \u001b[39mif\u001b[39;00m e\u001b[39m.\u001b[39mlabel_ \u001b[39m==\u001b[39m \u001b[39m'\u001b[39m\u001b[39mPERSON\u001b[39m\u001b[39m'\u001b[39m]\n\u001b[0;32m      <a href='vscode-notebook-cell:/c%3A/Users/johan/Documents/GitHub/sandbox/NLP/NLP%20for%20grote%20word%20file/7.%20filter%20for%20public%20access.ipynb#X40sZmlsZQ%3D%3D?line=3'>4</a>\u001b[0m     \u001b[39mif\u001b[39;00m ents:\n",
      "\u001b[1;31mNameError\u001b[0m: name 'nlp' is not defined"
     ]
    }
   ],
   "source": [
    "def person_filter(doc):\n",
    "    spacy_doc = nlp(doc)\n",
    "    ents = [e.text for e in spacy_doc.ents if e.label_ == 'PERSON']\n",
    "    if ents:\n",
    "        return ents    \n",
    "\n",
    "df_pickle_clean['texts'].apply(person_filter)"
   ]
  },
  {
   "cell_type": "code",
   "execution_count": 96,
   "metadata": {},
   "outputs": [],
   "source": [
    "persons = ['Marc',  'matthias', 'Sophie', 'Nicole', 'Eric', 'Bert', 'Arthur', 'Chiara', 'Geoffrey', 'Joke', 'Dominik', 'Ramses' 'Jonas', 'Theresa', 'Anna', 'Piet', 'Marcel', 'Bert', 'Pieter De Pauw', 'Jens', 'Betti', 'Nele', 'Rosy', 'Andries', 'Ana',  'Ilja', 'Matthias', 'Sander', \n",
    "        #    'Johannes',\n",
    "           'janez', 'Bart', 'Arne', 'Hans', 'Rogier', 'Abigail', 'Sam', \n",
    "           'Xel' ]"
   ]
  },
  {
   "cell_type": "code",
   "execution_count": 94,
   "metadata": {},
   "outputs": [],
   "source": [
    "def re_person_filter(text):\n",
    "    for person in persons:\n",
    "        text = re.sub(re.escape(person), 'X', text)\n",
    "    return text\n",
    "\n",
    "# Then apply the function to the 'texts' column\n",
    "df_pickle_clean['texts'] = df_pickle_clean['texts'].apply(lambda text: re_person_filter(text))"
   ]
  },
  {
   "cell_type": "code",
   "execution_count": 97,
   "metadata": {},
   "outputs": [],
   "source": [
    "def re_person_filter(text):\n",
    "    for person in persons:\n",
    "        text = re.sub(re.escape(person), 'X', text)\n",
    "    return text\n",
    "\n",
    "# Then apply the function to the 'texts' column\n",
    "df_pickle_['texts'] = df_pickle_['texts'].apply(lambda text: re_person_filter(text))"
   ]
  },
  {
   "cell_type": "markdown",
   "metadata": {},
   "source": [
    "# 2. add searchable vectors"
   ]
  },
  {
   "cell_type": "code",
   "execution_count": 252,
   "metadata": {},
   "outputs": [
    {
     "data": {
      "text/plain": [
       "3522"
      ]
     },
     "execution_count": 252,
     "metadata": {},
     "output_type": "execute_result"
    }
   ],
   "source": [
    "from nltk.corpus import stopwords\n",
    "import gensim\n",
    "\n",
    "stop_words = stopwords.words('dutch') + stopwords.words('english') \n",
    "\n",
    "def stopwords_preprocess(stop_words):\n",
    "    for stop in stop_words:\n",
    "        sent = gensim.utils.simple_preprocess(str(stop.strip()), deacc=True)\n",
    "        if sent:\n",
    "            yield(sent)\n",
    "            \n",
    "stop_words += ['zoals']\n",
    "stop_words = [' '.join(w) for w in list(stopwords_preprocess(stop_words))]\n",
    "\n",
    "def preprocess_and_stopwords(texts):\n",
    "    for text in texts:\n",
    "        text_list = []\n",
    "        for word in gensim.utils.simple_preprocess(text, deacc=True):\n",
    "            if word not in stop_words:\n",
    "                text_list.append(word)\n",
    "        yield str(' '.join(text_list))\n",
    "\n",
    "\n",
    "data = df_pickle_clean.texts.tolist()\n",
    "preprocessed_data_all = list(preprocess_and_stopwords(data))\n",
    "\n",
    "len(preprocessed_data_all)"
   ]
  },
  {
   "cell_type": "markdown",
   "metadata": {},
   "source": [
    "### With sentence transformers"
   ]
  },
  {
   "cell_type": "code",
   "execution_count": 253,
   "metadata": {},
   "outputs": [
    {
     "data": {
      "application/vnd.jupyter.widget-view+json": {
       "model_id": "c7b36cbfaa264d8eb0521a95811851c4",
       "version_major": 2,
       "version_minor": 0
      },
      "text/plain": [
       "Batches:   0%|          | 0/111 [00:00<?, ?it/s]"
      ]
     },
     "metadata": {},
     "output_type": "display_data"
    }
   ],
   "source": [
    "from sentence_transformers import SentenceTransformer\n",
    "\n",
    "sentence_model = SentenceTransformer('sentence-transformers/paraphrase-multilingual-MiniLM-L12-v2')\n",
    "embeddings = sentence_model.encode(preprocessed_data_all, show_progress_bar=True)"
   ]
  },
  {
   "cell_type": "code",
   "execution_count": null,
   "metadata": {},
   "outputs": [],
   "source": [
    "from sklearn.preprocessing import normalize\n",
    "\n",
    "normalized_embeddings = normalize(embeddings)\n",
    "df_pickle_clean['normal_embeddings'] = list(normalized_embeddings)"
   ]
  },
  {
   "cell_type": "markdown",
   "metadata": {},
   "source": [
    "taking user text to embed and compare"
   ]
  },
  {
   "cell_type": "code",
   "execution_count": null,
   "metadata": {},
   "outputs": [
    {
     "data": {
      "application/vnd.jupyter.widget-view+json": {
       "model_id": "61005bb06833448e91902869ee0f8805",
       "version_major": 2,
       "version_minor": 0
      },
      "text/plain": [
       "Batches:   0%|          | 0/1 [00:00<?, ?it/s]"
      ]
     },
     "metadata": {},
     "output_type": "display_data"
    }
   ],
   "source": [
    "from sklearn.metrics.pairwise import cosine_similarity\n",
    "\n",
    "user_text_embedding = sentence_model.encode(sentences=[\"sexy stories\"], show_progress_bar=True)\n",
    "cosine_similarities = cosine_similarity(user_text_embedding, normalized_embeddings)\n",
    "\n",
    "df_pickle_clean['similarity'] = cosine_similarities.flatten()\n",
    "df_pickle_clean_sorted = df_pickle_clean.sort_values(by='similarity', ascending=False)\n",
    "\n",
    "df_pickle_clean_sorted['texts'].values"
   ]
  },
  {
   "cell_type": "code",
   "execution_count": 357,
   "metadata": {},
   "outputs": [
    {
     "data": {
      "text/plain": [
       "Index(['Topic', 'Name', 'texts', 'mask', '2d_embeddings_x', '2d_embeddings_y',\n",
       "       'normal_embeddings'],\n",
       "      dtype='object')"
      ]
     },
     "execution_count": 357,
     "metadata": {},
     "output_type": "execute_result"
    }
   ],
   "source": [
    "df_pickle_clean = df_pickle_clean[['Topic', 'Name', 'texts', 'mask', '2d_embeddings_x', '2d_embeddings_y', 'normal_embeddings']]\n",
    "df_pickle_clean.columns"
   ]
  },
  {
   "cell_type": "code",
   "execution_count": 358,
   "metadata": {},
   "outputs": [],
   "source": [
    "# df_pickle_clean.to_pickle(\"df_topic_model_all_v2\")"
   ]
  },
  {
   "cell_type": "markdown",
   "metadata": {},
   "source": [
    "# With openai"
   ]
  },
  {
   "cell_type": "code",
   "execution_count": 10,
   "metadata": {},
   "outputs": [
    {
     "data": {
      "text/plain": [
       "['Wat ik hier wil doen is, net als in mijn dagboek van een auteur, een discours ontwikkelen voor een boek. Hier zal de nadruk minder komen te liggen op ‘onderliggende ideeën’ maar eerder op de oppervlakten van de taal zelf. Concreet wil ik het alledaagse taalgebruik onderzoeken, de taal van het denken en spreken, de taal van mijmeringen, redeneringen, dialogen... Ik wil ze vanuit verschillende personages onderzoeken. Personages spreken en denken. De taal is het middelpunt.\\nIk wil voornamelijk plaats geven aan opvallendheden die contrasten karakteriseren tussen hoe verschillende concrete personen denken, verantwoordingen afleggen, en tot handelen gemotiveerd worden. Ik wil hier zodoende enkele personages vormgeven. Het wordt een soort tussenstadium van de bedenkingen die ik me maak over het denken van anderen en het schrijven vanuit het perspectief van de personages.\\nDe wijze waarop ik dit wil aanvatten is nu sterk beïnvloed door Joyce. Maar het gaat hier om experimenteren met dialoog en monoloog. Ik wil alle mogelijkheden, alle mogelijke stijlvormen openhouden. Eventueel kan er een agonistisch denken een plaats in krijgen. Maar het is in eerste instantie een studie van het talige en haar meest vertrouwde vorm.\\nIn zekere zin wil ik vanuit deze modus van burgerlijkheid waarin we vandaag leven de verschillende paden geven die leiden tot een bezinning over onze natuur. Burgerlijkheid staat tegenover een poëtische authenticiteit.\\nMaar om daar te raken wil ik – om een sprakeloosheid, een writers block te mijden – steeds van de burgerlijke discours vertrekken. Het discours gaat van monoloog vlot over in dialoog en ook de relatie tussen eso en exo krijgt een innerlijke en een uiterlijke pendant. Ik wil niet in het bijzonder een punt maken, en al zeker niet bepaalde conclusie opdringen. Het lijkt me veel leuker om gewoon uit te gaan van de woorden en ze voor zichzelf te laten spreken. Dergelijke ‘conclusies’ worden als het ware door de personages belichaamd.\\nVanuit het burgerlijke vertrekken betekent ook dat ik steeds van hier vertrek. Het betekent dat het gras nooit ofte nimmer hier groener is dan aan de overkant. Het is hier, in deze praktijk waar ik mijn inspiratie haal. Van surfen op het net, rondneuzen op blog-sites, stoned kuieren door lege winkelstraten, zitten en drinken, feesten,... Ik wil mij focussen op wat ik net als zoveel anderen doen, en denken, en zeggen, en drinken en roken, en stelen en breken...\\n',\n",
       " 'Bepaalde vragen rond structuur en verhaallijn houden mij bezig. Kan een realisme volstaan? Wordt het arbitrair invoegen van ‘wijsheden’ niet algauw pompeus en pedant?\\nEr moet een climax en een opbouw zijn, een evolutie, eventueel een revolutie. Er moet een rode draad zijn met spanningselementen en beminnelijke verleidingselementen.\\nWat als alles evolueerde naar een alles-ontknopend gesprek? Een soort realisme waarin vragen worden vooruit geschoven waarvoor de lezer naar een antwoord snakt, en in één beweging komt alles samen in een existentiële crisis en in één beweging verschijnt de ruimte van de ware filosofie.\\nEen grondstelling zou de volgende kunnen zijn. In werkelijkheid is alles porno. We zien echter geen porno, dus dit is de werkelijkheid niet. Porno is zelf de werkelijkheid. Dit heeft vele interessante eigenschappen. Ten eerste is het pornografische sinds het internet in belang geëxplodeerd. Maar het wordt ook verondersteld als een verborgen werkelijkheid, als een verdrukte en genegeerde natuur. Porno moet bevrijd worden, lijkt het.\\nUiteraard is dat niet mijn stelling. Het is een grondstelling om tot een heel pak nuances te komen die zowel het seksuele als het zakelijke in een ander daglicht stellen.\\nDe grondstelling zou verpakt kunnen worden in een blog van één van de personages. Verder vormt het niet een punt van aandacht, een focus van de rode draad, maar het blijft als relatief belangrijk doorwegen. Het komt terug vanuit verschillende invalshoeken. Elke benadering neemt als het ware een klein hapje uit dat grootse bouwwerk van onze tijd, die schijnbaar onverzoenbare tegenstelling van onze zakelijke moraal versus onze instinctieve seksualiteit.\\nEventueel volgt een soort verzoenende discussie naar het einde toe, waarin alle eindjes aan elkaar worden geknoopt. Een climax, een soort catharsis, waarin de existentiële gesteldheid onder de voeten verschijnt, als een grond waarvan men de weerstand is vergeten de het tegen elk gewicht biedt.\\n',\n",
       " 'Drugs, ziekte en gemoed. Wat ik wil doen is in zekere zin de stemmingen laten spreken. Stemmingen hangen nauw samen met het lichaam, met situaties van grootmoedige trots of verlegenheid, van erkenning en waardering of net beknotting of het verwijt van een aanmatigende arrogantie.\\nDit zijn zaken waar Nietzsche uitgebreid over dacht – over ziekte en gezondheid, zou hij zeggen. Ik wil daarnaast ook de roes van de bedwelmende middelen vergelijken, en eventueel ook met die bedwelming die van consumptie en verstrooide ontspanning uitgaat. De merkwaardigheden van het denken onder invloed van cafeïne, alcohol, coke, mdma, enzovoort, de merkwaardigheden van de allesverzengende massa’s, die bevlogen in extase alle waarden in rook doen opgaan, in ruil voor het vuur van de extase zelf.\\n',\n",
       " 'Zelfrelativering. Het is een notie die het overdenken waard is. Zonet kwam ik tot deze conclusie: zelfrelativering houdt niet minder dan dat ik al mijn voorbeelden bekritiseer, of simpelweg ridiculiseer.\\n',\n",
       " 'Wat is taal? Taal is als lijn die boven de treinsporen loopt en de machinerie van energie voorziet. Taal hangt los van de sporen die in het leven gevolgd worden, doch is er een markante overeenkomst. Taal vormt een netwerk van lijnen, in zekere zin onafhankelijk, als het ware zwevend boven de sporen die mensen in hun levenslopen volgen. Ze volgen allen dezelfde lijnen, dankzij de energie de deze hen voorziet, dankzij de waarden die zodoende de mechanismen van voorbeweging doorheen dit bestaan regelen.\\nHet is alsof het spoorwegennet steeds meer uitgebreid wordt en vertakt tot over de verste uithoeken van onze aardklomp. Nochtans blijft de aard van de sporen zelf ons raadselachtig. We bewegen steeds onder de geleiding van die energetische lijnen. En hoe ver die ons ook moge voeren, des te vaker vergeten we het landschap te genieten dat aan ons voorbij snelt.\\nHet is nu de taak van de filosoof om pilaren waaraan deze energetische lijnen bevestigd zijn te verbinden met de grond waarop zij, evenals de sporen zelf, op rusten.\\n',\n",
       " 'Voorfilosofisch. Wat zijn de gedachten die mij bezighielden voor ik filosofie ging studeren? Wat zijn de gedachten die een filosoof in worden bezighouden? Dit is een belangrijke vraag waarover ik mij moet buigen.\\nVooraleer ik filosofie ging studeren was het me reeds duidelijk dat de vooraf gegeven alternatieven van studierichtingen beperkt in hoeveelheid waren, dat er steeds talenten zijn die buiten deze gegeven alternatieven liggen.\\nAls er al een beperking kan of moet zijn, dan ligt het wel in het feit dat talenten in de cultuur liggen ingebed, en als het ware worden overgeërfd. Interesses worden doorgegeven (in zeer brede zin: ook interesse in status, in schoonheid, in spiritualiteit) en derhalve worden bekwaamheden gecultiveerd. Onze huidige maatschappelijke opvoedingsstructuur is opgebouwd rond een individuele keuzevrijheid: alsof elk individu aangeboren capaciteit heeft te ontwikkelen, los van de geborgenheid van de kroost, de voorbeelden uit zijn directe omgeving.\\nDit geldt overigens nergens meer als in de starre bureaucratische structuren van de scholen en universiteiten. Niemand vermag de oude categorieën nog aan te raken. Toch niet zonder ervoor bestraft te worden.\\n',\n",
       " 'Een boek met een boodschap. Ik ben mooi en verstandig en neem er genoegen mee. Het is een bijzonder eenvoudig, maar tegelijk bijzonder belangrijk gegeven: in een nuchtere monterheid te kunnen zeggen: ik ben mooi, goed, leuk, grappig, en dat is goed. Het is een zaak van erkenning en affirmatie van het schone oppervlak, hoe diepzinnig en obscuur die levenskracht op het denken moge inwerken. Geen enkele manifestatie gaat voorbij aan het oppervlak van de verschijning zelf. Een al te diepzinnige roep om erkenning is niets dan symptomatisch voor een ziekelijke kwaal. Men moet zich erover kunnen verlevendigen, en van ganser harte verblijden, over niks dan ijdele oppervlaktes. Daar is het immers waar alles aangrijpt: in de kwetsbare nabijheid, die immer vergankelijke intimiteit.\\n',\n",
       " 'Terug naar het tweedimensionaal bestaan.\\nWachten. Ik doe daar niet aan mee. Ogen die ijlings in het rond turen. Onrustig glijdt de blik over de blinkende, gladgepolijste setting. Geen mens die me ziet staan. Ja, ook ik ben louter verstrooiing.\\nEen luchthaven is een vreemde plek. Het is een ware transitruimte. Het is een tussenruimte, een soort vacuüm in feite, een ruimte tussen werkelijke ruimtes. Een vaag voorgevoel daalt af in de krochten van het bestaan. En alsof het nooit weg geweest is komt de idee van het reizen terug als een verhoopte paradijselijke ontspanning, zoals die zo glamoureus werd voorgespiegeld in reisbrochures en in dat nimmer aflatende keuvelen over het warmere, zonnigere zuiden. Een collectief droombeeld komt terug als een sober vervulde wens. De realiteit van de lege portemonnee weegt zwaarder dan de povere voldoening. Doch is er dat vooruitzicht om nu ook deel te kunnen nemen aan het eeuwige gekeuvel over die oorden van het betere, het mooiere en het aangenamere. Niets beter dan die collectieve fantasie voeden met nieuwe details.\\nDe vakantiebestemming is een droomwereld, een onwerkelijke wereld van een ontspannen mateloosheid en vooral veel vertier. Het is een manier om zich te definiëren en te positioneren in een wereld waarin consumptie en status samengaan. In de luchthaventerminal gaan droom en werkelijkheid terug in elkaar over. De herinnering van het vooruitzicht wordt terug opgerakeld. De weken van het vooruitkijken, een anticipatieve spanning die zich langzaam opbouwde en vervolgens naadloos overging in een geordende ontlading. De vakantie wordt nu herinnerd als een poos van onthaasting, met als vooruitzicht de benijdende blikken van mijn gelijken die op deze bruingebrande tronie zullen moeten kijken.\\nDit is het discours van vakantie. In hoeverre beantwoord mijn reis aan de beschrijving van de brochures? In hoeverre beantwoord ik die collectieve droom? En zodus, in hoeverre zal ik kunnen rekenen op een collectieve jaloezie?\\n',\n",
       " 'Lage en hoge stijlen, lage en hoge kunsten, laag en hoog. Het is net als bij uiterlijk en innerlijk, oppervlakkig en diepzinnig: het lage is hetgeen waarover edele geesten zich horen te schamen. Men hoort het scheten en het boeren te verachten. Het dierlijke staat steeds tegenover het gecultiveerde. Er speelt een angst om niet serieus te worden genomen. Ofwel schaamt men zich om het gewone. Men wilt een held zijn, men wil het ideaal belichamen.\\nVoor een dergelijk ‘diepzinnig’ mens wordt het hoge, het edele de nieuwe oppervlakte waarop zaken aangrijpen, en wordt het lage, het dierlijke verdrongen en onderdrukt. Het diepe is zodoende tegelijk het grondvlak, maar één dat de voorwaarde behelst dat allerlei zaken worden uitgesloten en systematisch worden ontkend. Men spitst het oog op details, in ziekelijke fascinaties met kenmerken en eigenschappen. Het geheel wordt verloren in een focus op de symptomen.\\nWat mij een betere weg lijkt, bestaat erin ervan uit te gaan dat enkel alle registers samen, hoge en lage, het bestaan het best beschrijven. Nu en dan een scheet of een boer doen niemand kwaad. Het maakt bovendien voor velen de scherpste uitval uit die ze naar anderen toe maken.\\nNietzsche spreekt over een tijd van de tragedie, een tijd van moralisten en religieuze predikers. Hij spreekt van een toekomst van parodie. Gedaan met die nobele hogere doelen en idealen; het tijdperk van het leven om te leven is aangebroken.\\nHet komt erop aan hoog en laag met elkaar te vermengen. Zo extreem mogelijk.\\n“Waarop komt het onderscheid hoog/laag neer? Eens gaan lopen. Er is veel wind. Dat is leuk.\\nHoog en laag... Ik moet al de prikkels die tot gedachten leiden verwerken. Ja allemaal. Dat werkt het best. Maar hmm... het functionele. Altijd is er die vraag van het functionele. En het poëtische. Hoe leesbaar is dit soort heen en weer gespring. Van de hak op de tak...”\\nHet moet plezierig zijn. Dat is het essentiële principe. Het moet vrolijk, frivool lezen. Diepzinnige filosofische beslommeringen zijn maar al te vaak zwaar en onverteerbaar. Ze tonen het leven niet, ze bedelven het onder onflexibele constructies. Het komt erop aan levenskracht te tonen, die gerichtheid naar buiten toe. Luchtig, vermakelijk, als een volwaardige gesprekspartner... Steeds weer afgeleid. Maar met opvattingen en meningen die men doodgraag verkondigen wil. Tegelijk op zoek naar genot en plezier, afleiding en opwinding.\\n',\n",
       " 'Een structuur? Zoals bij Joyce zou ik hoofdstukken kunnen indelen, maar niet volgens stijl, maar volgens geestelijke beïnvloeding, zoals: caffeïne, paddestoelen, marihuana, google,...\\n']"
      ]
     },
     "execution_count": 10,
     "metadata": {},
     "output_type": "execute_result"
    }
   ],
   "source": [
    "df_test = df_pickle[:10]\n",
    "df_test.texts.tolist()"
   ]
  },
  {
   "cell_type": "code",
   "execution_count": 28,
   "metadata": {},
   "outputs": [
    {
     "data": {
      "text/html": [
       "<div>\n",
       "<style scoped>\n",
       "    .dataframe tbody tr th:only-of-type {\n",
       "        vertical-align: middle;\n",
       "    }\n",
       "\n",
       "    .dataframe tbody tr th {\n",
       "        vertical-align: top;\n",
       "    }\n",
       "\n",
       "    .dataframe thead th {\n",
       "        text-align: right;\n",
       "    }\n",
       "</style>\n",
       "<table border=\"1\" class=\"dataframe\">\n",
       "  <thead>\n",
       "    <tr style=\"text-align: right;\">\n",
       "      <th></th>\n",
       "      <th>Topic</th>\n",
       "      <th>Name</th>\n",
       "      <th>Top_n_words</th>\n",
       "      <th>2d_embeddings_x</th>\n",
       "      <th>2d_embeddings_y</th>\n",
       "      <th>texts</th>\n",
       "      <th>mask</th>\n",
       "      <th>embeddings</th>\n",
       "    </tr>\n",
       "  </thead>\n",
       "  <tbody>\n",
       "    <tr>\n",
       "      <th>0</th>\n",
       "      <td>14</td>\n",
       "      <td>14_taal_spreken_discours_woorden</td>\n",
       "      <td>taal - spreken - discours - woorden - zeker - ...</td>\n",
       "      <td>2.815553</td>\n",
       "      <td>2.021039</td>\n",
       "      <td>Wat ik hier wil doen is, net als in mijn dagbo...</td>\n",
       "      <td>True</td>\n",
       "      <td>[-0.007182960398495197, -0.01577874645590782, ...</td>\n",
       "    </tr>\n",
       "    <tr>\n",
       "      <th>2</th>\n",
       "      <td>34</td>\n",
       "      <td>34_drugs_mdma_jake_persoon</td>\n",
       "      <td>drugs - mdma - jake - persoon - coke - middele...</td>\n",
       "      <td>7.133348</td>\n",
       "      <td>2.299568</td>\n",
       "      <td>Drugs, ziekte en gemoed. Wat ik wil doen is in...</td>\n",
       "      <td>True</td>\n",
       "      <td>[-0.004304243717342615, -0.009285484440624714,...</td>\n",
       "    </tr>\n",
       "    <tr>\n",
       "      <th>3</th>\n",
       "      <td>18</td>\n",
       "      <td>18_overtuigen_gedrag_denken_kritiek</td>\n",
       "      <td>overtuigen - gedrag - denken - kritiek - ander...</td>\n",
       "      <td>3.955438</td>\n",
       "      <td>0.293900</td>\n",
       "      <td>Zelfrelativering. Het is een notie die het ove...</td>\n",
       "      <td>True</td>\n",
       "      <td>[-0.016389941796660423, -0.01944853737950325, ...</td>\n",
       "    </tr>\n",
       "    <tr>\n",
       "      <th>4</th>\n",
       "      <td>14</td>\n",
       "      <td>14_taal_spreken_discours_woorden</td>\n",
       "      <td>taal - spreken - discours - woorden - zeker - ...</td>\n",
       "      <td>2.340214</td>\n",
       "      <td>1.799563</td>\n",
       "      <td>Wat is taal? Taal is als lijn die boven de tre...</td>\n",
       "      <td>True</td>\n",
       "      <td>[0.012348778545856476, -0.02358260191977024, 0...</td>\n",
       "    </tr>\n",
       "    <tr>\n",
       "      <th>5</th>\n",
       "      <td>0</td>\n",
       "      <td>0_wetenschap_intelligentie_onze_reality</td>\n",
       "      <td>wetenschap - intelligentie - onze - reality - ...</td>\n",
       "      <td>3.345256</td>\n",
       "      <td>0.882175</td>\n",
       "      <td>Voorfilosofisch. Wat zijn de gedachten die mij...</td>\n",
       "      <td>True</td>\n",
       "      <td>[0.004265272058546543, -0.030903104692697525, ...</td>\n",
       "    </tr>\n",
       "  </tbody>\n",
       "</table>\n",
       "</div>"
      ],
      "text/plain": [
       "   Topic                                     Name  \\\n",
       "0     14         14_taal_spreken_discours_woorden   \n",
       "2     34               34_drugs_mdma_jake_persoon   \n",
       "3     18      18_overtuigen_gedrag_denken_kritiek   \n",
       "4     14         14_taal_spreken_discours_woorden   \n",
       "5      0  0_wetenschap_intelligentie_onze_reality   \n",
       "\n",
       "                                         Top_n_words  2d_embeddings_x  \\\n",
       "0  taal - spreken - discours - woorden - zeker - ...         2.815553   \n",
       "2  drugs - mdma - jake - persoon - coke - middele...         7.133348   \n",
       "3  overtuigen - gedrag - denken - kritiek - ander...         3.955438   \n",
       "4  taal - spreken - discours - woorden - zeker - ...         2.340214   \n",
       "5  wetenschap - intelligentie - onze - reality - ...         3.345256   \n",
       "\n",
       "   2d_embeddings_y                                              texts  mask  \\\n",
       "0         2.021039  Wat ik hier wil doen is, net als in mijn dagbo...  True   \n",
       "2         2.299568  Drugs, ziekte en gemoed. Wat ik wil doen is in...  True   \n",
       "3         0.293900  Zelfrelativering. Het is een notie die het ove...  True   \n",
       "4         1.799563  Wat is taal? Taal is als lijn die boven de tre...  True   \n",
       "5         0.882175  Voorfilosofisch. Wat zijn de gedachten die mij...  True   \n",
       "\n",
       "                                          embeddings  \n",
       "0  [-0.007182960398495197, -0.01577874645590782, ...  \n",
       "2  [-0.004304243717342615, -0.009285484440624714,...  \n",
       "3  [-0.016389941796660423, -0.01944853737950325, ...  \n",
       "4  [0.012348778545856476, -0.02358260191977024, 0...  \n",
       "5  [0.004265272058546543, -0.030903104692697525, ...  "
      ]
     },
     "execution_count": 28,
     "metadata": {},
     "output_type": "execute_result"
    }
   ],
   "source": [
    "from openai import OpenAI\n",
    "\n",
    "client = OpenAI()\n",
    "\n",
    "def generate_embedding(text: str) -> list[float]:    \n",
    "    resp = client.embeddings.create(\n",
    "\t\tinput=text, \n",
    "\t\tmodel=\"text-embedding-ada-002\")\n",
    "    return resp.data[0].embedding\n",
    "  \n",
    "df_pickle_clean['embeddings'] = df_pickle_clean['texts'].apply(generate_embedding)\n",
    "df_pickle_clean.head()"
   ]
  },
  {
   "cell_type": "code",
   "execution_count": 29,
   "metadata": {},
   "outputs": [],
   "source": [
    "df_pickle_clean.to_pickle(\"df_topic3.pkl\")"
   ]
  },
  {
   "cell_type": "code",
   "execution_count": 40,
   "metadata": {},
   "outputs": [],
   "source": [
    "df_pickle_clean['embeddings'] = df_pickle_clean['embeddings'].to_numpy()"
   ]
  },
  {
   "cell_type": "code",
   "execution_count": 45,
   "metadata": {},
   "outputs": [],
   "source": [
    "from sklearn.preprocessing import normalize\n",
    "\n",
    "normalized_embeddings = normalize(df_pickle_clean['embeddings'].tolist()) # don't think it's necessary"
   ]
  },
  {
   "cell_type": "code",
   "execution_count": 56,
   "metadata": {},
   "outputs": [
    {
     "data": {
      "text/html": [
       "<div>\n",
       "<style scoped>\n",
       "    .dataframe tbody tr th:only-of-type {\n",
       "        vertical-align: middle;\n",
       "    }\n",
       "\n",
       "    .dataframe tbody tr th {\n",
       "        vertical-align: top;\n",
       "    }\n",
       "\n",
       "    .dataframe thead th {\n",
       "        text-align: right;\n",
       "    }\n",
       "</style>\n",
       "<table border=\"1\" class=\"dataframe\">\n",
       "  <thead>\n",
       "    <tr style=\"text-align: right;\">\n",
       "      <th></th>\n",
       "      <th>texts</th>\n",
       "      <th>similarity</th>\n",
       "    </tr>\n",
       "  </thead>\n",
       "  <tbody>\n",
       "    <tr>\n",
       "      <th>2412</th>\n",
       "      <td>Mijn kinderen willen mij niet masseren. \"Maar ...</td>\n",
       "      <td>0.855799</td>\n",
       "    </tr>\n",
       "    <tr>\n",
       "      <th>2928</th>\n",
       "      <td>De vraatzucht. - dikke mensen, zuchtend en kre...</td>\n",
       "      <td>0.840840</td>\n",
       "    </tr>\n",
       "    <tr>\n",
       "      <th>3339</th>\n",
       "      <td>Ze hield ervan met dromerige ogen haar klit te...</td>\n",
       "      <td>0.838292</td>\n",
       "    </tr>\n",
       "  </tbody>\n",
       "</table>\n",
       "</div>"
      ],
      "text/plain": [
       "                                                  texts  similarity\n",
       "2412  Mijn kinderen willen mij niet masseren. \"Maar ...    0.855799\n",
       "2928  De vraatzucht. - dikke mensen, zuchtend en kre...    0.840840\n",
       "3339  Ze hield ervan met dromerige ogen haar klit te...    0.838292"
      ]
     },
     "execution_count": 56,
     "metadata": {},
     "output_type": "execute_result"
    }
   ],
   "source": [
    "from sklearn.metrics.pairwise import cosine_similarity\n",
    "from openai import OpenAI\n",
    "\n",
    "client = OpenAI()\n",
    "\n",
    "def generate_embedding(text: str) -> list[float]:    \n",
    "    resp = client.embeddings.create(\n",
    "\t\tinput=text, \n",
    "\t\tmodel=\"text-embedding-ada-002\")\n",
    "    return resp.data[0].embedding\n",
    "\n",
    "user_text_embedding = generate_embedding(\"de dikke tetten van u moeder\")\n",
    "\n",
    "embeddings = df_pickle_clean['embeddings'].tolist()\n",
    "\n",
    "cosine_similarities = cosine_similarity(np.array(([user_text_embedding])), embeddings)\n",
    "\n",
    "df_pickle_clean['similarity'] = cosine_similarities.flatten()\n",
    "\n",
    "df_pickle_clean_sorted = df_pickle_clean.sort_values(by='similarity', ascending=False)\n",
    "\n",
    "df_pickle_clean_sorted[['texts', 'similarity']].head(3)"
   ]
  },
  {
   "cell_type": "markdown",
   "metadata": {},
   "source": [
    "# 3. Next step: automating the similarity search\n",
    "\n",
    "The format should be \"what would johannes say about...\""
   ]
  },
  {
   "cell_type": "code",
   "execution_count": null,
   "metadata": {},
   "outputs": [],
   "source": [
    "from sklearn.metrics.pairwise import cosine_similarity"
   ]
  },
  {
   "cell_type": "code",
   "execution_count": 359,
   "metadata": {},
   "outputs": [],
   "source": [
    "df = pd.read_pickle(\"df_topic_model_all_v2\")"
   ]
  },
  {
   "cell_type": "code",
   "execution_count": 361,
   "metadata": {},
   "outputs": [],
   "source": [
    "pd.options.display.max_colwidth = 2000"
   ]
  },
  {
   "cell_type": "code",
   "execution_count": 372,
   "metadata": {},
   "outputs": [
    {
     "data": {
      "text/html": [
       "<div>\n",
       "<style scoped>\n",
       "    .dataframe tbody tr th:only-of-type {\n",
       "        vertical-align: middle;\n",
       "    }\n",
       "\n",
       "    .dataframe tbody tr th {\n",
       "        vertical-align: top;\n",
       "    }\n",
       "\n",
       "    .dataframe thead th {\n",
       "        text-align: right;\n",
       "    }\n",
       "</style>\n",
       "<table border=\"1\" class=\"dataframe\">\n",
       "  <thead>\n",
       "    <tr style=\"text-align: right;\">\n",
       "      <th></th>\n",
       "      <th>texts</th>\n",
       "      <th>similarity</th>\n",
       "    </tr>\n",
       "  </thead>\n",
       "  <tbody>\n",
       "    <tr>\n",
       "      <th>1898</th>\n",
       "      <td>Het \"duele\" van de pre-oedipale moeder-kindrelatie staat voor een drang om samen te vallen, om in iemand op te gaan. Voor psycho-analytici lijkt die drift in zo'n termen te verklaren. De concurrentie van de vaderfiguur is nodig opdat het kind afstand neemt. Het identificeert zich met zijn perspectief en stelt zijn (of haar?) liefde uit. Het wordt gesust: later kan het dan zijn (of haar) eigen vrouw (of man) liefhebben.\\n</td>\n",
       "      <td>0.492640</td>\n",
       "    </tr>\n",
       "    <tr>\n",
       "      <th>2412</th>\n",
       "      <td>Mijn kinderen willen mij niet masseren. \"Maar mama, ik heb u al gemasseerd en gij hebt mij nog nooit gemasseerd.\" Papa: \"Uw mama heeft u meer dan genoeg gemasseerd nog voordat ge geboren waart!\"\\n</td>\n",
       "      <td>0.479177</td>\n",
       "    </tr>\n",
       "    <tr>\n",
       "      <th>1355</th>\n",
       "      <td>Absurde vertelling. - Ik vond het toen ok want mijn moeder zei toen dat dat kon want zij is zo.  Want vroeger wou ze kinderrechter worden. Maar ze is dan psychotherapeut in een opvoedingscenter geworden. Wel, na psychologie heeft ze psychotherapie bijgedaan in leuven. Daar heeft ze dan mijn pa leren kennen want hij zat toen ook in leuven om een jaar stedenbouw bij te doen.\\n</td>\n",
       "      <td>0.443517</td>\n",
       "    </tr>\n",
       "  </tbody>\n",
       "</table>\n",
       "</div>"
      ],
      "text/plain": [
       "                                                                                                                                                                                                                                                                                                                                                                                                                                         texts  \\\n",
       "1898  Het \"duele\" van de pre-oedipale moeder-kindrelatie staat voor een drang om samen te vallen, om in iemand op te gaan. Voor psycho-analytici lijkt die drift in zo'n termen te verklaren. De concurrentie van de vaderfiguur is nodig opdat het kind afstand neemt. Het identificeert zich met zijn perspectief en stelt zijn (of haar?) liefde uit. Het wordt gesust: later kan het dan zijn (of haar) eigen vrouw (of man) liefhebben.\\n   \n",
       "2412                                                                                                                                                                                                                                      Mijn kinderen willen mij niet masseren. \"Maar mama, ik heb u al gemasseerd en gij hebt mij nog nooit gemasseerd.\" Papa: \"Uw mama heeft u meer dan genoeg gemasseerd nog voordat ge geboren waart!\"\\n   \n",
       "1355                                                 Absurde vertelling. - Ik vond het toen ok want mijn moeder zei toen dat dat kon want zij is zo.  Want vroeger wou ze kinderrechter worden. Maar ze is dan psychotherapeut in een opvoedingscenter geworden. Wel, na psychologie heeft ze psychotherapie bijgedaan in leuven. Daar heeft ze dan mijn pa leren kennen want hij zat toen ook in leuven om een jaar stedenbouw bij te doen.\\n   \n",
       "\n",
       "      similarity  \n",
       "1898    0.492640  \n",
       "2412    0.479177  \n",
       "1355    0.443517  "
      ]
     },
     "execution_count": 372,
     "metadata": {},
     "output_type": "execute_result"
    }
   ],
   "source": [
    "df = df[df['mask']]\n",
    "\n",
    "embeddings = df.normal_embeddings.tolist()\n",
    "\n",
    "user_text_embedding = sentence_model.encode(sentences=[\"de dikke tetten van u moeder\"])\n",
    "\n",
    "cosine_similarities = cosine_similarity(user_text_embedding, embeddings)\n",
    "\n",
    "df['similarity'] = cosine_similarities.flatten()\n",
    "\n",
    "df_pickle_clean_sorted = df.sort_values(by='similarity', ascending=False)\n",
    "\n",
    "df_pickle_clean_sorted[['texts', 'similarity']].head(3)"
   ]
  },
  {
   "cell_type": "code",
   "execution_count": 384,
   "metadata": {},
   "outputs": [
    {
     "data": {
      "text/plain": [
       "'[{\"texts\":\"Het \\\\\"duele\\\\\" van de pre-oedipale moeder-kindrelatie staat voor een drang om samen te vallen, om in iemand op te gaan. Voor psycho-analytici lijkt die drift in zo\\'n termen te verklaren. De concurrentie van de vaderfiguur is nodig opdat het kind afstand neemt. Het identificeert zich met zijn perspectief en stelt zijn (of haar?) liefde uit. Het wordt gesust: later kan het dan zijn (of haar) eigen vrouw (of man) liefhebben.\\\\n\",\"similarity\":0.4926403165},{\"texts\":\"Mijn kinderen willen mij niet masseren. \\\\\"Maar mama, ik heb u al gemasseerd en gij hebt mij nog nooit gemasseerd.\\\\\" Papa: \\\\\"Uw mama heeft u meer dan genoeg gemasseerd nog voordat ge geboren waart!\\\\\"\\\\n\",\"similarity\":0.4791773558},{\"texts\":\"Absurde vertelling. - Ik vond het toen ok want mijn moeder zei toen dat dat kon want zij is zo. \\\\u00a0Want vroeger wou ze kinderrechter worden. Maar ze is dan psychotherapeut in een opvoedingscenter geworden. Wel, na psychologie heeft ze psychotherapie bijgedaan in leuven. Daar heeft ze dan mijn pa leren kennen want hij zat toen ook in leuven om een jaar stedenbouw bij te doen.\\\\n\",\"similarity\":0.4435170889}]'"
      ]
     },
     "execution_count": 384,
     "metadata": {},
     "output_type": "execute_result"
    }
   ],
   "source": [
    "# df_pickle_clean_sorted[['texts', 'similarity']].reset_index(drop=True, inplace=True)\n",
    "df_pickle_clean_sorted[['texts', 'similarity']].iloc[:3].to_json(orient='records')"
   ]
  },
  {
   "cell_type": "code",
   "execution_count": 621,
   "metadata": {},
   "outputs": [
    {
     "name": "stdout",
     "output_type": "stream",
     "text": [
      "<class 'pandas.core.frame.DataFrame'>\n",
      "Index: 3405 entries, 0 to 3521\n",
      "Data columns (total 6 columns):\n",
      " #   Column           Non-Null Count  Dtype  \n",
      "---  ------           --------------  -----  \n",
      " 0   Topic            3405 non-null   int64  \n",
      " 1   Name             3405 non-null   object \n",
      " 2   texts            3405 non-null   object \n",
      " 3   mask             3405 non-null   bool   \n",
      " 4   2d_embeddings_x  3405 non-null   float32\n",
      " 5   2d_embeddings_y  3405 non-null   float32\n",
      "dtypes: bool(1), float32(2), int64(1), object(2)\n",
      "memory usage: 136.3+ KB\n"
     ]
    }
   ],
   "source": [
    "df_pickle = pd.read_pickle(r'C:\\Users\\johan\\Documents\\GitHub\\johannes.vc\\website\\static\\df_topic_model_all_v2.pkl').drop(['normal_embeddings'], axis=1)[df_pickle['mask']]  \n",
    "\n",
    "df_pickle.info()"
   ]
  },
  {
   "cell_type": "markdown",
   "metadata": {},
   "source": [
    "# Other"
   ]
  },
  {
   "cell_type": "code",
   "execution_count": 4,
   "metadata": {},
   "outputs": [],
   "source": [
    "df_pickle = pd.read_pickle(r\"C:\\Users\\johan\\Documents\\GitHub\\johannes.vc\\website\\static\\df_topic5.pkl\")"
   ]
  },
  {
   "cell_type": "code",
   "execution_count": 13,
   "metadata": {},
   "outputs": [],
   "source": [
    "df_pickle.to_pickle(r\"C:\\Users\\johan\\Documents\\GitHub\\johannes.vc\\website\\static\\df_topic5.pkl\")"
   ]
  },
  {
   "cell_type": "code",
   "execution_count": 26,
   "metadata": {},
   "outputs": [],
   "source": [
    "from openai import OpenAI\n",
    "from sklearn.metrics.pairwise import cosine_similarity\n",
    "client= OpenAI()\n",
    "def generate_embedding(text: str) -> list[float]:    \n",
    "    resp = client.embeddings.create(\n",
    "\t\tinput=text, \n",
    "\t\tmodel=\"text-embedding-ada-002\")\n",
    "    return resp.data[0].embedding"
   ]
  },
  {
   "cell_type": "code",
   "execution_count": 93,
   "metadata": {},
   "outputs": [],
   "source": [
    "embeddings = df_pickle.embeddings.tolist()\n",
    "user_text_embedding = generate_embedding(\"excess\")\n",
    "cosine_similarities = cosine_similarity(np.array([user_text_embedding]), embeddings)\n",
    "df_pickle['similarity'] = cosine_similarities.flatten()\n",
    "df_sim = df_pickle.sort_values(by='similarity', ascending=False)"
   ]
  },
  {
   "cell_type": "code",
   "execution_count": 48,
   "metadata": {},
   "outputs": [
    {
     "name": "stdout",
     "output_type": "stream",
     "text": [
      "- (Geïnspireerd door BC) Druggebruik als vorm van autonoom gecontrolleerde (en niet sociaal of groepsgecontolleerde) ontspanning - en het gevoel van een constante dreiging van een afgrond waarvan men bij het gebruik op de rand staat - de verleiding van het excess.\n",
      "\n",
      "- Drug – plots inzicht: een wereldbeeld in lijn met de filosofische denkbeelden (constructivisme, historisch idealisme enz.)\n",
      "\n",
      "- Invloed op ideeëngeschiedenis van bepaalde drugs in diverse juridische klimaten. Van de MDMA in Nederland (die dankzij de legalisering van wiet min of meer gedoogd wordt) tot de gedrogeerde kindsoldaten in pakweg Liberia. Hoe staat het beleid nu tegenover die en andere drugs. Hoe denkt men erover?\n",
      "\n"
     ]
    }
   ],
   "source": [
    "print(\"- \" + '\\n- '.join(df_sim['texts'].iloc[:3]))"
   ]
  },
  {
   "cell_type": "code",
   "execution_count": 94,
   "metadata": {},
   "outputs": [
    {
     "name": "stdout",
     "output_type": "stream",
     "text": [
      "- \n"
     ]
    }
   ],
   "source": [
    "print(\"- \" + '\\n- '.join(df_sim[df_sim['similarity'] >= 0.8]['texts'])[:5000])"
   ]
  },
  {
   "cell_type": "code",
   "execution_count": 95,
   "metadata": {},
   "outputs": [
    {
     "data": {
      "text/plain": [
       "Series([], Name: texts, dtype: object)"
      ]
     },
     "execution_count": 95,
     "metadata": {},
     "output_type": "execute_result"
    }
   ],
   "source": [
    "df_sim[df_sim['similarity'] >= 0.8]['texts']"
   ]
  },
  {
   "cell_type": "markdown",
   "metadata": {},
   "source": [
    "## See 'reference to people i know'"
   ]
  },
  {
   "cell_type": "code",
   "execution_count": 6,
   "metadata": {},
   "outputs": [
    {
     "data": {
      "text/plain": [
       "Series([], Name: texts, dtype: object)"
      ]
     },
     "execution_count": 6,
     "metadata": {},
     "output_type": "execute_result"
    }
   ],
   "source": [
    "df_pickle['texts'][df_pickle['texts'].str.contains('moral')]"
   ]
  },
  {
   "cell_type": "code",
   "execution_count": 11,
   "metadata": {},
   "outputs": [],
   "source": [
    "persons2 = [ \n",
    "            # 'jef', 'rosy','Xsara'\n",
    "            # 'Thomas', 'Tomas'\n",
    "            ]\n",
    "\n",
    "def re_person_filter(text):\n",
    "    for person in persons2:\n",
    "        text = re.sub(person, 'Sensualiteit', text)\n",
    "    return text\n",
    "\n",
    "# Then apply the function to the 'texts' column\n",
    "df_pickle['texts'] = df_pickle['texts'].apply(lambda text: re_person_filter(text))"
   ]
  },
  {
   "cell_type": "markdown",
   "metadata": {},
   "source": [
    "### using fuzzy matching"
   ]
  },
  {
   "cell_type": "code",
   "execution_count": 131,
   "metadata": {},
   "outputs": [
    {
     "data": {
      "text/plain": [
       "Series([], Name: texts, dtype: object)"
      ]
     },
     "execution_count": 131,
     "metadata": {},
     "output_type": "execute_result"
    }
   ],
   "source": [
    "df_pickle['texts'][df_pickle['texts'].str.contains('Tomas')]"
   ]
  },
  {
   "cell_type": "code",
   "execution_count": 12,
   "metadata": {},
   "outputs": [],
   "source": [
    "from fuzzywuzzy import fuzz\n",
    "\n",
    "for doc in df_pickle['texts'].tolist():\n",
    "    for word in doc.split(' '):\n",
    "        if fuzz.ratio('Porno', word) > 80:\n",
    "            print(word)"
   ]
  },
  {
   "cell_type": "markdown",
   "metadata": {},
   "source": [
    "# create token access"
   ]
  },
  {
   "cell_type": "code",
   "execution_count": 133,
   "metadata": {},
   "outputs": [
    {
     "data": {
      "text/plain": [
       "'3a6cabcb-be02-4c85-86f8-674fc4160741'"
      ]
     },
     "execution_count": 133,
     "metadata": {},
     "output_type": "execute_result"
    }
   ],
   "source": [
    "import uuid\n",
    "\n",
    "str(uuid.uuid4())"
   ]
  },
  {
   "cell_type": "code",
   "execution_count": 1,
   "metadata": {},
   "outputs": [
    {
     "data": {
      "text/plain": [
       "'https://johannes.vc/auth/login_with_token?language=en&token=7484c338-1bad-4a2a-be3b-1793a8353716'"
      ]
     },
     "execution_count": 1,
     "metadata": {},
     "output_type": "execute_result"
    }
   ],
   "source": [
    "import uuid\n",
    "from google.cloud import firestore\n",
    "import firebase_admin\n",
    "from firebase_admin import credentials\n",
    "import datetime\n",
    "\n",
    "cred = credentials.Certificate('C:/Users/johan/Documents/GitHub/johannes.vc/google_credentials.json')\n",
    "# firebase_admin.initialize_app(cred)\n",
    "db = firestore.Client()\n",
    "\n",
    "def create_user_access_token(language = 'en'):\n",
    "    token = str(uuid.uuid4())\n",
    "    db.collection('auth').document(token).set({'auth_method': 'token',\n",
    "                                               'timestamp': firestore.SERVER_TIMESTAMP})\n",
    "    \n",
    "    return \"https://johannes.vc/auth/login_with_token?language=\" + language + r\"&token=\" + token\n",
    "\n",
    "create_user_access_token('en')"
   ]
  },
  {
   "cell_type": "code",
   "execution_count": 183,
   "metadata": {},
   "outputs": [
    {
     "name": "stdout",
     "output_type": "stream",
     "text": [
      "ok\n",
      "6 days, 7:18:36.743120\n"
     ]
    }
   ],
   "source": [
    "from flask import request\n",
    "from datetime import datetime, timezone, timedelta\n",
    "\n",
    "user = db.collection('auth').document(token).get()\n",
    " \n",
    "if user.exists:\n",
    "    user_dict = user.to_dict()\n",
    "    expiry = user.to_dict()['timestamp'] + timedelta(days=7)\n",
    "    if datetime.now(timezone.utc) < expiry:\n",
    "        print(expiry - datetime.now(timezone.utc))"
   ]
  },
  {
   "cell_type": "code",
   "execution_count": 5,
   "metadata": {},
   "outputs": [],
   "source": [
    "df_pickle.to_parquet(r\"C:\\Users\\johan\\Documents\\GitHub\\johannes.vc\\website\\static\\df_topic_parquet\")"
   ]
  },
  {
   "cell_type": "code",
   "execution_count": 7,
   "metadata": {},
   "outputs": [
    {
     "data": {
      "text/html": [
       "<div>\n",
       "<style scoped>\n",
       "    .dataframe tbody tr th:only-of-type {\n",
       "        vertical-align: middle;\n",
       "    }\n",
       "\n",
       "    .dataframe tbody tr th {\n",
       "        vertical-align: top;\n",
       "    }\n",
       "\n",
       "    .dataframe thead th {\n",
       "        text-align: right;\n",
       "    }\n",
       "</style>\n",
       "<table border=\"1\" class=\"dataframe\">\n",
       "  <thead>\n",
       "    <tr style=\"text-align: right;\">\n",
       "      <th></th>\n",
       "      <th>Topic</th>\n",
       "      <th>Name</th>\n",
       "      <th>Top_n_words</th>\n",
       "      <th>2d_embeddings_x</th>\n",
       "      <th>2d_embeddings_y</th>\n",
       "      <th>texts</th>\n",
       "      <th>mask</th>\n",
       "      <th>embeddings</th>\n",
       "      <th>topic_names</th>\n",
       "      <th>similarity</th>\n",
       "    </tr>\n",
       "  </thead>\n",
       "  <tbody>\n",
       "    <tr>\n",
       "      <th>0</th>\n",
       "      <td>14</td>\n",
       "      <td>14_taal_spreken_discours_woorden</td>\n",
       "      <td>taal - spreken - discours - woorden - zeker - ...</td>\n",
       "      <td>2.815553</td>\n",
       "      <td>2.021039</td>\n",
       "      <td>Wat ik hier wil doen is, net als in mijn dagbo...</td>\n",
       "      <td>True</td>\n",
       "      <td>[-0.007182960398495197, -0.01577874645590782, ...</td>\n",
       "      <td>taal, spreken, discours, woorden, vertaalbaarh...</td>\n",
       "      <td>0.679611</td>\n",
       "    </tr>\n",
       "  </tbody>\n",
       "</table>\n",
       "</div>"
      ],
      "text/plain": [
       "   Topic                              Name  \\\n",
       "0     14  14_taal_spreken_discours_woorden   \n",
       "\n",
       "                                         Top_n_words  2d_embeddings_x  \\\n",
       "0  taal - spreken - discours - woorden - zeker - ...         2.815553   \n",
       "\n",
       "   2d_embeddings_y                                              texts  mask  \\\n",
       "0         2.021039  Wat ik hier wil doen is, net als in mijn dagbo...  True   \n",
       "\n",
       "                                          embeddings  \\\n",
       "0  [-0.007182960398495197, -0.01577874645590782, ...   \n",
       "\n",
       "                                         topic_names  similarity  \n",
       "0  taal, spreken, discours, woorden, vertaalbaarh...    0.679611  "
      ]
     },
     "execution_count": 7,
     "metadata": {},
     "output_type": "execute_result"
    }
   ],
   "source": [
    "pd.read_parquet(r\"C:\\Users\\johan\\Documents\\GitHub\\johannes.vc\\website\\static\\df_topic_parquet\").head(1)"
   ]
  }
 ],
 "metadata": {
  "kernelspec": {
   "display_name": "johannes",
   "language": "python",
   "name": "python3"
  },
  "language_info": {
   "codemirror_mode": {
    "name": "ipython",
    "version": 3
   },
   "file_extension": ".py",
   "mimetype": "text/x-python",
   "name": "python",
   "nbconvert_exporter": "python",
   "pygments_lexer": "ipython3",
   "version": "3.10.11"
  }
 },
 "nbformat": 4,
 "nbformat_minor": 2
}
