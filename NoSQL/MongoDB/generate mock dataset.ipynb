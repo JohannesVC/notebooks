{
 "cells": [
  {
   "cell_type": "markdown",
   "metadata": {},
   "source": [
    "# Experiment notes\n",
    "\n",
    "I fed chatgpt (part of) the below list of metricMetas and asked it to produce metricValues for each in the format below.\n",
    "\n",
    "It didn't work..."
   ]
  },
  {
   "cell_type": "code",
   "execution_count": null,
   "metadata": {},
   "outputs": [
    {
     "data": {
      "text/plain": [
       "[{'_id': ObjectId('6449b282a2927cd3aa323dc4'),\n",
       "  'code': 'greenhouse_gas_emissions_avoided',\n",
       "  'title': 'Greenhouse Gas Emissions Avoided',\n",
       "  'description': 'Amount of greenhouse gas (GHG) emissions avoided by the organization during the reporting period.',\n",
       "  'type': 'numeric',\n",
       "  'measure': 'tCO2eq',\n",
       "  'framework': ['PAIs'],\n",
       "  'category': ['Climate']},\n",
       " {'_id': ObjectId('6449b2faa2927cd3aa323dcb'),\n",
       "  'code': 'ghg_emissions_scope_1',\n",
       "  'title': 'GHG Emissions Scope 1',\n",
       "  'description': '',\n",
       "  'type': 'numeric',\n",
       "  'measure': 'tCO2eq',\n",
       "  'framework': ['PAIs', 'TCFD'],\n",
       "  'category': ['Climate']},\n",
       " {'_id': ObjectId('6449b319a2927cd3aa323dce'),\n",
       "  'code': 'ghg_emissions',\n",
       "  'title': 'GHG Emissions',\n",
       "  'description': 'Cumulative scope 1, 2 and 3 emissions.',\n",
       "  'type': 'numeric',\n",
       "  'measure': 'tCO2eq',\n",
       "  'framework': ['PAIs'],\n",
       "  'category': ['Climate']},\n",
       " {'_id': ObjectId('6449b326a2927cd3aa323dcf'),\n",
       "  'code': 'carbon_footprint',\n",
       "  'title': 'Carbon Footprint',\n",
       "  'description': '',\n",
       "  'type': 'numeric',\n",
       "  'measure': 'tCO2eq',\n",
       "  'framework': ['PAIs'],\n",
       "  'category': ['Climate']},\n",
       " {'_id': ObjectId('6449b32ea2927cd3aa323dd0'),\n",
       "  'code': 'ghg_intensity',\n",
       "  'title': 'GHG Intensity',\n",
       "  'description': '',\n",
       "  'type': 'numeric',\n",
       "  'measure': 'tCO2eq per €1m revenue',\n",
       "  'framework': ['PAIs'],\n",
       "  'category': ['Climate']},\n",
       " {'_id': ObjectId('6449b336a2927cd3aa323dd1'),\n",
       "  'code': 'exposure_to_companies_in_the_fossil_fuel_sector',\n",
       "  'title': 'Exposure to companies in the fossil fuel sector',\n",
       "  'description': 'Company activities in the fossil fuel sector.',\n",
       "  'type': 'boolean',\n",
       "  'measure': '',\n",
       "  'framework': ['PAIs'],\n",
       "  'category': ['Climate']},\n",
       " {'_id': ObjectId('6449b341a2927cd3aa323dd2'),\n",
       "  'code': 'share_of_non_renewable_energy_consumption',\n",
       "  'title': 'Share of non-renewable energy consumption',\n",
       "  'description': 'Share of non-renewable energy consumption of investee companies from non-renewable energy sources compared to renewable energy sources, expressed as percentage',\n",
       "  'type': 'numeric',\n",
       "  'measure': '%',\n",
       "  'framework': ['PAIs'],\n",
       "  'category': ['Cross Category', 'Climate', 'Energy', 'Pollution']},\n",
       " {'_id': ObjectId('6449b348a2927cd3aa323dd3'),\n",
       "  'code': 'share_of_non_renewable_energy_production',\n",
       "  'title': 'Share of non-renewable energy production',\n",
       "  'description': 'Share of non-renewable energy production of company from non-renewable energy sources compared to renewable energy sources, expressed as percentage.',\n",
       "  'type': 'numeric',\n",
       "  'measure': '%',\n",
       "  'framework': ['PAIs'],\n",
       "  'category': ['Cross Category', 'Climate', 'Energy', 'Pollution']},\n",
       " {'_id': ObjectId('6449b359a2927cd3aa323dd4'),\n",
       "  'code': 'energy_consumption_intensity_per_high_impact_climate_sector',\n",
       "  'title': 'Energy consumption intensity per high impact climate sector',\n",
       "  'description': 'For companies active in agriculture, forestry and fishing, mining and quarrying, manufacturing, electricity, gas, steam and air conditioning supply, water supply, sewerage, waste management, rumination activities, construction, wholesale and retail trade, repair of motor vehicles, transportation and storage and real estate activities.',\n",
       "  'type': 'numeric',\n",
       "  'measure': 'kWh per €1m revenue',\n",
       "  'framework': ['PAIs'],\n",
       "  'category': ['Cross Category', 'Climate', 'Energy']},\n",
       " {'_id': ObjectId('6449b366a2927cd3aa323dd5'),\n",
       "  'code': 'activities_negatively_affecting_high_impact_climate_sector',\n",
       "  'title': 'Activities negatively affecting high-impact climate sector',\n",
       "  'description': 'Does company own sites / operations located in or near to biodiversity sensitive areas where activities of the company negatively affect those areas.',\n",
       "  'type': 'boolean',\n",
       "  'measure': '',\n",
       "  'framework': ['PAIs'],\n",
       "  'category': ['Cross Category', 'Climate', 'Pollution']},\n",
       " {'_id': ObjectId('6449b36fa2927cd3aa323dd6'),\n",
       "  'code': 'emissions_to_water',\n",
       "  'title': 'Emissions to water',\n",
       "  'description': 'Tonnes of emissions to water generated by company',\n",
       "  'type': 'numeric',\n",
       "  'measure': 'tonnes ',\n",
       "  'framework': ['PAIs'],\n",
       "  'category': ['Cross Category',\n",
       "   'Water',\n",
       "   'Pollution',\n",
       "   'Oceans & Coastal Zones']},\n",
       " {'_id': ObjectId('6449b378a2927cd3aa323dd7'),\n",
       "  'code': 'hazardous_waste_ratio',\n",
       "  'title': 'Hazardous waste ratio',\n",
       "  'description': 'Tonnes of hazardous waste and radioactive waste generated.',\n",
       "  'type': 'numeric',\n",
       "  'measure': 'tonnes ',\n",
       "  'framework': ['PAIs'],\n",
       "  'category': ['Cross Category', 'Waste', 'Pollution']},\n",
       " {'_id': ObjectId('6449b383a2927cd3aa323dd8'),\n",
       "  'code': 'violations_of_the_un_global_compact',\n",
       "  'title': 'Violations of the UN Global Compact',\n",
       "  'description': 'Involvement in violations of the UNGC principles or OECD Guide- lines for Multinational Enterprises.',\n",
       "  'type': 'text',\n",
       "  'measure': '',\n",
       "  'framework': ['PAIs']},\n",
       " {'_id': ObjectId('6449b39aa2927cd3aa323dd9'),\n",
       "  'code': 'lack_of_processes_and_compliance_mechanisms_to_monitor_compliance_with_un_global_compact_principles',\n",
       "  'title': 'Lack of processes and compliance mechanisms to monitor compliance with UN Global Compact Principles',\n",
       "  'description': 'Policies to monitor compliance with the UNGC principles or OECD Guidelines for Multinational Enterprises or grievance / complaints handling mechanisms to address violations of the UNGC principles or OECD Guidelines for Multinational Enterprises.',\n",
       "  'type': 'text',\n",
       "  'measure': '',\n",
       "  'framework': ['PAIs']},\n",
       " {'_id': ObjectId('6449b3c1a2927cd3aa323dda'),\n",
       "  'code': 'unadjusted_gender_pay_gap',\n",
       "  'title': 'Unadjusted gender pay gap',\n",
       "  'description': '% difference between pay for women and men in the same role.',\n",
       "  'type': 'numeric',\n",
       "  'measure': '%',\n",
       "  'framework': ['PAIs'],\n",
       "  'category': ['Diversity & Inclusion']},\n",
       " {'_id': ObjectId('6449b3caa2927cd3aa323ddb'),\n",
       "  'code': 'board_gender_diversity',\n",
       "  'title': 'Board gender diversity',\n",
       "  'description': 'Ratio of female to male board members in investee companies, expressed as a percentage of all board members.',\n",
       "  'type': 'numeric',\n",
       "  'measure': '%',\n",
       "  'framework': ['PAIs'],\n",
       "  'category': ['Diversity & Inclusion']},\n",
       " {'_id': ObjectId('6449b3d4a2927cd3aa323ddc'),\n",
       "  'code': 'exposure_to_controversial_weapons',\n",
       "  'title': 'Exposure to controversial weapons',\n",
       "  'description': 'Involvement in the manufacture or selling of controversial weapons (antipersonnel mines, cluster munitions, chemical weapons and biological weapons)',\n",
       "  'type': 'boolean',\n",
       "  'measure': '',\n",
       "  'framework': ['PAIs']}]"
      ]
     },
     "metadata": {},
     "output_type": "display_data"
    }
   ],
   "source": [
    "metrics = list(db.metricMeta.find())\n",
    "\n",
    "sublist = []\n",
    "for metric in metrics:    \n",
    "    if 'framework' in metric.keys() and 'PAIs' in metric['framework']:\n",
    "        sublist.append(metric)\n",
    "sublist"
   ]
  },
  {
   "cell_type": "code",
   "execution_count": null,
   "metadata": {},
   "outputs": [
    {
     "data": {
      "text/plain": [
       "{'_id': ObjectId('6449c1e9b521beef869eb4a1'),\n",
       " 'metric_meta_link': '6449b282a2927cd3aa323dc4',\n",
       " 'proof_file_url': '',\n",
       " 'value': 1337,\n",
       " 'reporting_period': ['10/22', '11/22', '12/22'],\n",
       " 'is_public': True,\n",
       " 'company_link': '6448261221f446cb608e7001'}"
      ]
     },
     "metadata": {},
     "output_type": "display_data"
    }
   ],
   "source": [
    "db.metricValues.find_one()"
   ]
  },
  {
   "cell_type": "markdown",
   "metadata": {},
   "source": [
    "## Ask code interpreter\n",
    "\n",
    "I could use the csv + a list of metricValue fields to ask code interpreter to create mock dataset algoritmically, \n",
    "\n",
    "could be useful for companies as well, including weights"
   ]
  },
  {
   "cell_type": "code",
   "execution_count": null,
   "metadata": {},
   "outputs": [],
   "source": [
    "# to pivot it with column - value\n",
    "df = pd.DataFrame(sublist)\n",
    "\n",
    "# to write to csv\n",
    "df.to_csv('new_pai_list2.csv')"
   ]
  },
  {
   "cell_type": "code",
   "execution_count": null,
   "metadata": {},
   "outputs": [],
   "source": [
    "# and then to go back to json:\n",
    "# df.to_dict(orient='records')"
   ]
  },
  {
   "cell_type": "markdown",
   "metadata": {},
   "source": [
    "Unnecessary - but here's how to write to csv without pandas."
   ]
  },
  {
   "cell_type": "code",
   "execution_count": null,
   "metadata": {},
   "outputs": [],
   "source": [
    "import csv\n",
    "\n",
    "with open('new_pai_list.csv', 'w', newline='') as f:\n",
    "    csv_ = csv.DictWriter(f, fieldnames=sublist[0].keys())\n",
    "    csv_.writeheader()\n",
    "    for s in sublist:\n",
    "        csv_.writerow(s)"
   ]
  },
  {
   "cell_type": "code",
   "execution_count": null,
   "metadata": {},
   "outputs": [
    {
     "ename": "NameError",
     "evalue": "name 'client' is not defined",
     "output_type": "error",
     "traceback": [
      "\u001b[1;31m---------------------------------------------------------------------------\u001b[0m\n",
      "\u001b[1;31mNameError\u001b[0m                                 Traceback (most recent call last)\n",
      "Cell \u001b[1;32mIn[1], line 1\u001b[0m\n",
      "\u001b[1;32m----> 1\u001b[0m client\u001b[39m.\u001b[39mclose()\n",
      "\n",
      "\u001b[1;31mNameError\u001b[0m: name 'client' is not defined"
     ]
    }
   ],
   "source": [
    "client.close()"
   ]
  },
  {
   "cell_type": "markdown",
   "metadata": {},
   "source": [
    "Some funny results: \n",
    "\n",
    "- code interpreter first analyses the metric name and description to define some simple rules \n",
    "- it then defines a function `def generate_textual_value(metric)` that returns `random.choice(['Implemented wastewater recycling', 'Adopted energy-efficient practices', 'Undergoing strategic review'])` \n",
    "\n",
    "Almost usable! \n",
    "\n",
    "**Next steps**\n",
    "\n",
    "- A better approach would be one-by-one. \n",
    "- Write a script that feeds each metricMeta into an LLM with as context: revenue (£50m), sector (life sciences), and number of staff (45) \n",
    "- asks for one value and one description for the calculation each time."
   ]
  }
 ],
 "metadata": {
  "language_info": {
   "name": "python"
  },
  "orig_nbformat": 4
 },
 "nbformat": 4,
 "nbformat_minor": 2
}
