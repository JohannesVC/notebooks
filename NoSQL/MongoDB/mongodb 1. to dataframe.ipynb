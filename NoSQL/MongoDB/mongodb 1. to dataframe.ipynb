{
 "cells": [
  {
   "cell_type": "code",
   "execution_count": 1,
   "metadata": {},
   "outputs": [
    {
     "name": "stdout",
     "output_type": "stream",
     "text": [
      "\n",
      "     active environment : joh_env\n",
      "    active env location : C:\\Users\\johan\\.conda\\envs\\joh_env\n",
      "            shell level : 1\n",
      "       user config file : C:\\Users\\johan\\.condarc\n",
      " populated config files : \n",
      "          conda version : 23.3.0\n",
      "    conda-build version : not installed\n",
      "         python version : 3.10.9.final.0\n",
      "       virtual packages : __archspec=1=x86_64\n",
      "                          __win=0=0\n",
      "       base environment : C:\\ProgramData\\miniconda3  (writable)\n",
      "      conda av data dir : C:\\ProgramData\\miniconda3\\etc\\conda\n",
      "  conda av metadata url : None\n",
      "           channel URLs : https://repo.anaconda.com/pkgs/main/win-64\n",
      "                          https://repo.anaconda.com/pkgs/main/noarch\n",
      "                          https://repo.anaconda.com/pkgs/r/win-64\n",
      "                          https://repo.anaconda.com/pkgs/r/noarch\n",
      "                          https://repo.anaconda.com/pkgs/msys2/win-64\n",
      "                          https://repo.anaconda.com/pkgs/msys2/noarch\n",
      "          package cache : C:\\ProgramData\\miniconda3\\pkgs\n",
      "                          C:\\Users\\johan\\.conda\\pkgs\n",
      "                          C:\\Users\\johan\\AppData\\Local\\conda\\conda\\pkgs\n",
      "       envs directories : C:\\ProgramData\\miniconda3\\envs\n",
      "                          C:\\Users\\johan\\.conda\\envs\n",
      "                          C:\\Users\\johan\\AppData\\Local\\conda\\conda\\envs\n",
      "               platform : win-64\n",
      "             user-agent : conda/23.3.0 requests/2.28.1 CPython/3.10.9 Windows/10 Windows/10.0.22621\n",
      "          administrator : False\n",
      "             netrc file : None\n",
      "           offline mode : False\n",
      "\n"
     ]
    }
   ],
   "source": [
    "!conda info"
   ]
  },
  {
   "attachments": {},
   "cell_type": "markdown",
   "metadata": {},
   "source": [
    "this to check the environment within jupyter.\n",
    "the same in terminal is possible with: **conda info --envs**\n",
    "\n",
    "what I had to do to use pandas was: **conda activate base** > base is the name of the environment\n",
    "\n",
    "I also deleted all the other environments, and reinstalled pandas and pymongo in the base environment"
   ]
  },
  {
   "cell_type": "code",
   "execution_count": 3,
   "metadata": {},
   "outputs": [],
   "source": [
    "from pymongo import MongoClient\n",
    "import pandas as pd\n",
    "# import json\n",
    "import os\n",
    "\n",
    "uri = os.getenv('MONGO_URI')\n",
    "client = MongoClient(uri)\n",
    "db = client.sample_guides\n",
    "\n",
    "\n",
    "item = db.planets.find({})"
   ]
  },
  {
   "attachments": {},
   "cell_type": "markdown",
   "metadata": {},
   "source": [
    "turn into a list"
   ]
  },
  {
   "cell_type": "code",
   "execution_count": 2,
   "metadata": {},
   "outputs": [
    {
     "name": "stdout",
     "output_type": "stream",
     "text": [
      "[{'_id': ObjectId('621ff30d2a3e781873fcb65c'), 'name': 'Mercury', 'orderFromSun': 1, 'hasRings': False, 'mainAtmosphere': [], 'surfaceTemperatureC': {'min': -173, 'max': 427, 'mean': 67}}, {'_id': ObjectId('621ff30d2a3e781873fcb65d'), 'name': 'Uranus', 'orderFromSun': 7, 'hasRings': True, 'mainAtmosphere': ['H2', 'He', 'CH4'], 'surfaceTemperatureC': {'min': None, 'max': None, 'mean': -197.2}}, {'_id': ObjectId('621ff30d2a3e781873fcb65e'), 'name': 'Mars', 'orderFromSun': 4, 'hasRings': False, 'mainAtmosphere': ['CO2', 'Ar', 'N'], 'surfaceTemperatureC': {'min': -143, 'max': 35, 'mean': -63}}, {'_id': ObjectId('621ff30d2a3e781873fcb65f'), 'name': 'Neptune', 'orderFromSun': 8, 'hasRings': True, 'mainAtmosphere': ['H2', 'He', 'CH4'], 'surfaceTemperatureC': {'min': None, 'max': None, 'mean': -201}}, {'_id': ObjectId('621ff30d2a3e781873fcb660'), 'name': 'Jupiter', 'orderFromSun': 5, 'hasRings': True, 'mainAtmosphere': ['H2', 'He', 'CH4'], 'surfaceTemperatureC': {'min': None, 'max': None, 'mean': -145.15}}, {'_id': ObjectId('621ff30d2a3e781873fcb661'), 'name': 'Earth', 'orderFromSun': 3, 'hasRings': False, 'mainAtmosphere': ['N', 'O2', 'Ar'], 'surfaceTemperatureC': {'min': -89.2, 'max': 56.7, 'mean': 14}}, {'_id': ObjectId('621ff30d2a3e781873fcb662'), 'name': 'Venus', 'orderFromSun': 2, 'hasRings': False, 'mainAtmosphere': ['CO2', 'N'], 'surfaceTemperatureC': {'min': None, 'max': None, 'mean': 464}}, {'_id': ObjectId('621ff30d2a3e781873fcb663'), 'name': 'Saturn', 'orderFromSun': 6, 'hasRings': True, 'mainAtmosphere': ['H2', 'He', 'CH4'], 'surfaceTemperatureC': {'min': None, 'max': None, 'mean': -139.15}}]\n"
     ]
    }
   ],
   "source": [
    "docs = []\n",
    "for doc in item:\n",
    "    docs.append(doc)\n",
    "\n",
    "print(docs)"
   ]
  },
  {
   "attachments": {},
   "cell_type": "markdown",
   "metadata": {},
   "source": [
    "or:"
   ]
  },
  {
   "cell_type": "code",
   "execution_count": 3,
   "metadata": {},
   "outputs": [
    {
     "name": "stdout",
     "output_type": "stream",
     "text": [
      "[{'_id': ObjectId('621ff30d2a3e781873fcb65c'), 'name': 'Mercury', 'orderFromSun': 1, 'hasRings': False, 'mainAtmosphere': [], 'surfaceTemperatureC': {'min': -173, 'max': 427, 'mean': 67}}, {'_id': ObjectId('621ff30d2a3e781873fcb65d'), 'name': 'Uranus', 'orderFromSun': 7, 'hasRings': True, 'mainAtmosphere': ['H2', 'He', 'CH4'], 'surfaceTemperatureC': {'min': None, 'max': None, 'mean': -197.2}}, {'_id': ObjectId('621ff30d2a3e781873fcb65e'), 'name': 'Mars', 'orderFromSun': 4, 'hasRings': False, 'mainAtmosphere': ['CO2', 'Ar', 'N'], 'surfaceTemperatureC': {'min': -143, 'max': 35, 'mean': -63}}, {'_id': ObjectId('621ff30d2a3e781873fcb65f'), 'name': 'Neptune', 'orderFromSun': 8, 'hasRings': True, 'mainAtmosphere': ['H2', 'He', 'CH4'], 'surfaceTemperatureC': {'min': None, 'max': None, 'mean': -201}}, {'_id': ObjectId('621ff30d2a3e781873fcb660'), 'name': 'Jupiter', 'orderFromSun': 5, 'hasRings': True, 'mainAtmosphere': ['H2', 'He', 'CH4'], 'surfaceTemperatureC': {'min': None, 'max': None, 'mean': -145.15}}, {'_id': ObjectId('621ff30d2a3e781873fcb661'), 'name': 'Earth', 'orderFromSun': 3, 'hasRings': False, 'mainAtmosphere': ['N', 'O2', 'Ar'], 'surfaceTemperatureC': {'min': -89.2, 'max': 56.7, 'mean': 14}}, {'_id': ObjectId('621ff30d2a3e781873fcb662'), 'name': 'Venus', 'orderFromSun': 2, 'hasRings': False, 'mainAtmosphere': ['CO2', 'N'], 'surfaceTemperatureC': {'min': None, 'max': None, 'mean': 464}}, {'_id': ObjectId('621ff30d2a3e781873fcb663'), 'name': 'Saturn', 'orderFromSun': 6, 'hasRings': True, 'mainAtmosphere': ['H2', 'He', 'CH4'], 'surfaceTemperatureC': {'min': None, 'max': None, 'mean': -139.15}}]\n"
     ]
    }
   ],
   "source": [
    "print(list(item))"
   ]
  },
  {
   "attachments": {},
   "cell_type": "markdown",
   "metadata": {},
   "source": [
    "turn into a dataframe"
   ]
  },
  {
   "cell_type": "code",
   "execution_count": 38,
   "metadata": {},
   "outputs": [
    {
     "data": {
      "text/html": [
       "<div>\n",
       "<style scoped>\n",
       "    .dataframe tbody tr th:only-of-type {\n",
       "        vertical-align: middle;\n",
       "    }\n",
       "\n",
       "    .dataframe tbody tr th {\n",
       "        vertical-align: top;\n",
       "    }\n",
       "\n",
       "    .dataframe thead th {\n",
       "        text-align: right;\n",
       "    }\n",
       "</style>\n",
       "<table border=\"1\" class=\"dataframe\">\n",
       "  <thead>\n",
       "    <tr style=\"text-align: right;\">\n",
       "      <th></th>\n",
       "      <th>_id</th>\n",
       "      <th>name</th>\n",
       "      <th>orderFromSun</th>\n",
       "      <th>hasRings</th>\n",
       "      <th>mainAtmosphere</th>\n",
       "      <th>surfaceTemperatureC</th>\n",
       "    </tr>\n",
       "  </thead>\n",
       "  <tbody>\n",
       "    <tr>\n",
       "      <th>0</th>\n",
       "      <td>621ff30d2a3e781873fcb65c</td>\n",
       "      <td>Mercury</td>\n",
       "      <td>1</td>\n",
       "      <td>False</td>\n",
       "      <td>[]</td>\n",
       "      <td>{'min': -173, 'max': 427, 'mean': 67}</td>\n",
       "    </tr>\n",
       "    <tr>\n",
       "      <th>1</th>\n",
       "      <td>621ff30d2a3e781873fcb65d</td>\n",
       "      <td>Uranus</td>\n",
       "      <td>7</td>\n",
       "      <td>True</td>\n",
       "      <td>[H2, He, CH4]</td>\n",
       "      <td>{'min': None, 'max': None, 'mean': -197.2}</td>\n",
       "    </tr>\n",
       "    <tr>\n",
       "      <th>2</th>\n",
       "      <td>621ff30d2a3e781873fcb65e</td>\n",
       "      <td>Mars</td>\n",
       "      <td>4</td>\n",
       "      <td>False</td>\n",
       "      <td>[CO2, Ar, N]</td>\n",
       "      <td>{'min': -143, 'max': 35, 'mean': -63}</td>\n",
       "    </tr>\n",
       "    <tr>\n",
       "      <th>3</th>\n",
       "      <td>621ff30d2a3e781873fcb65f</td>\n",
       "      <td>Neptune</td>\n",
       "      <td>8</td>\n",
       "      <td>True</td>\n",
       "      <td>[H2, He, CH4]</td>\n",
       "      <td>{'min': None, 'max': None, 'mean': -201}</td>\n",
       "    </tr>\n",
       "    <tr>\n",
       "      <th>4</th>\n",
       "      <td>621ff30d2a3e781873fcb660</td>\n",
       "      <td>Jupiter</td>\n",
       "      <td>5</td>\n",
       "      <td>True</td>\n",
       "      <td>[H2, He, CH4]</td>\n",
       "      <td>{'min': None, 'max': None, 'mean': -145.15}</td>\n",
       "    </tr>\n",
       "    <tr>\n",
       "      <th>5</th>\n",
       "      <td>621ff30d2a3e781873fcb661</td>\n",
       "      <td>Earth</td>\n",
       "      <td>3</td>\n",
       "      <td>False</td>\n",
       "      <td>[N, O2, Ar]</td>\n",
       "      <td>{'min': -89.2, 'max': 56.7, 'mean': 14}</td>\n",
       "    </tr>\n",
       "    <tr>\n",
       "      <th>6</th>\n",
       "      <td>621ff30d2a3e781873fcb662</td>\n",
       "      <td>Venus</td>\n",
       "      <td>2</td>\n",
       "      <td>False</td>\n",
       "      <td>[CO2, N]</td>\n",
       "      <td>{'min': None, 'max': None, 'mean': 464}</td>\n",
       "    </tr>\n",
       "    <tr>\n",
       "      <th>7</th>\n",
       "      <td>621ff30d2a3e781873fcb663</td>\n",
       "      <td>Saturn</td>\n",
       "      <td>6</td>\n",
       "      <td>True</td>\n",
       "      <td>[H2, He, CH4]</td>\n",
       "      <td>{'min': None, 'max': None, 'mean': -139.15}</td>\n",
       "    </tr>\n",
       "  </tbody>\n",
       "</table>\n",
       "</div>"
      ],
      "text/plain": [
       "                        _id     name  orderFromSun  hasRings mainAtmosphere  \\\n",
       "0  621ff30d2a3e781873fcb65c  Mercury             1     False             []   \n",
       "1  621ff30d2a3e781873fcb65d   Uranus             7      True  [H2, He, CH4]   \n",
       "2  621ff30d2a3e781873fcb65e     Mars             4     False   [CO2, Ar, N]   \n",
       "3  621ff30d2a3e781873fcb65f  Neptune             8      True  [H2, He, CH4]   \n",
       "4  621ff30d2a3e781873fcb660  Jupiter             5      True  [H2, He, CH4]   \n",
       "5  621ff30d2a3e781873fcb661    Earth             3     False    [N, O2, Ar]   \n",
       "6  621ff30d2a3e781873fcb662    Venus             2     False       [CO2, N]   \n",
       "7  621ff30d2a3e781873fcb663   Saturn             6      True  [H2, He, CH4]   \n",
       "\n",
       "                           surfaceTemperatureC  \n",
       "0        {'min': -173, 'max': 427, 'mean': 67}  \n",
       "1   {'min': None, 'max': None, 'mean': -197.2}  \n",
       "2        {'min': -143, 'max': 35, 'mean': -63}  \n",
       "3     {'min': None, 'max': None, 'mean': -201}  \n",
       "4  {'min': None, 'max': None, 'mean': -145.15}  \n",
       "5      {'min': -89.2, 'max': 56.7, 'mean': 14}  \n",
       "6      {'min': None, 'max': None, 'mean': 464}  \n",
       "7  {'min': None, 'max': None, 'mean': -139.15}  "
      ]
     },
     "execution_count": 38,
     "metadata": {},
     "output_type": "execute_result"
    }
   ],
   "source": [
    "df = pd.DataFrame(docs)\n",
    "df"
   ]
  },
  {
   "attachments": {},
   "cell_type": "markdown",
   "metadata": {},
   "source": [
    "I can do df.name or df[\"name\"] to specify columns. To specify rows, I use the index"
   ]
  },
  {
   "cell_type": "code",
   "execution_count": 48,
   "metadata": {},
   "outputs": [
    {
     "data": {
      "text/plain": [
       "0    Mercury\n",
       "1     Uranus\n",
       "2       Mars\n",
       "3    Neptune\n",
       "4    Jupiter\n",
       "5      Earth\n",
       "6      Venus\n",
       "7     Saturn\n",
       "Name: name, dtype: object"
      ]
     },
     "execution_count": 48,
     "metadata": {},
     "output_type": "execute_result"
    }
   ],
   "source": [
    "df[\"name\"]"
   ]
  },
  {
   "cell_type": "code",
   "execution_count": 45,
   "metadata": {},
   "outputs": [
    {
     "data": {
      "text/plain": [
       "0    Mercury\n",
       "1     Uranus\n",
       "2       Mars\n",
       "3    Neptune\n",
       "4    Jupiter\n",
       "5      Earth\n",
       "6      Venus\n",
       "7     Saturn\n",
       "Name: name, dtype: object"
      ]
     },
     "execution_count": 45,
     "metadata": {},
     "output_type": "execute_result"
    }
   ],
   "source": [
    "df.name"
   ]
  },
  {
   "attachments": {},
   "cell_type": "markdown",
   "metadata": {},
   "source": [
    "to get a table, put two brackets"
   ]
  },
  {
   "cell_type": "code",
   "execution_count": null,
   "metadata": {},
   "outputs": [
    {
     "data": {
      "text/html": [
       "<div>\n",
       "<style scoped>\n",
       "    .dataframe tbody tr th:only-of-type {\n",
       "        vertical-align: middle;\n",
       "    }\n",
       "\n",
       "    .dataframe tbody tr th {\n",
       "        vertical-align: top;\n",
       "    }\n",
       "\n",
       "    .dataframe thead th {\n",
       "        text-align: right;\n",
       "    }\n",
       "</style>\n",
       "<table border=\"1\" class=\"dataframe\">\n",
       "  <thead>\n",
       "    <tr style=\"text-align: right;\">\n",
       "      <th></th>\n",
       "      <th>_id</th>\n",
       "      <th>name</th>\n",
       "      <th>orderFromSun</th>\n",
       "      <th>hasRings</th>\n",
       "      <th>mainAtmosphere</th>\n",
       "      <th>surfaceTemperatureC</th>\n",
       "    </tr>\n",
       "  </thead>\n",
       "  <tbody>\n",
       "    <tr>\n",
       "      <th>0</th>\n",
       "      <td>621ff30d2a3e781873fcb65c</td>\n",
       "      <td>Mercury</td>\n",
       "      <td>1</td>\n",
       "      <td>False</td>\n",
       "      <td>[]</td>\n",
       "      <td>{'min': -173, 'max': 427, 'mean': 67}</td>\n",
       "    </tr>\n",
       "    <tr>\n",
       "      <th>1</th>\n",
       "      <td>621ff30d2a3e781873fcb65d</td>\n",
       "      <td>Uranus</td>\n",
       "      <td>7</td>\n",
       "      <td>True</td>\n",
       "      <td>[H2, He, CH4]</td>\n",
       "      <td>{'min': None, 'max': None, 'mean': -197.2}</td>\n",
       "    </tr>\n",
       "    <tr>\n",
       "      <th>2</th>\n",
       "      <td>621ff30d2a3e781873fcb65e</td>\n",
       "      <td>Mars</td>\n",
       "      <td>4</td>\n",
       "      <td>False</td>\n",
       "      <td>[CO2, Ar, N]</td>\n",
       "      <td>{'min': -143, 'max': 35, 'mean': -63}</td>\n",
       "    </tr>\n",
       "    <tr>\n",
       "      <th>3</th>\n",
       "      <td>621ff30d2a3e781873fcb65f</td>\n",
       "      <td>Neptune</td>\n",
       "      <td>8</td>\n",
       "      <td>True</td>\n",
       "      <td>[H2, He, CH4]</td>\n",
       "      <td>{'min': None, 'max': None, 'mean': -201}</td>\n",
       "    </tr>\n",
       "    <tr>\n",
       "      <th>4</th>\n",
       "      <td>621ff30d2a3e781873fcb660</td>\n",
       "      <td>Jupiter</td>\n",
       "      <td>5</td>\n",
       "      <td>True</td>\n",
       "      <td>[H2, He, CH4]</td>\n",
       "      <td>{'min': None, 'max': None, 'mean': -145.15}</td>\n",
       "    </tr>\n",
       "  </tbody>\n",
       "</table>\n",
       "</div>"
      ],
      "text/plain": [
       "                        _id     name  orderFromSun  hasRings mainAtmosphere  \\\n",
       "0  621ff30d2a3e781873fcb65c  Mercury             1     False             []   \n",
       "1  621ff30d2a3e781873fcb65d   Uranus             7      True  [H2, He, CH4]   \n",
       "2  621ff30d2a3e781873fcb65e     Mars             4     False   [CO2, Ar, N]   \n",
       "3  621ff30d2a3e781873fcb65f  Neptune             8      True  [H2, He, CH4]   \n",
       "4  621ff30d2a3e781873fcb660  Jupiter             5      True  [H2, He, CH4]   \n",
       "\n",
       "                           surfaceTemperatureC  \n",
       "0        {'min': -173, 'max': 427, 'mean': 67}  \n",
       "1   {'min': None, 'max': None, 'mean': -197.2}  \n",
       "2        {'min': -143, 'max': 35, 'mean': -63}  \n",
       "3     {'min': None, 'max': None, 'mean': -201}  \n",
       "4  {'min': None, 'max': None, 'mean': -145.15}  "
      ]
     },
     "metadata": {},
     "output_type": "display_data"
    }
   ],
   "source": [
    "df.head()"
   ]
  },
  {
   "cell_type": "code",
   "execution_count": 39,
   "metadata": {},
   "outputs": [
    {
     "data": {
      "text/plain": [
       "['H2', 'He', 'CH4']"
      ]
     },
     "execution_count": 39,
     "metadata": {},
     "output_type": "execute_result"
    }
   ],
   "source": [
    "df[\"mainAtmosphere\"][1]"
   ]
  },
  {
   "cell_type": "code",
   "execution_count": 42,
   "metadata": {},
   "outputs": [
    {
     "data": {
      "text/plain": [
       "(8, 6)"
      ]
     },
     "execution_count": 42,
     "metadata": {},
     "output_type": "execute_result"
    }
   ],
   "source": [
    "df.shape"
   ]
  },
  {
   "cell_type": "code",
   "execution_count": 5,
   "metadata": {},
   "outputs": [
    {
     "name": "stdout",
     "output_type": "stream",
     "text": [
      "Keys:\n",
      "_id\n",
      "name\n",
      "orderFromSun\n",
      "hasRings\n",
      "mainAtmosphere\n",
      "surfaceTemperatureC\n"
     ]
    }
   ],
   "source": [
    "# from chatGPT as answer to: I first want to see all the keys before turning them into column labels. And I would also like to filter on a nested objects inside the json.\n",
    "\n",
    "import pandas as pd\n",
    "\n",
    "# Read the JSON file\n",
    "# with open(\"file.json\", \"r\") as file:\n",
    "#     data = json.load(file)\n",
    "\n",
    "# Display all the keys\n",
    "for key in docs[0].keys():\n",
    "    print(key)"
   ]
  },
  {
   "cell_type": "code",
   "execution_count": 46,
   "metadata": {},
   "outputs": [
    {
     "data": {
      "text/html": [
       "<div>\n",
       "<style scoped>\n",
       "    .dataframe tbody tr th:only-of-type {\n",
       "        vertical-align: middle;\n",
       "    }\n",
       "\n",
       "    .dataframe tbody tr th {\n",
       "        vertical-align: top;\n",
       "    }\n",
       "\n",
       "    .dataframe thead th {\n",
       "        text-align: right;\n",
       "    }\n",
       "</style>\n",
       "<table border=\"1\" class=\"dataframe\">\n",
       "  <thead>\n",
       "    <tr style=\"text-align: right;\">\n",
       "      <th></th>\n",
       "      <th>name</th>\n",
       "      <th>orderFromSun</th>\n",
       "    </tr>\n",
       "  </thead>\n",
       "  <tbody>\n",
       "    <tr>\n",
       "      <th>0</th>\n",
       "      <td>Mercury</td>\n",
       "      <td>1</td>\n",
       "    </tr>\n",
       "    <tr>\n",
       "      <th>1</th>\n",
       "      <td>Uranus</td>\n",
       "      <td>7</td>\n",
       "    </tr>\n",
       "    <tr>\n",
       "      <th>2</th>\n",
       "      <td>Mars</td>\n",
       "      <td>4</td>\n",
       "    </tr>\n",
       "    <tr>\n",
       "      <th>3</th>\n",
       "      <td>Neptune</td>\n",
       "      <td>8</td>\n",
       "    </tr>\n",
       "    <tr>\n",
       "      <th>4</th>\n",
       "      <td>Jupiter</td>\n",
       "      <td>5</td>\n",
       "    </tr>\n",
       "    <tr>\n",
       "      <th>5</th>\n",
       "      <td>Earth</td>\n",
       "      <td>3</td>\n",
       "    </tr>\n",
       "    <tr>\n",
       "      <th>6</th>\n",
       "      <td>Venus</td>\n",
       "      <td>2</td>\n",
       "    </tr>\n",
       "    <tr>\n",
       "      <th>7</th>\n",
       "      <td>Saturn</td>\n",
       "      <td>6</td>\n",
       "    </tr>\n",
       "  </tbody>\n",
       "</table>\n",
       "</div>"
      ],
      "text/plain": [
       "      name  orderFromSun\n",
       "0  Mercury             1\n",
       "1   Uranus             7\n",
       "2     Mars             4\n",
       "3  Neptune             8\n",
       "4  Jupiter             5\n",
       "5    Earth             3\n",
       "6    Venus             2\n",
       "7   Saturn             6"
      ]
     },
     "execution_count": 46,
     "metadata": {},
     "output_type": "execute_result"
    }
   ],
   "source": [
    "df[['name','orderFromSun']]"
   ]
  },
  {
   "cell_type": "code",
   "execution_count": 31,
   "metadata": {},
   "outputs": [],
   "source": [
    "client.close()"
   ]
  },
  {
   "cell_type": "markdown",
   "metadata": {},
   "source": []
  },
  {
   "cell_type": "code",
   "execution_count": null,
   "metadata": {},
   "outputs": [],
   "source": [
    "import fuzzyjoin\n",
    "\n",
    "import pymongoarrow"
   ]
  },
  {
   "attachments": {},
   "cell_type": "markdown",
   "metadata": {},
   "source": [
    "Pymongoarrow lets you define a \"schema\" which essentially lets you choose columns across the dataset"
   ]
  }
 ],
 "metadata": {
  "kernelspec": {
   "display_name": "base",
   "language": "python",
   "name": "python3"
  },
  "language_info": {
   "codemirror_mode": {
    "name": "ipython",
    "version": 3
   },
   "file_extension": ".py",
   "mimetype": "text/x-python",
   "name": "python",
   "nbconvert_exporter": "python",
   "pygments_lexer": "ipython3",
   "version": "3.10.9"
  },
  "orig_nbformat": 4
 },
 "nbformat": 4,
 "nbformat_minor": 2
}
