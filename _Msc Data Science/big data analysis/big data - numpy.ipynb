{
 "cells": [
  {
   "cell_type": "markdown",
   "metadata": {},
   "source": [
    "### 1.17 Summary - important!\n",
    "\n",
    "- less than one per cent of all data is ever analysed and used. Underutilisation, disparate sources for data generation, the requirement for harvesting new data and the non realisation of value in the available data are **the four main reasons why companies are interested in big data**. \n",
    "\n",
    "\n",
    "In this topic, we have seen the following four important underlying characteristics of big data: \n",
    "1. `the volume of the data, which is so huge and difficult to store; `\n",
    "2. `the velocity of the data arriving, which is so high; `\n",
    "3. `the variety of forms in which the data arrives (structured, semi-structured and unstructured); and `\n",
    "4. `the veracity, which refers to the accuracy of the data.`\n",
    "\n",
    "\n",
    "We have introduced TF-IDF, which is a useful numerical statistic that measures how important a word is to a document in a collection or corpus. TF-IDF has many applications in big data analysis, such as identifying the similarity between documents. We have also seen that the power law relation is useful in estimating the scale invariant relations in big data sets.\n",
    "\n",
    "From the `assessment` point of view, after finishing this topic, you must be clear about: \n",
    "1. the four Vs; \n",
    "2. why companies are interested in big data; \n",
    "3. TF-IDF; and\n",
    "4. the power law relation."
   ]
  },
  {
   "cell_type": "code",
   "execution_count": 1,
   "metadata": {},
   "outputs": [
    {
     "data": {
      "text/plain": [
       "array([[7, 1, 8, 1, 1, 5, 8, 6, 7, 6],\n",
       "       [7, 4, 0, 1, 6, 4, 8, 0, 3, 3],\n",
       "       [7, 1, 2, 7, 1, 8, 5, 3, 3, 4],\n",
       "       [4, 1, 3, 3, 4, 3, 6, 2, 1, 1],\n",
       "       [3, 5, 8, 8, 4, 0, 3, 6, 3, 6],\n",
       "       [8, 5, 7, 2, 2, 9, 3, 8, 2, 2],\n",
       "       [5, 8, 2, 9, 7, 8, 4, 3, 4, 9],\n",
       "       [9, 2, 5, 9, 8, 5, 7, 3, 5, 7],\n",
       "       [2, 1, 4, 5, 6, 1, 3, 6, 7, 5],\n",
       "       [1, 0, 2, 2, 0, 3, 4, 2, 4, 2]])"
      ]
     },
     "execution_count": 1,
     "metadata": {},
     "output_type": "execute_result"
    }
   ],
   "source": [
    "import numpy as np\n",
    "\n",
    "# Create a 10x10 matrix with random values from 0 to 10\n",
    "matrix = np.random.randint(0, 10, (10, 10))\n",
    "matrix"
   ]
  },
  {
   "cell_type": "code",
   "execution_count": 68,
   "metadata": {},
   "outputs": [
    {
     "data": {
      "text/plain": [
       "(4.28, 4.0, 2.607987730032486)"
      ]
     },
     "execution_count": 68,
     "metadata": {},
     "output_type": "execute_result"
    }
   ],
   "source": [
    "# some statistics\n",
    "matrix.mean(), np.median(matrix), matrix.std()"
   ]
  },
  {
   "cell_type": "code",
   "execution_count": 65,
   "metadata": {},
   "outputs": [
    {
     "data": {
      "text/plain": [
       "ModeResult(mode=array([7, 1, 2, 1, 1, 3, 3, 3, 3, 2], dtype=int64), count=array([3, 4, 3, 2, 2, 2, 3, 3, 3, 2], dtype=int64))"
      ]
     },
     "execution_count": 65,
     "metadata": {},
     "output_type": "execute_result"
    }
   ],
   "source": [
    "from scipy.stats import mode\n",
    "\n",
    "mode(matrix)"
   ]
  },
  {
   "cell_type": "code",
   "execution_count": 67,
   "metadata": {},
   "outputs": [
    {
     "data": {
      "text/plain": [
       "(38674328.99999984, 10, 45)"
      ]
     },
     "execution_count": 67,
     "metadata": {},
     "output_type": "execute_result"
    }
   ],
   "source": [
    "# Linear algebra\n",
    "np.linalg.det(matrix), np.linalg.matrix_rank(matrix), np.trace(matrix)"
   ]
  },
  {
   "cell_type": "markdown",
   "metadata": {},
   "source": [
    "### Two notebooks with code examples \n",
    "\n",
    "These were very bad. But concepts like determinant, rank and trace should be studied."
   ]
  },
  {
   "cell_type": "code",
   "execution_count": null,
   "metadata": {},
   "outputs": [],
   "source": [
    "# Dimensions\n",
    "MatrixSize = 10\n",
    "NumberOfRows = 5\n",
    "NumberOfColumns = 5\n",
    "\n",
    "MyArray = np.random.randint(0, 10, size=(MatrixSize, MatrixSize))\n",
    "MyArray"
   ]
  },
  {
   "cell_type": "code",
   "execution_count": 61,
   "metadata": {},
   "outputs": [
    {
     "name": "stdout",
     "output_type": "stream",
     "text": [
      "Determinant: 0.0\n",
      "Rank: 9\n",
      "Trace: 53\n"
     ]
    }
   ],
   "source": [
    "# Extract the determinant, rank and trace of the matrix\n",
    "print('Determinant:', np.linalg.det(MyArray))\n",
    "print('Rank:', np.linalg.matrix_rank(MyArray))\n",
    "print('Trace:', np.trace(MyArray))"
   ]
  },
  {
   "cell_type": "code",
   "execution_count": 63,
   "metadata": {},
   "outputs": [
    {
     "name": "stdout",
     "output_type": "stream",
     "text": [
      "Trace1: 53\n"
     ]
    },
    {
     "data": {
      "text/plain": [
       "array([[7, 8, 5, 5, 5, 9, 4, 3, 6, 9],\n",
       "       [5, 2, 2, 8, 3, 1, 5, 4, 5, 6],\n",
       "       [0, 3, 9, 8, 9, 5, 1, 1, 5, 9],\n",
       "       [2, 3, 8, 8, 8, 3, 3, 1, 7, 3],\n",
       "       [9, 4, 6, 7, 8, 3, 2, 5, 5, 7],\n",
       "       [4, 9, 8, 1, 4, 8, 8, 3, 6, 9],\n",
       "       [0, 5, 1, 5, 6, 0, 8, 5, 0, 9],\n",
       "       [5, 6, 3, 0, 3, 2, 2, 2, 8, 9],\n",
       "       [4, 7, 1, 7, 4, 1, 4, 4, 1, 8],\n",
       "       [0, 0, 0, 0, 0, 0, 0, 0, 0, 0]])"
      ]
     },
     "execution_count": 63,
     "metadata": {},
     "output_type": "execute_result"
    }
   ],
   "source": [
    "# Alternative approach to calculating the trace\n",
    "Trace1 = int(0)\n",
    "for i in range(0, MatrixSize):\n",
    "    Trace1 = Trace1 + int(MyArray[i, i])\n",
    "print('Trace1:', Trace1)\n",
    "\n",
    "# Test zeroing determinant and lowering rank with 1\n",
    "MyArray[-1, i] = 0\n",
    "\n",
    "MyArray"
   ]
  },
  {
   "cell_type": "code",
   "execution_count": 62,
   "metadata": {},
   "outputs": [
    {
     "name": "stdout",
     "output_type": "stream",
     "text": [
      "Determinant: 0.0\n",
      "Rank: 9\n",
      "Trace: 53\n"
     ]
    }
   ],
   "source": [
    "# Calculate new determinant, rank and trace\n",
    "print('Determinant:', np.linalg.det(MyArray))\n",
    "print('Rank:', np.linalg.matrix_rank(MyArray))\n",
    "print('Trace:', np.trace(MyArray))"
   ]
  }
 ],
 "metadata": {
  "kernelspec": {
   "display_name": "johannes",
   "language": "python",
   "name": "python3"
  },
  "language_info": {
   "codemirror_mode": {
    "name": "ipython",
    "version": 3
   },
   "file_extension": ".py",
   "mimetype": "text/x-python",
   "name": "python",
   "nbconvert_exporter": "python",
   "pygments_lexer": "ipython3",
   "version": "3.12.1"
  }
 },
 "nbformat": 4,
 "nbformat_minor": 2
}
