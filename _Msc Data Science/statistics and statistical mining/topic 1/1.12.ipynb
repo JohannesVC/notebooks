{
 "cells": [
  {
   "cell_type": "code",
   "execution_count": null,
   "metadata": {},
   "outputs": [],
   "source": [
    "import numpy as np"
   ]
  },
  {
   "cell_type": "markdown",
   "metadata": {},
   "source": [
    "## Percentiles and Quartiles\n",
    "\n",
    "Aka 'order statistics'.\n",
    "\n",
    "1. **Percentiles**:\n",
    "   - A percentile indicates the value below which a given percentage of observations in a group of observations fall. For example, the 50th percentile is the value below which 50% of the observations may be found.\n",
    "\n",
    "2. **Quartiles**:\n",
    "   - Quartiles divide the dataset into four equal parts:\n",
    "     - **First Quartile ($Q_1$)**: The 25th percentile, below which lies 25% of the data.\n",
    "     - **Second Quartile ($Q_2$) or Median**: The 50th percentile, below which lies 50% of the data.\n",
    "     - **Third Quartile ($Q_3$)**: The 75th percentile, below which lies 75% of the data.\n",
    "\n",
    "A percentile is essentially the same as a quantile, but quantile are indexed by fractions, so the .8 quantile is the 80th percentile."
   ]
  },
  {
   "cell_type": "code",
   "execution_count": 2,
   "metadata": {},
   "outputs": [
    {
     "data": {
      "text/plain": [
       "[2, 5, 7, 7, 20, 24, 30, 50]"
      ]
     },
     "execution_count": 2,
     "metadata": {},
     "output_type": "execute_result"
    }
   ],
   "source": [
    "dat = [20,7,2,30,5,24,7,50]\n",
    "dat.sort()\n",
    "dat"
   ]
  },
  {
   "cell_type": "markdown",
   "metadata": {},
   "source": [
    ">find the range"
   ]
  },
  {
   "cell_type": "code",
   "execution_count": 7,
   "metadata": {},
   "outputs": [
    {
     "data": {
      "text/plain": [
       "48"
      ]
     },
     "execution_count": 7,
     "metadata": {},
     "output_type": "execute_result"
    }
   ],
   "source": [
    "# range\n",
    "max(dat) - min(dat) "
   ]
  },
  {
   "cell_type": "markdown",
   "metadata": {},
   "source": [
    ">Interquartile range"
   ]
  },
  {
   "cell_type": "code",
   "execution_count": 17,
   "metadata": {},
   "outputs": [
    {
     "data": {
      "text/plain": [
       "6.0"
      ]
     },
     "execution_count": 17,
     "metadata": {},
     "output_type": "execute_result"
    }
   ],
   "source": [
    "# Calculate the first quartile = the median of the first half of the data\n",
    "\n",
    "# get half\n",
    "index = int(len(dat)/2)\n",
    "\n",
    "# calculate median\n",
    "first_quartile = np.median(dat[:index])\n",
    "first_quartile"
   ]
  },
  {
   "cell_type": "code",
   "execution_count": 16,
   "metadata": {},
   "outputs": [
    {
     "data": {
      "text/plain": [
       "27.0"
      ]
     },
     "execution_count": 16,
     "metadata": {},
     "output_type": "execute_result"
    }
   ],
   "source": [
    "# idem second half of the data = third quartile\n",
    "index = int(len(dat)/2)\n",
    "sec_quartile = np.median(dat[index:])\n",
    "sec_quartile"
   ]
  },
  {
   "cell_type": "code",
   "execution_count": 18,
   "metadata": {},
   "outputs": [
    {
     "data": {
      "text/plain": [
       "21.0"
      ]
     },
     "execution_count": 18,
     "metadata": {},
     "output_type": "execute_result"
    }
   ],
   "source": [
    "# The IQR is:\n",
    "sec_quartile - first_quartile"
   ]
  }
 ],
 "metadata": {
  "kernelspec": {
   "display_name": "johannes",
   "language": "python",
   "name": "python3"
  },
  "language_info": {
   "codemirror_mode": {
    "name": "ipython",
    "version": 3
   },
   "file_extension": ".py",
   "mimetype": "text/x-python",
   "name": "python",
   "nbconvert_exporter": "python",
   "pygments_lexer": "ipython3",
   "version": "3.12.1"
  }
 },
 "nbformat": 4,
 "nbformat_minor": 2
}
